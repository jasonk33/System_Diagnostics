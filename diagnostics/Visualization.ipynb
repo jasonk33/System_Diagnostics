{
 "cells": [
  {
   "cell_type": "code",
   "execution_count": 1,
   "metadata": {},
   "outputs": [],
   "source": [
    "import json\n",
    "import numpy as np\n",
    "import pandas as pd\n",
    "import seaborn as sns\n",
    "import os\n",
    "import matplotlib.pyplot as plt\n",
    "from bokeh.plotting import figure, show, output_file, ColumnDataSource\n",
    "from bokeh.models.widgets import TextInput, Button, TableColumn, Paragraph, DataTable, Panel, Tabs, Select, RadioButtonGroup, CheckboxButtonGroup\n",
    "from bokeh.io import output_notebook, curdoc\n",
    "from bokeh.models.tools import BoxZoomTool, HoverTool\n",
    "from bokeh.models import ColumnDataSource, CustomJS, Button, LayoutDOM, Slider, Range1d, Legend\n",
    "from bokeh import events\n",
    "from bokeh.layouts import layout, widgetbox, column, row\n",
    "from bokeh.palettes import Viridis256, Plasma256, Greys256\n",
    "from bokeh.core.properties import String\n",
    "from random import shuffle\n",
    "from time import sleep,time\n",
    "import os\n",
    "import re\n",
    "from bokeh.io import curdoc, export_svgs, export_png\n",
    "from PIL import Image\n",
    "%load_ext autotime\n",
    "%matplotlib inline "
   ]
  },
  {
   "cell_type": "code",
   "execution_count": 7,
   "metadata": {},
   "outputs": [],
   "source": [
    "from callback_functions import run_optimizer_progression"
   ]
  },
  {
   "cell_type": "code",
   "execution_count": 5,
   "metadata": {},
   "outputs": [],
   "source": [
    "import imageio\n",
    "import os"
   ]
  },
  {
   "cell_type": "code",
   "execution_count": 7,
   "metadata": {},
   "outputs": [],
   "source": [
    "for file_name in os.listdir('Gifs/tests2'):\n",
    "    if 'ipynb' not in file_name:\n",
    "        gif_original = \"Gifs/tests2/{}\".format(file_name)\n",
    "        gif = imageio.mimread(gif_original)\n",
    "        gif_speed_up = \"Gifs/tests2/{}\".format(file_name)\n",
    "        imageio.mimsave(gif_speed_up, gif, fps=2)"
   ]
  },
  {
   "cell_type": "code",
   "execution_count": 12,
   "metadata": {},
   "outputs": [],
   "source": [
    "a = None"
   ]
  },
  {
   "cell_type": "code",
   "execution_count": 15,
   "metadata": {},
   "outputs": [],
   "source": [
    "a=b=c=False"
   ]
  },
  {
   "cell_type": "code",
   "execution_count": 17,
   "metadata": {},
   "outputs": [
    {
     "data": {
      "text/plain": [
       "False"
      ]
     },
     "execution_count": 17,
     "metadata": {},
     "output_type": "execute_result"
    }
   ],
   "source": [
    "b"
   ]
  },
  {
   "cell_type": "code",
   "execution_count": 18,
   "metadata": {},
   "outputs": [],
   "source": [
    "a = True"
   ]
  },
  {
   "cell_type": "code",
   "execution_count": 13,
   "metadata": {},
   "outputs": [
    {
     "name": "stdout",
     "output_type": "stream",
     "text": [
      "h\n"
     ]
    }
   ],
   "source": [
    "if not a:\n",
    "    print(\"h\")"
   ]
  },
  {
   "cell_type": "code",
   "execution_count": 2,
   "metadata": {},
   "outputs": [
    {
     "name": "stdout",
     "output_type": "stream",
     "text": [
      "time: 10.5 ms\n"
     ]
    }
   ],
   "source": [
    "with open('aps-i2pa/mimic_1.json') as json_file:  \n",
    "    data = json.load(json_file)"
   ]
  },
  {
   "cell_type": "code",
   "execution_count": 7,
   "metadata": {},
   "outputs": [
    {
     "data": {
      "text/plain": [
       "{'cost_model-weighed_random': 102,\n",
       " 'meta-learning': 3,\n",
       " 'random-data-specific': 59,\n",
       " 'random-general': 117}"
      ]
     },
     "execution_count": 7,
     "metadata": {},
     "output_type": "execute_result"
    },
    {
     "name": "stdout",
     "output_type": "stream",
     "text": [
      "time: 137 ms\n"
     ]
    }
   ],
   "source": [
    "types = {'cost_model-weighed_random':0,'meta-learning':0,'random-data-specific':0,'random-general':0}\n",
    "for i in range(1,10):\n",
    "    with open('aps-i2pa/mimic_{}.json'.format(i)) as json_file:  \n",
    "        data = json.load(json_file)\n",
    "    for pipe in data:\n",
    "        types[pipe['tags']['pipeline_arm']] += 1\n",
    "types"
   ]
  },
  {
   "cell_type": "code",
   "execution_count": 57,
   "metadata": {},
   "outputs": [
    {
     "name": "stdout",
     "output_type": "stream",
     "text": [
      "time: 25.9 ms\n"
     ]
    }
   ],
   "source": [
    "with open('aps-i2pa/mimic_1_fixed.json', 'w') as outfile:\n",
    "    json.dump(data, outfile)"
   ]
  },
  {
   "cell_type": "code",
   "execution_count": 34,
   "metadata": {},
   "outputs": [
    {
     "name": "stdout",
     "output_type": "stream",
     "text": [
      "time: 9.62 ms\n"
     ]
    }
   ],
   "source": [
    "progression = json.loads(data[0]['metrics']['progression'])"
   ]
  },
  {
   "cell_type": "code",
   "execution_count": 42,
   "metadata": {},
   "outputs": [
    {
     "name": "stdout",
     "output_type": "stream",
     "text": [
      "time: 2.06 ms\n"
     ]
    }
   ],
   "source": [
    "if len(progression['sample_size']) == 1:\n",
    "    for key,value in progression.items():\n",
    "        progression[key]['1'] = value['0']"
   ]
  },
  {
   "cell_type": "code",
   "execution_count": 52,
   "metadata": {},
   "outputs": [
    {
     "name": "stdout",
     "output_type": "stream",
     "text": [
      "time: 10.6 ms\n"
     ]
    }
   ],
   "source": [
    "data[0]['metrics']['progression'] = json.dumps(progression)"
   ]
  },
  {
   "cell_type": "code",
   "execution_count": 3,
   "metadata": {},
   "outputs": [
    {
     "data": {
      "text/html": [
       "\n",
       "    <div class=\"bk-root\">\n",
       "        <a href=\"https://bokeh.pydata.org\" target=\"_blank\" class=\"bk-logo bk-logo-small bk-logo-notebook\"></a>\n",
       "        <span id=\"6c51d5c9-e924-41d7-9d98-81601b5f7956\">Loading BokehJS ...</span>\n",
       "    </div>"
      ]
     },
     "metadata": {},
     "output_type": "display_data"
    },
    {
     "data": {
      "application/javascript": [
       "\n",
       "(function(root) {\n",
       "  function now() {\n",
       "    return new Date();\n",
       "  }\n",
       "\n",
       "  var force = true;\n",
       "\n",
       "  if (typeof (root._bokeh_onload_callbacks) === \"undefined\" || force === true) {\n",
       "    root._bokeh_onload_callbacks = [];\n",
       "    root._bokeh_is_loading = undefined;\n",
       "  }\n",
       "\n",
       "  var JS_MIME_TYPE = 'application/javascript';\n",
       "  var HTML_MIME_TYPE = 'text/html';\n",
       "  var EXEC_MIME_TYPE = 'application/vnd.bokehjs_exec.v0+json';\n",
       "  var CLASS_NAME = 'output_bokeh rendered_html';\n",
       "\n",
       "  /**\n",
       "   * Render data to the DOM node\n",
       "   */\n",
       "  function render(props, node) {\n",
       "    var script = document.createElement(\"script\");\n",
       "    node.appendChild(script);\n",
       "  }\n",
       "\n",
       "  /**\n",
       "   * Handle when an output is cleared or removed\n",
       "   */\n",
       "  function handleClearOutput(event, handle) {\n",
       "    var cell = handle.cell;\n",
       "\n",
       "    var id = cell.output_area._bokeh_element_id;\n",
       "    var server_id = cell.output_area._bokeh_server_id;\n",
       "    // Clean up Bokeh references\n",
       "    if (id != null && id in Bokeh.index) {\n",
       "      Bokeh.index[id].model.document.clear();\n",
       "      delete Bokeh.index[id];\n",
       "    }\n",
       "\n",
       "    if (server_id !== undefined) {\n",
       "      // Clean up Bokeh references\n",
       "      var cmd = \"from bokeh.io.state import curstate; print(curstate().uuid_to_server['\" + server_id + \"'].get_sessions()[0].document.roots[0]._id)\";\n",
       "      cell.notebook.kernel.execute(cmd, {\n",
       "        iopub: {\n",
       "          output: function(msg) {\n",
       "            var id = msg.content.text.trim();\n",
       "            if (id in Bokeh.index) {\n",
       "              Bokeh.index[id].model.document.clear();\n",
       "              delete Bokeh.index[id];\n",
       "            }\n",
       "          }\n",
       "        }\n",
       "      });\n",
       "      // Destroy server and session\n",
       "      var cmd = \"import bokeh.io.notebook as ion; ion.destroy_server('\" + server_id + \"')\";\n",
       "      cell.notebook.kernel.execute(cmd);\n",
       "    }\n",
       "  }\n",
       "\n",
       "  /**\n",
       "   * Handle when a new output is added\n",
       "   */\n",
       "  function handleAddOutput(event, handle) {\n",
       "    var output_area = handle.output_area;\n",
       "    var output = handle.output;\n",
       "\n",
       "    // limit handleAddOutput to display_data with EXEC_MIME_TYPE content only\n",
       "    if ((output.output_type != \"display_data\") || (!output.data.hasOwnProperty(EXEC_MIME_TYPE))) {\n",
       "      return\n",
       "    }\n",
       "\n",
       "    var toinsert = output_area.element.find(\".\" + CLASS_NAME.split(' ')[0]);\n",
       "\n",
       "    if (output.metadata[EXEC_MIME_TYPE][\"id\"] !== undefined) {\n",
       "      toinsert[toinsert.length - 1].firstChild.textContent = output.data[JS_MIME_TYPE];\n",
       "      // store reference to embed id on output_area\n",
       "      output_area._bokeh_element_id = output.metadata[EXEC_MIME_TYPE][\"id\"];\n",
       "    }\n",
       "    if (output.metadata[EXEC_MIME_TYPE][\"server_id\"] !== undefined) {\n",
       "      var bk_div = document.createElement(\"div\");\n",
       "      bk_div.innerHTML = output.data[HTML_MIME_TYPE];\n",
       "      var script_attrs = bk_div.children[0].attributes;\n",
       "      for (var i = 0; i < script_attrs.length; i++) {\n",
       "        toinsert[toinsert.length - 1].firstChild.setAttribute(script_attrs[i].name, script_attrs[i].value);\n",
       "      }\n",
       "      // store reference to server id on output_area\n",
       "      output_area._bokeh_server_id = output.metadata[EXEC_MIME_TYPE][\"server_id\"];\n",
       "    }\n",
       "  }\n",
       "\n",
       "  function register_renderer(events, OutputArea) {\n",
       "\n",
       "    function append_mime(data, metadata, element) {\n",
       "      // create a DOM node to render to\n",
       "      var toinsert = this.create_output_subarea(\n",
       "        metadata,\n",
       "        CLASS_NAME,\n",
       "        EXEC_MIME_TYPE\n",
       "      );\n",
       "      this.keyboard_manager.register_events(toinsert);\n",
       "      // Render to node\n",
       "      var props = {data: data, metadata: metadata[EXEC_MIME_TYPE]};\n",
       "      render(props, toinsert[toinsert.length - 1]);\n",
       "      element.append(toinsert);\n",
       "      return toinsert\n",
       "    }\n",
       "\n",
       "    /* Handle when an output is cleared or removed */\n",
       "    events.on('clear_output.CodeCell', handleClearOutput);\n",
       "    events.on('delete.Cell', handleClearOutput);\n",
       "\n",
       "    /* Handle when a new output is added */\n",
       "    events.on('output_added.OutputArea', handleAddOutput);\n",
       "\n",
       "    /**\n",
       "     * Register the mime type and append_mime function with output_area\n",
       "     */\n",
       "    OutputArea.prototype.register_mime_type(EXEC_MIME_TYPE, append_mime, {\n",
       "      /* Is output safe? */\n",
       "      safe: true,\n",
       "      /* Index of renderer in `output_area.display_order` */\n",
       "      index: 0\n",
       "    });\n",
       "  }\n",
       "\n",
       "  // register the mime type if in Jupyter Notebook environment and previously unregistered\n",
       "  if (root.Jupyter !== undefined) {\n",
       "    var events = require('base/js/events');\n",
       "    var OutputArea = require('notebook/js/outputarea').OutputArea;\n",
       "\n",
       "    if (OutputArea.prototype.mime_types().indexOf(EXEC_MIME_TYPE) == -1) {\n",
       "      register_renderer(events, OutputArea);\n",
       "    }\n",
       "  }\n",
       "\n",
       "  \n",
       "  if (typeof (root._bokeh_timeout) === \"undefined\" || force === true) {\n",
       "    root._bokeh_timeout = Date.now() + 5000;\n",
       "    root._bokeh_failed_load = false;\n",
       "  }\n",
       "\n",
       "  var NB_LOAD_WARNING = {'data': {'text/html':\n",
       "     \"<div style='background-color: #fdd'>\\n\"+\n",
       "     \"<p>\\n\"+\n",
       "     \"BokehJS does not appear to have successfully loaded. If loading BokehJS from CDN, this \\n\"+\n",
       "     \"may be due to a slow or bad network connection. Possible fixes:\\n\"+\n",
       "     \"</p>\\n\"+\n",
       "     \"<ul>\\n\"+\n",
       "     \"<li>re-rerun `output_notebook()` to attempt to load from CDN again, or</li>\\n\"+\n",
       "     \"<li>use INLINE resources instead, as so:</li>\\n\"+\n",
       "     \"</ul>\\n\"+\n",
       "     \"<code>\\n\"+\n",
       "     \"from bokeh.resources import INLINE\\n\"+\n",
       "     \"output_notebook(resources=INLINE)\\n\"+\n",
       "     \"</code>\\n\"+\n",
       "     \"</div>\"}};\n",
       "\n",
       "  function display_loaded() {\n",
       "    var el = document.getElementById(\"6c51d5c9-e924-41d7-9d98-81601b5f7956\");\n",
       "    if (el != null) {\n",
       "      el.textContent = \"BokehJS is loading...\";\n",
       "    }\n",
       "    if (root.Bokeh !== undefined) {\n",
       "      if (el != null) {\n",
       "        el.textContent = \"BokehJS \" + root.Bokeh.version + \" successfully loaded.\";\n",
       "      }\n",
       "    } else if (Date.now() < root._bokeh_timeout) {\n",
       "      setTimeout(display_loaded, 100)\n",
       "    }\n",
       "  }\n",
       "\n",
       "\n",
       "  function run_callbacks() {\n",
       "    try {\n",
       "      root._bokeh_onload_callbacks.forEach(function(callback) { callback() });\n",
       "    }\n",
       "    finally {\n",
       "      delete root._bokeh_onload_callbacks\n",
       "    }\n",
       "    console.info(\"Bokeh: all callbacks have finished\");\n",
       "  }\n",
       "\n",
       "  function load_libs(js_urls, callback) {\n",
       "    root._bokeh_onload_callbacks.push(callback);\n",
       "    if (root._bokeh_is_loading > 0) {\n",
       "      console.log(\"Bokeh: BokehJS is being loaded, scheduling callback at\", now());\n",
       "      return null;\n",
       "    }\n",
       "    if (js_urls == null || js_urls.length === 0) {\n",
       "      run_callbacks();\n",
       "      return null;\n",
       "    }\n",
       "    console.log(\"Bokeh: BokehJS not loaded, scheduling load and callback at\", now());\n",
       "    root._bokeh_is_loading = js_urls.length;\n",
       "    for (var i = 0; i < js_urls.length; i++) {\n",
       "      var url = js_urls[i];\n",
       "      var s = document.createElement('script');\n",
       "      s.src = url;\n",
       "      s.async = false;\n",
       "      s.onreadystatechange = s.onload = function() {\n",
       "        root._bokeh_is_loading--;\n",
       "        if (root._bokeh_is_loading === 0) {\n",
       "          console.log(\"Bokeh: all BokehJS libraries loaded\");\n",
       "          run_callbacks()\n",
       "        }\n",
       "      };\n",
       "      s.onerror = function() {\n",
       "        console.warn(\"failed to load library \" + url);\n",
       "      };\n",
       "      console.log(\"Bokeh: injecting script tag for BokehJS library: \", url);\n",
       "      document.getElementsByTagName(\"head\")[0].appendChild(s);\n",
       "    }\n",
       "  };var element = document.getElementById(\"6c51d5c9-e924-41d7-9d98-81601b5f7956\");\n",
       "  if (element == null) {\n",
       "    console.log(\"Bokeh: ERROR: autoload.js configured with elementid '6c51d5c9-e924-41d7-9d98-81601b5f7956' but no matching script tag was found. \")\n",
       "    return false;\n",
       "  }\n",
       "\n",
       "  var js_urls = [\"https://cdn.pydata.org/bokeh/release/bokeh-0.13.0.min.js\", \"https://cdn.pydata.org/bokeh/release/bokeh-widgets-0.13.0.min.js\", \"https://cdn.pydata.org/bokeh/release/bokeh-tables-0.13.0.min.js\", \"https://cdn.pydata.org/bokeh/release/bokeh-gl-0.13.0.min.js\"];\n",
       "\n",
       "  var inline_js = [\n",
       "    function(Bokeh) {\n",
       "      Bokeh.set_log_level(\"info\");\n",
       "    },\n",
       "    \n",
       "    function(Bokeh) {\n",
       "      \n",
       "    },\n",
       "    function(Bokeh) {\n",
       "      console.log(\"Bokeh: injecting CSS: https://cdn.pydata.org/bokeh/release/bokeh-0.13.0.min.css\");\n",
       "      Bokeh.embed.inject_css(\"https://cdn.pydata.org/bokeh/release/bokeh-0.13.0.min.css\");\n",
       "      console.log(\"Bokeh: injecting CSS: https://cdn.pydata.org/bokeh/release/bokeh-widgets-0.13.0.min.css\");\n",
       "      Bokeh.embed.inject_css(\"https://cdn.pydata.org/bokeh/release/bokeh-widgets-0.13.0.min.css\");\n",
       "      console.log(\"Bokeh: injecting CSS: https://cdn.pydata.org/bokeh/release/bokeh-tables-0.13.0.min.css\");\n",
       "      Bokeh.embed.inject_css(\"https://cdn.pydata.org/bokeh/release/bokeh-tables-0.13.0.min.css\");\n",
       "    }\n",
       "  ];\n",
       "\n",
       "  function run_inline_js() {\n",
       "    \n",
       "    if ((root.Bokeh !== undefined) || (force === true)) {\n",
       "      for (var i = 0; i < inline_js.length; i++) {\n",
       "        inline_js[i].call(root, root.Bokeh);\n",
       "      }if (force === true) {\n",
       "        display_loaded();\n",
       "      }} else if (Date.now() < root._bokeh_timeout) {\n",
       "      setTimeout(run_inline_js, 100);\n",
       "    } else if (!root._bokeh_failed_load) {\n",
       "      console.log(\"Bokeh: BokehJS failed to load within specified timeout.\");\n",
       "      root._bokeh_failed_load = true;\n",
       "    } else if (force !== true) {\n",
       "      var cell = $(document.getElementById(\"6c51d5c9-e924-41d7-9d98-81601b5f7956\")).parents('.cell').data().cell;\n",
       "      cell.output_area.append_execute_result(NB_LOAD_WARNING)\n",
       "    }\n",
       "\n",
       "  }\n",
       "\n",
       "  if (root._bokeh_is_loading === 0) {\n",
       "    console.log(\"Bokeh: BokehJS loaded, going straight to plotting\");\n",
       "    run_inline_js();\n",
       "  } else {\n",
       "    load_libs(js_urls, function() {\n",
       "      console.log(\"Bokeh: BokehJS plotting callback run at\", now());\n",
       "      run_inline_js();\n",
       "    });\n",
       "  }\n",
       "}(window));"
      ],
      "application/vnd.bokehjs_load.v0+json": "\n(function(root) {\n  function now() {\n    return new Date();\n  }\n\n  var force = true;\n\n  if (typeof (root._bokeh_onload_callbacks) === \"undefined\" || force === true) {\n    root._bokeh_onload_callbacks = [];\n    root._bokeh_is_loading = undefined;\n  }\n\n  \n\n  \n  if (typeof (root._bokeh_timeout) === \"undefined\" || force === true) {\n    root._bokeh_timeout = Date.now() + 5000;\n    root._bokeh_failed_load = false;\n  }\n\n  var NB_LOAD_WARNING = {'data': {'text/html':\n     \"<div style='background-color: #fdd'>\\n\"+\n     \"<p>\\n\"+\n     \"BokehJS does not appear to have successfully loaded. If loading BokehJS from CDN, this \\n\"+\n     \"may be due to a slow or bad network connection. Possible fixes:\\n\"+\n     \"</p>\\n\"+\n     \"<ul>\\n\"+\n     \"<li>re-rerun `output_notebook()` to attempt to load from CDN again, or</li>\\n\"+\n     \"<li>use INLINE resources instead, as so:</li>\\n\"+\n     \"</ul>\\n\"+\n     \"<code>\\n\"+\n     \"from bokeh.resources import INLINE\\n\"+\n     \"output_notebook(resources=INLINE)\\n\"+\n     \"</code>\\n\"+\n     \"</div>\"}};\n\n  function display_loaded() {\n    var el = document.getElementById(\"6c51d5c9-e924-41d7-9d98-81601b5f7956\");\n    if (el != null) {\n      el.textContent = \"BokehJS is loading...\";\n    }\n    if (root.Bokeh !== undefined) {\n      if (el != null) {\n        el.textContent = \"BokehJS \" + root.Bokeh.version + \" successfully loaded.\";\n      }\n    } else if (Date.now() < root._bokeh_timeout) {\n      setTimeout(display_loaded, 100)\n    }\n  }\n\n\n  function run_callbacks() {\n    try {\n      root._bokeh_onload_callbacks.forEach(function(callback) { callback() });\n    }\n    finally {\n      delete root._bokeh_onload_callbacks\n    }\n    console.info(\"Bokeh: all callbacks have finished\");\n  }\n\n  function load_libs(js_urls, callback) {\n    root._bokeh_onload_callbacks.push(callback);\n    if (root._bokeh_is_loading > 0) {\n      console.log(\"Bokeh: BokehJS is being loaded, scheduling callback at\", now());\n      return null;\n    }\n    if (js_urls == null || js_urls.length === 0) {\n      run_callbacks();\n      return null;\n    }\n    console.log(\"Bokeh: BokehJS not loaded, scheduling load and callback at\", now());\n    root._bokeh_is_loading = js_urls.length;\n    for (var i = 0; i < js_urls.length; i++) {\n      var url = js_urls[i];\n      var s = document.createElement('script');\n      s.src = url;\n      s.async = false;\n      s.onreadystatechange = s.onload = function() {\n        root._bokeh_is_loading--;\n        if (root._bokeh_is_loading === 0) {\n          console.log(\"Bokeh: all BokehJS libraries loaded\");\n          run_callbacks()\n        }\n      };\n      s.onerror = function() {\n        console.warn(\"failed to load library \" + url);\n      };\n      console.log(\"Bokeh: injecting script tag for BokehJS library: \", url);\n      document.getElementsByTagName(\"head\")[0].appendChild(s);\n    }\n  };var element = document.getElementById(\"6c51d5c9-e924-41d7-9d98-81601b5f7956\");\n  if (element == null) {\n    console.log(\"Bokeh: ERROR: autoload.js configured with elementid '6c51d5c9-e924-41d7-9d98-81601b5f7956' but no matching script tag was found. \")\n    return false;\n  }\n\n  var js_urls = [\"https://cdn.pydata.org/bokeh/release/bokeh-0.13.0.min.js\", \"https://cdn.pydata.org/bokeh/release/bokeh-widgets-0.13.0.min.js\", \"https://cdn.pydata.org/bokeh/release/bokeh-tables-0.13.0.min.js\", \"https://cdn.pydata.org/bokeh/release/bokeh-gl-0.13.0.min.js\"];\n\n  var inline_js = [\n    function(Bokeh) {\n      Bokeh.set_log_level(\"info\");\n    },\n    \n    function(Bokeh) {\n      \n    },\n    function(Bokeh) {\n      console.log(\"Bokeh: injecting CSS: https://cdn.pydata.org/bokeh/release/bokeh-0.13.0.min.css\");\n      Bokeh.embed.inject_css(\"https://cdn.pydata.org/bokeh/release/bokeh-0.13.0.min.css\");\n      console.log(\"Bokeh: injecting CSS: https://cdn.pydata.org/bokeh/release/bokeh-widgets-0.13.0.min.css\");\n      Bokeh.embed.inject_css(\"https://cdn.pydata.org/bokeh/release/bokeh-widgets-0.13.0.min.css\");\n      console.log(\"Bokeh: injecting CSS: https://cdn.pydata.org/bokeh/release/bokeh-tables-0.13.0.min.css\");\n      Bokeh.embed.inject_css(\"https://cdn.pydata.org/bokeh/release/bokeh-tables-0.13.0.min.css\");\n    }\n  ];\n\n  function run_inline_js() {\n    \n    if ((root.Bokeh !== undefined) || (force === true)) {\n      for (var i = 0; i < inline_js.length; i++) {\n        inline_js[i].call(root, root.Bokeh);\n      }if (force === true) {\n        display_loaded();\n      }} else if (Date.now() < root._bokeh_timeout) {\n      setTimeout(run_inline_js, 100);\n    } else if (!root._bokeh_failed_load) {\n      console.log(\"Bokeh: BokehJS failed to load within specified timeout.\");\n      root._bokeh_failed_load = true;\n    } else if (force !== true) {\n      var cell = $(document.getElementById(\"6c51d5c9-e924-41d7-9d98-81601b5f7956\")).parents('.cell').data().cell;\n      cell.output_area.append_execute_result(NB_LOAD_WARNING)\n    }\n\n  }\n\n  if (root._bokeh_is_loading === 0) {\n    console.log(\"Bokeh: BokehJS loaded, going straight to plotting\");\n    run_inline_js();\n  } else {\n    load_libs(js_urls, function() {\n      console.log(\"Bokeh: BokehJS plotting callback run at\", now());\n      run_inline_js();\n    });\n  }\n}(window));"
     },
     "metadata": {},
     "output_type": "display_data"
    },
    {
     "name": "stdout",
     "output_type": "stream",
     "text": [
      "time: 13.6 ms\n"
     ]
    }
   ],
   "source": [
    "output_notebook()"
   ]
  },
  {
   "cell_type": "code",
   "execution_count": 2,
   "metadata": {},
   "outputs": [
    {
     "data": {
      "text/plain": [
       "['4', '5']"
      ]
     },
     "execution_count": 2,
     "metadata": {},
     "output_type": "execute_result"
    }
   ],
   "source": [
    "str.split(\"4,5\", \",\")"
   ]
  },
  {
   "cell_type": "code",
   "execution_count": 3,
   "metadata": {},
   "outputs": [
    {
     "name": "stdout",
     "output_type": "stream",
     "text": [
      "time: 54.5 ms\n"
     ]
    }
   ],
   "source": [
    "pipeline_folder = 'example_pipelines'\n",
    "data = [pd.read_csv(pipeline_folder + '/' + pipeline_file) for pipeline_file in os.listdir(pipeline_folder) if pipeline_file[0] != '.']"
   ]
  },
  {
   "cell_type": "code",
   "execution_count": 9,
   "metadata": {},
   "outputs": [
    {
     "ename": "NameError",
     "evalue": "name 'pipeline_data' is not defined",
     "output_type": "error",
     "traceback": [
      "\u001b[0;31m---------------------------------------------------------------------------\u001b[0m",
      "\u001b[0;31mNameError\u001b[0m                                 Traceback (most recent call last)",
      "\u001b[0;32m<ipython-input-9-6d19b45faba5>\u001b[0m in \u001b[0;36m<module>\u001b[0;34m()\u001b[0m\n\u001b[1;32m      1\u001b[0m \u001b[0maccuracies\u001b[0m \u001b[0;34m=\u001b[0m \u001b[0;34m[\u001b[0m\u001b[0;34m]\u001b[0m\u001b[0;34m\u001b[0m\u001b[0m\n\u001b[0;32m----> 2\u001b[0;31m \u001b[0;32mfor\u001b[0m \u001b[0mpipeline\u001b[0m \u001b[0;32min\u001b[0m \u001b[0mpipeline_data\u001b[0m\u001b[0;34m:\u001b[0m\u001b[0;34m\u001b[0m\u001b[0m\n\u001b[0m\u001b[1;32m      3\u001b[0m     \u001b[0maccuracy\u001b[0m \u001b[0;34m=\u001b[0m \u001b[0mpipeline\u001b[0m\u001b[0;34m[\u001b[0m\u001b[0;34m'validation'\u001b[0m\u001b[0;34m]\u001b[0m\u001b[0;34m.\u001b[0m\u001b[0miloc\u001b[0m\u001b[0;34m[\u001b[0m\u001b[0;34m-\u001b[0m\u001b[0;36m1\u001b[0m\u001b[0;34m]\u001b[0m\u001b[0;34m\u001b[0m\u001b[0m\n\u001b[1;32m      4\u001b[0m     \u001b[0maccuracies\u001b[0m\u001b[0;34m.\u001b[0m\u001b[0mappend\u001b[0m\u001b[0;34m(\u001b[0m\u001b[0maccuracy\u001b[0m\u001b[0;34m)\u001b[0m\u001b[0;34m\u001b[0m\u001b[0m\n",
      "\u001b[0;31mNameError\u001b[0m: name 'pipeline_data' is not defined"
     ]
    },
    {
     "name": "stdout",
     "output_type": "stream",
     "text": [
      "time: 1.05 s\n"
     ]
    }
   ],
   "source": [
    "accuracies = []\n",
    "for pipeline in pipeline_data:\n",
    "    accuracy = pipeline['validation'].iloc[-1]\n",
    "    accuracies.append(accuracy)"
   ]
  },
  {
   "cell_type": "code",
   "execution_count": 11,
   "metadata": {},
   "outputs": [
    {
     "ename": "NameError",
     "evalue": "name 'Q1' is not defined",
     "output_type": "error",
     "traceback": [
      "\u001b[0;31m---------------------------------------------------------------------------\u001b[0m",
      "\u001b[0;31mNameError\u001b[0m                                 Traceback (most recent call last)",
      "\u001b[0;32m<ipython-input-11-6cdcc19240eb>\u001b[0m in \u001b[0;36m<module>\u001b[0;34m()\u001b[0m\n\u001b[1;32m      1\u001b[0m \u001b[0;32mfor\u001b[0m \u001b[0midx\u001b[0m\u001b[0;34m,\u001b[0m\u001b[0mpipeline\u001b[0m \u001b[0;32min\u001b[0m \u001b[0menumerate\u001b[0m\u001b[0;34m(\u001b[0m\u001b[0mdata\u001b[0m\u001b[0;34m)\u001b[0m\u001b[0;34m:\u001b[0m\u001b[0;34m\u001b[0m\u001b[0m\n\u001b[1;32m      2\u001b[0m     \u001b[0maccuracy\u001b[0m \u001b[0;34m=\u001b[0m \u001b[0mpipeline\u001b[0m\u001b[0;34m[\u001b[0m\u001b[0;34m'validation'\u001b[0m\u001b[0;34m]\u001b[0m\u001b[0;34m.\u001b[0m\u001b[0miloc\u001b[0m\u001b[0;34m[\u001b[0m\u001b[0;34m-\u001b[0m\u001b[0;36m1\u001b[0m\u001b[0;34m]\u001b[0m\u001b[0;34m\u001b[0m\u001b[0m\n\u001b[0;32m----> 3\u001b[0;31m     \u001b[0;32mif\u001b[0m \u001b[0;34m(\u001b[0m\u001b[0maccuracy\u001b[0m \u001b[0;34m>\u001b[0m \u001b[0mQ1\u001b[0m \u001b[0;34m-\u001b[0m \u001b[0;36m5\u001b[0m\u001b[0;34m*\u001b[0m\u001b[0mIQR\u001b[0m\u001b[0;34m)\u001b[0m \u001b[0;32mand\u001b[0m \u001b[0;34m(\u001b[0m\u001b[0maccuracy\u001b[0m \u001b[0;34m<\u001b[0m \u001b[0mQ3\u001b[0m \u001b[0;34m+\u001b[0m \u001b[0;36m5\u001b[0m\u001b[0;34m*\u001b[0m\u001b[0mIQR\u001b[0m\u001b[0;34m)\u001b[0m\u001b[0;34m:\u001b[0m\u001b[0;34m\u001b[0m\u001b[0m\n\u001b[0m\u001b[1;32m      4\u001b[0m         \u001b[0mtraining_time\u001b[0m \u001b[0;34m=\u001b[0m \u001b[0mpipeline\u001b[0m\u001b[0;34m[\u001b[0m\u001b[0;34m'____________'\u001b[0m\u001b[0;34m]\u001b[0m\u001b[0;34m.\u001b[0m\u001b[0miloc\u001b[0m\u001b[0;34m[\u001b[0m\u001b[0;34m-\u001b[0m\u001b[0;36m1\u001b[0m\u001b[0;34m]\u001b[0m\u001b[0;34m\u001b[0m\u001b[0m\n\u001b[1;32m      5\u001b[0m         \u001b[0mname\u001b[0m \u001b[0;34m=\u001b[0m \u001b[0mpipeline\u001b[0m\u001b[0;34m[\u001b[0m\u001b[0;34m'estimator'\u001b[0m\u001b[0;34m]\u001b[0m\u001b[0;34m.\u001b[0m\u001b[0miloc\u001b[0m\u001b[0;34m[\u001b[0m\u001b[0;34m-\u001b[0m\u001b[0;36m1\u001b[0m\u001b[0;34m]\u001b[0m\u001b[0;34m\u001b[0m\u001b[0m\n",
      "\u001b[0;31mNameError\u001b[0m: name 'Q1' is not defined"
     ]
    },
    {
     "name": "stdout",
     "output_type": "stream",
     "text": [
      "time: 31.6 ms\n"
     ]
    }
   ],
   "source": [
    "for idx,pipeline in enumerate(data):\n",
    "    accuracy = pipeline['validation'].iloc[-1]\n",
    "    if (accuracy > Q1 - 5*IQR) and (accuracy < Q3 + 5*IQR):\n",
    "        training_time = pipeline['____________'].iloc[-1]\n",
    "        name = pipeline['estimator'].iloc[-1]\n",
    "        pipeline_dict['Accuracy'].append(accuracy)\n",
    "        pipeline_dict['Name'].append(name)\n",
    "        #progression = \n",
    "        sample_sizes = list(pipeline['sample_size'])\n",
    "        partial_accuracies = list(pipeline['validation'])\n",
    "        pipeline_dict['partial_accuracy'].append(partial_accuracies)\n",
    "        pipeline_dict['sample_size'].append(sample_sizes)\n",
    "        pipeline_dict['ID'].append(idx)\n",
    "        pipeline_dict['color'].append(colors[idx])\n",
    "        pipeline_dict['training_time'].append(training_time)\n",
    "        for param in all_params:\n",
    "            pipeline_dict[param].append(None)"
   ]
  },
  {
   "cell_type": "code",
   "execution_count": null,
   "metadata": {},
   "outputs": [],
   "source": []
  },
  {
   "cell_type": "code",
   "execution_count": null,
   "metadata": {},
   "outputs": [],
   "source": []
  },
  {
   "cell_type": "code",
   "execution_count": null,
   "metadata": {},
   "outputs": [],
   "source": []
  },
  {
   "cell_type": "code",
   "execution_count": null,
   "metadata": {},
   "outputs": [],
   "source": []
  },
  {
   "cell_type": "code",
   "execution_count": null,
   "metadata": {},
   "outputs": [],
   "source": [
    "def munge_data():\n",
    "#     all_params = set()\n",
    "#     for pipeline in data:\n",
    "#         accuracy = pipeline['metrics']['score']\n",
    "#         if accuracy is not None and 'humanReadableParameters' in pipeline['pipeline']['steps'][-1]['primitive']:\n",
    "#             pipe_params = pipeline['pipeline']['steps'][-1]['primitive']['humanReadableParameters']\n",
    "#             for param,value in pipe_params.items():\n",
    "#                 all_params.add(param)\n",
    "\n",
    "    pipeline_dict = {}\n",
    "    pipeline_dict['Name'] = []\n",
    "    pipeline_dict['Accuracy'] = []\n",
    "    pipeline_dict['partial_accuracy'] = []\n",
    "    pipeline_dict['sample_size'] = []\n",
    "    pipeline_dict['ID'] = []\n",
    "    pipeline_dict['color'] = []\n",
    "    pipeline_dict['training_time'] = []\n",
    "    accuracies = []\n",
    "    for idx,pipeline in enumerate(data):\n",
    "        accuracy = pipeline['metrics']['score']\n",
    "        progression = pipeline['metrics']['progression']\n",
    "        if accuracy is not None and progression is not None:\n",
    "            accuracies.append(accuracy)\n",
    "    Q1 = np.percentile(accuracies, 25)\n",
    "    Q3 = np.percentile(accuracies, 75)\n",
    "    IQR = Q3 - Q1\n",
    "    x0 = max(Q1 - 5 * IQR, min(accuracies))\n",
    "    x1 = min(Q3 + 5 * IQR, max(accuracies))\n",
    "    p.x_range = Range1d(x0, x1)\n",
    "    for param in all_params:\n",
    "        pipeline_dict[param] = []\n",
    "    for idx,pipeline in enumerate(data):\n",
    "        accuracy = pipeline['metrics']['score']\n",
    "        progression = pipeline['metrics']['progression']\n",
    "        if (accuracy is not None) and (progression is not None) and (accuracy > Q1 - 5*IQR) and (accuracy < Q3 + 5*IQR):\n",
    "            training_time = pipeline['metrics']['training_times'][-1]\n",
    "            name = pipeline['pipeline']['steps'][-1]['primitive']['name']\n",
    "            pipeline_dict['Accuracy'].append(accuracy)\n",
    "            pipeline_dict['Name'].append(name)\n",
    "            progression = json.loads(progression)['validation']\n",
    "            sample_sizes = list(progression.keys())\n",
    "            partial_accuracies = list(progression.values())\n",
    "            pipeline_dict['partial_accuracy'].append(partial_accuracies)\n",
    "            pipeline_dict['sample_size'].append(sample_sizes)\n",
    "            pipeline_dict['ID'].append(idx)\n",
    "            pipeline_dict['color'].append(colors[idx])\n",
    "            pipeline_dict['training_time'].append(training_time)\n",
    "            if 'humanReadableParameters' in pipeline['pipeline']['steps'][-1]['primitive']:\n",
    "                pipe_params = pipeline['pipeline']['steps'][-1]['primitive']['humanReadableParameters']\n",
    "            else:\n",
    "                pipe_params = {}\n",
    "            for param in all_params:\n",
    "                if param in pipe_params:\n",
    "                    pipeline_dict[param].append(pipe_params[param])\n",
    "                else:\n",
    "                    pipeline_dict[param].append(None)\n",
    "                    \n",
    "    pipe_type = set(pipeline_dict['Name'])\n",
    "    pipe_type_color = {}\n",
    "    for idx,pipe in enumerate(pipe_type):\n",
    "        pipe_type_color[pipe] = colors[idx]\n",
    "    pipeline_dict['estimator_color'] = []\n",
    "    for pipe in pipeline_dict['Name']:\n",
    "        pipeline_dict['estimator_color'].append(pipe_type_color[pipe])\n",
    "\n",
    "    pipeline_data = pd.DataFrame(pipeline_dict)\n",
    "\n",
    "\n",
    "    # find the quartiles and IQR for each category\n",
    "    groups = pipeline_data.groupby('Name')\n",
    "    sort_stat = statistic.value\n",
    "    ascending = True\n",
    "    if sort_stat == \"Median\":\n",
    "        groups_sort = pipeline_data.groupby('Name').median().reset_index()\n",
    "    elif sort_stat == \"Mean\":\n",
    "        groups_sort = pipeline_data.groupby('Name').mean().reset_index()\n",
    "    elif sort_stat == \"Max\":\n",
    "        groups_sort = pipeline_data.groupby('Name').max().reset_index()\n",
    "    elif sort_stat == \"Min\":\n",
    "        groups_sort = pipeline_data.groupby('Name').min().reset_index()\n",
    "        ascending = False\n",
    "    elif sort_stat == \"Standard Deviation\":\n",
    "        groups_sort = pipeline_data.groupby('Name').std().reset_index()\n",
    "    sorter = list(groups_sort.sort_values('Accuracy', ascending=ascending)['Name'])\n",
    "    methods = list((groups.groups.keys()))\n",
    "    methods = sorter\n",
    "    q1 = groups.quantile(q=0.25)\n",
    "    q2 = groups.quantile(q=0.5)\n",
    "    q3 = groups.quantile(q=0.75)\n",
    "    q1['name'] = pd.Categorical(q1.index, sorter)\n",
    "    q1 = q1.sort_values('name').iloc[:,0:1]\n",
    "    q2['name'] = pd.Categorical(q2.index, sorter)\n",
    "    q2 = q2.sort_values('name').iloc[:,0:1]\n",
    "    q3['name'] = pd.Categorical(q3.index, sorter)\n",
    "    q3 = q3.sort_values('name').iloc[:,0:1]\n",
    "    iqr = q3 - q1\n",
    "    upper = q3 + 1.5*iqr\n",
    "    lower = q1 - 1.5*iqr\n",
    "    \n",
    "    name = pipeline_dict['Name']\n",
    "    accuracy = pipeline_dict['Accuracy']\n",
    "    partial_accuracy = pipeline_dict['partial_accuracy']\n",
    "    sample_size = pipeline_dict['sample_size']\n",
    "    ID = pipeline_dict['ID']\n",
    "    ID_repeat = []\n",
    "    part_acc = []\n",
    "    samp_size = []\n",
    "    colors_partial = []\n",
    "    name_partial = []\n",
    "    for idx,part_accuracy in enumerate(partial_accuracy):\n",
    "        for idx2,acc in enumerate(part_accuracy):\n",
    "            part_acc.append(acc)\n",
    "            ID_repeat.append(ID[idx])\n",
    "            samp_size.append(int(sample_size[idx][idx2]))\n",
    "            colors_partial.append(colors[idx])\n",
    "            name_partial.append(pipeline_dict['Name'][idx])\n",
    "            \n",
    "    \n",
    "    progression_data = {'ID': ID_repeat, 'partial_accuracy': part_acc, 'sample_size': samp_size, 'color': colors_partial, 'name': name_partial}\n",
    "    \n",
    "    source_progression.data = progression_data\n",
    "                    \n",
    "    # if no outliers, shrink lengths of stems to be no longer than the minimums or maximums\n",
    "    qmin = groups.quantile(q=0.00)\n",
    "    qmax = groups.quantile(q=1.00)\n",
    "    qmin['name'] = pd.Categorical(qmin.index, sorter)\n",
    "    qmin = qmin.sort_values('name').iloc[:,0:1]\n",
    "    qmax['name'] = pd.Categorical(qmax.index, sorter)\n",
    "    qmax = qmax.sort_values('name').iloc[:,0:1]\n",
    "    upper.Accuracy = [min([x,y]) for (x,y) in zip(list(qmax.loc[:,'Accuracy']),upper.Accuracy)]\n",
    "    lower.Accuracy = [max([x,y]) for (x,y) in zip(list(qmin.loc[:,'Accuracy']),lower.Accuracy)]\n",
    "    \n",
    "    source.data = dict(\n",
    "        methods = methods,\n",
    "        q1 = q1.Accuracy,\n",
    "        q2 = q2.Accuracy,\n",
    "        q3 = q3.Accuracy,\n",
    "        upper = upper.Accuracy,\n",
    "        lower = lower.Accuracy\n",
    "    )\n",
    "    \n",
    "    source_dict = {'x':name, 'y':accuracy, 'color':[\"Blue\"] * len(name), 'partial_accuracy':partial_accuracy, 'sample_size': sample_size, 'ID': ID, 'training_time': pipeline_dict['training_time'], 'estimator_color': pipeline_dict['estimator_color'], 'name': name}\n",
    "    for param in all_params:\n",
    "        source_dict[param] = pipeline_data[param]\n",
    "    source_points.data = source_dict\n",
    "    \n",
    "    best_pipe_idx = np.argmax(pipeline_dict['Accuracy'])\n",
    "    num_partials = len(pipeline_dict['sample_size'][best_pipe_idx])\n",
    "    source_points_best_pipe.data = {'sample_size': pipeline_dict['sample_size'][best_pipe_idx], 'partial_accuracy': pipeline_dict['partial_accuracy'][best_pipe_idx], 'color': [pipeline_dict['color'][best_pipe_idx]]*num_partials, 'name': [pipeline_dict['Name'][best_pipe_idx]]*num_partials, 'ID': [pipeline_dict['ID'][best_pipe_idx]]*num_partials}\n",
    "    source_point_training_time_best.data = {'training_time': [pipeline_dict['training_time'][best_pipe_idx]], \n",
    "                                            'accuracy': [pipeline_dict['Accuracy'][best_pipe_idx]], 'x': [pipeline_dict['Name'][best_pipe_idx]]}"
   ]
  },
  {
   "cell_type": "code",
   "execution_count": null,
   "metadata": {},
   "outputs": [],
   "source": [
    "max_s = -1000\n",
    "min_s = 1000"
   ]
  },
  {
   "cell_type": "code",
   "execution_count": 31,
   "metadata": {},
   "outputs": [
    {
     "name": "stdout",
     "output_type": "stream",
     "text": [
      "time: 4.64 ms\n"
     ]
    }
   ],
   "source": [
    "for dat in data:\n",
    "    prog = dat['metrics']['progression']\n",
    "    try:\n",
    "        prog_dict = json.loads(prog)\n",
    "        samps = [int(samp) for samp in list(prog_dict['validation'].keys())]\n",
    "        min_s = min(min(samps), min_s)\n",
    "        max_s = max(max(samps), max_s)\n",
    "    except:\n",
    "        pass"
   ]
  },
  {
   "cell_type": "code",
   "execution_count": 32,
   "metadata": {},
   "outputs": [
    {
     "data": {
      "text/plain": [
       "3"
      ]
     },
     "execution_count": 32,
     "metadata": {},
     "output_type": "execute_result"
    },
    {
     "name": "stdout",
     "output_type": "stream",
     "text": [
      "time: 4.74 ms\n"
     ]
    }
   ],
   "source": [
    "min_s"
   ]
  },
  {
   "cell_type": "code",
   "execution_count": 33,
   "metadata": {},
   "outputs": [
    {
     "data": {
      "text/plain": [
       "1940"
      ]
     },
     "execution_count": 33,
     "metadata": {},
     "output_type": "execute_result"
    },
    {
     "name": "stdout",
     "output_type": "stream",
     "text": [
      "time: 6.02 ms\n"
     ]
    }
   ],
   "source": [
    "max_s"
   ]
  },
  {
   "cell_type": "code",
   "execution_count": 5,
   "metadata": {},
   "outputs": [
    {
     "name": "stdout",
     "output_type": "stream",
     "text": [
      "time: 1.62 ms\n"
     ]
    }
   ],
   "source": [
    "prog = data[0]['metrics']['progression']"
   ]
  },
  {
   "cell_type": "code",
   "execution_count": 6,
   "metadata": {},
   "outputs": [
    {
     "name": "stdout",
     "output_type": "stream",
     "text": [
      "time: 1.13 ms\n"
     ]
    }
   ],
   "source": [
    "prog_dict = json.loads(prog)"
   ]
  },
  {
   "cell_type": "code",
   "execution_count": 17,
   "metadata": {},
   "outputs": [
    {
     "data": {
      "text/plain": [
       "356"
      ]
     },
     "execution_count": 17,
     "metadata": {},
     "output_type": "execute_result"
    },
    {
     "name": "stdout",
     "output_type": "stream",
     "text": [
      "time: 6.32 ms\n"
     ]
    }
   ],
   "source": [
    "max([int(samp) for samp in list(prog_dict['validation'].keys())])"
   ]
  },
  {
   "cell_type": "code",
   "execution_count": null,
   "metadata": {},
   "outputs": [],
   "source": []
  },
  {
   "cell_type": "code",
   "execution_count": 4,
   "metadata": {},
   "outputs": [
    {
     "name": "stdout",
     "output_type": "stream",
     "text": [
      "time: 43.2 ms\n"
     ]
    }
   ],
   "source": [
    "# with open('script/benchmark/all_pipelines/38_sick.json') as f:\n",
    "#     data = json.load(f)\n",
    "with open('aps-i2pa/196_autoMpg.json') as f:\n",
    "    data = json.load(f)"
   ]
  },
  {
   "cell_type": "code",
   "execution_count": 4,
   "metadata": {},
   "outputs": [
    {
     "name": "stdout",
     "output_type": "stream",
     "text": [
      "time: 12.7 ms\n"
     ]
    }
   ],
   "source": [
    "all_params = set()\n",
    "for pipeline in data:\n",
    "    accuracy = pipeline['metrics']['score']\n",
    "    progression = pipeline['metrics']['progression']\n",
    "    last_step = pipeline['pipeline']['steps'][-1]['primitive']\n",
    "    if accuracy is not None and 'humanReadableParameters' in last_step and progression is not None:\n",
    "        pipe_params = last_step['humanReadableParameters']\n",
    "        for param,value in pipe_params.items():\n",
    "            all_params.add(param)"
   ]
  },
  {
   "cell_type": "code",
   "execution_count": 12,
   "metadata": {},
   "outputs": [
    {
     "name": "stdout",
     "output_type": "stream",
     "text": [
      "time: 3.61 ms\n"
     ]
    }
   ],
   "source": [
    "colors = (Viridis256 + Plasma256)\n",
    "shuffle(colors)\n",
    "colors = colors * 100"
   ]
  },
  {
   "cell_type": "code",
   "execution_count": 13,
   "metadata": {},
   "outputs": [
    {
     "name": "stdout",
     "output_type": "stream",
     "text": [
      "time: 201 ms\n"
     ]
    }
   ],
   "source": [
    "    pipeline_dict = {}\n",
    "    pipeline_dict['Name'] = []\n",
    "    pipeline_dict['Accuracy'] = []\n",
    "    pipeline_dict['partial_accuracy'] = []\n",
    "    pipeline_dict['sample_size'] = []\n",
    "    pipeline_dict['ID'] = []\n",
    "    pipeline_dict['color'] = []\n",
    "    pipeline_dict['training_time'] = []\n",
    "    for param in all_params:\n",
    "        pipeline_dict[param] = []\n",
    "    for idx,pipeline in enumerate(data):\n",
    "        accuracy = pipeline['metrics']['score']\n",
    "        progression = pipeline['metrics']['progression']\n",
    "        if accuracy is not None and progression is not None:\n",
    "            training_time = pipeline['metrics']['training_times'][-1]\n",
    "            name = pipeline['pipeline']['steps'][-1]['primitive']['name']\n",
    "            pipeline_dict['Accuracy'].append(accuracy)\n",
    "            pipeline_dict['Name'].append(name)\n",
    "            progression = json.loads(progression)['validation']\n",
    "            sample_sizes = list(progression.keys())\n",
    "            partial_accuracies = list(progression.values())\n",
    "            pipeline_dict['partial_accuracy'].append(partial_accuracies)\n",
    "            pipeline_dict['sample_size'].append(sample_sizes)\n",
    "            pipeline_dict['ID'].append(idx)\n",
    "            pipeline_dict['color'].append(colors[idx])\n",
    "            pipeline_dict['training_time'].append(training_time)\n",
    "            if 'humanReadableParameters' in pipeline['pipeline']['steps'][-1]['primitive']:\n",
    "                pipe_params = pipeline['pipeline']['steps'][-1]['primitive']['humanReadableParameters']\n",
    "            else:\n",
    "                pipe_params = {}\n",
    "            for param in all_params:\n",
    "                if param in pipe_params:\n",
    "                    pipeline_dict[param].append(pipe_params[param])\n",
    "                else:\n",
    "                    pipeline_dict[param].append(None)\n",
    "                    \n",
    "    pipe_type = set(pipeline_dict['Name'])\n",
    "    pipe_type_color = {}\n",
    "    for idx,pipe in enumerate(pipe_type):\n",
    "        pipe_type_color[pipe] = colors[idx]\n",
    "    pipeline_dict['estimator_color'] = []\n",
    "    for pipe in pipeline_dict['Name']:\n",
    "        pipeline_dict['estimator_color'].append(pipe_type_color[pipe])"
   ]
  },
  {
   "cell_type": "code",
   "execution_count": 14,
   "metadata": {},
   "outputs": [
    {
     "name": "stdout",
     "output_type": "stream",
     "text": [
      "time: 4.78 ms\n"
     ]
    }
   ],
   "source": [
    "best_pipe_idx = np.argmax(pipeline_dict['Accuracy'])"
   ]
  },
  {
   "cell_type": "code",
   "execution_count": null,
   "metadata": {},
   "outputs": [],
   "source": [
    "best_pipe_idx = np.argmax(pipeline_dict['Accuracy'])\n",
    "    source_points_best_pipe.data = {'sample_size': [pipeline_dict['sample_size'][best_pipe_idx]], 'partial_accuracy': [pipeline_dict['partial_accuracy'][best_pipe_idx]], 'color': [pipeline_dict['color'][best_pipe_idx]], 'Name': [pipeline_dict['Name'][best_pipe_idx]], 'ID': [pipeline_dict['ID'][best_pipe_idx]]}\n"
   ]
  },
  {
   "cell_type": "code",
   "execution_count": 8,
   "metadata": {},
   "outputs": [
    {
     "name": "stdout",
     "output_type": "stream",
     "text": [
      "time: 36.9 ms\n"
     ]
    }
   ],
   "source": [
    "pipeline_data = pd.DataFrame(pipeline_dict)"
   ]
  },
  {
   "cell_type": "code",
   "execution_count": 66,
   "metadata": {},
   "outputs": [
    {
     "name": "stdout",
     "output_type": "stream",
     "text": [
      "time: 9.76 ms\n"
     ]
    }
   ],
   "source": [
    "pp = figure(tools=\"pan,wheel_zoom,reset\", x_range=list(validation[0].keys()))"
   ]
  },
  {
   "cell_type": "code",
   "execution_count": 68,
   "metadata": {},
   "outputs": [
    {
     "data": {
      "text/html": [
       "<div style=\"display: table;\"><div style=\"display: table-row;\"><div style=\"display: table-cell;\"><b title=\"bokeh.models.renderers.GlyphRenderer\">GlyphRenderer</b>(</div><div style=\"display: table-cell;\">id&nbsp;=&nbsp;'6a5a124c-d622-49aa-93e0-bdcbf51b0e4b', <span id=\"46e7a32f-db95-4de5-90bd-1ee875ada9e1\" style=\"cursor: pointer;\">&hellip;)</span></div></div><div class=\"9c0bc3e8-cb16-4e50-9d1e-20976f61eab8\" style=\"display: none;\"><div style=\"display: table-cell;\"></div><div style=\"display: table-cell;\">data_source&nbsp;=&nbsp;ColumnDataSource(id='7b5bf401-4b26-4549-ba9e-3db25da77eba', ...),</div></div><div class=\"9c0bc3e8-cb16-4e50-9d1e-20976f61eab8\" style=\"display: none;\"><div style=\"display: table-cell;\"></div><div style=\"display: table-cell;\">glyph&nbsp;=&nbsp;Circle(id='98172af8-b9b1-4a1a-b91d-10e4a7f5996d', ...),</div></div><div class=\"9c0bc3e8-cb16-4e50-9d1e-20976f61eab8\" style=\"display: none;\"><div style=\"display: table-cell;\"></div><div style=\"display: table-cell;\">hover_glyph&nbsp;=&nbsp;None,</div></div><div class=\"9c0bc3e8-cb16-4e50-9d1e-20976f61eab8\" style=\"display: none;\"><div style=\"display: table-cell;\"></div><div style=\"display: table-cell;\">js_event_callbacks&nbsp;=&nbsp;{},</div></div><div class=\"9c0bc3e8-cb16-4e50-9d1e-20976f61eab8\" style=\"display: none;\"><div style=\"display: table-cell;\"></div><div style=\"display: table-cell;\">js_property_callbacks&nbsp;=&nbsp;{},</div></div><div class=\"9c0bc3e8-cb16-4e50-9d1e-20976f61eab8\" style=\"display: none;\"><div style=\"display: table-cell;\"></div><div style=\"display: table-cell;\">level&nbsp;=&nbsp;'glyph',</div></div><div class=\"9c0bc3e8-cb16-4e50-9d1e-20976f61eab8\" style=\"display: none;\"><div style=\"display: table-cell;\"></div><div style=\"display: table-cell;\">muted&nbsp;=&nbsp;False,</div></div><div class=\"9c0bc3e8-cb16-4e50-9d1e-20976f61eab8\" style=\"display: none;\"><div style=\"display: table-cell;\"></div><div style=\"display: table-cell;\">muted_glyph&nbsp;=&nbsp;None,</div></div><div class=\"9c0bc3e8-cb16-4e50-9d1e-20976f61eab8\" style=\"display: none;\"><div style=\"display: table-cell;\"></div><div style=\"display: table-cell;\">name&nbsp;=&nbsp;None,</div></div><div class=\"9c0bc3e8-cb16-4e50-9d1e-20976f61eab8\" style=\"display: none;\"><div style=\"display: table-cell;\"></div><div style=\"display: table-cell;\">nonselection_glyph&nbsp;=&nbsp;Circle(id='2a1eacab-5df2-4b58-a803-c4ac1d757d7c', ...),</div></div><div class=\"9c0bc3e8-cb16-4e50-9d1e-20976f61eab8\" style=\"display: none;\"><div style=\"display: table-cell;\"></div><div style=\"display: table-cell;\">selection_glyph&nbsp;=&nbsp;None,</div></div><div class=\"9c0bc3e8-cb16-4e50-9d1e-20976f61eab8\" style=\"display: none;\"><div style=\"display: table-cell;\"></div><div style=\"display: table-cell;\">subscribed_events&nbsp;=&nbsp;[],</div></div><div class=\"9c0bc3e8-cb16-4e50-9d1e-20976f61eab8\" style=\"display: none;\"><div style=\"display: table-cell;\"></div><div style=\"display: table-cell;\">tags&nbsp;=&nbsp;[],</div></div><div class=\"9c0bc3e8-cb16-4e50-9d1e-20976f61eab8\" style=\"display: none;\"><div style=\"display: table-cell;\"></div><div style=\"display: table-cell;\">view&nbsp;=&nbsp;CDSView(id='ea05f9bf-0796-4ac9-9a78-44aaf4029fd3', ...),</div></div><div class=\"9c0bc3e8-cb16-4e50-9d1e-20976f61eab8\" style=\"display: none;\"><div style=\"display: table-cell;\"></div><div style=\"display: table-cell;\">visible&nbsp;=&nbsp;True,</div></div><div class=\"9c0bc3e8-cb16-4e50-9d1e-20976f61eab8\" style=\"display: none;\"><div style=\"display: table-cell;\"></div><div style=\"display: table-cell;\">x_range_name&nbsp;=&nbsp;'default',</div></div><div class=\"9c0bc3e8-cb16-4e50-9d1e-20976f61eab8\" style=\"display: none;\"><div style=\"display: table-cell;\"></div><div style=\"display: table-cell;\">y_range_name&nbsp;=&nbsp;'default')</div></div></div>\n",
       "<script>\n",
       "(function() {\n",
       "  var expanded = false;\n",
       "  var ellipsis = document.getElementById(\"46e7a32f-db95-4de5-90bd-1ee875ada9e1\");\n",
       "  ellipsis.addEventListener(\"click\", function() {\n",
       "    var rows = document.getElementsByClassName(\"9c0bc3e8-cb16-4e50-9d1e-20976f61eab8\");\n",
       "    for (var i = 0; i < rows.length; i++) {\n",
       "      var el = rows[i];\n",
       "      el.style.display = expanded ? \"none\" : \"table-row\";\n",
       "    }\n",
       "    ellipsis.innerHTML = expanded ? \"&hellip;)\" : \"&lsaquo;&lsaquo;&lsaquo;\";\n",
       "    expanded = !expanded;\n",
       "  });\n",
       "})();\n",
       "</script>\n"
      ],
      "text/plain": [
       "bokeh.models.renderers.GlyphRenderer(\n",
       "    id='6a5a124c-d622-49aa-93e0-bdcbf51b0e4b',\n",
       "    data_source=bokeh.models.sources.ColumnDataSource(\n",
       "        id='7b5bf401-4b26-4549-ba9e-3db25da77eba',\n",
       "        callback=None,\n",
       "        data={'x': ['89', '178', '267', '356'],\n",
       "         'y': [0.9288297668, 0.8845175132, 0.855667159, 0.8100281656]},\n",
       "        js_event_callbacks={},\n",
       "        js_property_callbacks={},\n",
       "        name=None,\n",
       "        selected=bokeh.models.selections.Selection(\n",
       "            id='6c8824dc-2154-4b97-b561-f155e2bf8a28',\n",
       "            indices=[],\n",
       "            js_event_callbacks={},\n",
       "            js_property_callbacks={},\n",
       "            line_indices=[],\n",
       "            multiline_indices={},\n",
       "            name=None,\n",
       "            subscribed_events=[],\n",
       "            tags=[]),\n",
       "        selection_policy=bokeh.models.selections.UnionRenderers(\n",
       "            id='d230f710-58d6-4cf1-b109-e5146361bf6f',\n",
       "            js_event_callbacks={},\n",
       "            js_property_callbacks={},\n",
       "            name=None,\n",
       "            subscribed_events=[],\n",
       "            tags=[]),\n",
       "        subscribed_events=[],\n",
       "        tags=[]),\n",
       "    glyph=bokeh.models.markers.Circle(\n",
       "        id='98172af8-b9b1-4a1a-b91d-10e4a7f5996d',\n",
       "        angle={'units': 'rad', 'value': 0.0},\n",
       "        fill_alpha={'value': 1.0},\n",
       "        fill_color={'value': 'navy'},\n",
       "        js_event_callbacks={},\n",
       "        js_property_callbacks={},\n",
       "        line_alpha={'value': 1.0},\n",
       "        line_cap='butt',\n",
       "        line_color={'value': 'navy'},\n",
       "        line_dash=[],\n",
       "        line_dash_offset=0,\n",
       "        line_join='bevel',\n",
       "        line_width={'value': 1},\n",
       "        name=None,\n",
       "        radius=None,\n",
       "        radius_dimension='x',\n",
       "        size={'units': 'screen', 'value': 4},\n",
       "        subscribed_events=[],\n",
       "        tags=[],\n",
       "        x={'field': 'x'},\n",
       "        y={'field': 'y'}),\n",
       "    hover_glyph=None,\n",
       "    js_event_callbacks={},\n",
       "    js_property_callbacks={},\n",
       "    level='glyph',\n",
       "    muted=False,\n",
       "    muted_glyph=None,\n",
       "    name=None,\n",
       "    nonselection_glyph=bokeh.models.markers.Circle(\n",
       "        id='2a1eacab-5df2-4b58-a803-c4ac1d757d7c',\n",
       "        angle={'units': 'rad', 'value': 0.0},\n",
       "        fill_alpha={'value': 0.1},\n",
       "        fill_color={'value': '#1f77b4'},\n",
       "        js_event_callbacks={},\n",
       "        js_property_callbacks={},\n",
       "        line_alpha={'value': 0.1},\n",
       "        line_cap='butt',\n",
       "        line_color={'value': '#1f77b4'},\n",
       "        line_dash=[],\n",
       "        line_dash_offset=0,\n",
       "        line_join='bevel',\n",
       "        line_width={'value': 1},\n",
       "        name=None,\n",
       "        radius=None,\n",
       "        radius_dimension='x',\n",
       "        size={'units': 'screen', 'value': 4},\n",
       "        subscribed_events=[],\n",
       "        tags=[],\n",
       "        x={'field': 'x'},\n",
       "        y={'field': 'y'}),\n",
       "    selection_glyph=None,\n",
       "    subscribed_events=[],\n",
       "    tags=[],\n",
       "    view=bokeh.models.sources.CDSView(\n",
       "        id='ea05f9bf-0796-4ac9-9a78-44aaf4029fd3',\n",
       "        filters=[],\n",
       "        js_event_callbacks={},\n",
       "        js_property_callbacks={},\n",
       "        name=None,\n",
       "        source=bokeh.models.sources.ColumnDataSource(\n",
       "            id='7b5bf401-4b26-4549-ba9e-3db25da77eba',\n",
       "            callback=None,\n",
       "            data={'x': ['89', '178', '267', '356'],\n",
       "             'y': [0.9288297668, 0.8845175132, 0.855667159, 0.8100281656]},\n",
       "            js_event_callbacks={},\n",
       "            js_property_callbacks={},\n",
       "            name=None,\n",
       "            selected=bokeh.models.selections.Selection(\n",
       "                id='6c8824dc-2154-4b97-b561-f155e2bf8a28',\n",
       "                indices=[],\n",
       "                js_event_callbacks={},\n",
       "                js_property_callbacks={},\n",
       "                line_indices=[],\n",
       "                multiline_indices={},\n",
       "                name=None,\n",
       "                subscribed_events=[],\n",
       "                tags=[]),\n",
       "            selection_policy=bokeh.models.selections.UnionRenderers(\n",
       "                id='d230f710-58d6-4cf1-b109-e5146361bf6f',\n",
       "                js_event_callbacks={},\n",
       "                js_property_callbacks={},\n",
       "                name=None,\n",
       "                subscribed_events=[],\n",
       "                tags=[]),\n",
       "            subscribed_events=[],\n",
       "            tags=[]),\n",
       "        subscribed_events=[],\n",
       "        tags=[]),\n",
       "    visible=True,\n",
       "    x_range_name='default',\n",
       "    y_range_name='default')"
      ]
     },
     "execution_count": 68,
     "metadata": {},
     "output_type": "execute_result"
    },
    {
     "name": "stdout",
     "output_type": "stream",
     "text": [
      "time: 20.9 ms\n"
     ]
    }
   ],
   "source": [
    "pp.circle(x=list(validation[0].keys()), y=list(validation[0].values()), color=\"navy\")"
   ]
  },
  {
   "cell_type": "code",
   "execution_count": 130,
   "metadata": {},
   "outputs": [
    {
     "name": "stdout",
     "output_type": "stream",
     "text": [
      "time: 1.67 ms\n"
     ]
    }
   ],
   "source": [
    "from bokeh.palettes import d3"
   ]
  },
  {
   "cell_type": "code",
   "execution_count": 167,
   "metadata": {},
   "outputs": [
    {
     "name": "stdout",
     "output_type": "stream",
     "text": [
      "time: 6.03 ms\n"
     ]
    }
   ],
   "source": [
    "selected_source_points = ColumnDataSource(data=dict(progression=pipeline_dict['Progression']))"
   ]
  },
  {
   "cell_type": "code",
   "execution_count": 171,
   "metadata": {},
   "outputs": [
    {
     "name": "stdout",
     "output_type": "stream",
     "text": [
      "time: 73.4 ms\n"
     ]
    }
   ],
   "source": [
    "validation = []\n",
    "for progression in selected_source_points.data['progression']:\n",
    "    validation.append(json.loads(progression)['validation'])"
   ]
  },
  {
   "cell_type": "code",
   "execution_count": 161,
   "metadata": {},
   "outputs": [
    {
     "name": "stdout",
     "output_type": "stream",
     "text": [
      "time: 3.91 ms\n"
     ]
    }
   ],
   "source": [
    "for partial_accuracy in validation:\n",
    "    selected_source_points.data['x'].append(list(partial_accuracy.keys()))\n",
    "    selected_source_points.data['y'].append(list(partial_accuracy.values()))"
   ]
  },
  {
   "cell_type": "code",
   "execution_count": 298,
   "metadata": {},
   "outputs": [
    {
     "name": "stdout",
     "output_type": "stream",
     "text": [
      "time: 12.7 ms\n"
     ]
    }
   ],
   "source": [
    "ppp = figure(tools=\"pan,wheel_zoom,reset\", )#x_range=list(validation[0].keys()))"
   ]
  },
  {
   "cell_type": "code",
   "execution_count": 199,
   "metadata": {},
   "outputs": [
    {
     "name": "stdout",
     "output_type": "stream",
     "text": [
      "time: 2.37 ms\n"
     ]
    }
   ],
   "source": [
    "colors = list(d3['Category20'].values())[-1]"
   ]
  },
  {
   "cell_type": "code",
   "execution_count": 180,
   "metadata": {},
   "outputs": [
    {
     "name": "stdout",
     "output_type": "stream",
     "text": [
      "time: 85.6 ms\n"
     ]
    }
   ],
   "source": [
    "for idx,partial_accuracy in enumerate(validation[0:20]):\n",
    "    ppp.scatter(x=list(partial_accuracy.keys()), y=list(partial_accuracy.values()), color=colors[idx])\n",
    "    ppp.line(x=list(partial_accuracy.keys()), y=list(partial_accuracy.values()), color=colors[idx])"
   ]
  },
  {
   "cell_type": "code",
   "execution_count": 219,
   "metadata": {},
   "outputs": [
    {
     "data": {
      "text/plain": [
       "'{\"train\":{\"89\":0.7644172907,\"178\":0.7570639104,\"267\":0.740121305,\"356\":0.7244809866},\"validation\":{\"89\":0.9288297668,\"178\":0.8845175132,\"267\":0.855667159,\"356\":0.8100281656},\"amp\":{\"89\":null,\"178\":null,\"267\":1.296193301,\"356\":1.4103569212},\"power\":{\"89\":null,\"178\":null,\"267\":0.0741072202,\"356\":0.0917103978},\"err\":{\"89\":null,\"178\":null,\"267\":0.0029015143,\"356\":0.0147392164},\"best\":{\"89\":0.1743738055,\"178\":0.1743738055,\"267\":0.1743738055,\"356\":0.1743738055},\"train_pruned\":{\"89\":true,\"178\":true,\"267\":true,\"356\":true},\"bound_pruned\":{\"89\":false,\"178\":false,\"267\":false,\"356\":true},\"y_hat\":{\"89\":0.7644172907,\"178\":0.7570639104,\"267\":0.7529222037,\"356\":0.6187885645}}'"
      ]
     },
     "execution_count": 219,
     "metadata": {},
     "output_type": "execute_result"
    },
    {
     "name": "stdout",
     "output_type": "stream",
     "text": [
      "time: 4.23 ms\n"
     ]
    }
   ],
   "source": [
    "list(selected_source_points.data.values())[0][0]"
   ]
  },
  {
   "cell_type": "code",
   "execution_count": 306,
   "metadata": {},
   "outputs": [
    {
     "ename": "TypeError",
     "evalue": "stream() missing 1 required positional argument: 'new_data'",
     "output_type": "error",
     "traceback": [
      "\u001b[0;31m---------------------------------------------------------------------------\u001b[0m",
      "\u001b[0;31mTypeError\u001b[0m                                 Traceback (most recent call last)",
      "\u001b[0;32m<ipython-input-306-647c2bb6ee5b>\u001b[0m in \u001b[0;36m<module>\u001b[0;34m()\u001b[0m\n\u001b[0;32m----> 1\u001b[0;31m \u001b[0msource\u001b[0m\u001b[0;34m.\u001b[0m\u001b[0mstream\u001b[0m\u001b[0;34m(\u001b[0m\u001b[0;34m)\u001b[0m\u001b[0;34m\u001b[0m\u001b[0m\n\u001b[0m",
      "\u001b[0;31mTypeError\u001b[0m: stream() missing 1 required positional argument: 'new_data'"
     ]
    },
    {
     "name": "stdout",
     "output_type": "stream",
     "text": [
      "time: 24.5 ms\n"
     ]
    }
   ],
   "source": [
    "source.stream()"
   ]
  },
  {
   "cell_type": "code",
   "execution_count": 322,
   "metadata": {},
   "outputs": [
    {
     "name": "stdout",
     "output_type": "stream",
     "text": [
      "time: 16 ms\n"
     ]
    }
   ],
   "source": [
    "from bokeh.palettes import Viridis256, Plasma256"
   ]
  },
  {
   "cell_type": "code",
   "execution_count": 328,
   "metadata": {},
   "outputs": [
    {
     "data": {
      "text/plain": [
       "['#440154',\n",
       " '#440255',\n",
       " '#440357',\n",
       " '#450558',\n",
       " '#45065A',\n",
       " '#45085B',\n",
       " '#46095C',\n",
       " '#460B5E',\n",
       " '#460C5F',\n",
       " '#460E61',\n",
       " '#470F62',\n",
       " '#471163',\n",
       " '#471265',\n",
       " '#471466',\n",
       " '#471567',\n",
       " '#471669',\n",
       " '#47186A',\n",
       " '#48196B',\n",
       " '#481A6C',\n",
       " '#481C6E',\n",
       " '#481D6F',\n",
       " '#481E70',\n",
       " '#482071',\n",
       " '#482172',\n",
       " '#482273',\n",
       " '#482374',\n",
       " '#472575',\n",
       " '#472676',\n",
       " '#472777',\n",
       " '#472878',\n",
       " '#472A79',\n",
       " '#472B7A',\n",
       " '#472C7B',\n",
       " '#462D7C',\n",
       " '#462F7C',\n",
       " '#46307D',\n",
       " '#46317E',\n",
       " '#45327F',\n",
       " '#45347F',\n",
       " '#453580',\n",
       " '#453681',\n",
       " '#443781',\n",
       " '#443982',\n",
       " '#433A83',\n",
       " '#433B83',\n",
       " '#433C84',\n",
       " '#423D84',\n",
       " '#423E85',\n",
       " '#424085',\n",
       " '#414186',\n",
       " '#414286',\n",
       " '#404387',\n",
       " '#404487',\n",
       " '#3F4587',\n",
       " '#3F4788',\n",
       " '#3E4888',\n",
       " '#3E4989',\n",
       " '#3D4A89',\n",
       " '#3D4B89',\n",
       " '#3D4C89',\n",
       " '#3C4D8A',\n",
       " '#3C4E8A',\n",
       " '#3B508A',\n",
       " '#3B518A',\n",
       " '#3A528B',\n",
       " '#3A538B',\n",
       " '#39548B',\n",
       " '#39558B',\n",
       " '#38568B',\n",
       " '#38578C',\n",
       " '#37588C',\n",
       " '#37598C',\n",
       " '#365A8C',\n",
       " '#365B8C',\n",
       " '#355C8C',\n",
       " '#355D8C',\n",
       " '#345E8D',\n",
       " '#345F8D',\n",
       " '#33608D',\n",
       " '#33618D',\n",
       " '#32628D',\n",
       " '#32638D',\n",
       " '#31648D',\n",
       " '#31658D',\n",
       " '#31668D',\n",
       " '#30678D',\n",
       " '#30688D',\n",
       " '#2F698D',\n",
       " '#2F6A8D',\n",
       " '#2E6B8E',\n",
       " '#2E6C8E',\n",
       " '#2E6D8E',\n",
       " '#2D6E8E',\n",
       " '#2D6F8E',\n",
       " '#2C708E',\n",
       " '#2C718E',\n",
       " '#2C728E',\n",
       " '#2B738E',\n",
       " '#2B748E',\n",
       " '#2A758E',\n",
       " '#2A768E',\n",
       " '#2A778E',\n",
       " '#29788E',\n",
       " '#29798E',\n",
       " '#287A8E',\n",
       " '#287A8E',\n",
       " '#287B8E',\n",
       " '#277C8E',\n",
       " '#277D8E',\n",
       " '#277E8E',\n",
       " '#267F8E',\n",
       " '#26808E',\n",
       " '#26818E',\n",
       " '#25828E',\n",
       " '#25838D',\n",
       " '#24848D',\n",
       " '#24858D',\n",
       " '#24868D',\n",
       " '#23878D',\n",
       " '#23888D',\n",
       " '#23898D',\n",
       " '#22898D',\n",
       " '#228A8D',\n",
       " '#228B8D',\n",
       " '#218C8D',\n",
       " '#218D8C',\n",
       " '#218E8C',\n",
       " '#208F8C',\n",
       " '#20908C',\n",
       " '#20918C',\n",
       " '#1F928C',\n",
       " '#1F938B',\n",
       " '#1F948B',\n",
       " '#1F958B',\n",
       " '#1F968B',\n",
       " '#1E978A',\n",
       " '#1E988A',\n",
       " '#1E998A',\n",
       " '#1E998A',\n",
       " '#1E9A89',\n",
       " '#1E9B89',\n",
       " '#1E9C89',\n",
       " '#1E9D88',\n",
       " '#1E9E88',\n",
       " '#1E9F88',\n",
       " '#1EA087',\n",
       " '#1FA187',\n",
       " '#1FA286',\n",
       " '#1FA386',\n",
       " '#20A485',\n",
       " '#20A585',\n",
       " '#21A685',\n",
       " '#21A784',\n",
       " '#22A784',\n",
       " '#23A883',\n",
       " '#23A982',\n",
       " '#24AA82',\n",
       " '#25AB81',\n",
       " '#26AC81',\n",
       " '#27AD80',\n",
       " '#28AE7F',\n",
       " '#29AF7F',\n",
       " '#2AB07E',\n",
       " '#2BB17D',\n",
       " '#2CB17D',\n",
       " '#2EB27C',\n",
       " '#2FB37B',\n",
       " '#30B47A',\n",
       " '#32B57A',\n",
       " '#33B679',\n",
       " '#35B778',\n",
       " '#36B877',\n",
       " '#38B976',\n",
       " '#39B976',\n",
       " '#3BBA75',\n",
       " '#3DBB74',\n",
       " '#3EBC73',\n",
       " '#40BD72',\n",
       " '#42BE71',\n",
       " '#44BE70',\n",
       " '#45BF6F',\n",
       " '#47C06E',\n",
       " '#49C16D',\n",
       " '#4BC26C',\n",
       " '#4DC26B',\n",
       " '#4FC369',\n",
       " '#51C468',\n",
       " '#53C567',\n",
       " '#55C666',\n",
       " '#57C665',\n",
       " '#59C764',\n",
       " '#5BC862',\n",
       " '#5EC961',\n",
       " '#60C960',\n",
       " '#62CA5F',\n",
       " '#64CB5D',\n",
       " '#67CC5C',\n",
       " '#69CC5B',\n",
       " '#6BCD59',\n",
       " '#6DCE58',\n",
       " '#70CE56',\n",
       " '#72CF55',\n",
       " '#74D054',\n",
       " '#77D052',\n",
       " '#79D151',\n",
       " '#7CD24F',\n",
       " '#7ED24E',\n",
       " '#81D34C',\n",
       " '#83D34B',\n",
       " '#86D449',\n",
       " '#88D547',\n",
       " '#8BD546',\n",
       " '#8DD644',\n",
       " '#90D643',\n",
       " '#92D741',\n",
       " '#95D73F',\n",
       " '#97D83E',\n",
       " '#9AD83C',\n",
       " '#9DD93A',\n",
       " '#9FD938',\n",
       " '#A2DA37',\n",
       " '#A5DA35',\n",
       " '#A7DB33',\n",
       " '#AADB32',\n",
       " '#ADDC30',\n",
       " '#AFDC2E',\n",
       " '#B2DD2C',\n",
       " '#B5DD2B',\n",
       " '#B7DD29',\n",
       " '#BADE27',\n",
       " '#BDDE26',\n",
       " '#BFDF24',\n",
       " '#C2DF22',\n",
       " '#C5DF21',\n",
       " '#C7E01F',\n",
       " '#CAE01E',\n",
       " '#CDE01D',\n",
       " '#CFE11C',\n",
       " '#D2E11B',\n",
       " '#D4E11A',\n",
       " '#D7E219',\n",
       " '#DAE218',\n",
       " '#DCE218',\n",
       " '#DFE318',\n",
       " '#E1E318',\n",
       " '#E4E318',\n",
       " '#E7E419',\n",
       " '#E9E419',\n",
       " '#ECE41A',\n",
       " '#EEE51B',\n",
       " '#F1E51C',\n",
       " '#F3E51E',\n",
       " '#F6E61F',\n",
       " '#F8E621',\n",
       " '#FAE622',\n",
       " '#FDE724',\n",
       " '#0C0786',\n",
       " '#100787',\n",
       " '#130689',\n",
       " '#15068A',\n",
       " '#18068B',\n",
       " '#1B068C',\n",
       " '#1D068D',\n",
       " '#1F058E',\n",
       " '#21058F',\n",
       " '#230590',\n",
       " '#250591',\n",
       " '#270592',\n",
       " '#290593',\n",
       " '#2B0594',\n",
       " '#2D0494',\n",
       " '#2F0495',\n",
       " '#310496',\n",
       " '#330497',\n",
       " '#340498',\n",
       " '#360498',\n",
       " '#380499',\n",
       " '#3A049A',\n",
       " '#3B039A',\n",
       " '#3D039B',\n",
       " '#3F039C',\n",
       " '#40039C',\n",
       " '#42039D',\n",
       " '#44039E',\n",
       " '#45039E',\n",
       " '#47029F',\n",
       " '#49029F',\n",
       " '#4A02A0',\n",
       " '#4C02A1',\n",
       " '#4E02A1',\n",
       " '#4F02A2',\n",
       " '#5101A2',\n",
       " '#5201A3',\n",
       " '#5401A3',\n",
       " '#5601A3',\n",
       " '#5701A4',\n",
       " '#5901A4',\n",
       " '#5A00A5',\n",
       " '#5C00A5',\n",
       " '#5E00A5',\n",
       " '#5F00A6',\n",
       " '#6100A6',\n",
       " '#6200A6',\n",
       " '#6400A7',\n",
       " '#6500A7',\n",
       " '#6700A7',\n",
       " '#6800A7',\n",
       " '#6A00A7',\n",
       " '#6C00A8',\n",
       " '#6D00A8',\n",
       " '#6F00A8',\n",
       " '#7000A8',\n",
       " '#7200A8',\n",
       " '#7300A8',\n",
       " '#7500A8',\n",
       " '#7601A8',\n",
       " '#7801A8',\n",
       " '#7901A8',\n",
       " '#7B02A8',\n",
       " '#7C02A7',\n",
       " '#7E03A7',\n",
       " '#7F03A7',\n",
       " '#8104A7',\n",
       " '#8204A7',\n",
       " '#8405A6',\n",
       " '#8506A6',\n",
       " '#8607A6',\n",
       " '#8807A5',\n",
       " '#8908A5',\n",
       " '#8B09A4',\n",
       " '#8C0AA4',\n",
       " '#8E0CA4',\n",
       " '#8F0DA3',\n",
       " '#900EA3',\n",
       " '#920FA2',\n",
       " '#9310A1',\n",
       " '#9511A1',\n",
       " '#9612A0',\n",
       " '#9713A0',\n",
       " '#99149F',\n",
       " '#9A159E',\n",
       " '#9B179E',\n",
       " '#9D189D',\n",
       " '#9E199C',\n",
       " '#9F1A9B',\n",
       " '#A01B9B',\n",
       " '#A21C9A',\n",
       " '#A31D99',\n",
       " '#A41E98',\n",
       " '#A51F97',\n",
       " '#A72197',\n",
       " '#A82296',\n",
       " '#A92395',\n",
       " '#AA2494',\n",
       " '#AC2593',\n",
       " '#AD2692',\n",
       " '#AE2791',\n",
       " '#AF2890',\n",
       " '#B02A8F',\n",
       " '#B12B8F',\n",
       " '#B22C8E',\n",
       " '#B42D8D',\n",
       " '#B52E8C',\n",
       " '#B62F8B',\n",
       " '#B7308A',\n",
       " '#B83289',\n",
       " '#B93388',\n",
       " '#BA3487',\n",
       " '#BB3586',\n",
       " '#BC3685',\n",
       " '#BD3784',\n",
       " '#BE3883',\n",
       " '#BF3982',\n",
       " '#C03B81',\n",
       " '#C13C80',\n",
       " '#C23D80',\n",
       " '#C33E7F',\n",
       " '#C43F7E',\n",
       " '#C5407D',\n",
       " '#C6417C',\n",
       " '#C7427B',\n",
       " '#C8447A',\n",
       " '#C94579',\n",
       " '#CA4678',\n",
       " '#CB4777',\n",
       " '#CC4876',\n",
       " '#CD4975',\n",
       " '#CE4A75',\n",
       " '#CF4B74',\n",
       " '#D04D73',\n",
       " '#D14E72',\n",
       " '#D14F71',\n",
       " '#D25070',\n",
       " '#D3516F',\n",
       " '#D4526E',\n",
       " '#D5536D',\n",
       " '#D6556D',\n",
       " '#D7566C',\n",
       " '#D7576B',\n",
       " '#D8586A',\n",
       " '#D95969',\n",
       " '#DA5A68',\n",
       " '#DB5B67',\n",
       " '#DC5D66',\n",
       " '#DC5E66',\n",
       " '#DD5F65',\n",
       " '#DE6064',\n",
       " '#DF6163',\n",
       " '#DF6262',\n",
       " '#E06461',\n",
       " '#E16560',\n",
       " '#E26660',\n",
       " '#E3675F',\n",
       " '#E3685E',\n",
       " '#E46A5D',\n",
       " '#E56B5C',\n",
       " '#E56C5B',\n",
       " '#E66D5A',\n",
       " '#E76E5A',\n",
       " '#E87059',\n",
       " '#E87158',\n",
       " '#E97257',\n",
       " '#EA7356',\n",
       " '#EA7455',\n",
       " '#EB7654',\n",
       " '#EC7754',\n",
       " '#EC7853',\n",
       " '#ED7952',\n",
       " '#ED7B51',\n",
       " '#EE7C50',\n",
       " '#EF7D4F',\n",
       " '#EF7E4E',\n",
       " '#F0804D',\n",
       " '#F0814D',\n",
       " '#F1824C',\n",
       " '#F2844B',\n",
       " '#F2854A',\n",
       " '#F38649',\n",
       " '#F38748',\n",
       " '#F48947',\n",
       " '#F48A47',\n",
       " '#F58B46',\n",
       " '#F58D45',\n",
       " '#F68E44',\n",
       " '#F68F43',\n",
       " '#F69142',\n",
       " '#F79241',\n",
       " '#F79341',\n",
       " '#F89540',\n",
       " '#F8963F',\n",
       " '#F8983E',\n",
       " '#F9993D',\n",
       " '#F99A3C',\n",
       " '#FA9C3B',\n",
       " '#FA9D3A',\n",
       " '#FA9F3A',\n",
       " '#FAA039',\n",
       " '#FBA238',\n",
       " '#FBA337',\n",
       " '#FBA436',\n",
       " '#FCA635',\n",
       " '#FCA735',\n",
       " '#FCA934',\n",
       " '#FCAA33',\n",
       " '#FCAC32',\n",
       " '#FCAD31',\n",
       " '#FDAF31',\n",
       " '#FDB030',\n",
       " '#FDB22F',\n",
       " '#FDB32E',\n",
       " '#FDB52D',\n",
       " '#FDB62D',\n",
       " '#FDB82C',\n",
       " '#FDB92B',\n",
       " '#FDBB2B',\n",
       " '#FDBC2A',\n",
       " '#FDBE29',\n",
       " '#FDC029',\n",
       " '#FDC128',\n",
       " '#FDC328',\n",
       " '#FDC427',\n",
       " '#FDC626',\n",
       " '#FCC726',\n",
       " '#FCC926',\n",
       " '#FCCB25',\n",
       " '#FCCC25',\n",
       " '#FCCE25',\n",
       " '#FBD024',\n",
       " '#FBD124',\n",
       " '#FBD324',\n",
       " '#FAD524',\n",
       " '#FAD624',\n",
       " '#FAD824',\n",
       " '#F9D924',\n",
       " '#F9DB24',\n",
       " '#F8DD24',\n",
       " '#F8DF24',\n",
       " '#F7E024',\n",
       " '#F7E225',\n",
       " '#F6E425',\n",
       " '#F6E525',\n",
       " '#F5E726',\n",
       " '#F5E926',\n",
       " '#F4EA26',\n",
       " '#F3EC26',\n",
       " '#F3EE26',\n",
       " '#F2F026',\n",
       " '#F2F126',\n",
       " '#F1F326',\n",
       " '#F0F525',\n",
       " '#F0F623',\n",
       " '#EFF821',\n",
       " '#440154',\n",
       " '#440255',\n",
       " '#440357',\n",
       " '#450558',\n",
       " '#45065A',\n",
       " '#45085B',\n",
       " '#46095C',\n",
       " '#460B5E',\n",
       " '#460C5F',\n",
       " '#460E61',\n",
       " '#470F62',\n",
       " '#471163',\n",
       " '#471265',\n",
       " '#471466',\n",
       " '#471567',\n",
       " '#471669',\n",
       " '#47186A',\n",
       " '#48196B',\n",
       " '#481A6C',\n",
       " '#481C6E',\n",
       " '#481D6F',\n",
       " '#481E70',\n",
       " '#482071',\n",
       " '#482172',\n",
       " '#482273',\n",
       " '#482374',\n",
       " '#472575',\n",
       " '#472676',\n",
       " '#472777',\n",
       " '#472878',\n",
       " '#472A79',\n",
       " '#472B7A',\n",
       " '#472C7B',\n",
       " '#462D7C',\n",
       " '#462F7C',\n",
       " '#46307D',\n",
       " '#46317E',\n",
       " '#45327F',\n",
       " '#45347F',\n",
       " '#453580',\n",
       " '#453681',\n",
       " '#443781',\n",
       " '#443982',\n",
       " '#433A83',\n",
       " '#433B83',\n",
       " '#433C84',\n",
       " '#423D84',\n",
       " '#423E85',\n",
       " '#424085',\n",
       " '#414186',\n",
       " '#414286',\n",
       " '#404387',\n",
       " '#404487',\n",
       " '#3F4587',\n",
       " '#3F4788',\n",
       " '#3E4888',\n",
       " '#3E4989',\n",
       " '#3D4A89',\n",
       " '#3D4B89',\n",
       " '#3D4C89',\n",
       " '#3C4D8A',\n",
       " '#3C4E8A',\n",
       " '#3B508A',\n",
       " '#3B518A',\n",
       " '#3A528B',\n",
       " '#3A538B',\n",
       " '#39548B',\n",
       " '#39558B',\n",
       " '#38568B',\n",
       " '#38578C',\n",
       " '#37588C',\n",
       " '#37598C',\n",
       " '#365A8C',\n",
       " '#365B8C',\n",
       " '#355C8C',\n",
       " '#355D8C',\n",
       " '#345E8D',\n",
       " '#345F8D',\n",
       " '#33608D',\n",
       " '#33618D',\n",
       " '#32628D',\n",
       " '#32638D',\n",
       " '#31648D',\n",
       " '#31658D',\n",
       " '#31668D',\n",
       " '#30678D',\n",
       " '#30688D',\n",
       " '#2F698D',\n",
       " '#2F6A8D',\n",
       " '#2E6B8E',\n",
       " '#2E6C8E',\n",
       " '#2E6D8E',\n",
       " '#2D6E8E',\n",
       " '#2D6F8E',\n",
       " '#2C708E',\n",
       " '#2C718E',\n",
       " '#2C728E',\n",
       " '#2B738E',\n",
       " '#2B748E',\n",
       " '#2A758E',\n",
       " '#2A768E',\n",
       " '#2A778E',\n",
       " '#29788E',\n",
       " '#29798E',\n",
       " '#287A8E',\n",
       " '#287A8E',\n",
       " '#287B8E',\n",
       " '#277C8E',\n",
       " '#277D8E',\n",
       " '#277E8E',\n",
       " '#267F8E',\n",
       " '#26808E',\n",
       " '#26818E',\n",
       " '#25828E',\n",
       " '#25838D',\n",
       " '#24848D',\n",
       " '#24858D',\n",
       " '#24868D',\n",
       " '#23878D',\n",
       " '#23888D',\n",
       " '#23898D',\n",
       " '#22898D',\n",
       " '#228A8D',\n",
       " '#228B8D',\n",
       " '#218C8D',\n",
       " '#218D8C',\n",
       " '#218E8C',\n",
       " '#208F8C',\n",
       " '#20908C',\n",
       " '#20918C',\n",
       " '#1F928C',\n",
       " '#1F938B',\n",
       " '#1F948B',\n",
       " '#1F958B',\n",
       " '#1F968B',\n",
       " '#1E978A',\n",
       " '#1E988A',\n",
       " '#1E998A',\n",
       " '#1E998A',\n",
       " '#1E9A89',\n",
       " '#1E9B89',\n",
       " '#1E9C89',\n",
       " '#1E9D88',\n",
       " '#1E9E88',\n",
       " '#1E9F88',\n",
       " '#1EA087',\n",
       " '#1FA187',\n",
       " '#1FA286',\n",
       " '#1FA386',\n",
       " '#20A485',\n",
       " '#20A585',\n",
       " '#21A685',\n",
       " '#21A784',\n",
       " '#22A784',\n",
       " '#23A883',\n",
       " '#23A982',\n",
       " '#24AA82',\n",
       " '#25AB81',\n",
       " '#26AC81',\n",
       " '#27AD80',\n",
       " '#28AE7F',\n",
       " '#29AF7F',\n",
       " '#2AB07E',\n",
       " '#2BB17D',\n",
       " '#2CB17D',\n",
       " '#2EB27C',\n",
       " '#2FB37B',\n",
       " '#30B47A',\n",
       " '#32B57A',\n",
       " '#33B679',\n",
       " '#35B778',\n",
       " '#36B877',\n",
       " '#38B976',\n",
       " '#39B976',\n",
       " '#3BBA75',\n",
       " '#3DBB74',\n",
       " '#3EBC73',\n",
       " '#40BD72',\n",
       " '#42BE71',\n",
       " '#44BE70',\n",
       " '#45BF6F',\n",
       " '#47C06E',\n",
       " '#49C16D',\n",
       " '#4BC26C',\n",
       " '#4DC26B',\n",
       " '#4FC369',\n",
       " '#51C468',\n",
       " '#53C567',\n",
       " '#55C666',\n",
       " '#57C665',\n",
       " '#59C764',\n",
       " '#5BC862',\n",
       " '#5EC961',\n",
       " '#60C960',\n",
       " '#62CA5F',\n",
       " '#64CB5D',\n",
       " '#67CC5C',\n",
       " '#69CC5B',\n",
       " '#6BCD59',\n",
       " '#6DCE58',\n",
       " '#70CE56',\n",
       " '#72CF55',\n",
       " '#74D054',\n",
       " '#77D052',\n",
       " '#79D151',\n",
       " '#7CD24F',\n",
       " '#7ED24E',\n",
       " '#81D34C',\n",
       " '#83D34B',\n",
       " '#86D449',\n",
       " '#88D547',\n",
       " '#8BD546',\n",
       " '#8DD644',\n",
       " '#90D643',\n",
       " '#92D741',\n",
       " '#95D73F',\n",
       " '#97D83E',\n",
       " '#9AD83C',\n",
       " '#9DD93A',\n",
       " '#9FD938',\n",
       " '#A2DA37',\n",
       " '#A5DA35',\n",
       " '#A7DB33',\n",
       " '#AADB32',\n",
       " '#ADDC30',\n",
       " '#AFDC2E',\n",
       " '#B2DD2C',\n",
       " '#B5DD2B',\n",
       " '#B7DD29',\n",
       " '#BADE27',\n",
       " '#BDDE26',\n",
       " '#BFDF24',\n",
       " '#C2DF22',\n",
       " '#C5DF21',\n",
       " '#C7E01F',\n",
       " '#CAE01E',\n",
       " '#CDE01D',\n",
       " '#CFE11C',\n",
       " '#D2E11B',\n",
       " '#D4E11A',\n",
       " '#D7E219',\n",
       " '#DAE218',\n",
       " '#DCE218',\n",
       " '#DFE318',\n",
       " '#E1E318',\n",
       " '#E4E318',\n",
       " '#E7E419',\n",
       " '#E9E419',\n",
       " '#ECE41A',\n",
       " '#EEE51B',\n",
       " '#F1E51C',\n",
       " '#F3E51E',\n",
       " '#F6E61F',\n",
       " '#F8E621',\n",
       " '#FAE622',\n",
       " '#FDE724',\n",
       " '#0C0786',\n",
       " '#100787',\n",
       " '#130689',\n",
       " '#15068A',\n",
       " '#18068B',\n",
       " '#1B068C',\n",
       " '#1D068D',\n",
       " '#1F058E',\n",
       " '#21058F',\n",
       " '#230590',\n",
       " '#250591',\n",
       " '#270592',\n",
       " '#290593',\n",
       " '#2B0594',\n",
       " '#2D0494',\n",
       " '#2F0495',\n",
       " '#310496',\n",
       " '#330497',\n",
       " '#340498',\n",
       " '#360498',\n",
       " '#380499',\n",
       " '#3A049A',\n",
       " '#3B039A',\n",
       " '#3D039B',\n",
       " '#3F039C',\n",
       " '#40039C',\n",
       " '#42039D',\n",
       " '#44039E',\n",
       " '#45039E',\n",
       " '#47029F',\n",
       " '#49029F',\n",
       " '#4A02A0',\n",
       " '#4C02A1',\n",
       " '#4E02A1',\n",
       " '#4F02A2',\n",
       " '#5101A2',\n",
       " '#5201A3',\n",
       " '#5401A3',\n",
       " '#5601A3',\n",
       " '#5701A4',\n",
       " '#5901A4',\n",
       " '#5A00A5',\n",
       " '#5C00A5',\n",
       " '#5E00A5',\n",
       " '#5F00A6',\n",
       " '#6100A6',\n",
       " '#6200A6',\n",
       " '#6400A7',\n",
       " '#6500A7',\n",
       " '#6700A7',\n",
       " '#6800A7',\n",
       " '#6A00A7',\n",
       " '#6C00A8',\n",
       " '#6D00A8',\n",
       " '#6F00A8',\n",
       " '#7000A8',\n",
       " '#7200A8',\n",
       " '#7300A8',\n",
       " '#7500A8',\n",
       " '#7601A8',\n",
       " '#7801A8',\n",
       " '#7901A8',\n",
       " '#7B02A8',\n",
       " '#7C02A7',\n",
       " '#7E03A7',\n",
       " '#7F03A7',\n",
       " '#8104A7',\n",
       " '#8204A7',\n",
       " '#8405A6',\n",
       " '#8506A6',\n",
       " '#8607A6',\n",
       " '#8807A5',\n",
       " '#8908A5',\n",
       " '#8B09A4',\n",
       " '#8C0AA4',\n",
       " '#8E0CA4',\n",
       " '#8F0DA3',\n",
       " '#900EA3',\n",
       " '#920FA2',\n",
       " '#9310A1',\n",
       " '#9511A1',\n",
       " '#9612A0',\n",
       " '#9713A0',\n",
       " '#99149F',\n",
       " '#9A159E',\n",
       " '#9B179E',\n",
       " '#9D189D',\n",
       " '#9E199C',\n",
       " '#9F1A9B',\n",
       " '#A01B9B',\n",
       " '#A21C9A',\n",
       " '#A31D99',\n",
       " '#A41E98',\n",
       " '#A51F97',\n",
       " '#A72197',\n",
       " '#A82296',\n",
       " '#A92395',\n",
       " '#AA2494',\n",
       " '#AC2593',\n",
       " '#AD2692',\n",
       " '#AE2791',\n",
       " '#AF2890',\n",
       " '#B02A8F',\n",
       " '#B12B8F',\n",
       " '#B22C8E',\n",
       " '#B42D8D',\n",
       " '#B52E8C',\n",
       " '#B62F8B',\n",
       " '#B7308A',\n",
       " '#B83289',\n",
       " '#B93388',\n",
       " '#BA3487',\n",
       " '#BB3586',\n",
       " '#BC3685',\n",
       " '#BD3784',\n",
       " '#BE3883',\n",
       " '#BF3982',\n",
       " '#C03B81',\n",
       " '#C13C80',\n",
       " '#C23D80',\n",
       " '#C33E7F',\n",
       " '#C43F7E',\n",
       " '#C5407D',\n",
       " '#C6417C',\n",
       " '#C7427B',\n",
       " '#C8447A',\n",
       " '#C94579',\n",
       " '#CA4678',\n",
       " '#CB4777',\n",
       " '#CC4876',\n",
       " '#CD4975',\n",
       " '#CE4A75',\n",
       " '#CF4B74',\n",
       " '#D04D73',\n",
       " '#D14E72',\n",
       " '#D14F71',\n",
       " '#D25070',\n",
       " '#D3516F',\n",
       " '#D4526E',\n",
       " '#D5536D',\n",
       " '#D6556D',\n",
       " '#D7566C',\n",
       " '#D7576B',\n",
       " '#D8586A',\n",
       " '#D95969',\n",
       " '#DA5A68',\n",
       " '#DB5B67',\n",
       " '#DC5D66',\n",
       " '#DC5E66',\n",
       " '#DD5F65',\n",
       " '#DE6064',\n",
       " '#DF6163',\n",
       " '#DF6262',\n",
       " '#E06461',\n",
       " '#E16560',\n",
       " '#E26660',\n",
       " '#E3675F',\n",
       " '#E3685E',\n",
       " '#E46A5D',\n",
       " '#E56B5C',\n",
       " '#E56C5B',\n",
       " '#E66D5A',\n",
       " '#E76E5A',\n",
       " '#E87059',\n",
       " '#E87158',\n",
       " '#E97257',\n",
       " '#EA7356',\n",
       " '#EA7455',\n",
       " '#EB7654',\n",
       " '#EC7754',\n",
       " '#EC7853',\n",
       " '#ED7952',\n",
       " '#ED7B51',\n",
       " '#EE7C50',\n",
       " '#EF7D4F',\n",
       " '#EF7E4E',\n",
       " '#F0804D',\n",
       " '#F0814D',\n",
       " '#F1824C',\n",
       " '#F2844B',\n",
       " '#F2854A',\n",
       " '#F38649',\n",
       " '#F38748',\n",
       " '#F48947',\n",
       " '#F48A47',\n",
       " '#F58B46',\n",
       " '#F58D45',\n",
       " '#F68E44',\n",
       " '#F68F43',\n",
       " '#F69142',\n",
       " '#F79241',\n",
       " '#F79341',\n",
       " '#F89540',\n",
       " '#F8963F',\n",
       " '#F8983E',\n",
       " '#F9993D',\n",
       " '#F99A3C',\n",
       " '#FA9C3B',\n",
       " '#FA9D3A',\n",
       " '#FA9F3A',\n",
       " '#FAA039',\n",
       " '#FBA238',\n",
       " '#FBA337',\n",
       " '#FBA436',\n",
       " '#FCA635',\n",
       " '#FCA735',\n",
       " '#FCA934',\n",
       " '#FCAA33',\n",
       " '#FCAC32',\n",
       " '#FCAD31',\n",
       " '#FDAF31',\n",
       " '#FDB030',\n",
       " '#FDB22F',\n",
       " '#FDB32E',\n",
       " '#FDB52D',\n",
       " '#FDB62D',\n",
       " '#FDB82C',\n",
       " '#FDB92B',\n",
       " '#FDBB2B',\n",
       " '#FDBC2A',\n",
       " '#FDBE29',\n",
       " '#FDC029',\n",
       " '#FDC128',\n",
       " '#FDC328',\n",
       " '#FDC427',\n",
       " '#FDC626',\n",
       " '#FCC726',\n",
       " '#FCC926',\n",
       " '#FCCB25',\n",
       " '#FCCC25',\n",
       " '#FCCE25',\n",
       " '#FBD024',\n",
       " ...]"
      ]
     },
     "execution_count": 328,
     "metadata": {},
     "output_type": "execute_result"
    },
    {
     "name": "stdout",
     "output_type": "stream",
     "text": [
      "time: 42.4 ms\n"
     ]
    }
   ],
   "source": [
    "(Viridis256 + Plasma256) * 100"
   ]
  },
  {
   "cell_type": "code",
   "execution_count": 319,
   "metadata": {},
   "outputs": [
    {
     "ename": "ValueError",
     "evalue": "expected an element of either String, Dict(Enum('expr', 'field', 'value', 'transform'), Either(String, Instance(Transform), Instance(Expression), Color)) or Color, got 2",
     "output_type": "error",
     "traceback": [
      "\u001b[0;31m---------------------------------------------------------------------------\u001b[0m",
      "\u001b[0;31mValueError\u001b[0m                                Traceback (most recent call last)",
      "\u001b[0;32m<ipython-input-319-4a69b9f53b08>\u001b[0m in \u001b[0;36m<module>\u001b[0;34m()\u001b[0m\n\u001b[1;32m      1\u001b[0m \u001b[0mppp\u001b[0m \u001b[0;34m=\u001b[0m \u001b[0mfigure\u001b[0m\u001b[0;34m(\u001b[0m\u001b[0mtools\u001b[0m\u001b[0;34m=\u001b[0m\u001b[0;34m\"pan,wheel_zoom,reset\"\u001b[0m\u001b[0;34m,\u001b[0m \u001b[0;34m)\u001b[0m\u001b[0;31m#x_range=list(validation[0].keys()))\u001b[0m\u001b[0;34m\u001b[0m\u001b[0m\n\u001b[0;32m----> 2\u001b[0;31m \u001b[0mppp\u001b[0m\u001b[0;34m.\u001b[0m\u001b[0mmulti_line\u001b[0m\u001b[0;34m(\u001b[0m\u001b[0mxs\u001b[0m\u001b[0;34m=\u001b[0m\u001b[0;34m[\u001b[0m\u001b[0;34m[\u001b[0m\u001b[0;36m1\u001b[0m\u001b[0;34m,\u001b[0m\u001b[0;36m2\u001b[0m\u001b[0;34m,\u001b[0m\u001b[0;36m3\u001b[0m\u001b[0;34m]\u001b[0m\u001b[0;34m,\u001b[0m\u001b[0;34m[\u001b[0m\u001b[0;36m4\u001b[0m\u001b[0;34m,\u001b[0m\u001b[0;36m6\u001b[0m\u001b[0;34m,\u001b[0m\u001b[0;36m6\u001b[0m\u001b[0;34m]\u001b[0m\u001b[0;34m]\u001b[0m\u001b[0;34m,\u001b[0m\u001b[0mys\u001b[0m\u001b[0;34m=\u001b[0m\u001b[0;34m[\u001b[0m\u001b[0;34m[\u001b[0m\u001b[0;36m1\u001b[0m\u001b[0;34m,\u001b[0m\u001b[0;36m2\u001b[0m\u001b[0;34m,\u001b[0m\u001b[0;36m3\u001b[0m\u001b[0;34m]\u001b[0m\u001b[0;34m,\u001b[0m\u001b[0;34m[\u001b[0m\u001b[0;36m4\u001b[0m\u001b[0;34m,\u001b[0m\u001b[0;36m4\u001b[0m\u001b[0;34m,\u001b[0m\u001b[0;36m6\u001b[0m\u001b[0;34m]\u001b[0m\u001b[0;34m]\u001b[0m\u001b[0;34m,\u001b[0m \u001b[0mcolor\u001b[0m\u001b[0;34m=\u001b[0m\u001b[0mcol\u001b[0m\u001b[0;34m)\u001b[0m\u001b[0;34m\u001b[0m\u001b[0m\n\u001b[0m\u001b[1;32m      3\u001b[0m \u001b[0mshow\u001b[0m\u001b[0;34m(\u001b[0m\u001b[0mppp\u001b[0m\u001b[0;34m)\u001b[0m\u001b[0;34m\u001b[0m\u001b[0m\n",
      "\u001b[0;32mfakesource\u001b[0m in \u001b[0;36mmultiline\u001b[0;34m(self, xs, ys, **kwargs)\u001b[0m\n",
      "\u001b[0;32m/Users/JasonKatz/anaconda/lib/python3.6/site-packages/bokeh/plotting/helpers.py\u001b[0m in \u001b[0;36mfunc\u001b[0;34m(self, **kwargs)\u001b[0m\n\u001b[1;32m    763\u001b[0m             \u001b[0mmglyph_ca\u001b[0m \u001b[0;34m=\u001b[0m \u001b[0;32mNone\u001b[0m\u001b[0;34m\u001b[0m\u001b[0m\n\u001b[1;32m    764\u001b[0m \u001b[0;34m\u001b[0m\u001b[0m\n\u001b[0;32m--> 765\u001b[0;31m         \u001b[0mglyph\u001b[0m \u001b[0;34m=\u001b[0m \u001b[0m_make_glyph\u001b[0m\u001b[0;34m(\u001b[0m\u001b[0mglyphclass\u001b[0m\u001b[0;34m,\u001b[0m \u001b[0mkwargs\u001b[0m\u001b[0;34m,\u001b[0m \u001b[0mglyph_ca\u001b[0m\u001b[0;34m)\u001b[0m\u001b[0;34m\u001b[0m\u001b[0m\n\u001b[0m\u001b[1;32m    766\u001b[0m         \u001b[0mnsglyph\u001b[0m \u001b[0;34m=\u001b[0m \u001b[0m_make_glyph\u001b[0m\u001b[0;34m(\u001b[0m\u001b[0mglyphclass\u001b[0m\u001b[0;34m,\u001b[0m \u001b[0mkwargs\u001b[0m\u001b[0;34m,\u001b[0m \u001b[0mnsglyph_ca\u001b[0m\u001b[0;34m)\u001b[0m\u001b[0;34m\u001b[0m\u001b[0m\n\u001b[1;32m    767\u001b[0m         \u001b[0msglyph\u001b[0m \u001b[0;34m=\u001b[0m \u001b[0m_make_glyph\u001b[0m\u001b[0;34m(\u001b[0m\u001b[0mglyphclass\u001b[0m\u001b[0;34m,\u001b[0m \u001b[0mkwargs\u001b[0m\u001b[0;34m,\u001b[0m \u001b[0msglyph_ca\u001b[0m\u001b[0;34m)\u001b[0m\u001b[0;34m\u001b[0m\u001b[0m\n",
      "\u001b[0;32m/Users/JasonKatz/anaconda/lib/python3.6/site-packages/bokeh/plotting/helpers.py\u001b[0m in \u001b[0;36m_make_glyph\u001b[0;34m(glyphclass, kws, extra)\u001b[0m\n\u001b[1;32m    307\u001b[0m     \u001b[0mkws\u001b[0m \u001b[0;34m=\u001b[0m \u001b[0mkws\u001b[0m\u001b[0;34m.\u001b[0m\u001b[0mcopy\u001b[0m\u001b[0;34m(\u001b[0m\u001b[0;34m)\u001b[0m\u001b[0;34m\u001b[0m\u001b[0m\n\u001b[1;32m    308\u001b[0m     \u001b[0mkws\u001b[0m\u001b[0;34m.\u001b[0m\u001b[0mupdate\u001b[0m\u001b[0;34m(\u001b[0m\u001b[0mextra\u001b[0m\u001b[0;34m)\u001b[0m\u001b[0;34m\u001b[0m\u001b[0m\n\u001b[0;32m--> 309\u001b[0;31m     \u001b[0;32mreturn\u001b[0m \u001b[0mglyphclass\u001b[0m\u001b[0;34m(\u001b[0m\u001b[0;34m**\u001b[0m\u001b[0mkws\u001b[0m\u001b[0;34m)\u001b[0m\u001b[0;34m\u001b[0m\u001b[0m\n\u001b[0m\u001b[1;32m    310\u001b[0m \u001b[0;34m\u001b[0m\u001b[0m\n\u001b[1;32m    311\u001b[0m \u001b[0;34m\u001b[0m\u001b[0m\n",
      "\u001b[0;32m/Users/JasonKatz/anaconda/lib/python3.6/site-packages/bokeh/model.py\u001b[0m in \u001b[0;36m__init__\u001b[0;34m(self, **kwargs)\u001b[0m\n\u001b[1;32m    217\u001b[0m         \u001b[0mself\u001b[0m\u001b[0;34m.\u001b[0m\u001b[0m_id\u001b[0m \u001b[0;34m=\u001b[0m \u001b[0mkwargs\u001b[0m\u001b[0;34m.\u001b[0m\u001b[0mpop\u001b[0m\u001b[0;34m(\u001b[0m\u001b[0;34m\"id\"\u001b[0m\u001b[0;34m,\u001b[0m \u001b[0mmake_id\u001b[0m\u001b[0;34m(\u001b[0m\u001b[0;34m)\u001b[0m\u001b[0;34m)\u001b[0m\u001b[0;34m\u001b[0m\u001b[0m\n\u001b[1;32m    218\u001b[0m         \u001b[0mself\u001b[0m\u001b[0;34m.\u001b[0m\u001b[0m_document\u001b[0m \u001b[0;34m=\u001b[0m \u001b[0;32mNone\u001b[0m\u001b[0;34m\u001b[0m\u001b[0m\n\u001b[0;32m--> 219\u001b[0;31m         \u001b[0msuper\u001b[0m\u001b[0;34m(\u001b[0m\u001b[0mModel\u001b[0m\u001b[0;34m,\u001b[0m \u001b[0mself\u001b[0m\u001b[0;34m)\u001b[0m\u001b[0;34m.\u001b[0m\u001b[0m__init__\u001b[0m\u001b[0;34m(\u001b[0m\u001b[0;34m**\u001b[0m\u001b[0mkwargs\u001b[0m\u001b[0;34m)\u001b[0m\u001b[0;34m\u001b[0m\u001b[0m\n\u001b[0m\u001b[1;32m    220\u001b[0m         \u001b[0mdefault_theme\u001b[0m\u001b[0;34m.\u001b[0m\u001b[0mapply_to_model\u001b[0m\u001b[0;34m(\u001b[0m\u001b[0mself\u001b[0m\u001b[0;34m)\u001b[0m\u001b[0;34m\u001b[0m\u001b[0m\n\u001b[1;32m    221\u001b[0m \u001b[0;34m\u001b[0m\u001b[0m\n",
      "\u001b[0;32m/Users/JasonKatz/anaconda/lib/python3.6/site-packages/bokeh/core/has_props.py\u001b[0m in \u001b[0;36m__init__\u001b[0;34m(self, **properties)\u001b[0m\n\u001b[1;32m    234\u001b[0m \u001b[0;34m\u001b[0m\u001b[0m\n\u001b[1;32m    235\u001b[0m         \u001b[0;32mfor\u001b[0m \u001b[0mname\u001b[0m\u001b[0;34m,\u001b[0m \u001b[0mvalue\u001b[0m \u001b[0;32min\u001b[0m \u001b[0mproperties\u001b[0m\u001b[0;34m.\u001b[0m\u001b[0mitems\u001b[0m\u001b[0;34m(\u001b[0m\u001b[0;34m)\u001b[0m\u001b[0;34m:\u001b[0m\u001b[0;34m\u001b[0m\u001b[0m\n\u001b[0;32m--> 236\u001b[0;31m             \u001b[0msetattr\u001b[0m\u001b[0;34m(\u001b[0m\u001b[0mself\u001b[0m\u001b[0;34m,\u001b[0m \u001b[0mname\u001b[0m\u001b[0;34m,\u001b[0m \u001b[0mvalue\u001b[0m\u001b[0;34m)\u001b[0m\u001b[0;34m\u001b[0m\u001b[0m\n\u001b[0m\u001b[1;32m    237\u001b[0m \u001b[0;34m\u001b[0m\u001b[0m\n\u001b[1;32m    238\u001b[0m     \u001b[0;32mdef\u001b[0m \u001b[0m__setattr__\u001b[0m\u001b[0;34m(\u001b[0m\u001b[0mself\u001b[0m\u001b[0;34m,\u001b[0m \u001b[0mname\u001b[0m\u001b[0;34m,\u001b[0m \u001b[0mvalue\u001b[0m\u001b[0;34m)\u001b[0m\u001b[0;34m:\u001b[0m\u001b[0;34m\u001b[0m\u001b[0m\n",
      "\u001b[0;32m/Users/JasonKatz/anaconda/lib/python3.6/site-packages/bokeh/core/has_props.py\u001b[0m in \u001b[0;36m__setattr__\u001b[0;34m(self, name, value)\u001b[0m\n\u001b[1;32m    261\u001b[0m \u001b[0;34m\u001b[0m\u001b[0m\n\u001b[1;32m    262\u001b[0m         \u001b[0;32mif\u001b[0m \u001b[0mname\u001b[0m \u001b[0;32min\u001b[0m \u001b[0mprops\u001b[0m \u001b[0;32mor\u001b[0m \u001b[0;34m(\u001b[0m\u001b[0mdescriptor\u001b[0m \u001b[0;32mis\u001b[0m \u001b[0;32mnot\u001b[0m \u001b[0;32mNone\u001b[0m \u001b[0;32mand\u001b[0m \u001b[0mdescriptor\u001b[0m\u001b[0;34m.\u001b[0m\u001b[0mfset\u001b[0m \u001b[0;32mis\u001b[0m \u001b[0;32mnot\u001b[0m \u001b[0;32mNone\u001b[0m\u001b[0;34m)\u001b[0m\u001b[0;34m:\u001b[0m\u001b[0;34m\u001b[0m\u001b[0m\n\u001b[0;32m--> 263\u001b[0;31m             \u001b[0msuper\u001b[0m\u001b[0;34m(\u001b[0m\u001b[0mHasProps\u001b[0m\u001b[0;34m,\u001b[0m \u001b[0mself\u001b[0m\u001b[0;34m)\u001b[0m\u001b[0;34m.\u001b[0m\u001b[0m__setattr__\u001b[0m\u001b[0;34m(\u001b[0m\u001b[0mname\u001b[0m\u001b[0;34m,\u001b[0m \u001b[0mvalue\u001b[0m\u001b[0;34m)\u001b[0m\u001b[0;34m\u001b[0m\u001b[0m\n\u001b[0m\u001b[1;32m    264\u001b[0m         \u001b[0;32melse\u001b[0m\u001b[0;34m:\u001b[0m\u001b[0;34m\u001b[0m\u001b[0m\n\u001b[1;32m    265\u001b[0m             \u001b[0mmatches\u001b[0m\u001b[0;34m,\u001b[0m \u001b[0mtext\u001b[0m \u001b[0;34m=\u001b[0m \u001b[0mdifflib\u001b[0m\u001b[0;34m.\u001b[0m\u001b[0mget_close_matches\u001b[0m\u001b[0;34m(\u001b[0m\u001b[0mname\u001b[0m\u001b[0;34m.\u001b[0m\u001b[0mlower\u001b[0m\u001b[0;34m(\u001b[0m\u001b[0;34m)\u001b[0m\u001b[0;34m,\u001b[0m \u001b[0mprops\u001b[0m\u001b[0;34m)\u001b[0m\u001b[0;34m,\u001b[0m \u001b[0;34m\"similar\"\u001b[0m\u001b[0;34m\u001b[0m\u001b[0m\n",
      "\u001b[0;32m/Users/JasonKatz/anaconda/lib/python3.6/site-packages/bokeh/core/property/descriptors.py\u001b[0m in \u001b[0;36m__set__\u001b[0;34m(self, obj, value, setter)\u001b[0m\n\u001b[1;32m    501\u001b[0m             \u001b[0;32mraise\u001b[0m \u001b[0mRuntimeError\u001b[0m\u001b[0;34m(\u001b[0m\u001b[0;34m\"%s.%s is a readonly property\"\u001b[0m \u001b[0;34m%\u001b[0m \u001b[0;34m(\u001b[0m\u001b[0mobj\u001b[0m\u001b[0;34m.\u001b[0m\u001b[0m__class__\u001b[0m\u001b[0;34m.\u001b[0m\u001b[0m__name__\u001b[0m\u001b[0;34m,\u001b[0m \u001b[0mself\u001b[0m\u001b[0;34m.\u001b[0m\u001b[0mname\u001b[0m\u001b[0;34m)\u001b[0m\u001b[0;34m)\u001b[0m\u001b[0;34m\u001b[0m\u001b[0m\n\u001b[1;32m    502\u001b[0m \u001b[0;34m\u001b[0m\u001b[0m\n\u001b[0;32m--> 503\u001b[0;31m         \u001b[0mself\u001b[0m\u001b[0;34m.\u001b[0m\u001b[0m_internal_set\u001b[0m\u001b[0;34m(\u001b[0m\u001b[0mobj\u001b[0m\u001b[0;34m,\u001b[0m \u001b[0mvalue\u001b[0m\u001b[0;34m,\u001b[0m \u001b[0msetter\u001b[0m\u001b[0;34m=\u001b[0m\u001b[0msetter\u001b[0m\u001b[0;34m)\u001b[0m\u001b[0;34m\u001b[0m\u001b[0m\n\u001b[0m\u001b[1;32m    504\u001b[0m \u001b[0;34m\u001b[0m\u001b[0m\n\u001b[1;32m    505\u001b[0m     \u001b[0;32mdef\u001b[0m \u001b[0m__delete__\u001b[0m\u001b[0;34m(\u001b[0m\u001b[0mself\u001b[0m\u001b[0;34m,\u001b[0m \u001b[0mobj\u001b[0m\u001b[0;34m)\u001b[0m\u001b[0;34m:\u001b[0m\u001b[0;34m\u001b[0m\u001b[0m\n",
      "\u001b[0;32m/Users/JasonKatz/anaconda/lib/python3.6/site-packages/bokeh/core/property/descriptors.py\u001b[0m in \u001b[0;36m_internal_set\u001b[0;34m(self, obj, value, hint, setter)\u001b[0m\n\u001b[1;32m    722\u001b[0m \u001b[0;34m\u001b[0m\u001b[0m\n\u001b[1;32m    723\u001b[0m         '''\n\u001b[0;32m--> 724\u001b[0;31m         \u001b[0mvalue\u001b[0m \u001b[0;34m=\u001b[0m \u001b[0mself\u001b[0m\u001b[0;34m.\u001b[0m\u001b[0mproperty\u001b[0m\u001b[0;34m.\u001b[0m\u001b[0mprepare_value\u001b[0m\u001b[0;34m(\u001b[0m\u001b[0mobj\u001b[0m\u001b[0;34m,\u001b[0m \u001b[0mself\u001b[0m\u001b[0;34m.\u001b[0m\u001b[0mname\u001b[0m\u001b[0;34m,\u001b[0m \u001b[0mvalue\u001b[0m\u001b[0;34m)\u001b[0m\u001b[0;34m\u001b[0m\u001b[0m\n\u001b[0m\u001b[1;32m    725\u001b[0m \u001b[0;34m\u001b[0m\u001b[0m\n\u001b[1;32m    726\u001b[0m         \u001b[0mold\u001b[0m \u001b[0;34m=\u001b[0m \u001b[0mself\u001b[0m\u001b[0;34m.\u001b[0m\u001b[0m__get__\u001b[0m\u001b[0;34m(\u001b[0m\u001b[0mobj\u001b[0m\u001b[0;34m,\u001b[0m \u001b[0mobj\u001b[0m\u001b[0;34m.\u001b[0m\u001b[0m__class__\u001b[0m\u001b[0;34m)\u001b[0m\u001b[0;34m\u001b[0m\u001b[0m\n",
      "\u001b[0;32m/Users/JasonKatz/anaconda/lib/python3.6/site-packages/bokeh/core/properties.py\u001b[0m in \u001b[0;36mprepare_value\u001b[0;34m(self, cls, name, value)\u001b[0m\n\u001b[1;32m   1944\u001b[0m             \u001b[0;31m# TODO (bev) verify that all original floats are integer values?\u001b[0m\u001b[0;34m\u001b[0m\u001b[0;34m\u001b[0m\u001b[0m\n\u001b[1;32m   1945\u001b[0m             \u001b[0mvalue\u001b[0m \u001b[0;34m=\u001b[0m \u001b[0mtuple\u001b[0m\u001b[0;34m(\u001b[0m\u001b[0mint\u001b[0m\u001b[0;34m(\u001b[0m\u001b[0mv\u001b[0m\u001b[0;34m)\u001b[0m \u001b[0;32mif\u001b[0m \u001b[0mi\u001b[0m \u001b[0;34m<\u001b[0m \u001b[0;36m3\u001b[0m \u001b[0;32melse\u001b[0m \u001b[0mv\u001b[0m \u001b[0;32mfor\u001b[0m \u001b[0mi\u001b[0m\u001b[0;34m,\u001b[0m \u001b[0mv\u001b[0m \u001b[0;32min\u001b[0m \u001b[0menumerate\u001b[0m\u001b[0;34m(\u001b[0m\u001b[0mvalue\u001b[0m\u001b[0;34m)\u001b[0m\u001b[0;34m)\u001b[0m\u001b[0;34m\u001b[0m\u001b[0m\n\u001b[0;32m-> 1946\u001b[0;31m         \u001b[0;32mreturn\u001b[0m \u001b[0msuper\u001b[0m\u001b[0;34m(\u001b[0m\u001b[0mColorSpec\u001b[0m\u001b[0;34m,\u001b[0m \u001b[0mself\u001b[0m\u001b[0;34m)\u001b[0m\u001b[0;34m.\u001b[0m\u001b[0mprepare_value\u001b[0m\u001b[0;34m(\u001b[0m\u001b[0mcls\u001b[0m\u001b[0;34m,\u001b[0m \u001b[0mname\u001b[0m\u001b[0;34m,\u001b[0m \u001b[0mvalue\u001b[0m\u001b[0;34m)\u001b[0m\u001b[0;34m\u001b[0m\u001b[0m\n\u001b[0m\u001b[1;32m   1947\u001b[0m \u001b[0;34m\u001b[0m\u001b[0m\n\u001b[1;32m   1948\u001b[0m \u001b[0;31m#------------------------------------------------------------------------------\u001b[0m\u001b[0;34m\u001b[0m\u001b[0;34m\u001b[0m\u001b[0m\n",
      "\u001b[0;32m/Users/JasonKatz/anaconda/lib/python3.6/site-packages/bokeh/core/property/bases.py\u001b[0m in \u001b[0;36mprepare_value\u001b[0;34m(self, obj_or_cls, name, value)\u001b[0m\n\u001b[1;32m    283\u001b[0m                     \u001b[0;32mbreak\u001b[0m\u001b[0;34m\u001b[0m\u001b[0m\n\u001b[1;32m    284\u001b[0m             \u001b[0;32melse\u001b[0m\u001b[0;34m:\u001b[0m\u001b[0;34m\u001b[0m\u001b[0m\n\u001b[0;32m--> 285\u001b[0;31m                 \u001b[0;32mraise\u001b[0m \u001b[0me\u001b[0m\u001b[0;34m\u001b[0m\u001b[0m\n\u001b[0m\u001b[1;32m    286\u001b[0m         \u001b[0;32melse\u001b[0m\u001b[0;34m:\u001b[0m\u001b[0;34m\u001b[0m\u001b[0m\n\u001b[1;32m    287\u001b[0m             \u001b[0mvalue\u001b[0m \u001b[0;34m=\u001b[0m \u001b[0mself\u001b[0m\u001b[0;34m.\u001b[0m\u001b[0mtransform\u001b[0m\u001b[0;34m(\u001b[0m\u001b[0mvalue\u001b[0m\u001b[0;34m)\u001b[0m\u001b[0;34m\u001b[0m\u001b[0m\n",
      "\u001b[0;32m/Users/JasonKatz/anaconda/lib/python3.6/site-packages/bokeh/core/property/bases.py\u001b[0m in \u001b[0;36mprepare_value\u001b[0;34m(self, obj_or_cls, name, value)\u001b[0m\n\u001b[1;32m    276\u001b[0m     \u001b[0;32mdef\u001b[0m \u001b[0mprepare_value\u001b[0m\u001b[0;34m(\u001b[0m\u001b[0mself\u001b[0m\u001b[0;34m,\u001b[0m \u001b[0mobj_or_cls\u001b[0m\u001b[0;34m,\u001b[0m \u001b[0mname\u001b[0m\u001b[0;34m,\u001b[0m \u001b[0mvalue\u001b[0m\u001b[0;34m)\u001b[0m\u001b[0;34m:\u001b[0m\u001b[0;34m\u001b[0m\u001b[0m\n\u001b[1;32m    277\u001b[0m         \u001b[0;32mtry\u001b[0m\u001b[0;34m:\u001b[0m\u001b[0;34m\u001b[0m\u001b[0m\n\u001b[0;32m--> 278\u001b[0;31m             \u001b[0mself\u001b[0m\u001b[0;34m.\u001b[0m\u001b[0mvalidate\u001b[0m\u001b[0;34m(\u001b[0m\u001b[0mvalue\u001b[0m\u001b[0;34m)\u001b[0m\u001b[0;34m\u001b[0m\u001b[0m\n\u001b[0m\u001b[1;32m    279\u001b[0m         \u001b[0;32mexcept\u001b[0m \u001b[0mValueError\u001b[0m \u001b[0;32mas\u001b[0m \u001b[0me\u001b[0m\u001b[0;34m:\u001b[0m\u001b[0;34m\u001b[0m\u001b[0m\n\u001b[1;32m    280\u001b[0m             \u001b[0;32mfor\u001b[0m \u001b[0mtp\u001b[0m\u001b[0;34m,\u001b[0m \u001b[0mconverter\u001b[0m \u001b[0;32min\u001b[0m \u001b[0mself\u001b[0m\u001b[0;34m.\u001b[0m\u001b[0malternatives\u001b[0m\u001b[0;34m:\u001b[0m\u001b[0;34m\u001b[0m\u001b[0m\n",
      "\u001b[0;32m/Users/JasonKatz/anaconda/lib/python3.6/site-packages/bokeh/core/properties.py\u001b[0m in \u001b[0;36mvalidate\u001b[0;34m(self, value, detail)\u001b[0m\n\u001b[1;32m    701\u001b[0m         \u001b[0;32mif\u001b[0m \u001b[0;32mnot\u001b[0m \u001b[0;34m(\u001b[0m\u001b[0mvalue\u001b[0m \u001b[0;32mis\u001b[0m \u001b[0;32mNone\u001b[0m \u001b[0;32mor\u001b[0m \u001b[0many\u001b[0m\u001b[0;34m(\u001b[0m\u001b[0mparam\u001b[0m\u001b[0;34m.\u001b[0m\u001b[0mis_valid\u001b[0m\u001b[0;34m(\u001b[0m\u001b[0mvalue\u001b[0m\u001b[0;34m)\u001b[0m \u001b[0;32mfor\u001b[0m \u001b[0mparam\u001b[0m \u001b[0;32min\u001b[0m \u001b[0mself\u001b[0m\u001b[0;34m.\u001b[0m\u001b[0mtype_params\u001b[0m\u001b[0;34m)\u001b[0m\u001b[0;34m)\u001b[0m\u001b[0;34m:\u001b[0m\u001b[0;34m\u001b[0m\u001b[0m\n\u001b[1;32m    702\u001b[0m             \u001b[0mmsg\u001b[0m \u001b[0;34m=\u001b[0m \u001b[0;34m\"\"\u001b[0m \u001b[0;32mif\u001b[0m \u001b[0;32mnot\u001b[0m \u001b[0mdetail\u001b[0m \u001b[0;32melse\u001b[0m \u001b[0;34m\"expected an element of either %s, got %r\"\u001b[0m \u001b[0;34m%\u001b[0m \u001b[0;34m(\u001b[0m\u001b[0mnice_join\u001b[0m\u001b[0;34m(\u001b[0m\u001b[0mself\u001b[0m\u001b[0;34m.\u001b[0m\u001b[0mtype_params\u001b[0m\u001b[0;34m)\u001b[0m\u001b[0;34m,\u001b[0m \u001b[0mvalue\u001b[0m\u001b[0;34m)\u001b[0m\u001b[0;34m\u001b[0m\u001b[0m\n\u001b[0;32m--> 703\u001b[0;31m             \u001b[0;32mraise\u001b[0m \u001b[0mValueError\u001b[0m\u001b[0;34m(\u001b[0m\u001b[0mmsg\u001b[0m\u001b[0;34m)\u001b[0m\u001b[0;34m\u001b[0m\u001b[0m\n\u001b[0m\u001b[1;32m    704\u001b[0m \u001b[0;34m\u001b[0m\u001b[0m\n\u001b[1;32m    705\u001b[0m     \u001b[0;31m# TODO (bev) implement this\u001b[0m\u001b[0;34m\u001b[0m\u001b[0;34m\u001b[0m\u001b[0m\n",
      "\u001b[0;31mValueError\u001b[0m: expected an element of either String, Dict(Enum('expr', 'field', 'value', 'transform'), Either(String, Instance(Transform), Instance(Expression), Color)) or Color, got 2"
     ]
    },
    {
     "name": "stdout",
     "output_type": "stream",
     "text": [
      "time: 152 ms\n"
     ]
    }
   ],
   "source": [
    "ppp = figure(tools=\"pan,wheel_zoom,reset\", )#x_range=list(validation[0].keys()))\n",
    "ppp.multi_line(xs=[[1,2,3],[4,6,6]],ys=[[1,2,3],[4,4,6]], color=col)\n",
    "show(ppp)"
   ]
  },
  {
   "cell_type": "code",
   "execution_count": 300,
   "metadata": {},
   "outputs": [
    {
     "data": {
      "text/html": [
       "\n",
       "\n",
       "\n",
       "\n",
       "\n",
       "\n",
       "  <div class=\"bk-root\" id=\"71ca5f20-1fe9-4e99-a99a-d52fd852c26c\"></div>\n"
      ]
     },
     "metadata": {},
     "output_type": "display_data"
    },
    {
     "data": {
      "application/javascript": [
       "(function(root) {\n",
       "  function embed_document(root) {\n",
       "    \n",
       "  var docs_json = {\"d9cca8bf-032d-4499-a1f0-555d60e2b292\":{\"roots\":{\"references\":[{\"attributes\":{\"plot\":null,\"text\":\"\"},\"id\":\"8b2d2e02-f7fa-4e94-b1ea-293d478a4db4\",\"type\":\"Title\"},{\"attributes\":{},\"id\":\"610f803e-3141-46e6-b5dc-119ddb86522a\",\"type\":\"LinearScale\"},{\"attributes\":{\"dimension\":1,\"plot\":{\"id\":\"6f8eb2c1-842f-42cc-9afc-e56f223d55cd\",\"subtype\":\"Figure\",\"type\":\"Plot\"},\"ticker\":{\"id\":\"da81de19-6c5d-47a6-b1ed-4244a9f8972e\",\"type\":\"BasicTicker\"}},\"id\":\"163e7b7b-29d8-454d-8113-81e462aa848b\",\"type\":\"Grid\"},{\"attributes\":{\"active_drag\":\"auto\",\"active_inspect\":\"auto\",\"active_multi\":null,\"active_scroll\":\"auto\",\"active_tap\":\"auto\",\"tools\":[{\"id\":\"9f003e62-7b68-4f31-9e78-a3d76b083747\",\"type\":\"PanTool\"},{\"id\":\"00fd54cb-237d-4f8d-8d85-e60a800c130f\",\"type\":\"WheelZoomTool\"},{\"id\":\"65b4496d-525c-4b0f-b3fc-492792f9ab14\",\"type\":\"ResetTool\"}]},\"id\":\"7b696737-306c-4ac4-9c47-9da0c31e8fea\",\"type\":\"Toolbar\"},{\"attributes\":{\"plot\":{\"id\":\"6f8eb2c1-842f-42cc-9afc-e56f223d55cd\",\"subtype\":\"Figure\",\"type\":\"Plot\"},\"ticker\":{\"id\":\"59f67a26-c887-4f11-b66d-4b24f7b807bd\",\"type\":\"BasicTicker\"}},\"id\":\"210beae7-71be-4821-be50-5809e8cb0d54\",\"type\":\"Grid\"},{\"attributes\":{\"callback\":null},\"id\":\"cf625f3d-aa13-407d-ab0d-81ad036eef36\",\"type\":\"DataRange1d\"},{\"attributes\":{\"callback\":null,\"data\":{\"xs\":[[1,2,3],[4,6,6]],\"ys\":[[1,2,3],[4,4,6]]},\"selected\":{\"id\":\"3ad78826-8344-4eeb-a793-425cd7362086\",\"type\":\"Selection\"},\"selection_policy\":{\"id\":\"80bc240a-7475-48ea-bcf4-4960b6a073dc\",\"type\":\"UnionRenderers\"}},\"id\":\"f6f477d9-e029-4e63-bdbb-f3a06c2fa1ca\",\"type\":\"ColumnDataSource\"},{\"attributes\":{\"formatter\":{\"id\":\"f6c41bf3-3ba7-4981-abd8-baf120595278\",\"type\":\"BasicTickFormatter\"},\"plot\":{\"id\":\"6f8eb2c1-842f-42cc-9afc-e56f223d55cd\",\"subtype\":\"Figure\",\"type\":\"Plot\"},\"ticker\":{\"id\":\"59f67a26-c887-4f11-b66d-4b24f7b807bd\",\"type\":\"BasicTicker\"}},\"id\":\"60d41f71-c3df-45c2-96e5-61c0afe910c3\",\"type\":\"LinearAxis\"},{\"attributes\":{},\"id\":\"9f003e62-7b68-4f31-9e78-a3d76b083747\",\"type\":\"PanTool\"},{\"attributes\":{\"line_color\":{\"value\":\"#1f77b4\"},\"line_join\":\"round\",\"xs\":{\"field\":\"xs\"},\"ys\":{\"field\":\"ys\"}},\"id\":\"9d537c4b-0ff1-4f22-8bc3-c55c4d4b82cc\",\"type\":\"MultiLine\"},{\"attributes\":{\"line_alpha\":{\"value\":0.1},\"line_color\":{\"value\":\"#1f77b4\"},\"line_join\":\"round\",\"xs\":{\"field\":\"xs\"},\"ys\":{\"field\":\"ys\"}},\"id\":\"6a9e2b6b-f34d-4891-8b70-6349eb943707\",\"type\":\"MultiLine\"},{\"attributes\":{\"data_source\":{\"id\":\"f6f477d9-e029-4e63-bdbb-f3a06c2fa1ca\",\"type\":\"ColumnDataSource\"},\"glyph\":{\"id\":\"9d537c4b-0ff1-4f22-8bc3-c55c4d4b82cc\",\"type\":\"MultiLine\"},\"hover_glyph\":null,\"muted_glyph\":null,\"nonselection_glyph\":{\"id\":\"6a9e2b6b-f34d-4891-8b70-6349eb943707\",\"type\":\"MultiLine\"},\"selection_glyph\":null,\"view\":{\"id\":\"f637fc39-617c-47cb-9821-fc847dfdec53\",\"type\":\"CDSView\"}},\"id\":\"ff5b8e24-9f34-42cf-9da7-4f58de557662\",\"type\":\"GlyphRenderer\"},{\"attributes\":{\"source\":{\"id\":\"f6f477d9-e029-4e63-bdbb-f3a06c2fa1ca\",\"type\":\"ColumnDataSource\"}},\"id\":\"f637fc39-617c-47cb-9821-fc847dfdec53\",\"type\":\"CDSView\"},{\"attributes\":{},\"id\":\"65b4496d-525c-4b0f-b3fc-492792f9ab14\",\"type\":\"ResetTool\"},{\"attributes\":{},\"id\":\"00fd54cb-237d-4f8d-8d85-e60a800c130f\",\"type\":\"WheelZoomTool\"},{\"attributes\":{},\"id\":\"da81de19-6c5d-47a6-b1ed-4244a9f8972e\",\"type\":\"BasicTicker\"},{\"attributes\":{},\"id\":\"e5dbdae1-8d93-4ad9-a43b-982b82df35b9\",\"type\":\"BasicTickFormatter\"},{\"attributes\":{\"below\":[{\"id\":\"60d41f71-c3df-45c2-96e5-61c0afe910c3\",\"type\":\"LinearAxis\"}],\"left\":[{\"id\":\"f608693d-da32-4359-878b-724a51aeafb1\",\"type\":\"LinearAxis\"}],\"renderers\":[{\"id\":\"60d41f71-c3df-45c2-96e5-61c0afe910c3\",\"type\":\"LinearAxis\"},{\"id\":\"210beae7-71be-4821-be50-5809e8cb0d54\",\"type\":\"Grid\"},{\"id\":\"f608693d-da32-4359-878b-724a51aeafb1\",\"type\":\"LinearAxis\"},{\"id\":\"163e7b7b-29d8-454d-8113-81e462aa848b\",\"type\":\"Grid\"},{\"id\":\"ff5b8e24-9f34-42cf-9da7-4f58de557662\",\"type\":\"GlyphRenderer\"}],\"title\":{\"id\":\"8b2d2e02-f7fa-4e94-b1ea-293d478a4db4\",\"type\":\"Title\"},\"toolbar\":{\"id\":\"7b696737-306c-4ac4-9c47-9da0c31e8fea\",\"type\":\"Toolbar\"},\"x_range\":{\"id\":\"cf625f3d-aa13-407d-ab0d-81ad036eef36\",\"type\":\"DataRange1d\"},\"x_scale\":{\"id\":\"610f803e-3141-46e6-b5dc-119ddb86522a\",\"type\":\"LinearScale\"},\"y_range\":{\"id\":\"f1ed9a7f-93b9-4ecb-aea3-e5b0d2be77ba\",\"type\":\"DataRange1d\"},\"y_scale\":{\"id\":\"a3559d1d-ef8e-4145-95f3-4fc47523060d\",\"type\":\"LinearScale\"}},\"id\":\"6f8eb2c1-842f-42cc-9afc-e56f223d55cd\",\"subtype\":\"Figure\",\"type\":\"Plot\"},{\"attributes\":{\"formatter\":{\"id\":\"e5dbdae1-8d93-4ad9-a43b-982b82df35b9\",\"type\":\"BasicTickFormatter\"},\"plot\":{\"id\":\"6f8eb2c1-842f-42cc-9afc-e56f223d55cd\",\"subtype\":\"Figure\",\"type\":\"Plot\"},\"ticker\":{\"id\":\"da81de19-6c5d-47a6-b1ed-4244a9f8972e\",\"type\":\"BasicTicker\"}},\"id\":\"f608693d-da32-4359-878b-724a51aeafb1\",\"type\":\"LinearAxis\"},{\"attributes\":{},\"id\":\"f6c41bf3-3ba7-4981-abd8-baf120595278\",\"type\":\"BasicTickFormatter\"},{\"attributes\":{},\"id\":\"a3559d1d-ef8e-4145-95f3-4fc47523060d\",\"type\":\"LinearScale\"},{\"attributes\":{},\"id\":\"59f67a26-c887-4f11-b66d-4b24f7b807bd\",\"type\":\"BasicTicker\"},{\"attributes\":{},\"id\":\"80bc240a-7475-48ea-bcf4-4960b6a073dc\",\"type\":\"UnionRenderers\"},{\"attributes\":{\"callback\":null},\"id\":\"f1ed9a7f-93b9-4ecb-aea3-e5b0d2be77ba\",\"type\":\"DataRange1d\"},{\"attributes\":{\"indices\":[],\"line_indices\":[]},\"id\":\"3ad78826-8344-4eeb-a793-425cd7362086\",\"type\":\"Selection\"}],\"root_ids\":[\"6f8eb2c1-842f-42cc-9afc-e56f223d55cd\"]},\"title\":\"Bokeh Application\",\"version\":\"0.13.0\"}};\n",
       "  var render_items = [{\"docid\":\"d9cca8bf-032d-4499-a1f0-555d60e2b292\",\"roots\":{\"6f8eb2c1-842f-42cc-9afc-e56f223d55cd\":\"71ca5f20-1fe9-4e99-a99a-d52fd852c26c\"}}];\n",
       "  root.Bokeh.embed.embed_items_notebook(docs_json, render_items);\n",
       "\n",
       "  }\n",
       "  if (root.Bokeh !== undefined) {\n",
       "    embed_document(root);\n",
       "  } else {\n",
       "    var attempts = 0;\n",
       "    var timer = setInterval(function(root) {\n",
       "      if (root.Bokeh !== undefined) {\n",
       "        embed_document(root);\n",
       "        clearInterval(timer);\n",
       "      }\n",
       "      attempts++;\n",
       "      if (attempts > 100) {\n",
       "        console.log(\"Bokeh: ERROR: Unable to run BokehJS code because BokehJS library is missing\")\n",
       "        clearInterval(timer);\n",
       "      }\n",
       "    }, 10, root)\n",
       "  }\n",
       "})(window);"
      ],
      "application/vnd.bokehjs_exec.v0+json": ""
     },
     "metadata": {
      "application/vnd.bokehjs_exec.v0+json": {
       "id": "6f8eb2c1-842f-42cc-9afc-e56f223d55cd"
      }
     },
     "output_type": "display_data"
    },
    {
     "name": "stdout",
     "output_type": "stream",
     "text": [
      "time: 557 ms\n"
     ]
    }
   ],
   "source": [
    "show(ppp)"
   ]
  },
  {
   "cell_type": "code",
   "execution_count": 247,
   "metadata": {},
   "outputs": [
    {
     "name": "stdout",
     "output_type": "stream",
     "text": [
      "time: 379 ms\n"
     ]
    }
   ],
   "source": [
    "# generate some synthetic time series for six different categories\n",
    "#df = pd.DataFrame(dict(score=pipeline_accuracies['Accuracy'], group=pipeline_accuracies['Name']))\n",
    "\n",
    "# find the quartiles and IQR for each category\n",
    "groups = pipeline_data.groupby('Name')\n",
    "groups_sort = pipeline_data.groupby('Name').median().reset_index()\n",
    "sorter = list(groups_sort.sort_values('Accuracy', ascending=True)['Name'])\n",
    "methods = list((groups.groups.keys()))\n",
    "methods = sorter\n",
    "q1 = groups.quantile(q=0.25)\n",
    "q2 = groups.quantile(q=0.5)\n",
    "q3 = groups.quantile(q=0.75)\n",
    "q1['name'] = pd.Categorical(q1.index, sorter)\n",
    "q1 = q1.sort_values('name').iloc[:,0:1]\n",
    "q2['name'] = pd.Categorical(q2.index, sorter)\n",
    "q2 = q2.sort_values('name').iloc[:,0:1]\n",
    "q3['name'] = pd.Categorical(q3.index, sorter)\n",
    "q3 = q3.sort_values('name').iloc[:,0:1]\n",
    "iqr = q3 - q1\n",
    "upper = q3 + 1.5*iqr\n",
    "lower = q1 - 1.5*iqr\n",
    "\n",
    "# # find the outliers for each category\n",
    "# def outliers(group):\n",
    "#     method = group.name\n",
    "#     return group[(group.score > upper.loc[method]['score']) | (group.score < lower.loc[method]['score']) | True]['score']\n",
    "# out = groups.apply(outliers).dropna()\n",
    "\n",
    "# # prepare outlier data for plotting, we need coordinates for every outlier.\n",
    "# if not out.empty:\n",
    "#     outx = []\n",
    "#     outy = []\n",
    "#     for method in methods:\n",
    "#         # only add outliers if they exist\n",
    "#         if method in out and not out.loc[method].empty:\n",
    "#             for value in out[method]:\n",
    "#                 outx.append(method)\n",
    "#                 outy.append(value)\n",
    "                \n",
    "outx = list(pipeline_data['Name'])\n",
    "outy = list(pipeline_data['Accuracy'])\n",
    "                \n",
    "\n",
    "                \n",
    "source = ColumnDataSource(data=dict(\n",
    "    x=outx,\n",
    "    y=outy,\n",
    "    desc=outy,\n",
    "    color=[\"Blue\"] * len(outx)\n",
    "))\n",
    "\n",
    "p = figure(tools=\"pan,wheel_zoom,reset,lasso_select\", background_fill_color=\"#EFE8E2\", title=\"\", y_range=methods, plot_width=1200, plot_height=600)\n",
    "\n",
    "# if no outliers, shrink lengths of stems to be no longer than the minimums or maximums\n",
    "qmin = groups.quantile(q=0.00)\n",
    "qmax = groups.quantile(q=1.00)\n",
    "qmin['name'] = pd.Categorical(qmin.index, sorter)\n",
    "qmin = qmin.sort_values('name').iloc[:,0:1]\n",
    "qmax['name'] = pd.Categorical(qmax.index, sorter)\n",
    "qmax = qmax.sort_values('name').iloc[:,0:1]\n",
    "upper.Accuracy = [min([x,y]) for (x,y) in zip(list(qmax.loc[:,'Accuracy']),upper.Accuracy)]\n",
    "lower.Accuracy = [max([x,y]) for (x,y) in zip(list(qmin.loc[:,'Accuracy']),lower.Accuracy)]\n",
    "\n",
    "# stems\n",
    "p.segment(upper.Accuracy, methods, q3.Accuracy, methods, line_color=\"black\")\n",
    "p.segment(lower.Accuracy, methods, q1.Accuracy, methods, line_color=\"black\")\n",
    "\n",
    "# boxes\n",
    "p.hbar(methods, 0.7, q2.Accuracy, q3.Accuracy, fill_color=\"#E08E79\", line_color=\"black\", fill_alpha=.75)\n",
    "p.hbar(methods, 0.7, q1.Accuracy, q2.Accuracy, fill_color=\"#3B8686\", line_color=\"black\", fill_alpha=.75)\n",
    "\n",
    "# whiskers (almost-0 height rects simpler than segments)\n",
    "p.rect(lower.Accuracy, methods, 0.01, 0.2, line_color=\"black\")\n",
    "p.rect(upper.Accuracy, methods, 0.01, 0.2, line_color=\"black\")\n",
    "\n",
    "p.circle('y', 'x', size=4, color='color', fill_alpha=0.5, source=source, name=\"pipe\")\n",
    "\n",
    "p.ygrid.grid_line_color = None\n",
    "p.xgrid.grid_line_color = \"white\"\n",
    "p.grid.grid_line_width = 2\n",
    "p.yaxis.major_label_text_font_size=\"12pt\"\n",
    "\n",
    "#output_file(\"boxplot.html\", title=\"boxplot.py example\")\n",
    "\n",
    "#show(p)\n",
    "\n",
    "s2 = ColumnDataSource(data=dict(x=[0, 1], ym=[0.5, 0.5]))\n",
    "#p.line(x='x', y='ym', color=\"orange\", line_width=5, alpha=0.6, source=s2)\n",
    "source.callback = CustomJS(args=dict(s2=s2), code=\"\"\"\n",
    "        var inds = cb_obj.selected.indices;\n",
    "        var d = cb_obj.data;\n",
    "        var ym = 0\n",
    "\n",
    "        if (inds.length == 0)\n",
    "            return;\n",
    "\n",
    "        for (var i = 0; i < d['color'].length; i++) {\n",
    "            d['color'][i] = \"navy\"\n",
    "        }\n",
    "        for (var i = 0; i < inds.length; i++) {\n",
    "            d['color'][inds[i]] = \"firebrick\"\n",
    "            ym += d['y'][inds[i]]\n",
    "        }\n",
    "\n",
    "        ym /= inds.length\n",
    "        s2.data['ym'] = [ym, ym]\n",
    "\n",
    "        cb_obj.change.emit();\n",
    "        s2.change.emit();\n",
    "    \"\"\")\n",
    "hover = HoverTool(names=[\"pipe\"])\n",
    "hover.tooltips = [(\"score\", \"@desc\")]\n",
    "p.add_tools(BoxZoomTool(), hover)\n",
    "\n",
    "columns = [\n",
    "    TableColumn(field=\"x\", title=\"Classifier\"),\n",
    "    TableColumn(field=\"y\",title=\"Accuracy\")]\n",
    "\n",
    "for param in all_params:\n",
    "    columns.append(TableColumn(field=param, title=param))\n",
    "\n",
    "data_table = widgetbox(DataTable(source=source, columns=columns,sizing_mode = 'scale_width', fit_columns=False))"
   ]
  },
  {
   "cell_type": "code",
   "execution_count": 248,
   "metadata": {},
   "outputs": [
    {
     "data": {
      "text/html": [
       "\n",
       "\n",
       "\n",
       "\n",
       "\n",
       "\n",
       "  <div class=\"bk-root\" id=\"3d11ecf9-0bfb-4cb0-bc18-3ad83510b026\"></div>\n"
      ]
     },
     "metadata": {},
     "output_type": "display_data"
    },
    {
     "data": {
      "application/javascript": [
       "(function(root) {\n",
       "  function embed_document(root) {\n",
       "    \n",
       "  var docs_json = {\"32726709-5542-4546-be82-ee5cc263ddcc\":{\"roots\":{\"references\":[{\"attributes\":{\"source\":{\"id\":\"1cd38c49-ada1-48f8-b405-719b7de5de10\",\"type\":\"ColumnDataSource\"}},\"id\":\"20826c6f-3228-41e8-a714-8f4ba68eb4d7\",\"type\":\"CDSView\"},{\"attributes\":{\"args\":{\"s2\":{\"id\":\"98d1f50b-6aac-4541-b249-8467f38a27cd\",\"type\":\"ColumnDataSource\"}},\"code\":\"\\n        var inds = cb_obj.selected.indices;\\n        var d = cb_obj.data;\\n        var ym = 0\\n\\n        if (inds.length == 0)\\n            return;\\n\\n        for (var i = 0; i < d['color'].length; i++) {\\n            d['color'][i] = \\\"navy\\\"\\n        }\\n        for (var i = 0; i < inds.length; i++) {\\n            d['color'][inds[i]] = \\\"firebrick\\\"\\n            ym += d['y'][inds[i]]\\n        }\\n\\n        ym /= inds.length\\n        s2.data['ym'] = [ym, ym]\\n\\n        cb_obj.change.emit();\\n        s2.change.emit();\\n    \"},\"id\":\"d4fd820f-154d-4dd2-b92f-3b0c0cefce48\",\"type\":\"CustomJS\"},{\"attributes\":{\"editor\":{\"id\":\"28fb77e7-5b8d-476d-b477-0d8d4fa3ec82\",\"type\":\"StringEditor\"},\"field\":\"x\",\"formatter\":{\"id\":\"34d3e247-3e3d-4a96-81a6-2471ebbfe1bb\",\"type\":\"StringFormatter\"},\"title\":\"Classifier\"},\"id\":\"ff3c729b-c88c-4c2e-985b-3eed8839c101\",\"type\":\"TableColumn\"},{\"attributes\":{},\"id\":\"5a2be745-398b-43ab-8770-eab794252013\",\"type\":\"StringFormatter\"},{\"attributes\":{\"children\":[{\"id\":\"75113680-c131-4538-9516-0adf740f639d\",\"type\":\"DataTable\"}]},\"id\":\"d88a1086-ae78-4f90-b567-13748b019a6c\",\"type\":\"WidgetBox\"},{\"attributes\":{},\"id\":\"a3a41666-3729-473d-bd31-4c1ebace4e48\",\"type\":\"StringEditor\"},{\"attributes\":{},\"id\":\"28fb77e7-5b8d-476d-b477-0d8d4fa3ec82\",\"type\":\"StringEditor\"},{\"attributes\":{},\"id\":\"160bb6a1-f285-480b-b246-15d04e97c880\",\"type\":\"Selection\"},{\"attributes\":{},\"id\":\"2a6cf0db-5cdf-4ac6-8d9d-030083e6ac05\",\"type\":\"UnionRenderers\"},{\"attributes\":{},\"id\":\"6128a901-69db-4fa8-ae26-1c8b41a10fee\",\"type\":\"StringFormatter\"},{\"attributes\":{},\"id\":\"18fe1f83-94d7-4d84-a790-9cb6609420e4\",\"type\":\"StringEditor\"},{\"attributes\":{},\"id\":\"34d3e247-3e3d-4a96-81a6-2471ebbfe1bb\",\"type\":\"StringFormatter\"},{\"attributes\":{},\"id\":\"bd4e6fb6-d52d-4c83-9813-c297703f8a11\",\"type\":\"StringFormatter\"},{\"attributes\":{},\"id\":\"c710f680-4b59-404c-992b-653ecc7437cf\",\"type\":\"StringEditor\"},{\"attributes\":{},\"id\":\"3098c565-0668-4068-84a3-a62fb23d430a\",\"type\":\"StringFormatter\"},{\"attributes\":{},\"id\":\"5411d57f-1565-4280-93a3-ee1e4ae60e84\",\"type\":\"StringFormatter\"},{\"attributes\":{},\"id\":\"867c803e-d5cf-409a-9929-7fa5e351f35d\",\"type\":\"StringEditor\"},{\"attributes\":{},\"id\":\"9f228f8b-84b7-4d9d-b00f-384d5937072f\",\"type\":\"StringEditor\"},{\"attributes\":{},\"id\":\"d615c690-e917-4178-8acd-6ce80b467b46\",\"type\":\"StringEditor\"},{\"attributes\":{},\"id\":\"921a8378-f37a-4d2b-8274-6f86ef3c73f1\",\"type\":\"StringFormatter\"},{\"attributes\":{},\"id\":\"e5c28e43-6583-4e59-bc9b-f606aabbb115\",\"type\":\"StringFormatter\"},{\"attributes\":{},\"id\":\"d084617d-520d-44e6-8ec1-8608d6bb545b\",\"type\":\"StringEditor\"},{\"attributes\":{},\"id\":\"187fb7c3-fce9-464d-a0d7-47fc5c902b5c\",\"type\":\"StringFormatter\"},{\"attributes\":{},\"id\":\"55a3b0d1-95f9-487b-8bef-e9a48a250a20\",\"type\":\"StringEditor\"},{\"attributes\":{},\"id\":\"2321e2f3-df45-4d11-8d6c-bc3d9766e25c\",\"type\":\"StringEditor\"},{\"attributes\":{},\"id\":\"14d382ed-6023-41cf-bee6-c5b3e91b1978\",\"type\":\"StringFormatter\"},{\"attributes\":{},\"id\":\"d184aafd-7a49-4ed1-aa90-8cd19c29c6e7\",\"type\":\"StringFormatter\"},{\"attributes\":{},\"id\":\"d3a881ab-c206-4835-8dfd-27c5b398c955\",\"type\":\"StringEditor\"},{\"attributes\":{},\"id\":\"5e83505d-39ad-4b8b-8503-49fe2a778c77\",\"type\":\"StringFormatter\"},{\"attributes\":{},\"id\":\"dce377c7-6b27-4a17-be79-0c01133394a9\",\"type\":\"StringEditor\"},{\"attributes\":{},\"id\":\"1a18f3f0-05ff-4040-9c35-6631daab916e\",\"type\":\"StringFormatter\"},{\"attributes\":{},\"id\":\"8acad4ec-aeb9-4e0c-9ae5-97bb93e29c4b\",\"type\":\"StringFormatter\"},{\"attributes\":{},\"id\":\"4a42293c-e7a5-49e3-9b98-89b7a4b0c6ce\",\"type\":\"StringEditor\"},{\"attributes\":{},\"id\":\"3694a9e4-9eee-46b0-b0ab-4f7d87dc41c8\",\"type\":\"StringEditor\"},{\"attributes\":{},\"id\":\"2358fd4a-d8c6-4370-b677-6e238733e7af\",\"type\":\"StringEditor\"},{\"attributes\":{\"columns\":[{\"id\":\"ff3c729b-c88c-4c2e-985b-3eed8839c101\",\"type\":\"TableColumn\"},{\"id\":\"2a99fd79-2358-4e1b-a334-6cd6b08c553e\",\"type\":\"TableColumn\"},{\"id\":\"99e81350-bbc7-42c3-9fb9-33d90e174953\",\"type\":\"TableColumn\"},{\"id\":\"6aa544f7-25f6-44de-b605-6539bcf54f54\",\"type\":\"TableColumn\"},{\"id\":\"16c7d745-1b67-4aa8-a1cb-cd5acc3568e9\",\"type\":\"TableColumn\"},{\"id\":\"4fef2405-4f64-49b2-96a5-00f6c82a06f7\",\"type\":\"TableColumn\"},{\"id\":\"b1fa31fc-793c-44d4-bcb2-6acacc8b6a4f\",\"type\":\"TableColumn\"},{\"id\":\"8dda289a-0dbf-463f-acbf-f59957fb80fb\",\"type\":\"TableColumn\"},{\"id\":\"273ac42d-5e87-45de-8b3e-3a5f797ef377\",\"type\":\"TableColumn\"},{\"id\":\"47dc1bec-bbcc-4566-b234-ea16e66732c0\",\"type\":\"TableColumn\"},{\"id\":\"c2138cc1-3c7f-43e6-a0f4-095e80f4dea0\",\"type\":\"TableColumn\"},{\"id\":\"d082a8b3-688d-45b4-9ea2-7f502b65241c\",\"type\":\"TableColumn\"},{\"id\":\"90cf97a7-79ee-49eb-a317-fb8ed6aa2704\",\"type\":\"TableColumn\"},{\"id\":\"42eb8eed-8962-4255-b5ea-7ff69b1ba72a\",\"type\":\"TableColumn\"},{\"id\":\"21978ae1-7a69-4c4e-afff-99962d844fd7\",\"type\":\"TableColumn\"},{\"id\":\"823f1d62-c5a2-467d-ab50-fb419ae93b8c\",\"type\":\"TableColumn\"},{\"id\":\"23d77337-bd67-4151-bda2-9d99cf03ceff\",\"type\":\"TableColumn\"},{\"id\":\"2c699fbd-3449-4e0c-9537-ecd735b55798\",\"type\":\"TableColumn\"},{\"id\":\"70edace9-b3ed-4b28-a44a-30cf5c0bbfdc\",\"type\":\"TableColumn\"},{\"id\":\"47ebbd30-ee6a-447d-ad8b-be77a2517a22\",\"type\":\"TableColumn\"},{\"id\":\"96b28ee2-96b3-4c41-905f-da4862f12c26\",\"type\":\"TableColumn\"},{\"id\":\"c532a0be-29d6-4d44-84e9-2c5836176475\",\"type\":\"TableColumn\"},{\"id\":\"c5bfecd4-fc00-4b8b-b131-6ef3a1d1a0ba\",\"type\":\"TableColumn\"},{\"id\":\"243f7f81-e7f1-42d6-96b3-0442d8d99db2\",\"type\":\"TableColumn\"},{\"id\":\"5babfb0a-b59d-48ea-a7bb-1bb4ae19fa8f\",\"type\":\"TableColumn\"}],\"fit_columns\":false,\"sizing_mode\":\"fixed\",\"source\":{\"id\":\"1cd38c49-ada1-48f8-b405-719b7de5de10\",\"type\":\"ColumnDataSource\"},\"view\":{\"id\":\"20826c6f-3228-41e8-a714-8f4ba68eb4d7\",\"type\":\"CDSView\"}},\"id\":\"75113680-c131-4538-9516-0adf740f639d\",\"type\":\"DataTable\"},{\"attributes\":{},\"id\":\"77eea230-1036-4302-ba0a-51bcbd752a54\",\"type\":\"StringFormatter\"},{\"attributes\":{},\"id\":\"ce01165f-8040-482c-be6f-340c6d7cb7a7\",\"type\":\"StringEditor\"},{\"attributes\":{},\"id\":\"7a3ceb1d-6dcf-4229-899c-4c38302e9537\",\"type\":\"StringFormatter\"},{\"attributes\":{},\"id\":\"5fff829a-bb9a-48cc-b354-2acf740daf72\",\"type\":\"StringEditor\"},{\"attributes\":{},\"id\":\"6f0b4409-bc08-48aa-b2a8-9fd60fc8e923\",\"type\":\"StringFormatter\"},{\"attributes\":{},\"id\":\"ae42500f-66fb-4b04-8265-9ca359171467\",\"type\":\"StringFormatter\"},{\"attributes\":{},\"id\":\"ff734cfb-1bff-48b7-82b2-2be989918960\",\"type\":\"StringFormatter\"},{\"attributes\":{},\"id\":\"9fb0cbcc-9d38-4c6f-9971-f34e313c2d53\",\"type\":\"StringEditor\"},{\"attributes\":{},\"id\":\"5d91accf-afd5-4077-bcc7-2850b4c5b384\",\"type\":\"StringFormatter\"},{\"attributes\":{},\"id\":\"9775de0c-75af-43e1-8b8f-e07f98fec2fc\",\"type\":\"StringEditor\"},{\"attributes\":{},\"id\":\"116185b8-202a-4532-911b-ad8b1c84f07b\",\"type\":\"StringFormatter\"},{\"attributes\":{},\"id\":\"4fd69189-6b0b-4b04-b023-e21265c92b19\",\"type\":\"StringEditor\"},{\"attributes\":{},\"id\":\"3f0fb210-4dbf-4e28-9773-5787f317aa57\",\"type\":\"StringEditor\"},{\"attributes\":{},\"id\":\"2d71855f-6215-4e30-a5ad-89ee255ec591\",\"type\":\"StringEditor\"},{\"attributes\":{\"callback\":{\"id\":\"d4fd820f-154d-4dd2-b92f-3b0c0cefce48\",\"type\":\"CustomJS\"},\"data\":{\"color\":[\"Blue\",\"Blue\",\"Blue\",\"Blue\",\"Blue\",\"Blue\",\"Blue\",\"Blue\",\"Blue\",\"Blue\",\"Blue\",\"Blue\",\"Blue\",\"Blue\",\"Blue\",\"Blue\",\"Blue\",\"Blue\",\"Blue\",\"Blue\",\"Blue\",\"Blue\",\"Blue\",\"Blue\",\"Blue\",\"Blue\",\"Blue\",\"Blue\",\"Blue\",\"Blue\",\"Blue\",\"Blue\",\"Blue\",\"Blue\",\"Blue\",\"Blue\",\"Blue\",\"Blue\",\"Blue\",\"Blue\",\"Blue\",\"Blue\",\"Blue\",\"Blue\",\"Blue\",\"Blue\",\"Blue\",\"Blue\",\"Blue\",\"Blue\",\"Blue\",\"Blue\",\"Blue\",\"Blue\",\"Blue\",\"Blue\",\"Blue\",\"Blue\",\"Blue\",\"Blue\",\"Blue\",\"Blue\",\"Blue\",\"Blue\",\"Blue\",\"Blue\",\"Blue\",\"Blue\",\"Blue\",\"Blue\",\"Blue\",\"Blue\",\"Blue\",\"Blue\",\"Blue\",\"Blue\",\"Blue\",\"Blue\",\"Blue\",\"Blue\",\"Blue\",\"Blue\",\"Blue\",\"Blue\",\"Blue\",\"Blue\",\"Blue\",\"Blue\",\"Blue\",\"Blue\",\"Blue\",\"Blue\",\"Blue\",\"Blue\",\"Blue\",\"Blue\",\"Blue\",\"Blue\",\"Blue\",\"Blue\",\"Blue\",\"Blue\",\"Blue\",\"Blue\",\"Blue\",\"Blue\",\"Blue\",\"Blue\",\"Blue\",\"Blue\",\"Blue\",\"Blue\",\"Blue\",\"Blue\",\"Blue\",\"Blue\",\"Blue\",\"Blue\",\"Blue\",\"Blue\",\"Blue\",\"Blue\",\"Blue\",\"Blue\",\"Blue\",\"Blue\",\"Blue\",\"Blue\",\"Blue\",\"Blue\",\"Blue\",\"Blue\",\"Blue\",\"Blue\",\"Blue\",\"Blue\",\"Blue\",\"Blue\",\"Blue\",\"Blue\",\"Blue\",\"Blue\",\"Blue\",\"Blue\",\"Blue\",\"Blue\",\"Blue\",\"Blue\",\"Blue\",\"Blue\",\"Blue\",\"Blue\",\"Blue\",\"Blue\",\"Blue\",\"Blue\",\"Blue\",\"Blue\",\"Blue\",\"Blue\",\"Blue\",\"Blue\",\"Blue\",\"Blue\",\"Blue\",\"Blue\",\"Blue\",\"Blue\",\"Blue\",\"Blue\",\"Blue\",\"Blue\",\"Blue\",\"Blue\",\"Blue\",\"Blue\",\"Blue\",\"Blue\",\"Blue\",\"Blue\",\"Blue\",\"Blue\",\"Blue\",\"Blue\",\"Blue\",\"Blue\",\"Blue\",\"Blue\",\"Blue\",\"Blue\",\"Blue\",\"Blue\",\"Blue\",\"Blue\",\"Blue\",\"Blue\",\"Blue\",\"Blue\",\"Blue\",\"Blue\",\"Blue\",\"Blue\",\"Blue\",\"Blue\",\"Blue\",\"Blue\",\"Blue\",\"Blue\",\"Blue\",\"Blue\",\"Blue\",\"Blue\",\"Blue\",\"Blue\",\"Blue\",\"Blue\",\"Blue\",\"Blue\",\"Blue\",\"Blue\",\"Blue\",\"Blue\",\"Blue\",\"Blue\",\"Blue\",\"Blue\",\"Blue\",\"Blue\",\"Blue\",\"Blue\",\"Blue\",\"Blue\",\"Blue\",\"Blue\",\"Blue\",\"Blue\",\"Blue\",\"Blue\",\"Blue\",\"Blue\",\"Blue\",\"Blue\",\"Blue\",\"Blue\",\"Blue\",\"Blue\",\"Blue\",\"Blue\",\"Blue\",\"Blue\",\"Blue\",\"Blue\",\"Blue\",\"Blue\",\"Blue\",\"Blue\",\"Blue\",\"Blue\",\"Blue\",\"Blue\",\"Blue\",\"Blue\",\"Blue\",\"Blue\",\"Blue\",\"Blue\",\"Blue\",\"Blue\",\"Blue\",\"Blue\",\"Blue\",\"Blue\",\"Blue\",\"Blue\",\"Blue\",\"Blue\",\"Blue\",\"Blue\",\"Blue\",\"Blue\",\"Blue\",\"Blue\",\"Blue\",\"Blue\",\"Blue\",\"Blue\",\"Blue\",\"Blue\",\"Blue\",\"Blue\",\"Blue\",\"Blue\",\"Blue\",\"Blue\",\"Blue\",\"Blue\",\"Blue\",\"Blue\",\"Blue\",\"Blue\",\"Blue\",\"Blue\",\"Blue\",\"Blue\",\"Blue\",\"Blue\",\"Blue\",\"Blue\",\"Blue\",\"Blue\",\"Blue\",\"Blue\",\"Blue\",\"Blue\",\"Blue\",\"Blue\",\"Blue\",\"Blue\",\"Blue\",\"Blue\",\"Blue\",\"Blue\",\"Blue\",\"Blue\",\"Blue\",\"Blue\",\"Blue\",\"Blue\",\"Blue\",\"Blue\",\"Blue\",\"Blue\",\"Blue\",\"Blue\",\"Blue\",\"Blue\",\"Blue\",\"Blue\",\"Blue\",\"Blue\",\"Blue\",\"Blue\",\"Blue\",\"Blue\",\"Blue\",\"Blue\",\"Blue\",\"Blue\",\"Blue\",\"Blue\",\"Blue\",\"Blue\",\"Blue\",\"Blue\",\"Blue\",\"Blue\",\"Blue\",\"Blue\",\"Blue\",\"Blue\",\"Blue\",\"Blue\",\"Blue\",\"Blue\",\"Blue\",\"Blue\",\"Blue\",\"Blue\",\"Blue\",\"Blue\",\"Blue\",\"Blue\",\"Blue\",\"Blue\",\"Blue\",\"Blue\",\"Blue\",\"Blue\",\"Blue\",\"Blue\",\"Blue\",\"Blue\",\"Blue\",\"Blue\",\"Blue\",\"Blue\",\"Blue\",\"Blue\",\"Blue\",\"Blue\",\"Blue\",\"Blue\",\"Blue\",\"Blue\",\"Blue\",\"Blue\",\"Blue\",\"Blue\",\"Blue\",\"Blue\",\"Blue\",\"Blue\",\"Blue\",\"Blue\",\"Blue\",\"Blue\",\"Blue\",\"Blue\",\"Blue\",\"Blue\",\"Blue\",\"Blue\",\"Blue\",\"Blue\",\"Blue\",\"Blue\",\"Blue\",\"Blue\",\"Blue\",\"Blue\",\"Blue\",\"Blue\",\"Blue\",\"Blue\",\"Blue\",\"Blue\",\"Blue\",\"Blue\",\"Blue\",\"Blue\",\"Blue\",\"Blue\",\"Blue\",\"Blue\",\"Blue\",\"Blue\",\"Blue\",\"Blue\",\"Blue\",\"Blue\",\"Blue\",\"Blue\",\"Blue\",\"Blue\",\"Blue\",\"Blue\",\"Blue\",\"Blue\",\"Blue\",\"Blue\",\"Blue\",\"Blue\",\"Blue\",\"Blue\",\"Blue\",\"Blue\",\"Blue\",\"Blue\",\"Blue\",\"Blue\",\"Blue\",\"Blue\",\"Blue\",\"Blue\",\"Blue\",\"Blue\",\"Blue\",\"Blue\",\"Blue\",\"Blue\",\"Blue\",\"Blue\",\"Blue\",\"Blue\",\"Blue\",\"Blue\",\"Blue\",\"Blue\",\"Blue\",\"Blue\",\"Blue\",\"Blue\",\"Blue\",\"Blue\",\"Blue\",\"Blue\",\"Blue\",\"Blue\",\"Blue\",\"Blue\",\"Blue\",\"Blue\",\"Blue\",\"Blue\",\"Blue\",\"Blue\",\"Blue\",\"Blue\",\"Blue\",\"Blue\",\"Blue\",\"Blue\",\"Blue\",\"Blue\",\"Blue\",\"Blue\",\"Blue\",\"Blue\",\"Blue\",\"Blue\",\"Blue\",\"Blue\",\"Blue\",\"Blue\",\"Blue\",\"Blue\",\"Blue\",\"Blue\",\"Blue\",\"Blue\",\"Blue\",\"Blue\",\"Blue\",\"Blue\",\"Blue\",\"Blue\",\"Blue\",\"Blue\",\"Blue\",\"Blue\",\"Blue\",\"Blue\",\"Blue\",\"Blue\",\"Blue\",\"Blue\",\"Blue\",\"Blue\",\"Blue\",\"Blue\",\"Blue\",\"Blue\",\"Blue\",\"Blue\",\"Blue\",\"Blue\",\"Blue\",\"Blue\",\"Blue\",\"Blue\",\"Blue\",\"Blue\",\"Blue\",\"Blue\",\"Blue\",\"Blue\",\"Blue\",\"Blue\",\"Blue\",\"Blue\",\"Blue\",\"Blue\",\"Blue\",\"Blue\",\"Blue\",\"Blue\",\"Blue\",\"Blue\",\"Blue\",\"Blue\",\"Blue\",\"Blue\",\"Blue\",\"Blue\",\"Blue\",\"Blue\",\"Blue\",\"Blue\",\"Blue\",\"Blue\",\"Blue\",\"Blue\",\"Blue\",\"Blue\",\"Blue\",\"Blue\",\"Blue\",\"Blue\",\"Blue\",\"Blue\",\"Blue\",\"Blue\",\"Blue\",\"Blue\",\"Blue\",\"Blue\",\"Blue\",\"Blue\",\"Blue\",\"Blue\",\"Blue\",\"Blue\",\"Blue\",\"Blue\",\"Blue\",\"Blue\",\"Blue\",\"Blue\",\"Blue\",\"Blue\",\"Blue\",\"Blue\",\"Blue\",\"Blue\",\"Blue\",\"Blue\",\"Blue\",\"Blue\",\"Blue\",\"Blue\",\"Blue\",\"Blue\",\"Blue\",\"Blue\",\"Blue\",\"Blue\",\"Blue\",\"Blue\",\"Blue\",\"Blue\",\"Blue\",\"Blue\",\"Blue\",\"Blue\",\"Blue\",\"Blue\",\"Blue\",\"Blue\",\"Blue\",\"Blue\",\"Blue\",\"Blue\",\"Blue\",\"Blue\",\"Blue\",\"Blue\",\"Blue\",\"Blue\",\"Blue\",\"Blue\",\"Blue\",\"Blue\",\"Blue\",\"Blue\",\"Blue\",\"Blue\",\"Blue\",\"Blue\",\"Blue\",\"Blue\",\"Blue\",\"Blue\",\"Blue\",\"Blue\",\"Blue\",\"Blue\",\"Blue\",\"Blue\",\"Blue\",\"Blue\",\"Blue\",\"Blue\",\"Blue\",\"Blue\",\"Blue\",\"Blue\",\"Blue\",\"Blue\",\"Blue\",\"Blue\",\"Blue\",\"Blue\",\"Blue\",\"Blue\",\"Blue\",\"Blue\",\"Blue\",\"Blue\",\"Blue\",\"Blue\",\"Blue\",\"Blue\",\"Blue\",\"Blue\",\"Blue\",\"Blue\",\"Blue\",\"Blue\",\"Blue\",\"Blue\",\"Blue\",\"Blue\",\"Blue\",\"Blue\",\"Blue\",\"Blue\",\"Blue\",\"Blue\",\"Blue\",\"Blue\",\"Blue\",\"Blue\",\"Blue\",\"Blue\",\"Blue\",\"Blue\",\"Blue\",\"Blue\",\"Blue\",\"Blue\",\"Blue\",\"Blue\",\"Blue\",\"Blue\",\"Blue\",\"Blue\",\"Blue\",\"Blue\",\"Blue\",\"Blue\",\"Blue\",\"Blue\",\"Blue\",\"Blue\",\"Blue\",\"Blue\",\"Blue\",\"Blue\",\"Blue\",\"Blue\",\"Blue\",\"Blue\",\"Blue\",\"Blue\",\"Blue\",\"Blue\",\"Blue\",\"Blue\",\"Blue\",\"Blue\",\"Blue\",\"Blue\",\"Blue\",\"Blue\",\"Blue\",\"Blue\",\"Blue\",\"Blue\",\"Blue\",\"Blue\",\"Blue\",\"Blue\",\"Blue\",\"Blue\",\"Blue\",\"Blue\",\"Blue\",\"Blue\",\"Blue\",\"Blue\",\"Blue\",\"Blue\",\"Blue\",\"Blue\",\"Blue\",\"Blue\",\"Blue\",\"Blue\",\"Blue\",\"Blue\",\"Blue\",\"Blue\",\"Blue\",\"Blue\",\"Blue\",\"Blue\",\"Blue\",\"Blue\",\"Blue\",\"Blue\",\"Blue\",\"Blue\",\"Blue\",\"Blue\",\"Blue\",\"Blue\",\"Blue\",\"Blue\",\"Blue\",\"Blue\",\"Blue\",\"Blue\",\"Blue\",\"Blue\",\"Blue\",\"Blue\",\"Blue\",\"Blue\",\"Blue\",\"Blue\",\"Blue\",\"Blue\",\"Blue\",\"Blue\",\"Blue\",\"Blue\",\"Blue\",\"Blue\",\"Blue\",\"Blue\",\"Blue\",\"Blue\",\"Blue\",\"Blue\",\"Blue\",\"Blue\",\"Blue\",\"Blue\",\"Blue\",\"Blue\",\"Blue\",\"Blue\",\"Blue\",\"Blue\",\"Blue\",\"Blue\",\"Blue\",\"Blue\",\"Blue\",\"Blue\",\"Blue\",\"Blue\",\"Blue\",\"Blue\",\"Blue\",\"Blue\",\"Blue\",\"Blue\",\"Blue\",\"Blue\",\"Blue\",\"Blue\",\"Blue\",\"Blue\",\"Blue\",\"Blue\",\"Blue\",\"Blue\",\"Blue\",\"Blue\",\"Blue\",\"Blue\",\"Blue\",\"Blue\",\"Blue\",\"Blue\",\"Blue\",\"Blue\",\"Blue\",\"Blue\",\"Blue\",\"Blue\",\"Blue\",\"Blue\",\"Blue\",\"Blue\",\"Blue\",\"Blue\",\"Blue\",\"Blue\",\"Blue\",\"Blue\",\"Blue\",\"Blue\",\"Blue\",\"Blue\",\"Blue\",\"Blue\",\"Blue\",\"Blue\",\"Blue\",\"Blue\",\"Blue\",\"Blue\",\"Blue\",\"Blue\",\"Blue\",\"Blue\",\"Blue\",\"Blue\",\"Blue\",\"Blue\",\"Blue\",\"Blue\",\"Blue\",\"Blue\",\"Blue\",\"Blue\",\"Blue\",\"Blue\",\"Blue\",\"Blue\",\"Blue\",\"Blue\",\"Blue\",\"Blue\",\"Blue\",\"Blue\",\"Blue\",\"Blue\",\"Blue\",\"Blue\",\"Blue\",\"Blue\",\"Blue\",\"Blue\",\"Blue\",\"Blue\",\"Blue\",\"Blue\",\"Blue\",\"Blue\",\"Blue\",\"Blue\",\"Blue\",\"Blue\",\"Blue\",\"Blue\",\"Blue\",\"Blue\",\"Blue\",\"Blue\",\"Blue\",\"Blue\",\"Blue\",\"Blue\",\"Blue\",\"Blue\",\"Blue\",\"Blue\",\"Blue\",\"Blue\",\"Blue\",\"Blue\",\"Blue\",\"Blue\",\"Blue\",\"Blue\",\"Blue\",\"Blue\",\"Blue\",\"Blue\",\"Blue\",\"Blue\",\"Blue\",\"Blue\",\"Blue\",\"Blue\",\"Blue\",\"Blue\",\"Blue\",\"Blue\",\"Blue\",\"Blue\",\"Blue\",\"Blue\",\"Blue\",\"Blue\",\"Blue\",\"Blue\",\"Blue\",\"Blue\",\"Blue\",\"Blue\",\"Blue\",\"Blue\",\"Blue\",\"Blue\",\"Blue\",\"Blue\",\"Blue\",\"Blue\",\"Blue\",\"Blue\",\"Blue\",\"Blue\",\"Blue\",\"Blue\",\"Blue\",\"Blue\",\"Blue\",\"Blue\",\"Blue\",\"Blue\",\"Blue\",\"Blue\",\"Blue\",\"Blue\",\"Blue\",\"Blue\",\"Blue\",\"Blue\",\"Blue\",\"Blue\",\"Blue\",\"Blue\",\"Blue\",\"Blue\",\"Blue\",\"Blue\",\"Blue\",\"Blue\",\"Blue\",\"Blue\",\"Blue\",\"Blue\",\"Blue\",\"Blue\",\"Blue\",\"Blue\",\"Blue\",\"Blue\",\"Blue\",\"Blue\",\"Blue\",\"Blue\",\"Blue\",\"Blue\",\"Blue\",\"Blue\",\"Blue\",\"Blue\",\"Blue\",\"Blue\",\"Blue\",\"Blue\",\"Blue\",\"Blue\",\"Blue\",\"Blue\",\"Blue\",\"Blue\",\"Blue\",\"Blue\",\"Blue\",\"Blue\",\"Blue\",\"Blue\",\"Blue\",\"Blue\",\"Blue\",\"Blue\",\"Blue\",\"Blue\",\"Blue\",\"Blue\",\"Blue\",\"Blue\",\"Blue\",\"Blue\",\"Blue\",\"Blue\",\"Blue\",\"Blue\",\"Blue\",\"Blue\",\"Blue\",\"Blue\",\"Blue\",\"Blue\",\"Blue\",\"Blue\",\"Blue\",\"Blue\",\"Blue\",\"Blue\",\"Blue\",\"Blue\",\"Blue\",\"Blue\",\"Blue\",\"Blue\",\"Blue\",\"Blue\",\"Blue\",\"Blue\",\"Blue\",\"Blue\",\"Blue\",\"Blue\",\"Blue\",\"Blue\",\"Blue\",\"Blue\",\"Blue\",\"Blue\",\"Blue\",\"Blue\",\"Blue\",\"Blue\",\"Blue\",\"Blue\",\"Blue\",\"Blue\",\"Blue\",\"Blue\",\"Blue\",\"Blue\",\"Blue\",\"Blue\",\"Blue\",\"Blue\",\"Blue\",\"Blue\",\"Blue\",\"Blue\",\"Blue\",\"Blue\",\"Blue\",\"Blue\",\"Blue\",\"Blue\",\"Blue\",\"Blue\",\"Blue\",\"Blue\",\"Blue\",\"Blue\",\"Blue\",\"Blue\",\"Blue\",\"Blue\",\"Blue\",\"Blue\",\"Blue\",\"Blue\",\"Blue\",\"Blue\",\"Blue\",\"Blue\",\"Blue\",\"Blue\",\"Blue\",\"Blue\",\"Blue\",\"Blue\",\"Blue\",\"Blue\",\"Blue\",\"Blue\",\"Blue\",\"Blue\",\"Blue\",\"Blue\",\"Blue\",\"Blue\",\"Blue\",\"Blue\",\"Blue\",\"Blue\",\"Blue\",\"Blue\",\"Blue\",\"Blue\",\"Blue\",\"Blue\",\"Blue\",\"Blue\",\"Blue\",\"Blue\",\"Blue\",\"Blue\",\"Blue\",\"Blue\",\"Blue\",\"Blue\",\"Blue\",\"Blue\",\"Blue\",\"Blue\",\"Blue\",\"Blue\",\"Blue\",\"Blue\",\"Blue\",\"Blue\",\"Blue\",\"Blue\",\"Blue\",\"Blue\",\"Blue\",\"Blue\",\"Blue\",\"Blue\",\"Blue\",\"Blue\",\"Blue\",\"Blue\",\"Blue\",\"Blue\",\"Blue\",\"Blue\",\"Blue\",\"Blue\",\"Blue\",\"Blue\",\"Blue\",\"Blue\",\"Blue\",\"Blue\",\"Blue\",\"Blue\",\"Blue\",\"Blue\",\"Blue\",\"Blue\",\"Blue\",\"Blue\",\"Blue\",\"Blue\",\"Blue\",\"Blue\",\"Blue\",\"Blue\",\"Blue\",\"Blue\",\"Blue\",\"Blue\",\"Blue\",\"Blue\",\"Blue\",\"Blue\",\"Blue\",\"Blue\",\"Blue\",\"Blue\",\"Blue\",\"Blue\",\"Blue\",\"Blue\",\"Blue\",\"Blue\",\"Blue\",\"Blue\",\"Blue\",\"Blue\",\"Blue\",\"Blue\",\"Blue\",\"Blue\",\"Blue\",\"Blue\",\"Blue\",\"Blue\",\"Blue\",\"Blue\",\"Blue\",\"Blue\",\"Blue\",\"Blue\",\"Blue\",\"Blue\",\"Blue\",\"Blue\",\"Blue\",\"Blue\",\"Blue\",\"Blue\",\"Blue\",\"Blue\",\"Blue\",\"Blue\",\"Blue\",\"Blue\",\"Blue\",\"Blue\",\"Blue\",\"Blue\",\"Blue\",\"Blue\",\"Blue\",\"Blue\",\"Blue\",\"Blue\",\"Blue\",\"Blue\",\"Blue\",\"Blue\",\"Blue\",\"Blue\",\"Blue\",\"Blue\",\"Blue\",\"Blue\",\"Blue\",\"Blue\",\"Blue\",\"Blue\",\"Blue\",\"Blue\",\"Blue\",\"Blue\",\"Blue\",\"Blue\",\"Blue\",\"Blue\",\"Blue\",\"Blue\",\"Blue\",\"Blue\",\"Blue\",\"Blue\",\"Blue\",\"Blue\",\"Blue\",\"Blue\",\"Blue\",\"Blue\",\"Blue\",\"Blue\",\"Blue\",\"Blue\",\"Blue\",\"Blue\",\"Blue\",\"Blue\",\"Blue\",\"Blue\",\"Blue\",\"Blue\",\"Blue\",\"Blue\",\"Blue\",\"Blue\",\"Blue\",\"Blue\",\"Blue\",\"Blue\",\"Blue\",\"Blue\",\"Blue\",\"Blue\",\"Blue\",\"Blue\",\"Blue\",\"Blue\",\"Blue\",\"Blue\",\"Blue\",\"Blue\",\"Blue\",\"Blue\",\"Blue\",\"Blue\",\"Blue\",\"Blue\",\"Blue\",\"Blue\",\"Blue\",\"Blue\",\"Blue\",\"Blue\",\"Blue\",\"Blue\",\"Blue\",\"Blue\",\"Blue\",\"Blue\",\"Blue\",\"Blue\",\"Blue\",\"Blue\",\"Blue\",\"Blue\",\"Blue\",\"Blue\",\"Blue\",\"Blue\",\"Blue\",\"Blue\",\"Blue\",\"Blue\",\"Blue\",\"Blue\",\"Blue\",\"Blue\",\"Blue\",\"Blue\",\"Blue\",\"Blue\",\"Blue\",\"Blue\",\"Blue\",\"Blue\",\"Blue\",\"Blue\",\"Blue\",\"Blue\",\"Blue\",\"Blue\",\"Blue\",\"Blue\",\"Blue\",\"Blue\",\"Blue\",\"Blue\",\"Blue\",\"Blue\",\"Blue\",\"Blue\",\"Blue\",\"Blue\",\"Blue\",\"Blue\",\"Blue\",\"Blue\",\"Blue\",\"Blue\",\"Blue\",\"Blue\",\"Blue\",\"Blue\",\"Blue\",\"Blue\",\"Blue\",\"Blue\",\"Blue\",\"Blue\",\"Blue\",\"Blue\",\"Blue\",\"Blue\",\"Blue\",\"Blue\",\"Blue\",\"Blue\",\"Blue\",\"Blue\",\"Blue\",\"Blue\",\"Blue\",\"Blue\",\"Blue\",\"Blue\",\"Blue\",\"Blue\",\"Blue\",\"Blue\",\"Blue\",\"Blue\",\"Blue\",\"Blue\",\"Blue\",\"Blue\",\"Blue\",\"Blue\",\"Blue\",\"Blue\",\"Blue\",\"Blue\",\"Blue\",\"Blue\",\"Blue\",\"Blue\",\"Blue\",\"Blue\",\"Blue\",\"Blue\",\"Blue\",\"Blue\",\"Blue\",\"Blue\",\"Blue\",\"Blue\",\"Blue\",\"Blue\",\"Blue\",\"Blue\",\"Blue\",\"Blue\",\"Blue\",\"Blue\",\"Blue\",\"Blue\",\"Blue\",\"Blue\",\"Blue\",\"Blue\",\"Blue\",\"Blue\",\"Blue\",\"Blue\",\"Blue\",\"Blue\",\"Blue\",\"Blue\",\"Blue\",\"Blue\",\"Blue\",\"Blue\",\"Blue\",\"Blue\",\"Blue\",\"Blue\",\"Blue\",\"Blue\",\"Blue\",\"Blue\",\"Blue\",\"Blue\",\"Blue\",\"Blue\",\"Blue\",\"Blue\",\"Blue\",\"Blue\",\"Blue\",\"Blue\",\"Blue\",\"Blue\",\"Blue\",\"Blue\",\"Blue\",\"Blue\",\"Blue\",\"Blue\",\"Blue\",\"Blue\",\"Blue\",\"Blue\",\"Blue\",\"Blue\",\"Blue\",\"Blue\",\"Blue\",\"Blue\",\"Blue\",\"Blue\",\"Blue\",\"Blue\",\"Blue\",\"Blue\",\"Blue\",\"Blue\",\"Blue\",\"Blue\",\"Blue\",\"Blue\",\"Blue\",\"Blue\",\"Blue\",\"Blue\",\"Blue\",\"Blue\",\"Blue\",\"Blue\",\"Blue\",\"Blue\",\"Blue\",\"Blue\",\"Blue\",\"Blue\",\"Blue\",\"Blue\",\"Blue\",\"Blue\",\"Blue\",\"Blue\",\"Blue\",\"Blue\",\"Blue\",\"Blue\",\"Blue\",\"Blue\",\"Blue\",\"Blue\",\"Blue\",\"Blue\",\"Blue\",\"Blue\",\"Blue\",\"Blue\",\"Blue\",\"Blue\",\"Blue\",\"Blue\",\"Blue\",\"Blue\",\"Blue\",\"Blue\",\"Blue\",\"Blue\",\"Blue\",\"Blue\",\"Blue\",\"Blue\",\"Blue\",\"Blue\",\"Blue\",\"Blue\",\"Blue\",\"Blue\",\"Blue\",\"Blue\",\"Blue\",\"Blue\",\"Blue\",\"Blue\",\"Blue\",\"Blue\",\"Blue\",\"Blue\",\"Blue\",\"Blue\"],\"desc\":[0.18997183442115784,0.00015463917225133628,0.18997183442115784,0.00020565552404150367,0.00020565552404150367,0.18997183442115784,0.00020565552404150367,0.18997183442115784,0.00020565552404150367,0.18997183442115784,0.719490647315979,0.1782020777463913,0.719490647315979,0.1782020777463913,0.1823423206806183,0.719490647315979,0.18224875628948212,0.719490647315979,0.1718955934047699,0.719490647315979,0.1782020777463913,0.1782020777463913,0.1801651269197464,0.719490647315979,0.1782020777463913,0.7123376727104187,0.1785563975572586,0.719490647315979,0.7170858383178711,0.17846988141536713,0.7002525329589844,0.7077900171279907,0.7002525329589844,0.7077900171279907,0.7077900171279907,0.7002525329589844,0.7091977000236511,0.7002525329589844,0.7077900171279907,0.7002525329589844,0.7002525329589844,0.7002525329589844,0.7002525329589844,0.7077900171279907,0.7077900171279907,0.7002525329589844,0.7002525329589844,0.7002525329589844,0.7002525329589844,0.7002525329589844,0.7165773510932922,0.6900526881217957,0.7165773510932922,0.6900526881217957,0.6874877214431763,0.7174662351608276,0.6830037832260132,0.7165773510932922,0.6885743141174316,0.7165773510932922,0.18997183442115784,0.18997183442115784,0.00020565552404150367,0.18997183442115784,0.00020565552404150367,0.00020565552404150367,0.18997183442115784,0.00020565552404150367,0.18997183442115784,0.00020565552404150367,0.18997183442115784,0.719490647315979,0.1782020777463913,0.7090663909912109,0.1726454645395279,0.7116060853004456,0.17033155262470245,0.16829940676689148,0.7136681079864502,0.17684680223464966,0.7079458832740784,0.17486454546451569,0.7116060853004456,0.7002525329589844,0.7077900171279907,0.7077900171279907,0.7077900171279907,0.7077900171279907,0.7077900171279907,0.7002525329589844,0.7077900171279907,0.7106451988220215,0.7014646530151367,0.7108039259910583,0.7294228076934814,0.7237994074821472,0.6894227862358093,0.6933580040931702,0.6992265582084656,0.7038456201553345,0.7108039259910583,0.7165773510932922,0.11908617615699768,0.09396111965179443,0.6900526881217957,0.6611385345458984,0.0585605725646019,0.0578530877828598,0.0845116376876831,0.10226677358150482,0.08559395372867584,0.6211278438568115,0.0845116376876831,0.17456494271755219,0.0645742118358612,0.05875640735030174,0.17427358031272888,0.11911144107580185,0.3185434937477112,0.11745823174715042,0.4582141041755676,0.17427358031272888,0.719794511795044,0.6900526881217957,0.5041384696960449,0.7165773510932922,0.3921639323234558,0.2438136339187622,0.10163185000419617,0.20708300173282623,0.10163185000419617,0.7225232124328613,0.6884480714797974,0.7225232124328613,0.69720059633255,0.7004591226577759,0.7174662351608276,0.7040117383003235,0.7293037176132202,0.6932503581047058,0.7225232124328613,0.726803719997406,0.6899011731147766,0.6907181143760681,0.7378333210945129,0.7378333210945129,0.7174662351608276,0.7225232124328613,0.7278688549995422,0.726803719997406,0.69720059633255,0.7293037176132202,0.6884480714797974,0.7225232124328613,0.6991089582443237,0.6892532706260681,0.6974155902862549,0.726803719997406,0.7278688549995422,0.7359436750411987,0.686578631401062,0.7278688549995422,0.6953917741775513,0.7142271995544434,0.7278688549995422,0.7293037176132202,0.7225232124328613,0.7378333210945129,0.7398679852485657,0.6884480714797974,0.6953917741775513,0.00015463917225133628,0.18928010761737823,0.00020565552404150367,0.00020565552404150367,0.18997183442115784,0.00020565552404150367,0.1894116848707199,0.00020565552404150367,0.18961384892463684,0.18997183442115784,0.1606130748987198,0.00020565552404150367,0.18997183442115784,0.18997183442115784,0.18966472148895264,0.00020565552404150367,0.18997183442115784,0.12589210271835327,0.00020565552404150367,0.17226721346378326,0.00015463917225133628,0.17168119549751282,0.00020565552404150367,0.16084909439086914,0.18997183442115784,0.02562584914267063,0.00015463917225133628,0.15285342931747437,0.00020565552404150367,0.18528011441230774,0.00020565552404150367,0.1824813336133957,0.18997183442115784,0.02454465441405773,0.18928010761737823,0.00020565552404150367,0.24742940068244934,0.7118744850158691,0.0026421211659908295,0.2343609780073166,0.7200223803520203,0.24054177105426788,0.713411271572113,0.2524145543575287,0.7105887532234192,0.24905644357204437,0.7141175866127014,0.7164192199707031,0.48565760254859924,0.25153300166130066,0.1774992048740387,0.5152212977409363,0.7169696688652039,0.23682290315628052,0.6803665161132812,0.7099668383598328,0.49748319387435913,0.25153300166130066,0.24097199738025665,0.7276031970977783,0.7220461964607239,0.22953438758850098,0.23403620719909668,0.704673171043396,0.24742940068244934,0.7183383703231812,0.6980295777320862,0.011939325369894505,0.549620509147644,0.6957714557647705,0.7377965450286865,0.6867654919624329,0.7281031608581543,0.6875641942024231,0.6909235119819641,0.7327633500099182,0.7009811997413635,0.7431111335754395,0.479098379611969,0.5244136452674866,0.6984480619430542,0.7518730163574219,0.7104198336601257,0.7487778067588806,0.7069588899612427,0.7099241018295288,0.025517484173178673,0.4587857127189636,0.7166199088096619,0.7300959825515747,0.7094494700431824,0.7084299921989441,0.7229653596878052,0.7165773510932922,0.01900404691696167,0.7096306085586548,0.46568921208381653,0.6951860785484314,0.708088219165802,0.4657331705093384,0.6957041621208191,0.08901242911815643,0.4834159314632416,0.019977815449237823,0.031657639890909195,0.010869565419852734,0.00020565552404150367,0.019208546727895737,0.04462467506527901,0.002710526343435049,0.040708545595407486,0.007278745528310537,0.013655172660946846,0.0010884354123845696,0.04209604859352112,0.034904371947050095,0.00021052631200291216,0.00020565552404150367,0.0783742219209671,0.03748190030455589,0.018586497753858566,0.12898972630500793,0.006093070842325687,0.20716509222984314,0.18884995579719543,0.23330058157444,0.019569523632526398,0.1845424324274063,0.17628389596939087,0.1692611277103424,0.17341406643390656,0.16324643790721893,0.17960773408412933,0.09900861233472824,0.09780912846326828,0.1799885332584381,0.20010720193386078,0.18408213555812836,0.1821455955505371,0.1658228486776352,0.1931309849023819,0.183107390999794,0.19344007968902588,0.15890507400035858,0.1720285415649414,0.17876408994197845,0.1490277349948883,0.2169564813375473,0.12521407008171082,0.16716833412647247,0.1826132982969284,0.17862237989902496,0.2036985605955124,0.20463186502456665,0.13147810101509094,0.22577206790447235,0.11440546810626984,0.1323980838060379,0.11171939969062805,0.15402276813983917,0.15067966282367706,0.12828123569488525,0.13403230905532837,0.1054157093167305,0.13831660151481628,0.1557599902153015,0.09566833078861237,0.14002104103565216,0.14379118382930756,0.13450148701667786,0.15124839544296265,0.13145242631435394,0.12995639443397522,0.06040611490607262,0.06040611490607262,0.06977316737174988,0.09961539506912231,0.07378822565078735,0.2323334813117981,0.09663248807191849,0.22780320048332214,0.2413777858018875,0.1096561998128891,0.05267901346087456,0.6881649494171143,0.28078627586364746,0.13186824321746826,0.5100804567337036,0.7280223369598389,0.5407678484916687,0.4179190397262573,0.6938621401786804,0.5809410214424133,0.6000391244888306,0.6168208122253418,0.7160679697990417,0.3938378691673279,0.17392486333847046,0.5556142926216125,0.16135065257549286,0.5727819204330444,0.7225692868232727,0.21272948384284973,0.00015706806152593344,0.695275604724884,0.004999999888241291,0.758698582649231,0.5953922867774963,0.7212647795677185,0.6340314745903015,0.5424187183380127,0.6992900967597961,0.7111536860466003,0.5592970848083496,0.7044913172721863,0.6742169260978699,0.7216581702232361,0.42993390560150146,0.7270007133483887,0.5005627274513245,0.663597583770752,0.015457912348210812,0.7243809700012207,0.7281233668327332,0.01815873011946678,0.7406565546989441,0.7084251046180725,0.004999999888241291,0.08046474307775497,0.7092888355255127,0.6253544688224792,0.6793649792671204,0.054023414850234985,0.1431197226047516,0.7095621228218079,0.5886353850364685,0.6706017255783081,0.0070682247169315815,0.6809805631637573,0.5509621500968933,0.713136613368988,0.0,0.7026933431625366,0.1654045581817627,0.6264036297798157,0.0543212853372097,0.1388031542301178,0.045926015824079514,0.04698560759425163,0.05261601507663727,0.024333324283361435,0.6067422032356262,0.08338366448879242,0.15186282992362976,0.09935154020786285,0.016316624358296394,0.06847943365573883,0.06576318293809891,0.13200950622558594,0.04665577784180641,0.015531296841800213,0.0532507449388504,0.10548285394906998,0.003075722139328718,0.6401363611221313,0.01796286180615425,0.524742841720581,0.05993189662694931,0.6956331729888916,0.03525163605809212,0.6216787695884705,0.19682857394218445,0.621181845664978,0.01663289964199066,0.6721103191375732,0.6650599837303162,0.15925580263137817,0.555708646774292,0.64860999584198,0.5721561312675476,0.561118483543396,0.650238037109375,0.5382136702537537,0.5176438093185425,0.5800924897193909,0.6571627855300903,0.4677983522415161,0.6294653415679932,0.6642701029777527,0.7000465393066406,0.6152037978172302,0.18286557495594025,0.618589460849762,0.5800856947898865,0.00015267175331246108,0.00020565552404150367,0.01545812375843525,0.039719924330711365,0.00020725389185827225,0.056170545518398285,0.008856330998241901,0.0033922134898602962,0.0,0.027177779003977776,0.1675458401441574,0.18500179052352905,0.17404209077358246,0.179957315325737,0.19817528128623962,0.009492997080087662,0.0,0.14776906371116638,0.16341926157474518,0.13777703046798706,0.1318611204624176,0.15447959303855896,0.1467014104127884,0.019233711063861847,0.006725274957716465,0.15461423993110657,0.15709076821804047,0.1574167162179947,0.15448980033397675,0.1383296549320221,0.13524475693702698,0.0276383925229311,0.22565850615501404,0.30363577604293823,0.18306005001068115,0.2617913782596588,0.13887202739715576,0.24124380946159363,0.1499255746603012,0.23328983783721924,0.27834680676460266,0.3192387819290161,0.35390666127204895,0.2032575160264969,0.24335737526416779,0.24660106003284454,0.29129669070243835,0.23360711336135864,0.22293025255203247,0.22037236392498016,0.2571370601654053,0.33211711049079895,0.2316177636384964,0.30363577604293823,0.18531890213489532,0.2617913782596588,0.1430409550666809,0.24137714505195618,0.1499255746603012,0.23328983783721924,0.27834680676460266,0.32154375314712524,0.3504309356212616,0.20844443142414093,0.23126986622810364,0.18666014075279236,0.34527304768562317,0.2743557095527649,0.323640376329422,0.10366185009479523,0.28940877318382263,0.642349362373352,0.22983574867248535,0.30014216899871826,0.18439093232154846,0.2617913782596588,0.13895268738269806,0.2414039820432663,0.14991909265518188,0.23348304629325867,0.2773944139480591,0.3209376931190491,0.27702590823173523,0.18694600462913513,0.19432342052459717,0.2199718952178955,0.2777341902256012,0.2781430780887604,0.22043916583061218,0.1164591982960701,0.7134863138198853,0.021326415240764618,0.24365021288394928,0.31857743859291077,0.1946602314710617,0.2541881799697876,0.12338424474000931,0.22405090928077698,0.1481161117553711,0.22733984887599945,0.29170891642570496,0.3113687336444855,0.22565850615501404,0.24048608541488647,0.18790335953235626,0.16485179960727692,0.2569859027862549,0.21225537359714508,0.2600715458393097,0.29800453782081604,0.2811661958694458,0.01796465925872326,0.06508956849575043,0.2407579869031906,0.18845607340335846,0.16485179960727692,0.25621533393859863,0.21225537359714508,0.2604561746120453,0.2977737784385681,0.28603246808052063,0.01796465925872326,0.06508956849575043,0.2554998993873596,0.26699453592300415,0.09161405265331268,0.2702854871749878,0.20280013978481293,0.08864498138427734,0.280916690826416,0.06430671364068985,0.07966169714927673,0.2718202471733093,0.22983574867248535,0.17708401381969452,0.27468737959861755,0.07985609769821167,0.24385946989059448,0.18845607340335846,0.16520100831985474,0.2554517686367035,0.21250568330287933,0.26243188977241516,0.30053380131721497,0.2878255248069763,0.01796465925872326,0.06508956849575043,0.24365021288394928,0.15965548157691956,0.03645025193691254,0.05762434005737305,0.07943125814199448,0.07491375505924225,0.29390403628349304,0.169049933552742,0.02354239672422409,0.0718495324254036,0.23930905759334564,0.19839057326316833,0.1611729860305786,0.27222707867622375,0.22222428023815155,0.2709501385688782,0.29109224677085876,0.2667848467826843,0.013850470073521137,0.0644957646727562,0.1546022891998291,0.25524088740348816,0.26896217465400696,0.20201168954372406,0.24224211275577545,0.18923671543598175,0.1315295547246933,0.3572327494621277,0.3163362741470337,0.07694070041179657,0.3288132846355438,0.2809586822986603,0.31829866766929626,0.3672045171260834,0.2590302526950836,0.26205453276634216,0.2189287543296814,0.11731548607349396,0.2769474983215332,0.19280827045440674,0.2586216926574707,0.2776402235031128,0.2294793725013733,0.27946314215660095,0.18202006816864014,0.13597151637077332,0.3110943138599396,0.35775861144065857,0.05800963193178177,0.2929322123527527,0.2888305187225342,0.2878584563732147,0.3083617389202118,0.26610320806503296,0.25543010234832764,0.2590305209159851,0.12265017628669739,0.2851542532444,0.1411607414484024,0.2219690978527069,0.2712230086326599,0.16538725793361664,0.23081570863723755,0.18338294327259064,0.10517894476652145,0.2954205870628357,0.26893508434295654,0.6474466323852539,0.6474466323852539,0.6474466323852539,0.6474466323852539,0.6474466323852539,0.6474466323852539,0.6474466323852539,0.6474466323852539,0.6474466323852539,0.6474466323852539,0.650005042552948,0.650005042552948,0.650005042552948,0.650005042552948,0.650005042552948,0.650005042552948,0.650005042552948,0.650005042552948,0.650005042552948,0.650005042552948,0.650005042552948,0.650005042552948,0.650005042552948,0.650005042552948,0.650005042552948,0.650005042552948,0.650005042552948,0.650005042552948,0.650005042552948,0.650005042552948,0.6474913358688354,0.6474913358688354,0.6474913358688354,0.6474913358688354,0.6474913358688354,0.6474913358688354,0.6474913358688354,0.6474913358688354,0.6474913358688354,0.6474913358688354,0.3510523736476898,0.3510523736476898,0.3510523736476898,0.3510523736476898,0.3510523736476898,0.3510523736476898,0.3510523736476898,0.3510523736476898,0.3510523736476898,0.3510523736476898,0.3510523736476898,0.3510523736476898,0.3510523736476898,0.3510523736476898,0.3510523736476898,0.3510523736476898,0.3510523736476898,0.3510523736476898,0.3510523736476898,0.3510523736476898,0.6474466323852539,0.6668987274169922,0.6602616310119629,0.6658943891525269,0.6617400050163269,0.6617400050163269,0.6892183423042297,0.6772710084915161,0.6772710084915161,0.6892183423042297,0.66428542137146,0.66428542137146,0.6617400050163269,0.66428542137146,0.6772710084915161,0.66428542137146,0.6668987274169922,0.6602616310119629,0.6892183423042297,0.6772710084915161,0.6658943891525269,0.650005042552948,0.6461756825447083,0.6530014276504517,0.6650603413581848,0.6584232449531555,0.6691007614135742,0.6612334847450256,0.6612334847450256,0.6795992851257324,0.6767818331718445,0.6767818331718445,0.6795992851257324,0.6588280200958252,0.6474913358688354,0.6474913358688354,0.6474913358688354,0.6474913358688354,0.6474913358688354,0.6474913358688354,0.6634910702705383,0.6595920920372009,0.6597457528114319,0.6628243923187256,0.6628243923187256,0.6820328831672668,0.679559588432312,0.679559588432312,0.6820328831672668,0.6555184721946716,0.6555184721946716,0.6628243923187256,0.6555184721946716,0.679559588432312,0.6555184721946716,0.6634910702705383,0.6595920920372009,0.6820328831672668,0.679559588432312,0.6597457528114319,0.6555184721946716,0.6595920920372009,0.6595920920372009,0.6555184721946716,0.6628243923187256,0.6628243923187256,0.6555184721946716,0.6634910702705383,0.6628243923187256,0.6634910702705383,0.3510523736476898,0.0980534553527832,0.06592988222837448,0.15682891011238098,0.15682891011238098,0.3552350103855133,0.27539920806884766,0.3368464708328247,0.3552350103855133,0.10854977369308472,0.09411055594682693,0.06592988222837448,0.06592988222837448,0.12245090305805206,0.17589443922042847,0.34706830978393555,0.12245090305805206,0.09411055594682693,0.12245090305805206,0.10854977369308472,0.3535988926887512,0.3527083694934845,0.35458603501319885,0.35369056463241577,0.35369056463241577,0.3593708872795105,0.36255335807800293,0.36255335807800293,0.3593708872795105,0.3576188087463379,0.3576188087463379,0.35369056463241577,0.3576188087463379,0.36255335807800293,0.3576188087463379,0.3535988926887512,0.3527083694934845,0.3593708872795105,0.36255335807800293,0.35458603501319885,0.6423391103744507,0.7416812777519226,0.7251659631729126,0.7711772322654724,0.7525028586387634,0.044609490782022476,0.7394344806671143,0.6777559518814087,0.22304947674274445,0.7394344806671143,0.1842675358057022,0.7764732837677002,0.5303388833999634,0.17550542950630188,0.6579985022544861,0.6922404170036316,0.3495590388774872,0.6430190801620483,0.26219576597213745,0.6726536750793457,0.7484595775604248,0.7179653644561768,0.73505699634552,0.7119660973548889,0.03802699223160744,0.7234278321266174,0.7061740159988403,0.36309942603111267,0.546252965927124,0.6940836906433105,0.6867113709449768,0.6526620388031006,0.6659496426582336,0.04146384075284004,0.6535855531692505,0.6181811094284058,0.24669091403484344,0.0478796660900116,0.24240370094776154,0.19263498485088348,0.2362414300441742,0.16810671985149384,0.21906261146068573,0.12867291271686554,0.22277100384235382,0.17152580618858337,0.18874813616275787,0.16266989707946777,0.20874975621700287,0.14901459217071533,0.22412066161632538,0.15166467428207397,0.2163369357585907,0.21433746814727783,0.20230968296527863,0.20959922671318054,0.2138688564300537,0.22698506712913513,0.21719159185886383,0.20188599824905396,0.1755446344614029,0.08073365688323975,0.13564752042293549,0.2209729701280594,0.13753832876682281,0.23686957359313965,0.22833994030952454,0.05754758045077324,0.17576155066490173,0.08871595561504364,0.1767592877149582,0.072728730738163,0.22027422487735748,0.10152880102396011,0.1174195408821106,0.062180742621421814,0.18229526281356812,0.049550097435712814,0.2365100383758545,0.1923583298921585,0.23328448832035065,0.1664513200521469,0.2190760374069214,0.1328117996454239,0.2181837111711502,0.16772837936878204,0.1876290887594223,0.19839271903038025,0.21382839977741241,0.09766904264688492,0.2134840488433838,0.20928554236888885,0.20584404468536377,0.20718885958194733,0.08354967087507248,0.17249983549118042,0.1109001561999321,0.04795213043689728,0.05434618890285492,0.24989698827266693,0.19224442541599274,0.1974753588438034,0.13862334191799164,0.2030140906572342,0.2201019823551178,0.21569645404815674,0.06919409334659576,0.09490188211202621,0.049550097435712814,0.05434618890285492,0.2505636513233185,0.1948734074831009,0.1967322677373886,0.12908530235290527,0.20494693517684937,0.2197967916727066,0.2138405293226242,0.07145599275827408,0.09388456493616104,0.047198470681905746,0.23054324090480804,0.16325002908706665,0.18884477019309998,0.10367728769779205,0.21462638676166534,0.21870484948158264,0.19914820790290833,0.058463629335165024,0.08477094769477844,0.08618370443582535,0.11098340898752213,0.0750136524438858,0.05583244189620018,0.07125724107027054,0.07281024754047394,0.09746739268302917,0.04820779338479042,0.10225824266672134,0.0698196217417717,0.06942013651132584,0.04020202159881592,0.11015917360782623,0.11919786036014557,0.08390836417675018,0.11700033396482468,0.07818309217691422,0.08588234335184097,0.09174386411905289,0.06100469082593918,0.10082440078258514,0.06072990968823433,0.07159919291734695,0.05826956406235695,0.05609865114092827,0.10846464335918427,0.060809385031461716,0.09496098011732101,0.09080417454242706,0.08133693784475327,0.05793695151805878,0.04393578693270683,0.0692715048789978,0.08648388087749481,0.08718470484018326,0.04892057925462723,0.10836136341094971,0.08978990465402603,0.0779978334903717,0.03473060205578804,0.07906962186098099,0.1270398497581482,0.0864185243844986,0.09471933543682098,0.10469752550125122,0.06919463723897934,0.07257287204265594,0.8250822424888611,0.8250822424888611,0.7607373595237732,0.2812357246875763,0.21165797114372253,0.25233012437820435,0.3211803734302521,0.24892474710941315,0.33355066180229187,0.3626573979854584,0.7728383541107178,0.7878860235214233,0.360847532749176,0.1315540224313736,0.8256261944770813,0.2692788541316986,0.29296109080314636,0.7913196086883545,0.23305757343769073,0.7703838348388672,0.8250822424888611,0.8250822424888611,0.7607373595237732,0.2812357246875763,0.21165797114372253,0.25233012437820435,0.7226276993751526,0.24892474710941315,0.33355066180229187,0.7317719459533691,0.7866911888122559,0.23789116740226746,0.25845667719841003,0.7698174715042114,0.3498881459236145,0.8040627837181091,0.7491984367370605,0.7480093836784363,0.23164282739162445,0.7812272906303406,0.8250822424888611,0.8250822424888611,0.7607373595237732,0.2812357246875763,0.21165797114372253,0.25233012437820435,0.3211803734302521,0.24892474710941315,0.33355066180229187,0.3626573979854584,0.7728383541107178,0.7878860235214233,0.360847532749176,0.1315540224313736,0.8256261944770813,0.2692788541316986,0.29296109080314636,0.7913196086883545,0.23305757343769073,0.7703838348388672,0.8107330203056335,0.8107330203056335,0.7466334700584412,0.2774771451950073,0.20866210758686066,0.22650444507598877,0.31083428859710693,0.2349759340286255,0.31722864508628845,0.34727737307548523,0.7611675262451172,0.7671161890029907,0.36459970474243164,0.11936741322278976,0.7962107062339783,0.2720879018306732,0.28471213579177856,0.7939296364784241,0.21802030503749847,0.7457417249679565,0.24041245877742767,0.041567135602235794,0.0422319620847702,0.7908520698547363,0.25150391459465027,0.7330635190010071,0.7656363844871521,0.7710642218589783,0.23795108497142792,0.750906229019165,0.8250822424888611,0.8310930728912354,0.19964957237243652,0.2772170901298523,0.27216097712516785,0.27207109332084656,0.26151585578918457,0.3600432872772217,0.7433528304100037,0.05238260328769684,0.759656548500061,0.7444213628768921,0.7276983857154846,0.30440449714660645,0.19936195015907288,0.7299891710281372,0.7708549499511719,0.8085259795188904,0.7326306104660034,0.25125476717948914,0.3510783612728119,0.8250822424888611,0.8310930728912354,0.19964957237243652,0.2772170901298523,0.27216097712516785,0.27207109332084656,0.26151585578918457,0.3600432872772217,0.7433528304100037,0.05238260328769684,0.759656548500061,0.2753904461860657,0.7734768986701965,0.22366687655448914,0.7874682545661926,0.22884789109230042,0.7262547016143799,0.3359498083591461,0.24351952970027924,0.3428213894367218,0.26589179039001465,0.8250822424888611,0.2342948466539383,0.808055579662323,0.18247736990451813,0.28989458084106445,0.26403242349624634,0.261697381734848,0.2551359236240387,0.3372379243373871,0.739548921585083,0.05324355140328407,0.7491724491119385,0.24879279732704163,0.7839487195014954,0.21083661913871765,0.30417400598526,0.32029521465301514,0.7962783575057983,0.2718660533428192,0.19276843965053558,0.7915425896644592,0.7904725074768066,0.7388782501220703,0.23853297531604767,0.3201041519641876,0.356873482465744,0.3612070083618164,0.35446032881736755,0.35549256205558777,0.7631821632385254,0.3313639163970947,0.7611384987831116,0.7078326344490051,0.6725844144821167,0.30448824167251587,0.24621635675430298,0.2963985502719879,0.2275489866733551,0.2889418303966522,0.32048895955085754,0.7065511345863342,0.4256635308265686,0.27849555015563965,0.26702991127967834,0.24504272639751434,0.22888492047786713,0.24709831178188324,0.3130982518196106,0.6577352285385132,0.6728338003158569,0.29958248138427734,0.2576605975627899,0.2514727711677551,0.1559893637895584,0.25710076093673706,0.28645747900009155,0.262156218290329,0.3405085504055023,0.661853551864624,0.6754847168922424,0.7377645373344421,0.04087339714169502,0.04245693236589432,0.23835910856723785,0.7347373962402344,0.3999341130256653,0.7202857136726379,0.786216139793396,0.2606859505176544,0.03265305608510971,0.786216139793396,0.786216139793396,0.786216139793396,0.7202857136726379,0.786216139793396,0.786216139793396,0.7202857136726379,0.0714682787656784,0.06036004051566124,0.6731466054916382,0.32659438252449036,0.2606859505176544,0.6712194681167603,0.7979567050933838,0.7366565465927124,0.22365467250347137,0.7979567050933838,0.7202857136726379,0.6982299089431763,0.38998016715049744,0.786216139793396,0.786216139793396,0.6987316012382507,0.7366565465927124,0.7202857136726379,0.7595526576042175,0.7291998267173767,0.7846810817718506,0.2813796401023865,0.04920129477977753,0.7846810817718506,0.7846810817718506,0.7846810817718506,0.7291998267173767,0.7846810817718506,0.7846810817718506,0.7291998267173767,0.08845033496618271,0.07738024741411209,0.7036170363426208,0.32057589292526245,0.2813796401023865,0.6618070602416992,0.8158528208732605,0.7233178019523621,0.20843002200126648,0.7291998267173767,0.7707861661911011,0.04167565330862999,0.03937336057424545,0.15412093698978424,0.7291998267173767,0.8158528208732605,0.7846810817718506,0.797097384929657,0.7299939393997192,0.7291998267173767,0.7504631876945496,0.7864134311676025,0.7291998267173767,0.022086508572101593,0.7707861661911011,0.7544083595275879,0.7184504866600037,0.7501962184906006,0.7029069066047668,0.25246623158454895,0.7501962184906006,0.7291998267173767,0.7544083595275879,0.7291998267173767,0.25246623158454895,0.2613986134529114,0.7846810817718506,0.7291998267173767,0.7846810817718506,0.6987423300743103,0.15412093698978424,0.6987423300743103,0.7846810817718506,0.6987423300743103,0.7846810817718506,0.6987423300743103,0.7420211434364319,0.20843002200126648,0.7846810817718506,0.19625522196292877,0.6617863178253174,0.18994560837745667,0.7846810817718506,0.19625522196292877,0.03361493721604347,0.6623056530952454,0.17265687882900238,0.18994560837745667,0.7846810817718506,0.7351284027099609,0.77458655834198,0.2854362428188324,0.05807904154062271,0.77458655834198,0.77458655834198,0.77458655834198,0.7351284027099609,0.77458655834198,0.77458655834198,0.7086343169212341,0.7598780393600464,0.2549130320549011,0.05408428609371185,0.7598780393600464,0.7598780393600464,0.7598780393600464,0.7086343169212341,0.7598780393600464,0.7598780393600464,0.7086343169212341,0.08315003663301468,0.07150997966527939,0.6461812853813171,0.31371739506721497,0.2549130320549011,0.6357988119125366,0.7662287354469299,0.5603698492050171,0.1922328770160675,0.622866690158844,0.35781005024909973,0.7086343169212341,0.7577467560768127,0.0774562880396843,0.7542800903320312,0.7304567098617554,0.7086343169212341,0.7329941987991333,0.6996695399284363,0.48086369037628174,0.7581759095191956,0.7598780393600464,0.7086343169212341,0.7885459065437317,0.1622544676065445,0.7086343169212341,0.17547552287578583,0.3186151087284088,0.7879587411880493,0.7086343169212341,0.6947885751724243,0.6947885751724243,0.03466834872961044,0.7598780393600464,0.7598780393600464,0.5023190975189209,0.7562021613121033,0.7086343169212341,0.6021262407302856,0.7202857136726379,0.7291998267173767,0.02686394564807415,0.7351284027099609,0.5882506370544434,0.7951445579528809,0.029272370040416718,0.7588931918144226,0.7339097857475281,0.7857972383499146,0.6854700446128845,0.7823705673217773,0.5687703490257263,0.7813311815261841,0.7748578786849976,0.706038236618042,0.7813311815261841,0.7760492563247681,0.7086343169212341,0.05574658513069153,0.08328769356012344,0.15550780296325684,0.13027651607990265,0.0781976506114006,0.21884669363498688,0.31828534603118896,0.14296597242355347,0.13931912183761597,0.3321489989757538,0.07834966480731964,0.21778780221939087,0.07530945539474487,0.11619317531585693,0.07622773200273514,0.21864435076713562,0.718109130859375,0.7595964074134827,0.6803897619247437,0.7482568621635437,0.5130845308303833,0.7479025721549988,0.7598391175270081,0.7101263999938965,0.7479025721549988,0.7304778695106506,0.08266951143741608,0.6741288900375366,0.7181140184402466,0.10387380421161652,0.06180311366915703,0.7246829867362976,0.4951283633708954,0.7808297276496887,0.7522537112236023,0.02406369522213936,0.3669966459274292,0.26603424549102783,0.06631213426589966,0.6783203482627869,0.6853759288787842,0.6814819574356079,0.7168852686882019,0.6802864074707031,0.6861205101013184,0.219404399394989,0.24562467634677887,0.7302301526069641,0.6665621995925903,0.7031926512718201,0.22278030216693878,0.5945754647254944,0.6919798254966736,0.6789085268974304,0.3029440641403198,0.4293754994869232,0.2679646611213684,0.10758907347917557,0.6813780665397644,0.7049329280853271,0.7039870023727417,0.7479292750358582,0.6876551508903503,0.7154033184051514,0.22662897408008575,0.21702246367931366,0.7176132798194885,0.6355322003364563,0.7187455296516418,0.23059087991714478,0.6522856950759888,0.7181528806686401,0.6769277453422546,0.3466528058052063,0.6203926801681519,0.6576748490333557,0.7230613231658936,0.4564563035964966,0.42921972274780273,0.7432857155799866,0.04813941568136215,0.7479062080383301,0.6203926801681519,0.18465791642665863,0.6204401850700378,0.6391952633857727,0.48232999444007874,0.7252193093299866,0.6783443093299866,0.7045649290084839,0.7475497126579285,0.7334393858909607,0.7189812660217285,0.49487659335136414,0.26586824655532837,0.10212617367506027,0.7112301588058472,0.7143347859382629,0.7075303196907043,0.7394891381263733,0.7158715128898621,0.7339169979095459,0.22469830513000488,0.3277774155139923,0.7117727398872375,0.48867106437683105,0.759507954120636,0.22713983058929443,0.6401825547218323,0.7204878926277161,0.6656750440597534,0.3705289661884308,0.35110288858413696,0.208513081073761,0.0934036523103714,0.7023680806159973,0.7287958264350891,0.7206532955169678,0.7330889105796814,0.69797682762146,0.676429271697998,0.6806740760803223,0.5981312990188599,0.07513581216335297,0.00020565552404150367,0.00020565552404150367,0.00020565552404150367,0.00020565552404150367,0.00020565552404150367,0.00020565552404150367,0.00020565552404150367,0.64613276720047,0.4633100628852844,0.08567116409540176,0.00020565552404150367,0.00020565552404150367,0.00020565552404150367,0.00020565552404150367,0.00020565552404150367,0.00020565552404150367,0.00020565552404150367,0.6806740760803223,0.6089271306991577,0.08444438129663467,0.00020565552404150367,0.00020565552404150367,0.00020565552404150367,0.00020565552404150367,0.00020565552404150367,0.00020565552404150367,0.00020565552404150367,0.00020565552404150367,0.00020565552404150367,0.00020565552404150367,0.00020565552404150367,0.00020565552404150367,0.00020565552404150367,0.1238214373588562,0.00020565552404150367,0.00020565552404150367,0.00020565552404150367,0.6806740760803223,0.6813008785247803,0.00020565552404150367,0.0018015984678640962,0.00020565552404150367,0.00020565552404150367,0.00020565552404150367,0.00020565552404150367,0.00020565552404150367,0.00020565552404150367,0.00020565552404150367,0.6806740760803223,0.00020565552404150367,0.6813008785247803,0.00020565552404150367,0.0018015984678640962,0.00020565552404150367,0.00020565552404150367,0.00020565552404150367,0.00020565552404150367,0.00020565552404150367,0.00020565552404150367,0.00020565552404150367,0.668195903301239,0.00020565552404150367,0.0019162936368957162,0.00020565552404150367,0.00020565552404150367,0.00020565552404150367,0.00020565552404150367,0.00020565552404150367,0.00020565552404150367,0.00020565552404150367,0.00020565552404150367,0.01412359531968832,0.00020565552404150367,0.00020565552404150367,0.00020565552404150367,0.12284170836210251,0.10719193518161774,0.00020565552404150367,0.00020565552404150367,0.00020565552404150367,0.6060107946395874,0.00020565552404150367,0.00020565552404150367,0.00020565552404150367,0.00020565552404150367,0.00020565552404150367,0.00020565552404150367,0.005537849850952625,0.00020565552404150367,0.604608952999115,0.00020565552404150367,0.00020565552404150367,0.00020565552404150367,0.00020565552404150367,0.00020565552404150367,0.00020565552404150367,0.004613119643181562,0.00020565552404150367],\"x\":[\"LogisticRegression\",\"LogisticRegression\",\"LogisticRegression\",\"LogisticRegression\",\"LogisticRegression\",\"LogisticRegression\",\"LogisticRegression\",\"LogisticRegression\",\"LogisticRegression\",\"LogisticRegression\",\"LogisticRegression\",\"LogisticRegression\",\"LogisticRegression\",\"LogisticRegression\",\"LogisticRegression\",\"LogisticRegression\",\"LogisticRegression\",\"LogisticRegression\",\"LogisticRegression\",\"LogisticRegression\",\"LogisticRegression\",\"LogisticRegression\",\"LogisticRegression\",\"LogisticRegression\",\"LogisticRegression\",\"LogisticRegression\",\"LogisticRegression\",\"LogisticRegression\",\"LogisticRegression\",\"LogisticRegression\",\"LogisticRegression\",\"LogisticRegression\",\"LogisticRegression\",\"LogisticRegression\",\"LogisticRegression\",\"LogisticRegression\",\"LogisticRegression\",\"LogisticRegression\",\"LogisticRegression\",\"LogisticRegression\",\"LogisticRegression\",\"LogisticRegression\",\"LogisticRegression\",\"LogisticRegression\",\"LogisticRegression\",\"LogisticRegression\",\"LogisticRegression\",\"LogisticRegression\",\"LogisticRegression\",\"LogisticRegression\",\"LogisticRegression\",\"LogisticRegression\",\"LogisticRegression\",\"LogisticRegression\",\"LogisticRegression\",\"LogisticRegression\",\"LogisticRegression\",\"LogisticRegression\",\"LogisticRegression\",\"LogisticRegression\",\"LogisticRegression\",\"LogisticRegression\",\"LogisticRegression\",\"LogisticRegression\",\"LogisticRegression\",\"LogisticRegression\",\"LogisticRegression\",\"LogisticRegression\",\"LogisticRegression\",\"LogisticRegression\",\"LogisticRegression\",\"LogisticRegression\",\"LogisticRegression\",\"LogisticRegression\",\"LogisticRegression\",\"LogisticRegression\",\"LogisticRegression\",\"LogisticRegression\",\"LogisticRegression\",\"LogisticRegression\",\"LogisticRegression\",\"LogisticRegression\",\"LogisticRegression\",\"LogisticRegression\",\"LogisticRegression\",\"LogisticRegression\",\"LogisticRegression\",\"LogisticRegression\",\"LogisticRegression\",\"LogisticRegression\",\"LogisticRegression\",\"LogisticRegression\",\"LogisticRegression\",\"LogisticRegression\",\"LogisticRegression\",\"LogisticRegression\",\"LogisticRegression\",\"LogisticRegression\",\"LogisticRegression\",\"LogisticRegression\",\"LogisticRegression\",\"LogisticRegression\",\"LogisticRegression\",\"LogisticRegression\",\"LogisticRegression\",\"LogisticRegression\",\"LogisticRegression\",\"LogisticRegression\",\"LogisticRegression\",\"LogisticRegression\",\"LogisticRegression\",\"LogisticRegression\",\"LogisticRegression\",\"LogisticRegression\",\"LogisticRegression\",\"LogisticRegression\",\"LogisticRegression\",\"LogisticRegression\",\"LogisticRegression\",\"LogisticRegression\",\"LogisticRegression\",\"LogisticRegression\",\"LogisticRegression\",\"LogisticRegression\",\"LogisticRegression\",\"LogisticRegression\",\"LogisticRegression\",\"LogisticRegression\",\"LogisticRegression\",\"LogisticRegression\",\"LogisticRegression\",\"LogisticRegression\",\"LogisticRegression\",\"LogisticRegression\",\"LogisticRegression\",\"LogisticRegression\",\"LogisticRegression\",\"LogisticRegression\",\"LogisticRegression\",\"LogisticRegression\",\"LogisticRegression\",\"LogisticRegression\",\"LogisticRegression\",\"LogisticRegression\",\"LogisticRegression\",\"LogisticRegression\",\"LogisticRegression\",\"LogisticRegression\",\"LogisticRegression\",\"LogisticRegression\",\"LogisticRegression\",\"LogisticRegression\",\"LogisticRegression\",\"LogisticRegression\",\"LogisticRegression\",\"LogisticRegression\",\"LogisticRegression\",\"LogisticRegression\",\"LogisticRegression\",\"LogisticRegression\",\"LogisticRegression\",\"LogisticRegression\",\"LogisticRegression\",\"LogisticRegression\",\"LogisticRegression\",\"LogisticRegression\",\"LogisticRegression\",\"LogisticRegression\",\"LogisticRegression\",\"LogisticRegression\",\"LogisticRegression\",\"LogisticRegression\",\"LogisticRegression\",\"LogisticRegression\",\"LogisticRegression\",\"LogisticRegression\",\"LogisticRegression\",\"LogisticRegression\",\"LogisticRegression\",\"LogisticRegression\",\"LogisticRegression\",\"LogisticRegression\",\"LogisticRegression\",\"LogisticRegression\",\"LogisticRegression\",\"LogisticRegression\",\"LogisticRegression\",\"LogisticRegression\",\"LogisticRegression\",\"LogisticRegression\",\"LogisticRegression\",\"LogisticRegression\",\"LogisticRegression\",\"LogisticRegression\",\"LogisticRegression\",\"LogisticRegression\",\"LogisticRegression\",\"LogisticRegression\",\"LogisticRegression\",\"LogisticRegression\",\"LogisticRegression\",\"LogisticRegression\",\"LogisticRegression\",\"LogisticRegression\",\"LogisticRegression\",\"LogisticRegression\",\"LogisticRegression\",\"LogisticRegression\",\"LogisticRegression\",\"LogisticRegression\",\"LogisticRegression\",\"LogisticRegression\",\"LogisticRegression\",\"LogisticRegression\",\"LogisticRegression\",\"LogisticRegression\",\"LogisticRegression\",\"LogisticRegression\",\"LogisticRegression\",\"LogisticRegression\",\"LogisticRegression\",\"LogisticRegression\",\"LogisticRegression\",\"LogisticRegression\",\"LogisticRegression\",\"LogisticRegression\",\"LogisticRegression\",\"LogisticRegression\",\"LogisticRegression\",\"LogisticRegression\",\"LogisticRegression\",\"LogisticRegression\",\"LogisticRegression\",\"LogisticRegression\",\"LogisticRegression\",\"LogisticRegression\",\"LogisticRegression\",\"LogisticRegression\",\"LogisticRegression\",\"LogisticRegression\",\"LogisticRegression\",\"LogisticRegression\",\"LogisticRegression\",\"LogisticRegression\",\"LogisticRegression\",\"LogisticRegression\",\"LogisticRegression\",\"LogisticRegression\",\"LogisticRegression\",\"LogisticRegression\",\"LogisticRegression\",\"LogisticRegression\",\"LogisticRegression\",\"LogisticRegression\",\"LogisticRegression\",\"LogisticRegression\",\"LogisticRegression\",\"LogisticRegression\",\"LogisticRegression\",\"LogisticRegression\",\"LogisticRegression\",\"LogisticRegression\",\"LogisticRegression\",\"LogisticRegression\",\"LogisticRegression\",\"LogisticRegression\",\"LogisticRegression\",\"LogisticRegression\",\"LogisticRegression\",\"LogisticRegression\",\"LogisticRegression\",\"LogisticRegression\",\"LogisticRegression\",\"LogisticRegression\",\"SGDClassifier\",\"SGDClassifier\",\"SGDClassifier\",\"SGDClassifier\",\"SGDClassifier\",\"SGDClassifier\",\"SGDClassifier\",\"SGDClassifier\",\"SGDClassifier\",\"SGDClassifier\",\"SGDClassifier\",\"SGDClassifier\",\"SGDClassifier\",\"SGDClassifier\",\"SGDClassifier\",\"SGDClassifier\",\"SGDClassifier\",\"SGDClassifier\",\"SGDClassifier\",\"SGDClassifier\",\"SGDClassifier\",\"SGDClassifier\",\"SGDClassifier\",\"SGDClassifier\",\"SGDClassifier\",\"SGDClassifier\",\"SGDClassifier\",\"SGDClassifier\",\"SGDClassifier\",\"SGDClassifier\",\"SGDClassifier\",\"SGDClassifier\",\"SGDClassifier\",\"SGDClassifier\",\"SGDClassifier\",\"SGDClassifier\",\"SGDClassifier\",\"SGDClassifier\",\"SGDClassifier\",\"SGDClassifier\",\"SGDClassifier\",\"SGDClassifier\",\"SGDClassifier\",\"SGDClassifier\",\"SGDClassifier\",\"SGDClassifier\",\"SGDClassifier\",\"SGDClassifier\",\"SGDClassifier\",\"SGDClassifier\",\"SGDClassifier\",\"SGDClassifier\",\"SGDClassifier\",\"SGDClassifier\",\"SGDClassifier\",\"SGDClassifier\",\"SGDClassifier\",\"SGDClassifier\",\"SGDClassifier\",\"SGDClassifier\",\"SGDClassifier\",\"SGDClassifier\",\"SGDClassifier\",\"SGDClassifier\",\"SGDClassifier\",\"SGDClassifier\",\"SGDClassifier\",\"SGDClassifier\",\"SGDClassifier\",\"SGDClassifier\",\"SGDClassifier\",\"SGDClassifier\",\"SGDClassifier\",\"SGDClassifier\",\"SGDClassifier\",\"SGDClassifier\",\"SGDClassifier\",\"SGDClassifier\",\"SGDClassifier\",\"SGDClassifier\",\"SGDClassifier\",\"SGDClassifier\",\"SGDClassifier\",\"SGDClassifier\",\"SGDClassifier\",\"SGDClassifier\",\"SGDClassifier\",\"SGDClassifier\",\"SGDClassifier\",\"SGDClassifier\",\"SGDClassifier\",\"SGDClassifier\",\"SGDClassifier\",\"SGDClassifier\",\"SGDClassifier\",\"SGDClassifier\",\"SGDClassifier\",\"SGDClassifier\",\"SGDClassifier\",\"SGDClassifier\",\"SGDClassifier\",\"SGDClassifier\",\"SGDClassifier\",\"SGDClassifier\",\"SGDClassifier\",\"SGDClassifier\",\"SGDClassifier\",\"SGDClassifier\",\"SGDClassifier\",\"SGDClassifier\",\"SGDClassifier\",\"SGDClassifier\",\"SGDClassifier\",\"SGDClassifier\",\"SGDClassifier\",\"SGDClassifier\",\"SGDClassifier\",\"SGDClassifier\",\"SGDClassifier\",\"SGDClassifier\",\"SGDClassifier\",\"SGDClassifier\",\"SGDClassifier\",\"SGDClassifier\",\"SGDClassifier\",\"SGDClassifier\",\"SGDClassifier\",\"SGDClassifier\",\"SGDClassifier\",\"SGDClassifier\",\"SGDClassifier\",\"SGDClassifier\",\"SGDClassifier\",\"SGDClassifier\",\"SGDClassifier\",\"SGDClassifier\",\"SGDClassifier\",\"SGDClassifier\",\"SGDClassifier\",\"SGDClassifier\",\"SGDClassifier\",\"SGDClassifier\",\"SGDClassifier\",\"SGDClassifier\",\"SGDClassifier\",\"SGDClassifier\",\"SGDClassifier\",\"SGDClassifier\",\"SGDClassifier\",\"SGDClassifier\",\"SGDClassifier\",\"SGDClassifier\",\"SGDClassifier\",\"SGDClassifier\",\"SGDClassifier\",\"SGDClassifier\",\"SGDClassifier\",\"SGDClassifier\",\"SGDClassifier\",\"SGDClassifier\",\"SGDClassifier\",\"SGDClassifier\",\"SGDClassifier\",\"SGDClassifier\",\"SGDClassifier\",\"SGDClassifier\",\"SGDClassifier\",\"SGDClassifier\",\"SGDClassifier\",\"SGDClassifier\",\"SGDClassifier\",\"SGDClassifier\",\"SGDClassifier\",\"SGDClassifier\",\"SGDClassifier\",\"SGDClassifier\",\"SGDClassifier\",\"SGDClassifier\",\"SGDClassifier\",\"SGDClassifier\",\"SGDClassifier\",\"SGDClassifier\",\"SGDClassifier\",\"SGDClassifier\",\"SGDClassifier\",\"SGDClassifier\",\"SGDClassifier\",\"SGDClassifier\",\"SGDClassifier\",\"SGDClassifier\",\"SGDClassifier\",\"SGDClassifier\",\"SGDClassifier\",\"SGDClassifier\",\"SGDClassifier\",\"SGDClassifier\",\"SGDClassifier\",\"SGDClassifier\",\"SGDClassifier\",\"SGDClassifier\",\"SGDClassifier\",\"SGDClassifier\",\"SGDClassifier\",\"SGDClassifier\",\"SGDClassifier\",\"SGDClassifier\",\"SGDClassifier\",\"SGDClassifier\",\"SGDClassifier\",\"SGDClassifier\",\"SGDClassifier\",\"SGDClassifier\",\"SGDClassifier\",\"SGDClassifier\",\"SGDClassifier\",\"SGDClassifier\",\"SGDClassifier\",\"SGDClassifier\",\"SGDClassifier\",\"SGDClassifier\",\"SGDClassifier\",\"SGDClassifier\",\"SGDClassifier\",\"RandomForestClassifier\",\"RandomForestClassifier\",\"RandomForestClassifier\",\"RandomForestClassifier\",\"RandomForestClassifier\",\"RandomForestClassifier\",\"RandomForestClassifier\",\"RandomForestClassifier\",\"RandomForestClassifier\",\"RandomForestClassifier\",\"RandomForestClassifier\",\"RandomForestClassifier\",\"RandomForestClassifier\",\"RandomForestClassifier\",\"RandomForestClassifier\",\"RandomForestClassifier\",\"RandomForestClassifier\",\"RandomForestClassifier\",\"RandomForestClassifier\",\"RandomForestClassifier\",\"RandomForestClassifier\",\"RandomForestClassifier\",\"RandomForestClassifier\",\"RandomForestClassifier\",\"RandomForestClassifier\",\"RandomForestClassifier\",\"RandomForestClassifier\",\"RandomForestClassifier\",\"RandomForestClassifier\",\"RandomForestClassifier\",\"RandomForestClassifier\",\"RandomForestClassifier\",\"RandomForestClassifier\",\"RandomForestClassifier\",\"RandomForestClassifier\",\"RandomForestClassifier\",\"RandomForestClassifier\",\"RandomForestClassifier\",\"RandomForestClassifier\",\"RandomForestClassifier\",\"RandomForestClassifier\",\"RandomForestClassifier\",\"RandomForestClassifier\",\"RandomForestClassifier\",\"RandomForestClassifier\",\"RandomForestClassifier\",\"RandomForestClassifier\",\"RandomForestClassifier\",\"RandomForestClassifier\",\"RandomForestClassifier\",\"RandomForestClassifier\",\"RandomForestClassifier\",\"RandomForestClassifier\",\"RandomForestClassifier\",\"RandomForestClassifier\",\"RandomForestClassifier\",\"RandomForestClassifier\",\"RandomForestClassifier\",\"RandomForestClassifier\",\"RandomForestClassifier\",\"RandomForestClassifier\",\"RandomForestClassifier\",\"RandomForestClassifier\",\"RandomForestClassifier\",\"RandomForestClassifier\",\"RandomForestClassifier\",\"RandomForestClassifier\",\"RandomForestClassifier\",\"RandomForestClassifier\",\"RandomForestClassifier\",\"RandomForestClassifier\",\"RandomForestClassifier\",\"RandomForestClassifier\",\"RandomForestClassifier\",\"RandomForestClassifier\",\"RandomForestClassifier\",\"RandomForestClassifier\",\"RandomForestClassifier\",\"RandomForestClassifier\",\"RandomForestClassifier\",\"RandomForestClassifier\",\"RandomForestClassifier\",\"RandomForestClassifier\",\"RandomForestClassifier\",\"RandomForestClassifier\",\"RandomForestClassifier\",\"RandomForestClassifier\",\"RandomForestClassifier\",\"RandomForestClassifier\",\"RandomForestClassifier\",\"RandomForestClassifier\",\"RandomForestClassifier\",\"RandomForestClassifier\",\"RandomForestClassifier\",\"RandomForestClassifier\",\"RandomForestClassifier\",\"RandomForestClassifier\",\"RandomForestClassifier\",\"RandomForestClassifier\",\"RandomForestClassifier\",\"RandomForestClassifier\",\"RandomForestClassifier\",\"RandomForestClassifier\",\"RandomForestClassifier\",\"RandomForestClassifier\",\"RandomForestClassifier\",\"RandomForestClassifier\",\"RandomForestClassifier\",\"RandomForestClassifier\",\"RandomForestClassifier\",\"RandomForestClassifier\",\"RandomForestClassifier\",\"RandomForestClassifier\",\"RandomForestClassifier\",\"RandomForestClassifier\",\"RandomForestClassifier\",\"RandomForestClassifier\",\"RandomForestClassifier\",\"RandomForestClassifier\",\"RandomForestClassifier\",\"RandomForestClassifier\",\"RandomForestClassifier\",\"RandomForestClassifier\",\"RandomForestClassifier\",\"RandomForestClassifier\",\"RandomForestClassifier\",\"RandomForestClassifier\",\"RandomForestClassifier\",\"RandomForestClassifier\",\"RandomForestClassifier\",\"RandomForestClassifier\",\"RandomForestClassifier\",\"RandomForestClassifier\",\"RandomForestClassifier\",\"RandomForestClassifier\",\"RandomForestClassifier\",\"RandomForestClassifier\",\"RandomForestClassifier\",\"RandomForestClassifier\",\"RandomForestClassifier\",\"RandomForestClassifier\",\"RandomForestClassifier\",\"RandomForestClassifier\",\"RandomForestClassifier\",\"RandomForestClassifier\",\"RandomForestClassifier\",\"RandomForestClassifier\",\"RandomForestClassifier\",\"RandomForestClassifier\",\"RandomForestClassifier\",\"RandomForestClassifier\",\"RandomForestClassifier\",\"RandomForestClassifier\",\"RandomForestClassifier\",\"RandomForestClassifier\",\"RandomForestClassifier\",\"RandomForestClassifier\",\"RandomForestClassifier\",\"RandomForestClassifier\",\"RandomForestClassifier\",\"RandomForestClassifier\",\"RandomForestClassifier\",\"RandomForestClassifier\",\"RandomForestClassifier\",\"RandomForestClassifier\",\"RandomForestClassifier\",\"RandomForestClassifier\",\"RandomForestClassifier\",\"RandomForestClassifier\",\"RandomForestClassifier\",\"RandomForestClassifier\",\"RandomForestClassifier\",\"RandomForestClassifier\",\"RandomForestClassifier\",\"RandomForestClassifier\",\"RandomForestClassifier\",\"RandomForestClassifier\",\"RandomForestClassifier\",\"RandomForestClassifier\",\"RandomForestClassifier\",\"RandomForestClassifier\",\"RandomForestClassifier\",\"GaussianNB\",\"GaussianNB\",\"GaussianNB\",\"GaussianNB\",\"GaussianNB\",\"GaussianNB\",\"GaussianNB\",\"GaussianNB\",\"GaussianNB\",\"GaussianNB\",\"GaussianNB\",\"GaussianNB\",\"GaussianNB\",\"GaussianNB\",\"GaussianNB\",\"GaussianNB\",\"GaussianNB\",\"GaussianNB\",\"GaussianNB\",\"GaussianNB\",\"GaussianNB\",\"GaussianNB\",\"GaussianNB\",\"GaussianNB\",\"GaussianNB\",\"GaussianNB\",\"GaussianNB\",\"GaussianNB\",\"GaussianNB\",\"GaussianNB\",\"GaussianNB\",\"GaussianNB\",\"GaussianNB\",\"GaussianNB\",\"GaussianNB\",\"GaussianNB\",\"GaussianNB\",\"GaussianNB\",\"GaussianNB\",\"GaussianNB\",\"GaussianNB\",\"GaussianNB\",\"GaussianNB\",\"GaussianNB\",\"GaussianNB\",\"GaussianNB\",\"GaussianNB\",\"GaussianNB\",\"GaussianNB\",\"GaussianNB\",\"GaussianNB\",\"GaussianNB\",\"GaussianNB\",\"GaussianNB\",\"GaussianNB\",\"GaussianNB\",\"GaussianNB\",\"GaussianNB\",\"GaussianNB\",\"GaussianNB\",\"GaussianNB\",\"GaussianNB\",\"GaussianNB\",\"GaussianNB\",\"GaussianNB\",\"GaussianNB\",\"GaussianNB\",\"GaussianNB\",\"GaussianNB\",\"GaussianNB\",\"GaussianNB\",\"GaussianNB\",\"GaussianNB\",\"GaussianNB\",\"GaussianNB\",\"GaussianNB\",\"GaussianNB\",\"GaussianNB\",\"GaussianNB\",\"GaussianNB\",\"GaussianNB\",\"GaussianNB\",\"GaussianNB\",\"GaussianNB\",\"GaussianNB\",\"GaussianNB\",\"GaussianNB\",\"GaussianNB\",\"GaussianNB\",\"GaussianNB\",\"GaussianNB\",\"GaussianNB\",\"GaussianNB\",\"GaussianNB\",\"GaussianNB\",\"GaussianNB\",\"GaussianNB\",\"GaussianNB\",\"GaussianNB\",\"GaussianNB\",\"GaussianNB\",\"GaussianNB\",\"GaussianNB\",\"GaussianNB\",\"GaussianNB\",\"GaussianNB\",\"GaussianNB\",\"GaussianNB\",\"GaussianNB\",\"GaussianNB\",\"GaussianNB\",\"GaussianNB\",\"GaussianNB\",\"GaussianNB\",\"GaussianNB\",\"GaussianNB\",\"GaussianNB\",\"GaussianNB\",\"GaussianNB\",\"GaussianNB\",\"GaussianNB\",\"GaussianNB\",\"GaussianNB\",\"GaussianNB\",\"GaussianNB\",\"GaussianNB\",\"GaussianNB\",\"GaussianNB\",\"GaussianNB\",\"GaussianNB\",\"GaussianNB\",\"GaussianNB\",\"GaussianNB\",\"GaussianNB\",\"GaussianNB\",\"GaussianNB\",\"GaussianNB\",\"GaussianNB\",\"GaussianNB\",\"GaussianNB\",\"GaussianNB\",\"GaussianNB\",\"GaussianNB\",\"GaussianNB\",\"GaussianNB\",\"GaussianNB\",\"GaussianNB\",\"GaussianNB\",\"GaussianNB\",\"GaussianNB\",\"GaussianNB\",\"GaussianNB\",\"GaussianNB\",\"GaussianNB\",\"GaussianNB\",\"GaussianNB\",\"GaussianNB\",\"GaussianNB\",\"GaussianNB\",\"GaussianNB\",\"GaussianNB\",\"GaussianNB\",\"GaussianNB\",\"GaussianNB\",\"GaussianNB\",\"GaussianNB\",\"GaussianNB\",\"GaussianNB\",\"GaussianNB\",\"GaussianNB\",\"GaussianNB\",\"GaussianNB\",\"GaussianNB\",\"GaussianNB\",\"GaussianNB\",\"GaussianNB\",\"GaussianNB\",\"GaussianNB\",\"GaussianNB\",\"GaussianNB\",\"GaussianNB\",\"GaussianNB\",\"GaussianNB\",\"GaussianNB\",\"GaussianNB\",\"GaussianNB\",\"GaussianNB\",\"GaussianNB\",\"GaussianNB\",\"GaussianNB\",\"GaussianNB\",\"GaussianNB\",\"GaussianNB\",\"GaussianNB\",\"GaussianNB\",\"GaussianNB\",\"GaussianNB\",\"GaussianNB\",\"GaussianNB\",\"GaussianNB\",\"GaussianNB\",\"GaussianNB\",\"GaussianNB\",\"GaussianNB\",\"GaussianNB\",\"GaussianNB\",\"GaussianNB\",\"BaggingClassifier\",\"BaggingClassifier\",\"BaggingClassifier\",\"BaggingClassifier\",\"BaggingClassifier\",\"BaggingClassifier\",\"BaggingClassifier\",\"BaggingClassifier\",\"BaggingClassifier\",\"BaggingClassifier\",\"BaggingClassifier\",\"BaggingClassifier\",\"BaggingClassifier\",\"BaggingClassifier\",\"BaggingClassifier\",\"BaggingClassifier\",\"BaggingClassifier\",\"BaggingClassifier\",\"BaggingClassifier\",\"BaggingClassifier\",\"BaggingClassifier\",\"BaggingClassifier\",\"BaggingClassifier\",\"BaggingClassifier\",\"BaggingClassifier\",\"BaggingClassifier\",\"BaggingClassifier\",\"BaggingClassifier\",\"BaggingClassifier\",\"BaggingClassifier\",\"BaggingClassifier\",\"BaggingClassifier\",\"BaggingClassifier\",\"BaggingClassifier\",\"BaggingClassifier\",\"BaggingClassifier\",\"BaggingClassifier\",\"BaggingClassifier\",\"BaggingClassifier\",\"BaggingClassifier\",\"BaggingClassifier\",\"BaggingClassifier\",\"BaggingClassifier\",\"BaggingClassifier\",\"BaggingClassifier\",\"BaggingClassifier\",\"BaggingClassifier\",\"BaggingClassifier\",\"BaggingClassifier\",\"BaggingClassifier\",\"BaggingClassifier\",\"BaggingClassifier\",\"BaggingClassifier\",\"BaggingClassifier\",\"BaggingClassifier\",\"BaggingClassifier\",\"BaggingClassifier\",\"BaggingClassifier\",\"BaggingClassifier\",\"BaggingClassifier\",\"BaggingClassifier\",\"BaggingClassifier\",\"BaggingClassifier\",\"BaggingClassifier\",\"BaggingClassifier\",\"BaggingClassifier\",\"BaggingClassifier\",\"BaggingClassifier\",\"BaggingClassifier\",\"BaggingClassifier\",\"BaggingClassifier\",\"BaggingClassifier\",\"BaggingClassifier\",\"BaggingClassifier\",\"BaggingClassifier\",\"BaggingClassifier\",\"BaggingClassifier\",\"BaggingClassifier\",\"BaggingClassifier\",\"BaggingClassifier\",\"BaggingClassifier\",\"BaggingClassifier\",\"BaggingClassifier\",\"BaggingClassifier\",\"BaggingClassifier\",\"BaggingClassifier\",\"BaggingClassifier\",\"BaggingClassifier\",\"BaggingClassifier\",\"BaggingClassifier\",\"BaggingClassifier\",\"BaggingClassifier\",\"BaggingClassifier\",\"BaggingClassifier\",\"BaggingClassifier\",\"BaggingClassifier\",\"BaggingClassifier\",\"BaggingClassifier\",\"BaggingClassifier\",\"BaggingClassifier\",\"BaggingClassifier\",\"BaggingClassifier\",\"BaggingClassifier\",\"BaggingClassifier\",\"BaggingClassifier\",\"BaggingClassifier\",\"BaggingClassifier\",\"BaggingClassifier\",\"BaggingClassifier\",\"BaggingClassifier\",\"BaggingClassifier\",\"BaggingClassifier\",\"BaggingClassifier\",\"BaggingClassifier\",\"BaggingClassifier\",\"BaggingClassifier\",\"BaggingClassifier\",\"BaggingClassifier\",\"BaggingClassifier\",\"BaggingClassifier\",\"BaggingClassifier\",\"BaggingClassifier\",\"BaggingClassifier\",\"BaggingClassifier\",\"BaggingClassifier\",\"BaggingClassifier\",\"BaggingClassifier\",\"BaggingClassifier\",\"BaggingClassifier\",\"BaggingClassifier\",\"BaggingClassifier\",\"BaggingClassifier\",\"BaggingClassifier\",\"BaggingClassifier\",\"BaggingClassifier\",\"BaggingClassifier\",\"BaggingClassifier\",\"BaggingClassifier\",\"BaggingClassifier\",\"ExtraTreesClassifier\",\"ExtraTreesClassifier\",\"ExtraTreesClassifier\",\"ExtraTreesClassifier\",\"ExtraTreesClassifier\",\"ExtraTreesClassifier\",\"ExtraTreesClassifier\",\"ExtraTreesClassifier\",\"ExtraTreesClassifier\",\"ExtraTreesClassifier\",\"ExtraTreesClassifier\",\"ExtraTreesClassifier\",\"ExtraTreesClassifier\",\"ExtraTreesClassifier\",\"ExtraTreesClassifier\",\"ExtraTreesClassifier\",\"ExtraTreesClassifier\",\"ExtraTreesClassifier\",\"ExtraTreesClassifier\",\"ExtraTreesClassifier\",\"ExtraTreesClassifier\",\"ExtraTreesClassifier\",\"ExtraTreesClassifier\",\"ExtraTreesClassifier\",\"ExtraTreesClassifier\",\"ExtraTreesClassifier\",\"ExtraTreesClassifier\",\"ExtraTreesClassifier\",\"ExtraTreesClassifier\",\"ExtraTreesClassifier\",\"ExtraTreesClassifier\",\"ExtraTreesClassifier\",\"ExtraTreesClassifier\",\"ExtraTreesClassifier\",\"ExtraTreesClassifier\",\"ExtraTreesClassifier\",\"ExtraTreesClassifier\",\"ExtraTreesClassifier\",\"ExtraTreesClassifier\",\"ExtraTreesClassifier\",\"ExtraTreesClassifier\",\"ExtraTreesClassifier\",\"ExtraTreesClassifier\",\"ExtraTreesClassifier\",\"ExtraTreesClassifier\",\"ExtraTreesClassifier\",\"ExtraTreesClassifier\",\"ExtraTreesClassifier\",\"ExtraTreesClassifier\",\"ExtraTreesClassifier\",\"ExtraTreesClassifier\",\"ExtraTreesClassifier\",\"ExtraTreesClassifier\",\"ExtraTreesClassifier\",\"ExtraTreesClassifier\",\"ExtraTreesClassifier\",\"ExtraTreesClassifier\",\"ExtraTreesClassifier\",\"ExtraTreesClassifier\",\"ExtraTreesClassifier\",\"ExtraTreesClassifier\",\"ExtraTreesClassifier\",\"ExtraTreesClassifier\",\"ExtraTreesClassifier\",\"ExtraTreesClassifier\",\"ExtraTreesClassifier\",\"ExtraTreesClassifier\",\"ExtraTreesClassifier\",\"ExtraTreesClassifier\",\"ExtraTreesClassifier\",\"ExtraTreesClassifier\",\"ExtraTreesClassifier\",\"ExtraTreesClassifier\",\"ExtraTreesClassifier\",\"ExtraTreesClassifier\",\"ExtraTreesClassifier\",\"ExtraTreesClassifier\",\"ExtraTreesClassifier\",\"ExtraTreesClassifier\",\"ExtraTreesClassifier\",\"ExtraTreesClassifier\",\"ExtraTreesClassifier\",\"ExtraTreesClassifier\",\"ExtraTreesClassifier\",\"ExtraTreesClassifier\",\"ExtraTreesClassifier\",\"ExtraTreesClassifier\",\"ExtraTreesClassifier\",\"ExtraTreesClassifier\",\"ExtraTreesClassifier\",\"ExtraTreesClassifier\",\"ExtraTreesClassifier\",\"ExtraTreesClassifier\",\"ExtraTreesClassifier\",\"ExtraTreesClassifier\",\"ExtraTreesClassifier\",\"ExtraTreesClassifier\",\"ExtraTreesClassifier\",\"ExtraTreesClassifier\",\"ExtraTreesClassifier\",\"ExtraTreesClassifier\",\"ExtraTreesClassifier\",\"ExtraTreesClassifier\",\"ExtraTreesClassifier\",\"ExtraTreesClassifier\",\"ExtraTreesClassifier\",\"ExtraTreesClassifier\",\"ExtraTreesClassifier\",\"ExtraTreesClassifier\",\"ExtraTreesClassifier\",\"ExtraTreesClassifier\",\"ExtraTreesClassifier\",\"ExtraTreesClassifier\",\"ExtraTreesClassifier\",\"ExtraTreesClassifier\",\"ExtraTreesClassifier\",\"ExtraTreesClassifier\",\"ExtraTreesClassifier\",\"ExtraTreesClassifier\",\"ExtraTreesClassifier\",\"ExtraTreesClassifier\",\"ExtraTreesClassifier\",\"ExtraTreesClassifier\",\"ExtraTreesClassifier\",\"ExtraTreesClassifier\",\"ExtraTreesClassifier\",\"ExtraTreesClassifier\",\"ExtraTreesClassifier\",\"ExtraTreesClassifier\",\"ExtraTreesClassifier\",\"ExtraTreesClassifier\",\"ExtraTreesClassifier\",\"ExtraTreesClassifier\",\"ExtraTreesClassifier\",\"ExtraTreesClassifier\",\"ExtraTreesClassifier\",\"ExtraTreesClassifier\",\"ExtraTreesClassifier\",\"ExtraTreesClassifier\",\"ExtraTreesClassifier\",\"ExtraTreesClassifier\",\"ExtraTreesClassifier\",\"ExtraTreesClassifier\",\"ExtraTreesClassifier\",\"ExtraTreesClassifier\",\"ExtraTreesClassifier\",\"ExtraTreesClassifier\",\"ExtraTreesClassifier\",\"ExtraTreesClassifier\",\"ExtraTreesClassifier\",\"ExtraTreesClassifier\",\"ExtraTreesClassifier\",\"ExtraTreesClassifier\",\"ExtraTreesClassifier\",\"ExtraTreesClassifier\",\"ExtraTreesClassifier\",\"ExtraTreesClassifier\",\"ExtraTreesClassifier\",\"ExtraTreesClassifier\",\"ExtraTreesClassifier\",\"ExtraTreesClassifier\",\"ExtraTreesClassifier\",\"ExtraTreesClassifier\",\"ExtraTreesClassifier\",\"ExtraTreesClassifier\",\"ExtraTreesClassifier\",\"ExtraTreesClassifier\",\"ExtraTreesClassifier\",\"ExtraTreesClassifier\",\"ExtraTreesClassifier\",\"ExtraTreesClassifier\",\"ExtraTreesClassifier\",\"ExtraTreesClassifier\",\"ExtraTreesClassifier\",\"ExtraTreesClassifier\",\"ExtraTreesClassifier\",\"ExtraTreesClassifier\",\"ExtraTreesClassifier\",\"ExtraTreesClassifier\",\"ExtraTreesClassifier\",\"ExtraTreesClassifier\",\"ExtraTreesClassifier\",\"ExtraTreesClassifier\",\"ExtraTreesClassifier\",\"ExtraTreesClassifier\",\"ExtraTreesClassifier\",\"ExtraTreesClassifier\",\"ExtraTreesClassifier\",\"ExtraTreesClassifier\",\"ExtraTreesClassifier\",\"ExtraTreesClassifier\",\"ExtraTreesClassifier\",\"ExtraTreesClassifier\",\"ExtraTreesClassifier\",\"ExtraTreesClassifier\",\"ExtraTreesClassifier\",\"ExtraTreesClassifier\",\"ExtraTreesClassifier\",\"KNeighborsClassifier\",\"KNeighborsClassifier\",\"KNeighborsClassifier\",\"KNeighborsClassifier\",\"KNeighborsClassifier\",\"KNeighborsClassifier\",\"KNeighborsClassifier\",\"KNeighborsClassifier\",\"KNeighborsClassifier\",\"KNeighborsClassifier\",\"KNeighborsClassifier\",\"KNeighborsClassifier\",\"KNeighborsClassifier\",\"KNeighborsClassifier\",\"KNeighborsClassifier\",\"KNeighborsClassifier\",\"KNeighborsClassifier\",\"KNeighborsClassifier\",\"KNeighborsClassifier\",\"KNeighborsClassifier\",\"KNeighborsClassifier\",\"KNeighborsClassifier\",\"KNeighborsClassifier\",\"KNeighborsClassifier\",\"KNeighborsClassifier\",\"KNeighborsClassifier\",\"KNeighborsClassifier\",\"KNeighborsClassifier\",\"KNeighborsClassifier\",\"KNeighborsClassifier\",\"KNeighborsClassifier\",\"KNeighborsClassifier\",\"KNeighborsClassifier\",\"KNeighborsClassifier\",\"KNeighborsClassifier\",\"KNeighborsClassifier\",\"KNeighborsClassifier\",\"KNeighborsClassifier\",\"KNeighborsClassifier\",\"KNeighborsClassifier\",\"KNeighborsClassifier\",\"KNeighborsClassifier\",\"KNeighborsClassifier\",\"KNeighborsClassifier\",\"KNeighborsClassifier\",\"KNeighborsClassifier\",\"KNeighborsClassifier\",\"KNeighborsClassifier\",\"KNeighborsClassifier\",\"KNeighborsClassifier\",\"KNeighborsClassifier\",\"KNeighborsClassifier\",\"KNeighborsClassifier\",\"KNeighborsClassifier\",\"KNeighborsClassifier\",\"KNeighborsClassifier\",\"KNeighborsClassifier\",\"KNeighborsClassifier\",\"KNeighborsClassifier\",\"KNeighborsClassifier\",\"KNeighborsClassifier\",\"KNeighborsClassifier\",\"KNeighborsClassifier\",\"KNeighborsClassifier\",\"KNeighborsClassifier\",\"KNeighborsClassifier\",\"KNeighborsClassifier\",\"KNeighborsClassifier\",\"KNeighborsClassifier\",\"KNeighborsClassifier\",\"KNeighborsClassifier\",\"KNeighborsClassifier\",\"KNeighborsClassifier\",\"KNeighborsClassifier\",\"KNeighborsClassifier\",\"KNeighborsClassifier\",\"KNeighborsClassifier\",\"KNeighborsClassifier\",\"KNeighborsClassifier\",\"KNeighborsClassifier\",\"KNeighborsClassifier\",\"KNeighborsClassifier\",\"KNeighborsClassifier\",\"KNeighborsClassifier\",\"KNeighborsClassifier\",\"KNeighborsClassifier\",\"KNeighborsClassifier\",\"KNeighborsClassifier\",\"KNeighborsClassifier\",\"KNeighborsClassifier\",\"KNeighborsClassifier\",\"KNeighborsClassifier\",\"KNeighborsClassifier\",\"KNeighborsClassifier\",\"KNeighborsClassifier\",\"KNeighborsClassifier\",\"KNeighborsClassifier\",\"KNeighborsClassifier\",\"KNeighborsClassifier\",\"KNeighborsClassifier\",\"KNeighborsClassifier\",\"KNeighborsClassifier\",\"KNeighborsClassifier\",\"KNeighborsClassifier\",\"KNeighborsClassifier\",\"KNeighborsClassifier\",\"KNeighborsClassifier\",\"KNeighborsClassifier\",\"KNeighborsClassifier\",\"KNeighborsClassifier\",\"KNeighborsClassifier\",\"KNeighborsClassifier\",\"KNeighborsClassifier\",\"KNeighborsClassifier\",\"KNeighborsClassifier\",\"KNeighborsClassifier\",\"KNeighborsClassifier\",\"KNeighborsClassifier\",\"KNeighborsClassifier\",\"KNeighborsClassifier\",\"KNeighborsClassifier\",\"KNeighborsClassifier\",\"KNeighborsClassifier\",\"KNeighborsClassifier\",\"KNeighborsClassifier\",\"KNeighborsClassifier\",\"KNeighborsClassifier\",\"KNeighborsClassifier\",\"KNeighborsClassifier\",\"KNeighborsClassifier\",\"KNeighborsClassifier\",\"KNeighborsClassifier\",\"KNeighborsClassifier\",\"KNeighborsClassifier\",\"KNeighborsClassifier\",\"KNeighborsClassifier\",\"KNeighborsClassifier\",\"KNeighborsClassifier\",\"KNeighborsClassifier\",\"KNeighborsClassifier\",\"KNeighborsClassifier\",\"KNeighborsClassifier\",\"KNeighborsClassifier\",\"KNeighborsClassifier\",\"KNeighborsClassifier\",\"KNeighborsClassifier\",\"KNeighborsClassifier\",\"KNeighborsClassifier\",\"KNeighborsClassifier\",\"KNeighborsClassifier\",\"KNeighborsClassifier\",\"KNeighborsClassifier\",\"KNeighborsClassifier\",\"KNeighborsClassifier\",\"KNeighborsClassifier\",\"KNeighborsClassifier\",\"KNeighborsClassifier\",\"KNeighborsClassifier\",\"KNeighborsClassifier\",\"KNeighborsClassifier\",\"KNeighborsClassifier\",\"KNeighborsClassifier\",\"KNeighborsClassifier\",\"KNeighborsClassifier\",\"KNeighborsClassifier\",\"KNeighborsClassifier\",\"KNeighborsClassifier\",\"KNeighborsClassifier\",\"KNeighborsClassifier\",\"KNeighborsClassifier\",\"KNeighborsClassifier\",\"KNeighborsClassifier\",\"KNeighborsClassifier\",\"KNeighborsClassifier\",\"KNeighborsClassifier\",\"KNeighborsClassifier\",\"KNeighborsClassifier\",\"KNeighborsClassifier\",\"KNeighborsClassifier\",\"KNeighborsClassifier\",\"KNeighborsClassifier\",\"KNeighborsClassifier\",\"KNeighborsClassifier\",\"KNeighborsClassifier\",\"KNeighborsClassifier\",\"KNeighborsClassifier\",\"KNeighborsClassifier\",\"KNeighborsClassifier\",\"KNeighborsClassifier\",\"KNeighborsClassifier\",\"KNeighborsClassifier\",\"KNeighborsClassifier\",\"KNeighborsClassifier\",\"KNeighborsClassifier\",\"KNeighborsClassifier\",\"KNeighborsClassifier\",\"KNeighborsClassifier\",\"KNeighborsClassifier\",\"KNeighborsClassifier\",\"KNeighborsClassifier\",\"KNeighborsClassifier\",\"KNeighborsClassifier\",\"KNeighborsClassifier\",\"KNeighborsClassifier\",\"KNeighborsClassifier\",\"KNeighborsClassifier\",\"KNeighborsClassifier\",\"KNeighborsClassifier\",\"KNeighborsClassifier\",\"KNeighborsClassifier\",\"KNeighborsClassifier\",\"KNeighborsClassifier\",\"KNeighborsClassifier\",\"KNeighborsClassifier\",\"KNeighborsClassifier\",\"KNeighborsClassifier\",\"KNeighborsClassifier\",\"KNeighborsClassifier\",\"KNeighborsClassifier\",\"KNeighborsClassifier\",\"KNeighborsClassifier\",\"KNeighborsClassifier\",\"KNeighborsClassifier\",\"KNeighborsClassifier\",\"KNeighborsClassifier\",\"KNeighborsClassifier\",\"KNeighborsClassifier\",\"KNeighborsClassifier\",\"KNeighborsClassifier\",\"KNeighborsClassifier\",\"KNeighborsClassifier\",\"KNeighborsClassifier\",\"KNeighborsClassifier\",\"KNeighborsClassifier\",\"KNeighborsClassifier\",\"KNeighborsClassifier\",\"KNeighborsClassifier\",\"KNeighborsClassifier\",\"KNeighborsClassifier\",\"KNeighborsClassifier\",\"KNeighborsClassifier\",\"KNeighborsClassifier\",\"KNeighborsClassifier\",\"KNeighborsClassifier\",\"KNeighborsClassifier\",\"KNeighborsClassifier\",\"KNeighborsClassifier\",\"KNeighborsClassifier\",\"KNeighborsClassifier\",\"KNeighborsClassifier\",\"KNeighborsClassifier\",\"KNeighborsClassifier\",\"KNeighborsClassifier\",\"KNeighborsClassifier\",\"KNeighborsClassifier\",\"KNeighborsClassifier\",\"KNeighborsClassifier\",\"KNeighborsClassifier\",\"KNeighborsClassifier\",\"KNeighborsClassifier\",\"KNeighborsClassifier\",\"KNeighborsClassifier\",\"KNeighborsClassifier\",\"KNeighborsClassifier\",\"KNeighborsClassifier\",\"KNeighborsClassifier\",\"KNeighborsClassifier\",\"KNeighborsClassifier\",\"KNeighborsClassifier\",\"KNeighborsClassifier\",\"KNeighborsClassifier\",\"KNeighborsClassifier\",\"KNeighborsClassifier\",\"KNeighborsClassifier\",\"KNeighborsClassifier\",\"KNeighborsClassifier\",\"KNeighborsClassifier\",\"KNeighborsClassifier\",\"KNeighborsClassifier\",\"KNeighborsClassifier\",\"KNeighborsClassifier\",\"KNeighborsClassifier\",\"KNeighborsClassifier\",\"KNeighborsClassifier\",\"KNeighborsClassifier\",\"KNeighborsClassifier\",\"KNeighborsClassifier\",\"KNeighborsClassifier\",\"KNeighborsClassifier\",\"KNeighborsClassifier\",\"KNeighborsClassifier\",\"KNeighborsClassifier\",\"KNeighborsClassifier\",\"KNeighborsClassifier\",\"KNeighborsClassifier\",\"KNeighborsClassifier\",\"KNeighborsClassifier\",\"KNeighborsClassifier\",\"KNeighborsClassifier\",\"KNeighborsClassifier\",\"XGradientBoostingClassifier\",\"XGradientBoostingClassifier\",\"XGradientBoostingClassifier\",\"XGradientBoostingClassifier\",\"XGradientBoostingClassifier\",\"XGradientBoostingClassifier\",\"XGradientBoostingClassifier\",\"XGradientBoostingClassifier\",\"XGradientBoostingClassifier\",\"XGradientBoostingClassifier\",\"XGradientBoostingClassifier\",\"XGradientBoostingClassifier\",\"XGradientBoostingClassifier\",\"XGradientBoostingClassifier\",\"XGradientBoostingClassifier\",\"XGradientBoostingClassifier\",\"XGradientBoostingClassifier\",\"XGradientBoostingClassifier\",\"XGradientBoostingClassifier\",\"XGradientBoostingClassifier\",\"XGradientBoostingClassifier\",\"XGradientBoostingClassifier\",\"XGradientBoostingClassifier\",\"XGradientBoostingClassifier\",\"XGradientBoostingClassifier\",\"XGradientBoostingClassifier\",\"XGradientBoostingClassifier\",\"XGradientBoostingClassifier\",\"XGradientBoostingClassifier\",\"XGradientBoostingClassifier\",\"XGradientBoostingClassifier\",\"XGradientBoostingClassifier\",\"XGradientBoostingClassifier\",\"XGradientBoostingClassifier\",\"XGradientBoostingClassifier\",\"XGradientBoostingClassifier\",\"XGradientBoostingClassifier\",\"XGradientBoostingClassifier\",\"XGradientBoostingClassifier\",\"XGradientBoostingClassifier\",\"XGradientBoostingClassifier\",\"XGradientBoostingClassifier\",\"XGradientBoostingClassifier\",\"XGradientBoostingClassifier\",\"XGradientBoostingClassifier\",\"XGradientBoostingClassifier\",\"XGradientBoostingClassifier\",\"XGradientBoostingClassifier\",\"XGradientBoostingClassifier\",\"XGradientBoostingClassifier\",\"XGradientBoostingClassifier\",\"XGradientBoostingClassifier\",\"XGradientBoostingClassifier\",\"XGradientBoostingClassifier\",\"XGradientBoostingClassifier\",\"XGradientBoostingClassifier\",\"XGradientBoostingClassifier\",\"XGradientBoostingClassifier\",\"XGradientBoostingClassifier\",\"XGradientBoostingClassifier\",\"XGradientBoostingClassifier\",\"XGradientBoostingClassifier\",\"XGradientBoostingClassifier\",\"XGradientBoostingClassifier\",\"XGradientBoostingClassifier\",\"XGradientBoostingClassifier\",\"XGradientBoostingClassifier\",\"XGradientBoostingClassifier\",\"XGradientBoostingClassifier\",\"XGradientBoostingClassifier\",\"XGradientBoostingClassifier\",\"XGradientBoostingClassifier\",\"XGradientBoostingClassifier\",\"XGradientBoostingClassifier\",\"XGradientBoostingClassifier\",\"XGradientBoostingClassifier\",\"XGradientBoostingClassifier\",\"XGradientBoostingClassifier\",\"XGradientBoostingClassifier\",\"XGradientBoostingClassifier\",\"XGradientBoostingClassifier\",\"XGradientBoostingClassifier\",\"XGradientBoostingClassifier\",\"XGradientBoostingClassifier\",\"XGradientBoostingClassifier\",\"XGradientBoostingClassifier\",\"XGradientBoostingClassifier\",\"XGradientBoostingClassifier\",\"XGradientBoostingClassifier\",\"XGradientBoostingClassifier\",\"XGradientBoostingClassifier\",\"XGradientBoostingClassifier\",\"XGradientBoostingClassifier\",\"XGradientBoostingClassifier\",\"XGradientBoostingClassifier\",\"XGradientBoostingClassifier\",\"XGradientBoostingClassifier\",\"XGradientBoostingClassifier\",\"XGradientBoostingClassifier\",\"XGradientBoostingClassifier\",\"XGradientBoostingClassifier\"],\"y\":[0.18997183442115784,0.00015463917225133628,0.18997183442115784,0.00020565552404150367,0.00020565552404150367,0.18997183442115784,0.00020565552404150367,0.18997183442115784,0.00020565552404150367,0.18997183442115784,0.719490647315979,0.1782020777463913,0.719490647315979,0.1782020777463913,0.1823423206806183,0.719490647315979,0.18224875628948212,0.719490647315979,0.1718955934047699,0.719490647315979,0.1782020777463913,0.1782020777463913,0.1801651269197464,0.719490647315979,0.1782020777463913,0.7123376727104187,0.1785563975572586,0.719490647315979,0.7170858383178711,0.17846988141536713,0.7002525329589844,0.7077900171279907,0.7002525329589844,0.7077900171279907,0.7077900171279907,0.7002525329589844,0.7091977000236511,0.7002525329589844,0.7077900171279907,0.7002525329589844,0.7002525329589844,0.7002525329589844,0.7002525329589844,0.7077900171279907,0.7077900171279907,0.7002525329589844,0.7002525329589844,0.7002525329589844,0.7002525329589844,0.7002525329589844,0.7165773510932922,0.6900526881217957,0.7165773510932922,0.6900526881217957,0.6874877214431763,0.7174662351608276,0.6830037832260132,0.7165773510932922,0.6885743141174316,0.7165773510932922,0.18997183442115784,0.18997183442115784,0.00020565552404150367,0.18997183442115784,0.00020565552404150367,0.00020565552404150367,0.18997183442115784,0.00020565552404150367,0.18997183442115784,0.00020565552404150367,0.18997183442115784,0.719490647315979,0.1782020777463913,0.7090663909912109,0.1726454645395279,0.7116060853004456,0.17033155262470245,0.16829940676689148,0.7136681079864502,0.17684680223464966,0.7079458832740784,0.17486454546451569,0.7116060853004456,0.7002525329589844,0.7077900171279907,0.7077900171279907,0.7077900171279907,0.7077900171279907,0.7077900171279907,0.7002525329589844,0.7077900171279907,0.7106451988220215,0.7014646530151367,0.7108039259910583,0.7294228076934814,0.7237994074821472,0.6894227862358093,0.6933580040931702,0.6992265582084656,0.7038456201553345,0.7108039259910583,0.7165773510932922,0.11908617615699768,0.09396111965179443,0.6900526881217957,0.6611385345458984,0.0585605725646019,0.0578530877828598,0.0845116376876831,0.10226677358150482,0.08559395372867584,0.6211278438568115,0.0845116376876831,0.17456494271755219,0.0645742118358612,0.05875640735030174,0.17427358031272888,0.11911144107580185,0.3185434937477112,0.11745823174715042,0.4582141041755676,0.17427358031272888,0.719794511795044,0.6900526881217957,0.5041384696960449,0.7165773510932922,0.3921639323234558,0.2438136339187622,0.10163185000419617,0.20708300173282623,0.10163185000419617,0.7225232124328613,0.6884480714797974,0.7225232124328613,0.69720059633255,0.7004591226577759,0.7174662351608276,0.7040117383003235,0.7293037176132202,0.6932503581047058,0.7225232124328613,0.726803719997406,0.6899011731147766,0.6907181143760681,0.7378333210945129,0.7378333210945129,0.7174662351608276,0.7225232124328613,0.7278688549995422,0.726803719997406,0.69720059633255,0.7293037176132202,0.6884480714797974,0.7225232124328613,0.6991089582443237,0.6892532706260681,0.6974155902862549,0.726803719997406,0.7278688549995422,0.7359436750411987,0.686578631401062,0.7278688549995422,0.6953917741775513,0.7142271995544434,0.7278688549995422,0.7293037176132202,0.7225232124328613,0.7378333210945129,0.7398679852485657,0.6884480714797974,0.6953917741775513,0.00015463917225133628,0.18928010761737823,0.00020565552404150367,0.00020565552404150367,0.18997183442115784,0.00020565552404150367,0.1894116848707199,0.00020565552404150367,0.18961384892463684,0.18997183442115784,0.1606130748987198,0.00020565552404150367,0.18997183442115784,0.18997183442115784,0.18966472148895264,0.00020565552404150367,0.18997183442115784,0.12589210271835327,0.00020565552404150367,0.17226721346378326,0.00015463917225133628,0.17168119549751282,0.00020565552404150367,0.16084909439086914,0.18997183442115784,0.02562584914267063,0.00015463917225133628,0.15285342931747437,0.00020565552404150367,0.18528011441230774,0.00020565552404150367,0.1824813336133957,0.18997183442115784,0.02454465441405773,0.18928010761737823,0.00020565552404150367,0.24742940068244934,0.7118744850158691,0.0026421211659908295,0.2343609780073166,0.7200223803520203,0.24054177105426788,0.713411271572113,0.2524145543575287,0.7105887532234192,0.24905644357204437,0.7141175866127014,0.7164192199707031,0.48565760254859924,0.25153300166130066,0.1774992048740387,0.5152212977409363,0.7169696688652039,0.23682290315628052,0.6803665161132812,0.7099668383598328,0.49748319387435913,0.25153300166130066,0.24097199738025665,0.7276031970977783,0.7220461964607239,0.22953438758850098,0.23403620719909668,0.704673171043396,0.24742940068244934,0.7183383703231812,0.6980295777320862,0.011939325369894505,0.549620509147644,0.6957714557647705,0.7377965450286865,0.6867654919624329,0.7281031608581543,0.6875641942024231,0.6909235119819641,0.7327633500099182,0.7009811997413635,0.7431111335754395,0.479098379611969,0.5244136452674866,0.6984480619430542,0.7518730163574219,0.7104198336601257,0.7487778067588806,0.7069588899612427,0.7099241018295288,0.025517484173178673,0.4587857127189636,0.7166199088096619,0.7300959825515747,0.7094494700431824,0.7084299921989441,0.7229653596878052,0.7165773510932922,0.01900404691696167,0.7096306085586548,0.46568921208381653,0.6951860785484314,0.708088219165802,0.4657331705093384,0.6957041621208191,0.08901242911815643,0.4834159314632416,0.019977815449237823,0.031657639890909195,0.010869565419852734,0.00020565552404150367,0.019208546727895737,0.04462467506527901,0.002710526343435049,0.040708545595407486,0.007278745528310537,0.013655172660946846,0.0010884354123845696,0.04209604859352112,0.034904371947050095,0.00021052631200291216,0.00020565552404150367,0.0783742219209671,0.03748190030455589,0.018586497753858566,0.12898972630500793,0.006093070842325687,0.20716509222984314,0.18884995579719543,0.23330058157444,0.019569523632526398,0.1845424324274063,0.17628389596939087,0.1692611277103424,0.17341406643390656,0.16324643790721893,0.17960773408412933,0.09900861233472824,0.09780912846326828,0.1799885332584381,0.20010720193386078,0.18408213555812836,0.1821455955505371,0.1658228486776352,0.1931309849023819,0.183107390999794,0.19344007968902588,0.15890507400035858,0.1720285415649414,0.17876408994197845,0.1490277349948883,0.2169564813375473,0.12521407008171082,0.16716833412647247,0.1826132982969284,0.17862237989902496,0.2036985605955124,0.20463186502456665,0.13147810101509094,0.22577206790447235,0.11440546810626984,0.1323980838060379,0.11171939969062805,0.15402276813983917,0.15067966282367706,0.12828123569488525,0.13403230905532837,0.1054157093167305,0.13831660151481628,0.1557599902153015,0.09566833078861237,0.14002104103565216,0.14379118382930756,0.13450148701667786,0.15124839544296265,0.13145242631435394,0.12995639443397522,0.06040611490607262,0.06040611490607262,0.06977316737174988,0.09961539506912231,0.07378822565078735,0.2323334813117981,0.09663248807191849,0.22780320048332214,0.2413777858018875,0.1096561998128891,0.05267901346087456,0.6881649494171143,0.28078627586364746,0.13186824321746826,0.5100804567337036,0.7280223369598389,0.5407678484916687,0.4179190397262573,0.6938621401786804,0.5809410214424133,0.6000391244888306,0.6168208122253418,0.7160679697990417,0.3938378691673279,0.17392486333847046,0.5556142926216125,0.16135065257549286,0.5727819204330444,0.7225692868232727,0.21272948384284973,0.00015706806152593344,0.695275604724884,0.004999999888241291,0.758698582649231,0.5953922867774963,0.7212647795677185,0.6340314745903015,0.5424187183380127,0.6992900967597961,0.7111536860466003,0.5592970848083496,0.7044913172721863,0.6742169260978699,0.7216581702232361,0.42993390560150146,0.7270007133483887,0.5005627274513245,0.663597583770752,0.015457912348210812,0.7243809700012207,0.7281233668327332,0.01815873011946678,0.7406565546989441,0.7084251046180725,0.004999999888241291,0.08046474307775497,0.7092888355255127,0.6253544688224792,0.6793649792671204,0.054023414850234985,0.1431197226047516,0.7095621228218079,0.5886353850364685,0.6706017255783081,0.0070682247169315815,0.6809805631637573,0.5509621500968933,0.713136613368988,0.0,0.7026933431625366,0.1654045581817627,0.6264036297798157,0.0543212853372097,0.1388031542301178,0.045926015824079514,0.04698560759425163,0.05261601507663727,0.024333324283361435,0.6067422032356262,0.08338366448879242,0.15186282992362976,0.09935154020786285,0.016316624358296394,0.06847943365573883,0.06576318293809891,0.13200950622558594,0.04665577784180641,0.015531296841800213,0.0532507449388504,0.10548285394906998,0.003075722139328718,0.6401363611221313,0.01796286180615425,0.524742841720581,0.05993189662694931,0.6956331729888916,0.03525163605809212,0.6216787695884705,0.19682857394218445,0.621181845664978,0.01663289964199066,0.6721103191375732,0.6650599837303162,0.15925580263137817,0.555708646774292,0.64860999584198,0.5721561312675476,0.561118483543396,0.650238037109375,0.5382136702537537,0.5176438093185425,0.5800924897193909,0.6571627855300903,0.4677983522415161,0.6294653415679932,0.6642701029777527,0.7000465393066406,0.6152037978172302,0.18286557495594025,0.618589460849762,0.5800856947898865,0.00015267175331246108,0.00020565552404150367,0.01545812375843525,0.039719924330711365,0.00020725389185827225,0.056170545518398285,0.008856330998241901,0.0033922134898602962,0.0,0.027177779003977776,0.1675458401441574,0.18500179052352905,0.17404209077358246,0.179957315325737,0.19817528128623962,0.009492997080087662,0.0,0.14776906371116638,0.16341926157474518,0.13777703046798706,0.1318611204624176,0.15447959303855896,0.1467014104127884,0.019233711063861847,0.006725274957716465,0.15461423993110657,0.15709076821804047,0.1574167162179947,0.15448980033397675,0.1383296549320221,0.13524475693702698,0.0276383925229311,0.22565850615501404,0.30363577604293823,0.18306005001068115,0.2617913782596588,0.13887202739715576,0.24124380946159363,0.1499255746603012,0.23328983783721924,0.27834680676460266,0.3192387819290161,0.35390666127204895,0.2032575160264969,0.24335737526416779,0.24660106003284454,0.29129669070243835,0.23360711336135864,0.22293025255203247,0.22037236392498016,0.2571370601654053,0.33211711049079895,0.2316177636384964,0.30363577604293823,0.18531890213489532,0.2617913782596588,0.1430409550666809,0.24137714505195618,0.1499255746603012,0.23328983783721924,0.27834680676460266,0.32154375314712524,0.3504309356212616,0.20844443142414093,0.23126986622810364,0.18666014075279236,0.34527304768562317,0.2743557095527649,0.323640376329422,0.10366185009479523,0.28940877318382263,0.642349362373352,0.22983574867248535,0.30014216899871826,0.18439093232154846,0.2617913782596588,0.13895268738269806,0.2414039820432663,0.14991909265518188,0.23348304629325867,0.2773944139480591,0.3209376931190491,0.27702590823173523,0.18694600462913513,0.19432342052459717,0.2199718952178955,0.2777341902256012,0.2781430780887604,0.22043916583061218,0.1164591982960701,0.7134863138198853,0.021326415240764618,0.24365021288394928,0.31857743859291077,0.1946602314710617,0.2541881799697876,0.12338424474000931,0.22405090928077698,0.1481161117553711,0.22733984887599945,0.29170891642570496,0.3113687336444855,0.22565850615501404,0.24048608541488647,0.18790335953235626,0.16485179960727692,0.2569859027862549,0.21225537359714508,0.2600715458393097,0.29800453782081604,0.2811661958694458,0.01796465925872326,0.06508956849575043,0.2407579869031906,0.18845607340335846,0.16485179960727692,0.25621533393859863,0.21225537359714508,0.2604561746120453,0.2977737784385681,0.28603246808052063,0.01796465925872326,0.06508956849575043,0.2554998993873596,0.26699453592300415,0.09161405265331268,0.2702854871749878,0.20280013978481293,0.08864498138427734,0.280916690826416,0.06430671364068985,0.07966169714927673,0.2718202471733093,0.22983574867248535,0.17708401381969452,0.27468737959861755,0.07985609769821167,0.24385946989059448,0.18845607340335846,0.16520100831985474,0.2554517686367035,0.21250568330287933,0.26243188977241516,0.30053380131721497,0.2878255248069763,0.01796465925872326,0.06508956849575043,0.24365021288394928,0.15965548157691956,0.03645025193691254,0.05762434005737305,0.07943125814199448,0.07491375505924225,0.29390403628349304,0.169049933552742,0.02354239672422409,0.0718495324254036,0.23930905759334564,0.19839057326316833,0.1611729860305786,0.27222707867622375,0.22222428023815155,0.2709501385688782,0.29109224677085876,0.2667848467826843,0.013850470073521137,0.0644957646727562,0.1546022891998291,0.25524088740348816,0.26896217465400696,0.20201168954372406,0.24224211275577545,0.18923671543598175,0.1315295547246933,0.3572327494621277,0.3163362741470337,0.07694070041179657,0.3288132846355438,0.2809586822986603,0.31829866766929626,0.3672045171260834,0.2590302526950836,0.26205453276634216,0.2189287543296814,0.11731548607349396,0.2769474983215332,0.19280827045440674,0.2586216926574707,0.2776402235031128,0.2294793725013733,0.27946314215660095,0.18202006816864014,0.13597151637077332,0.3110943138599396,0.35775861144065857,0.05800963193178177,0.2929322123527527,0.2888305187225342,0.2878584563732147,0.3083617389202118,0.26610320806503296,0.25543010234832764,0.2590305209159851,0.12265017628669739,0.2851542532444,0.1411607414484024,0.2219690978527069,0.2712230086326599,0.16538725793361664,0.23081570863723755,0.18338294327259064,0.10517894476652145,0.2954205870628357,0.26893508434295654,0.6474466323852539,0.6474466323852539,0.6474466323852539,0.6474466323852539,0.6474466323852539,0.6474466323852539,0.6474466323852539,0.6474466323852539,0.6474466323852539,0.6474466323852539,0.650005042552948,0.650005042552948,0.650005042552948,0.650005042552948,0.650005042552948,0.650005042552948,0.650005042552948,0.650005042552948,0.650005042552948,0.650005042552948,0.650005042552948,0.650005042552948,0.650005042552948,0.650005042552948,0.650005042552948,0.650005042552948,0.650005042552948,0.650005042552948,0.650005042552948,0.650005042552948,0.6474913358688354,0.6474913358688354,0.6474913358688354,0.6474913358688354,0.6474913358688354,0.6474913358688354,0.6474913358688354,0.6474913358688354,0.6474913358688354,0.6474913358688354,0.3510523736476898,0.3510523736476898,0.3510523736476898,0.3510523736476898,0.3510523736476898,0.3510523736476898,0.3510523736476898,0.3510523736476898,0.3510523736476898,0.3510523736476898,0.3510523736476898,0.3510523736476898,0.3510523736476898,0.3510523736476898,0.3510523736476898,0.3510523736476898,0.3510523736476898,0.3510523736476898,0.3510523736476898,0.3510523736476898,0.6474466323852539,0.6668987274169922,0.6602616310119629,0.6658943891525269,0.6617400050163269,0.6617400050163269,0.6892183423042297,0.6772710084915161,0.6772710084915161,0.6892183423042297,0.66428542137146,0.66428542137146,0.6617400050163269,0.66428542137146,0.6772710084915161,0.66428542137146,0.6668987274169922,0.6602616310119629,0.6892183423042297,0.6772710084915161,0.6658943891525269,0.650005042552948,0.6461756825447083,0.6530014276504517,0.6650603413581848,0.6584232449531555,0.6691007614135742,0.6612334847450256,0.6612334847450256,0.6795992851257324,0.6767818331718445,0.6767818331718445,0.6795992851257324,0.6588280200958252,0.6474913358688354,0.6474913358688354,0.6474913358688354,0.6474913358688354,0.6474913358688354,0.6474913358688354,0.6634910702705383,0.6595920920372009,0.6597457528114319,0.6628243923187256,0.6628243923187256,0.6820328831672668,0.679559588432312,0.679559588432312,0.6820328831672668,0.6555184721946716,0.6555184721946716,0.6628243923187256,0.6555184721946716,0.679559588432312,0.6555184721946716,0.6634910702705383,0.6595920920372009,0.6820328831672668,0.679559588432312,0.6597457528114319,0.6555184721946716,0.6595920920372009,0.6595920920372009,0.6555184721946716,0.6628243923187256,0.6628243923187256,0.6555184721946716,0.6634910702705383,0.6628243923187256,0.6634910702705383,0.3510523736476898,0.0980534553527832,0.06592988222837448,0.15682891011238098,0.15682891011238098,0.3552350103855133,0.27539920806884766,0.3368464708328247,0.3552350103855133,0.10854977369308472,0.09411055594682693,0.06592988222837448,0.06592988222837448,0.12245090305805206,0.17589443922042847,0.34706830978393555,0.12245090305805206,0.09411055594682693,0.12245090305805206,0.10854977369308472,0.3535988926887512,0.3527083694934845,0.35458603501319885,0.35369056463241577,0.35369056463241577,0.3593708872795105,0.36255335807800293,0.36255335807800293,0.3593708872795105,0.3576188087463379,0.3576188087463379,0.35369056463241577,0.3576188087463379,0.36255335807800293,0.3576188087463379,0.3535988926887512,0.3527083694934845,0.3593708872795105,0.36255335807800293,0.35458603501319885,0.6423391103744507,0.7416812777519226,0.7251659631729126,0.7711772322654724,0.7525028586387634,0.044609490782022476,0.7394344806671143,0.6777559518814087,0.22304947674274445,0.7394344806671143,0.1842675358057022,0.7764732837677002,0.5303388833999634,0.17550542950630188,0.6579985022544861,0.6922404170036316,0.3495590388774872,0.6430190801620483,0.26219576597213745,0.6726536750793457,0.7484595775604248,0.7179653644561768,0.73505699634552,0.7119660973548889,0.03802699223160744,0.7234278321266174,0.7061740159988403,0.36309942603111267,0.546252965927124,0.6940836906433105,0.6867113709449768,0.6526620388031006,0.6659496426582336,0.04146384075284004,0.6535855531692505,0.6181811094284058,0.24669091403484344,0.0478796660900116,0.24240370094776154,0.19263498485088348,0.2362414300441742,0.16810671985149384,0.21906261146068573,0.12867291271686554,0.22277100384235382,0.17152580618858337,0.18874813616275787,0.16266989707946777,0.20874975621700287,0.14901459217071533,0.22412066161632538,0.15166467428207397,0.2163369357585907,0.21433746814727783,0.20230968296527863,0.20959922671318054,0.2138688564300537,0.22698506712913513,0.21719159185886383,0.20188599824905396,0.1755446344614029,0.08073365688323975,0.13564752042293549,0.2209729701280594,0.13753832876682281,0.23686957359313965,0.22833994030952454,0.05754758045077324,0.17576155066490173,0.08871595561504364,0.1767592877149582,0.072728730738163,0.22027422487735748,0.10152880102396011,0.1174195408821106,0.062180742621421814,0.18229526281356812,0.049550097435712814,0.2365100383758545,0.1923583298921585,0.23328448832035065,0.1664513200521469,0.2190760374069214,0.1328117996454239,0.2181837111711502,0.16772837936878204,0.1876290887594223,0.19839271903038025,0.21382839977741241,0.09766904264688492,0.2134840488433838,0.20928554236888885,0.20584404468536377,0.20718885958194733,0.08354967087507248,0.17249983549118042,0.1109001561999321,0.04795213043689728,0.05434618890285492,0.24989698827266693,0.19224442541599274,0.1974753588438034,0.13862334191799164,0.2030140906572342,0.2201019823551178,0.21569645404815674,0.06919409334659576,0.09490188211202621,0.049550097435712814,0.05434618890285492,0.2505636513233185,0.1948734074831009,0.1967322677373886,0.12908530235290527,0.20494693517684937,0.2197967916727066,0.2138405293226242,0.07145599275827408,0.09388456493616104,0.047198470681905746,0.23054324090480804,0.16325002908706665,0.18884477019309998,0.10367728769779205,0.21462638676166534,0.21870484948158264,0.19914820790290833,0.058463629335165024,0.08477094769477844,0.08618370443582535,0.11098340898752213,0.0750136524438858,0.05583244189620018,0.07125724107027054,0.07281024754047394,0.09746739268302917,0.04820779338479042,0.10225824266672134,0.0698196217417717,0.06942013651132584,0.04020202159881592,0.11015917360782623,0.11919786036014557,0.08390836417675018,0.11700033396482468,0.07818309217691422,0.08588234335184097,0.09174386411905289,0.06100469082593918,0.10082440078258514,0.06072990968823433,0.07159919291734695,0.05826956406235695,0.05609865114092827,0.10846464335918427,0.060809385031461716,0.09496098011732101,0.09080417454242706,0.08133693784475327,0.05793695151805878,0.04393578693270683,0.0692715048789978,0.08648388087749481,0.08718470484018326,0.04892057925462723,0.10836136341094971,0.08978990465402603,0.0779978334903717,0.03473060205578804,0.07906962186098099,0.1270398497581482,0.0864185243844986,0.09471933543682098,0.10469752550125122,0.06919463723897934,0.07257287204265594,0.8250822424888611,0.8250822424888611,0.7607373595237732,0.2812357246875763,0.21165797114372253,0.25233012437820435,0.3211803734302521,0.24892474710941315,0.33355066180229187,0.3626573979854584,0.7728383541107178,0.7878860235214233,0.360847532749176,0.1315540224313736,0.8256261944770813,0.2692788541316986,0.29296109080314636,0.7913196086883545,0.23305757343769073,0.7703838348388672,0.8250822424888611,0.8250822424888611,0.7607373595237732,0.2812357246875763,0.21165797114372253,0.25233012437820435,0.7226276993751526,0.24892474710941315,0.33355066180229187,0.7317719459533691,0.7866911888122559,0.23789116740226746,0.25845667719841003,0.7698174715042114,0.3498881459236145,0.8040627837181091,0.7491984367370605,0.7480093836784363,0.23164282739162445,0.7812272906303406,0.8250822424888611,0.8250822424888611,0.7607373595237732,0.2812357246875763,0.21165797114372253,0.25233012437820435,0.3211803734302521,0.24892474710941315,0.33355066180229187,0.3626573979854584,0.7728383541107178,0.7878860235214233,0.360847532749176,0.1315540224313736,0.8256261944770813,0.2692788541316986,0.29296109080314636,0.7913196086883545,0.23305757343769073,0.7703838348388672,0.8107330203056335,0.8107330203056335,0.7466334700584412,0.2774771451950073,0.20866210758686066,0.22650444507598877,0.31083428859710693,0.2349759340286255,0.31722864508628845,0.34727737307548523,0.7611675262451172,0.7671161890029907,0.36459970474243164,0.11936741322278976,0.7962107062339783,0.2720879018306732,0.28471213579177856,0.7939296364784241,0.21802030503749847,0.7457417249679565,0.24041245877742767,0.041567135602235794,0.0422319620847702,0.7908520698547363,0.25150391459465027,0.7330635190010071,0.7656363844871521,0.7710642218589783,0.23795108497142792,0.750906229019165,0.8250822424888611,0.8310930728912354,0.19964957237243652,0.2772170901298523,0.27216097712516785,0.27207109332084656,0.26151585578918457,0.3600432872772217,0.7433528304100037,0.05238260328769684,0.759656548500061,0.7444213628768921,0.7276983857154846,0.30440449714660645,0.19936195015907288,0.7299891710281372,0.7708549499511719,0.8085259795188904,0.7326306104660034,0.25125476717948914,0.3510783612728119,0.8250822424888611,0.8310930728912354,0.19964957237243652,0.2772170901298523,0.27216097712516785,0.27207109332084656,0.26151585578918457,0.3600432872772217,0.7433528304100037,0.05238260328769684,0.759656548500061,0.2753904461860657,0.7734768986701965,0.22366687655448914,0.7874682545661926,0.22884789109230042,0.7262547016143799,0.3359498083591461,0.24351952970027924,0.3428213894367218,0.26589179039001465,0.8250822424888611,0.2342948466539383,0.808055579662323,0.18247736990451813,0.28989458084106445,0.26403242349624634,0.261697381734848,0.2551359236240387,0.3372379243373871,0.739548921585083,0.05324355140328407,0.7491724491119385,0.24879279732704163,0.7839487195014954,0.21083661913871765,0.30417400598526,0.32029521465301514,0.7962783575057983,0.2718660533428192,0.19276843965053558,0.7915425896644592,0.7904725074768066,0.7388782501220703,0.23853297531604767,0.3201041519641876,0.356873482465744,0.3612070083618164,0.35446032881736755,0.35549256205558777,0.7631821632385254,0.3313639163970947,0.7611384987831116,0.7078326344490051,0.6725844144821167,0.30448824167251587,0.24621635675430298,0.2963985502719879,0.2275489866733551,0.2889418303966522,0.32048895955085754,0.7065511345863342,0.4256635308265686,0.27849555015563965,0.26702991127967834,0.24504272639751434,0.22888492047786713,0.24709831178188324,0.3130982518196106,0.6577352285385132,0.6728338003158569,0.29958248138427734,0.2576605975627899,0.2514727711677551,0.1559893637895584,0.25710076093673706,0.28645747900009155,0.262156218290329,0.3405085504055023,0.661853551864624,0.6754847168922424,0.7377645373344421,0.04087339714169502,0.04245693236589432,0.23835910856723785,0.7347373962402344,0.3999341130256653,0.7202857136726379,0.786216139793396,0.2606859505176544,0.03265305608510971,0.786216139793396,0.786216139793396,0.786216139793396,0.7202857136726379,0.786216139793396,0.786216139793396,0.7202857136726379,0.0714682787656784,0.06036004051566124,0.6731466054916382,0.32659438252449036,0.2606859505176544,0.6712194681167603,0.7979567050933838,0.7366565465927124,0.22365467250347137,0.7979567050933838,0.7202857136726379,0.6982299089431763,0.38998016715049744,0.786216139793396,0.786216139793396,0.6987316012382507,0.7366565465927124,0.7202857136726379,0.7595526576042175,0.7291998267173767,0.7846810817718506,0.2813796401023865,0.04920129477977753,0.7846810817718506,0.7846810817718506,0.7846810817718506,0.7291998267173767,0.7846810817718506,0.7846810817718506,0.7291998267173767,0.08845033496618271,0.07738024741411209,0.7036170363426208,0.32057589292526245,0.2813796401023865,0.6618070602416992,0.8158528208732605,0.7233178019523621,0.20843002200126648,0.7291998267173767,0.7707861661911011,0.04167565330862999,0.03937336057424545,0.15412093698978424,0.7291998267173767,0.8158528208732605,0.7846810817718506,0.797097384929657,0.7299939393997192,0.7291998267173767,0.7504631876945496,0.7864134311676025,0.7291998267173767,0.022086508572101593,0.7707861661911011,0.7544083595275879,0.7184504866600037,0.7501962184906006,0.7029069066047668,0.25246623158454895,0.7501962184906006,0.7291998267173767,0.7544083595275879,0.7291998267173767,0.25246623158454895,0.2613986134529114,0.7846810817718506,0.7291998267173767,0.7846810817718506,0.6987423300743103,0.15412093698978424,0.6987423300743103,0.7846810817718506,0.6987423300743103,0.7846810817718506,0.6987423300743103,0.7420211434364319,0.20843002200126648,0.7846810817718506,0.19625522196292877,0.6617863178253174,0.18994560837745667,0.7846810817718506,0.19625522196292877,0.03361493721604347,0.6623056530952454,0.17265687882900238,0.18994560837745667,0.7846810817718506,0.7351284027099609,0.77458655834198,0.2854362428188324,0.05807904154062271,0.77458655834198,0.77458655834198,0.77458655834198,0.7351284027099609,0.77458655834198,0.77458655834198,0.7086343169212341,0.7598780393600464,0.2549130320549011,0.05408428609371185,0.7598780393600464,0.7598780393600464,0.7598780393600464,0.7086343169212341,0.7598780393600464,0.7598780393600464,0.7086343169212341,0.08315003663301468,0.07150997966527939,0.6461812853813171,0.31371739506721497,0.2549130320549011,0.6357988119125366,0.7662287354469299,0.5603698492050171,0.1922328770160675,0.622866690158844,0.35781005024909973,0.7086343169212341,0.7577467560768127,0.0774562880396843,0.7542800903320312,0.7304567098617554,0.7086343169212341,0.7329941987991333,0.6996695399284363,0.48086369037628174,0.7581759095191956,0.7598780393600464,0.7086343169212341,0.7885459065437317,0.1622544676065445,0.7086343169212341,0.17547552287578583,0.3186151087284088,0.7879587411880493,0.7086343169212341,0.6947885751724243,0.6947885751724243,0.03466834872961044,0.7598780393600464,0.7598780393600464,0.5023190975189209,0.7562021613121033,0.7086343169212341,0.6021262407302856,0.7202857136726379,0.7291998267173767,0.02686394564807415,0.7351284027099609,0.5882506370544434,0.7951445579528809,0.029272370040416718,0.7588931918144226,0.7339097857475281,0.7857972383499146,0.6854700446128845,0.7823705673217773,0.5687703490257263,0.7813311815261841,0.7748578786849976,0.706038236618042,0.7813311815261841,0.7760492563247681,0.7086343169212341,0.05574658513069153,0.08328769356012344,0.15550780296325684,0.13027651607990265,0.0781976506114006,0.21884669363498688,0.31828534603118896,0.14296597242355347,0.13931912183761597,0.3321489989757538,0.07834966480731964,0.21778780221939087,0.07530945539474487,0.11619317531585693,0.07622773200273514,0.21864435076713562,0.718109130859375,0.7595964074134827,0.6803897619247437,0.7482568621635437,0.5130845308303833,0.7479025721549988,0.7598391175270081,0.7101263999938965,0.7479025721549988,0.7304778695106506,0.08266951143741608,0.6741288900375366,0.7181140184402466,0.10387380421161652,0.06180311366915703,0.7246829867362976,0.4951283633708954,0.7808297276496887,0.7522537112236023,0.02406369522213936,0.3669966459274292,0.26603424549102783,0.06631213426589966,0.6783203482627869,0.6853759288787842,0.6814819574356079,0.7168852686882019,0.6802864074707031,0.6861205101013184,0.219404399394989,0.24562467634677887,0.7302301526069641,0.6665621995925903,0.7031926512718201,0.22278030216693878,0.5945754647254944,0.6919798254966736,0.6789085268974304,0.3029440641403198,0.4293754994869232,0.2679646611213684,0.10758907347917557,0.6813780665397644,0.7049329280853271,0.7039870023727417,0.7479292750358582,0.6876551508903503,0.7154033184051514,0.22662897408008575,0.21702246367931366,0.7176132798194885,0.6355322003364563,0.7187455296516418,0.23059087991714478,0.6522856950759888,0.7181528806686401,0.6769277453422546,0.3466528058052063,0.6203926801681519,0.6576748490333557,0.7230613231658936,0.4564563035964966,0.42921972274780273,0.7432857155799866,0.04813941568136215,0.7479062080383301,0.6203926801681519,0.18465791642665863,0.6204401850700378,0.6391952633857727,0.48232999444007874,0.7252193093299866,0.6783443093299866,0.7045649290084839,0.7475497126579285,0.7334393858909607,0.7189812660217285,0.49487659335136414,0.26586824655532837,0.10212617367506027,0.7112301588058472,0.7143347859382629,0.7075303196907043,0.7394891381263733,0.7158715128898621,0.7339169979095459,0.22469830513000488,0.3277774155139923,0.7117727398872375,0.48867106437683105,0.759507954120636,0.22713983058929443,0.6401825547218323,0.7204878926277161,0.6656750440597534,0.3705289661884308,0.35110288858413696,0.208513081073761,0.0934036523103714,0.7023680806159973,0.7287958264350891,0.7206532955169678,0.7330889105796814,0.69797682762146,0.676429271697998,0.6806740760803223,0.5981312990188599,0.07513581216335297,0.00020565552404150367,0.00020565552404150367,0.00020565552404150367,0.00020565552404150367,0.00020565552404150367,0.00020565552404150367,0.00020565552404150367,0.64613276720047,0.4633100628852844,0.08567116409540176,0.00020565552404150367,0.00020565552404150367,0.00020565552404150367,0.00020565552404150367,0.00020565552404150367,0.00020565552404150367,0.00020565552404150367,0.6806740760803223,0.6089271306991577,0.08444438129663467,0.00020565552404150367,0.00020565552404150367,0.00020565552404150367,0.00020565552404150367,0.00020565552404150367,0.00020565552404150367,0.00020565552404150367,0.00020565552404150367,0.00020565552404150367,0.00020565552404150367,0.00020565552404150367,0.00020565552404150367,0.00020565552404150367,0.1238214373588562,0.00020565552404150367,0.00020565552404150367,0.00020565552404150367,0.6806740760803223,0.6813008785247803,0.00020565552404150367,0.0018015984678640962,0.00020565552404150367,0.00020565552404150367,0.00020565552404150367,0.00020565552404150367,0.00020565552404150367,0.00020565552404150367,0.00020565552404150367,0.6806740760803223,0.00020565552404150367,0.6813008785247803,0.00020565552404150367,0.0018015984678640962,0.00020565552404150367,0.00020565552404150367,0.00020565552404150367,0.00020565552404150367,0.00020565552404150367,0.00020565552404150367,0.00020565552404150367,0.668195903301239,0.00020565552404150367,0.0019162936368957162,0.00020565552404150367,0.00020565552404150367,0.00020565552404150367,0.00020565552404150367,0.00020565552404150367,0.00020565552404150367,0.00020565552404150367,0.00020565552404150367,0.01412359531968832,0.00020565552404150367,0.00020565552404150367,0.00020565552404150367,0.12284170836210251,0.10719193518161774,0.00020565552404150367,0.00020565552404150367,0.00020565552404150367,0.6060107946395874,0.00020565552404150367,0.00020565552404150367,0.00020565552404150367,0.00020565552404150367,0.00020565552404150367,0.00020565552404150367,0.005537849850952625,0.00020565552404150367,0.604608952999115,0.00020565552404150367,0.00020565552404150367,0.00020565552404150367,0.00020565552404150367,0.00020565552404150367,0.00020565552404150367,0.004613119643181562,0.00020565552404150367]},\"selected\":{\"id\":\"160bb6a1-f285-480b-b246-15d04e97c880\",\"type\":\"Selection\"},\"selection_policy\":{\"id\":\"2a6cf0db-5cdf-4ac6-8d9d-030083e6ac05\",\"type\":\"UnionRenderers\"}},\"id\":\"1cd38c49-ada1-48f8-b405-719b7de5de10\",\"type\":\"ColumnDataSource\"},{\"attributes\":{},\"id\":\"a0d3ccc0-c3b5-41f3-ad50-f39034fbf23a\",\"type\":\"StringFormatter\"},{\"attributes\":{},\"id\":\"9f3896fb-5124-42f3-a86f-f29da907020e\",\"type\":\"StringEditor\"},{\"attributes\":{},\"id\":\"fe81cfee-7bd2-4a88-9b6a-5f7f9bd3ba38\",\"type\":\"StringFormatter\"},{\"attributes\":{},\"id\":\"8f4f5a2e-f534-4a93-831d-4f1f973c0d59\",\"type\":\"StringEditor\"},{\"attributes\":{},\"id\":\"804cbdf0-f055-4e36-9890-83371c50a249\",\"type\":\"StringFormatter\"},{\"attributes\":{},\"id\":\"4338fb03-1ee1-49ec-baa4-617bda2be6c2\",\"type\":\"StringFormatter\"},{\"attributes\":{},\"id\":\"74d5147e-d26a-4e75-a7e9-fac91683bceb\",\"type\":\"StringEditor\"},{\"attributes\":{\"editor\":{\"id\":\"d615c690-e917-4178-8acd-6ce80b467b46\",\"type\":\"StringEditor\"},\"field\":\"penalty\",\"formatter\":{\"id\":\"3098c565-0668-4068-84a3-a62fb23d430a\",\"type\":\"StringFormatter\"},\"title\":\"penalty\"},\"id\":\"16c7d745-1b67-4aa8-a1cb-cd5acc3568e9\",\"type\":\"TableColumn\"},{\"attributes\":{\"editor\":{\"id\":\"9f228f8b-84b7-4d9d-b00f-384d5937072f\",\"type\":\"StringEditor\"},\"field\":\"criterion\",\"formatter\":{\"id\":\"921a8378-f37a-4d2b-8274-6f86ef3c73f1\",\"type\":\"StringFormatter\"},\"title\":\"criterion\"},\"id\":\"4fef2405-4f64-49b2-96a5-00f6c82a06f7\",\"type\":\"TableColumn\"},{\"attributes\":{\"editor\":{\"id\":\"18fe1f83-94d7-4d84-a790-9cb6609420e4\",\"type\":\"StringEditor\"},\"field\":\"loss\",\"formatter\":{\"id\":\"bd4e6fb6-d52d-4c83-9813-c297703f8a11\",\"type\":\"StringFormatter\"},\"title\":\"loss\"},\"id\":\"8dda289a-0dbf-463f-acbf-f59957fb80fb\",\"type\":\"TableColumn\"},{\"attributes\":{\"editor\":{\"id\":\"867c803e-d5cf-409a-9929-7fa5e351f35d\",\"type\":\"StringEditor\"},\"field\":\"bootstrap\",\"formatter\":{\"id\":\"5411d57f-1565-4280-93a3-ee1e4ae60e84\",\"type\":\"StringFormatter\"},\"title\":\"bootstrap\"},\"id\":\"b1fa31fc-793c-44d4-bcb2-6acacc8b6a4f\",\"type\":\"TableColumn\"},{\"attributes\":{\"editor\":{\"id\":\"d084617d-520d-44e6-8ec1-8608d6bb545b\",\"type\":\"StringEditor\"},\"field\":\"learning_rate\",\"formatter\":{\"id\":\"e5c28e43-6583-4e59-bc9b-f606aabbb115\",\"type\":\"StringFormatter\"},\"title\":\"learning_rate\"},\"id\":\"6aa544f7-25f6-44de-b605-6539bcf54f54\",\"type\":\"TableColumn\"},{\"attributes\":{\"editor\":{\"id\":\"2321e2f3-df45-4d11-8d6c-bc3d9766e25c\",\"type\":\"StringEditor\"},\"field\":\"alpha\",\"formatter\":{\"id\":\"187fb7c3-fce9-464d-a0d7-47fc5c902b5c\",\"type\":\"StringFormatter\"},\"title\":\"alpha\"},\"id\":\"273ac42d-5e87-45de-8b3e-3a5f797ef377\",\"type\":\"TableColumn\"},{\"attributes\":{\"editor\":{\"id\":\"c710f680-4b59-404c-992b-653ecc7437cf\",\"type\":\"StringEditor\"},\"field\":\"min_samples_leaf\",\"formatter\":{\"id\":\"5a2be745-398b-43ab-8770-eab794252013\",\"type\":\"StringFormatter\"},\"title\":\"min_samples_leaf\"},\"id\":\"99e81350-bbc7-42c3-9fb9-33d90e174953\",\"type\":\"TableColumn\"},{\"attributes\":{\"editor\":{\"id\":\"dce377c7-6b27-4a17-be79-0c01133394a9\",\"type\":\"StringEditor\"},\"field\":\"p\",\"formatter\":{\"id\":\"5e83505d-39ad-4b8b-8503-49fe2a778c77\",\"type\":\"StringFormatter\"},\"title\":\"p\"},\"id\":\"c2138cc1-3c7f-43e6-a0f4-095e80f4dea0\",\"type\":\"TableColumn\"},{\"attributes\":{\"editor\":{\"id\":\"d3a881ab-c206-4835-8dfd-27c5b398c955\",\"type\":\"StringEditor\"},\"field\":\"weights\",\"formatter\":{\"id\":\"d184aafd-7a49-4ed1-aa90-8cd19c29c6e7\",\"type\":\"StringFormatter\"},\"title\":\"weights\"},\"id\":\"47dc1bec-bbcc-4566-b234-ea16e66732c0\",\"type\":\"TableColumn\"},{\"attributes\":{\"editor\":{\"id\":\"55a3b0d1-95f9-487b-8bef-e9a48a250a20\",\"type\":\"StringEditor\"},\"field\":\"max_features\",\"formatter\":{\"id\":\"14d382ed-6023-41cf-bee6-c5b3e91b1978\",\"type\":\"StringFormatter\"},\"title\":\"max_features\"},\"id\":\"d082a8b3-688d-45b4-9ea2-7f502b65241c\",\"type\":\"TableColumn\"},{\"attributes\":{\"editor\":{\"id\":\"4a42293c-e7a5-49e3-9b98-89b7a4b0c6ce\",\"type\":\"StringEditor\"},\"field\":\"min_samples_split\",\"formatter\":{\"id\":\"1a18f3f0-05ff-4040-9c35-6631daab916e\",\"type\":\"StringFormatter\"},\"title\":\"min_samples_split\"},\"id\":\"90cf97a7-79ee-49eb-a317-fb8ed6aa2704\",\"type\":\"TableColumn\"},{\"attributes\":{\"editor\":{\"id\":\"3694a9e4-9eee-46b0-b0ab-4f7d87dc41c8\",\"type\":\"StringEditor\"},\"field\":\"average\",\"formatter\":{\"id\":\"8acad4ec-aeb9-4e0c-9ae5-97bb93e29c4b\",\"type\":\"StringFormatter\"},\"title\":\"average\"},\"id\":\"42eb8eed-8962-4255-b5ea-7ff69b1ba72a\",\"type\":\"TableColumn\"},{\"attributes\":{},\"id\":\"d18016e1-37cd-43fd-b366-540e1e5c5278\",\"type\":\"Selection\"},{\"attributes\":{\"editor\":{\"id\":\"5fff829a-bb9a-48cc-b354-2acf740daf72\",\"type\":\"StringEditor\"},\"field\":\"dual\",\"formatter\":{\"id\":\"77eea230-1036-4302-ba0a-51bcbd752a54\",\"type\":\"StringFormatter\"},\"title\":\"dual\"},\"id\":\"21978ae1-7a69-4c4e-afff-99962d844fd7\",\"type\":\"TableColumn\"},{\"attributes\":{\"editor\":{\"id\":\"ce01165f-8040-482c-be6f-340c6d7cb7a7\",\"type\":\"StringEditor\"},\"field\":\"max_samples\",\"formatter\":{\"id\":\"6f0b4409-bc08-48aa-b2a8-9fd60fc8e923\",\"type\":\"StringFormatter\"},\"title\":\"max_samples\"},\"id\":\"823f1d62-c5a2-467d-ab50-fb419ae93b8c\",\"type\":\"TableColumn\"},{\"attributes\":{\"editor\":{\"id\":\"2358fd4a-d8c6-4370-b677-6e238733e7af\",\"type\":\"StringEditor\"},\"field\":\"tol\",\"formatter\":{\"id\":\"7a3ceb1d-6dcf-4229-899c-4c38302e9537\",\"type\":\"StringFormatter\"},\"title\":\"tol\"},\"id\":\"23d77337-bd67-4151-bda2-9d99cf03ceff\",\"type\":\"TableColumn\"},{\"attributes\":{\"editor\":{\"id\":\"9fb0cbcc-9d38-4c6f-9971-f34e313c2d53\",\"type\":\"StringEditor\"},\"field\":\"n_neighbors\",\"formatter\":{\"id\":\"ae42500f-66fb-4b04-8265-9ca359171467\",\"type\":\"StringFormatter\"},\"title\":\"n_neighbors\"},\"id\":\"2c699fbd-3449-4e0c-9537-ecd735b55798\",\"type\":\"TableColumn\"},{\"attributes\":{\"editor\":{\"id\":\"4fd69189-6b0b-4b04-b023-e21265c92b19\",\"type\":\"StringEditor\"},\"field\":\"min_child_weight\",\"formatter\":{\"id\":\"116185b8-202a-4532-911b-ad8b1c84f07b\",\"type\":\"StringFormatter\"},\"title\":\"min_child_weight\"},\"id\":\"70edace9-b3ed-4b28-a44a-30cf5c0bbfdc\",\"type\":\"TableColumn\"},{\"attributes\":{\"editor\":{\"id\":\"9775de0c-75af-43e1-8b8f-e07f98fec2fc\",\"type\":\"StringEditor\"},\"field\":\"max_iter\",\"formatter\":{\"id\":\"5d91accf-afd5-4077-bcc7-2850b4c5b384\",\"type\":\"StringFormatter\"},\"title\":\"max_iter\"},\"id\":\"47ebbd30-ee6a-447d-ad8b-be77a2517a22\",\"type\":\"TableColumn\"},{\"attributes\":{\"editor\":{\"id\":\"3f0fb210-4dbf-4e28-9773-5787f317aa57\",\"type\":\"StringEditor\"},\"field\":\"n_estimators\",\"formatter\":{\"id\":\"ff734cfb-1bff-48b7-82b2-2be989918960\",\"type\":\"StringFormatter\"},\"title\":\"n_estimators\"},\"id\":\"96b28ee2-96b3-4c41-905f-da4862f12c26\",\"type\":\"TableColumn\"},{\"attributes\":{\"editor\":{\"id\":\"8f4f5a2e-f534-4a93-831d-4f1f973c0d59\",\"type\":\"StringEditor\"},\"field\":\"subsample\",\"formatter\":{\"id\":\"a0d3ccc0-c3b5-41f3-ad50-f39034fbf23a\",\"type\":\"StringFormatter\"},\"title\":\"subsample\"},\"id\":\"c532a0be-29d6-4d44-84e9-2c5836176475\",\"type\":\"TableColumn\"},{\"attributes\":{\"editor\":{\"id\":\"9f3896fb-5124-42f3-a86f-f29da907020e\",\"type\":\"StringEditor\"},\"field\":\"power_t\",\"formatter\":{\"id\":\"804cbdf0-f055-4e36-9890-83371c50a249\",\"type\":\"StringFormatter\"},\"title\":\"power_t\"},\"id\":\"c5bfecd4-fc00-4b8b-b131-6ef3a1d1a0ba\",\"type\":\"TableColumn\"},{\"attributes\":{\"editor\":{\"id\":\"2d71855f-6215-4e30-a5ad-89ee255ec591\",\"type\":\"StringEditor\"},\"field\":\"max_depth\",\"formatter\":{\"id\":\"fe81cfee-7bd2-4a88-9b6a-5f7f9bd3ba38\",\"type\":\"StringFormatter\"},\"title\":\"max_depth\"},\"id\":\"243f7f81-e7f1-42d6-96b3-0442d8d99db2\",\"type\":\"TableColumn\"},{\"attributes\":{\"editor\":{\"id\":\"74d5147e-d26a-4e75-a7e9-fac91683bceb\",\"type\":\"StringEditor\"},\"field\":\"epsilon\",\"formatter\":{\"id\":\"4338fb03-1ee1-49ec-baa4-617bda2be6c2\",\"type\":\"StringFormatter\"},\"title\":\"epsilon\"},\"id\":\"5babfb0a-b59d-48ea-a7bb-1bb4ae19fa8f\",\"type\":\"TableColumn\"},{\"attributes\":{\"editor\":{\"id\":\"a3a41666-3729-473d-bd31-4c1ebace4e48\",\"type\":\"StringEditor\"},\"field\":\"y\",\"formatter\":{\"id\":\"6128a901-69db-4fa8-ae26-1c8b41a10fee\",\"type\":\"StringFormatter\"},\"title\":\"Accuracy\"},\"id\":\"2a99fd79-2358-4e1b-a334-6cd6b08c553e\",\"type\":\"TableColumn\"},{\"attributes\":{},\"id\":\"8fa1c2ef-d66d-45e7-8383-58fd3d9ba56c\",\"type\":\"UnionRenderers\"},{\"attributes\":{\"callback\":null,\"data\":{\"x\":[0,1],\"ym\":[0.5,0.5]},\"selected\":{\"id\":\"d18016e1-37cd-43fd-b366-540e1e5c5278\",\"type\":\"Selection\"},\"selection_policy\":{\"id\":\"8fa1c2ef-d66d-45e7-8383-58fd3d9ba56c\",\"type\":\"UnionRenderers\"}},\"id\":\"98d1f50b-6aac-4541-b249-8467f38a27cd\",\"type\":\"ColumnDataSource\"}],\"root_ids\":[\"d88a1086-ae78-4f90-b567-13748b019a6c\"]},\"title\":\"Bokeh Application\",\"version\":\"0.13.0\"}};\n",
       "  var render_items = [{\"docid\":\"32726709-5542-4546-be82-ee5cc263ddcc\",\"roots\":{\"d88a1086-ae78-4f90-b567-13748b019a6c\":\"3d11ecf9-0bfb-4cb0-bc18-3ad83510b026\"}}];\n",
       "  root.Bokeh.embed.embed_items_notebook(docs_json, render_items);\n",
       "\n",
       "  }\n",
       "  if (root.Bokeh !== undefined) {\n",
       "    embed_document(root);\n",
       "  } else {\n",
       "    var attempts = 0;\n",
       "    var timer = setInterval(function(root) {\n",
       "      if (root.Bokeh !== undefined) {\n",
       "        embed_document(root);\n",
       "        clearInterval(timer);\n",
       "      }\n",
       "      attempts++;\n",
       "      if (attempts > 100) {\n",
       "        console.log(\"Bokeh: ERROR: Unable to run BokehJS code because BokehJS library is missing\")\n",
       "        clearInterval(timer);\n",
       "      }\n",
       "    }, 10, root)\n",
       "  }\n",
       "})(window);"
      ],
      "application/vnd.bokehjs_exec.v0+json": ""
     },
     "metadata": {
      "application/vnd.bokehjs_exec.v0+json": {
       "id": "d88a1086-ae78-4f90-b567-13748b019a6c"
      }
     },
     "output_type": "display_data"
    },
    {
     "name": "stdout",
     "output_type": "stream",
     "text": [
      "time: 628 ms\n"
     ]
    }
   ],
   "source": [
    "show(data_table)"
   ]
  },
  {
   "cell_type": "code",
   "execution_count": 244,
   "metadata": {},
   "outputs": [
    {
     "data": {
      "text/html": [
       "\n",
       "\n",
       "\n",
       "\n",
       "\n",
       "\n",
       "  <div class=\"bk-root\" id=\"68f15cb2-ccdd-4d8c-8350-718977fe20ad\"></div>\n"
      ]
     },
     "metadata": {},
     "output_type": "display_data"
    },
    {
     "data": {
      "application/javascript": [
       "(function(root) {\n",
       "  function embed_document(root) {\n",
       "    \n",
       "  var docs_json = {\"5b27e6f8-2e56-4f9b-87dc-b38000c16629\":{\"roots\":{\"references\":[{\"attributes\":{\"fill_color\":{\"value\":\"#1f77b4\"},\"height\":{\"units\":\"data\",\"value\":0.2},\"width\":{\"units\":\"data\",\"value\":0.01},\"x\":{\"field\":\"x\"},\"y\":{\"field\":\"y\"}},\"id\":\"afc1811c-e3e5-460d-8837-9dcc94435179\",\"type\":\"Rect\"},{\"attributes\":{\"fill_alpha\":{\"value\":0.1},\"fill_color\":{\"value\":\"#1f77b4\"},\"height\":{\"units\":\"data\",\"value\":0.2},\"line_alpha\":{\"value\":0.1},\"line_color\":{\"value\":\"#1f77b4\"},\"width\":{\"units\":\"data\",\"value\":0.01},\"x\":{\"field\":\"x\"},\"y\":{\"field\":\"y\"}},\"id\":\"aeb7fcb8-9409-438d-beee-ce957556207f\",\"type\":\"Rect\"},{\"attributes\":{\"data_source\":{\"id\":\"bd0c83e0-787a-4fe0-8720-dd0e061abfe4\",\"type\":\"ColumnDataSource\"},\"glyph\":{\"id\":\"afc1811c-e3e5-460d-8837-9dcc94435179\",\"type\":\"Rect\"},\"hover_glyph\":null,\"muted_glyph\":null,\"nonselection_glyph\":{\"id\":\"aeb7fcb8-9409-438d-beee-ce957556207f\",\"type\":\"Rect\"},\"selection_glyph\":null,\"view\":{\"id\":\"abf07c65-3146-4c71-9aca-5a68124b97ca\",\"type\":\"CDSView\"}},\"id\":\"0b915239-9928-4fc7-b1a9-494c4f1144dc\",\"type\":\"GlyphRenderer\"},{\"attributes\":{\"source\":{\"id\":\"bd0c83e0-787a-4fe0-8720-dd0e061abfe4\",\"type\":\"ColumnDataSource\"}},\"id\":\"abf07c65-3146-4c71-9aca-5a68124b97ca\",\"type\":\"CDSView\"},{\"attributes\":{},\"id\":\"d5388cf8-b732-4ead-ad73-39dba3349579\",\"type\":\"UnionRenderers\"},{\"attributes\":{},\"id\":\"83ef87a0-7622-4678-a814-4b9370b378ad\",\"type\":\"Selection\"},{\"attributes\":{\"fill_color\":{\"value\":\"#1f77b4\"},\"height\":{\"units\":\"data\",\"value\":0.2},\"width\":{\"units\":\"data\",\"value\":0.01},\"x\":{\"field\":\"x\"},\"y\":{\"field\":\"y\"}},\"id\":\"d0a36a24-70ef-4d0d-bf30-9076b2284daa\",\"type\":\"Rect\"},{\"attributes\":{\"fill_alpha\":{\"value\":0.1},\"fill_color\":{\"value\":\"#1f77b4\"},\"height\":{\"units\":\"data\",\"value\":0.2},\"line_alpha\":{\"value\":0.1},\"line_color\":{\"value\":\"#1f77b4\"},\"width\":{\"units\":\"data\",\"value\":0.01},\"x\":{\"field\":\"x\"},\"y\":{\"field\":\"y\"}},\"id\":\"20e9014e-4734-4ede-95a5-6a3298aabcdd\",\"type\":\"Rect\"},{\"attributes\":{},\"id\":\"d6c2a538-2de9-492d-9b72-b9385591507d\",\"type\":\"Selection\"},{\"attributes\":{\"data_source\":{\"id\":\"f91aea68-79af-4c71-a20c-09f89be36910\",\"type\":\"ColumnDataSource\"},\"glyph\":{\"id\":\"d0a36a24-70ef-4d0d-bf30-9076b2284daa\",\"type\":\"Rect\"},\"hover_glyph\":null,\"muted_glyph\":null,\"nonselection_glyph\":{\"id\":\"20e9014e-4734-4ede-95a5-6a3298aabcdd\",\"type\":\"Rect\"},\"selection_glyph\":null,\"view\":{\"id\":\"c4510ffd-8513-4608-99c1-461cbb79b102\",\"type\":\"CDSView\"}},\"id\":\"80e49f43-9cfc-43b3-8796-4262376cf69a\",\"type\":\"GlyphRenderer\"},{\"attributes\":{},\"id\":\"cf77e6cc-50ad-4347-afe3-ddc8c82fe4e7\",\"type\":\"UnionRenderers\"},{\"attributes\":{\"x0\":{\"field\":\"x0\"},\"x1\":{\"field\":\"x1\"},\"y0\":{\"field\":\"y0\"},\"y1\":{\"field\":\"y1\"}},\"id\":\"eb6f447f-ed36-42f4-aaf7-bdbe9fad1b07\",\"type\":\"Segment\"},{\"attributes\":{\"source\":{\"id\":\"f91aea68-79af-4c71-a20c-09f89be36910\",\"type\":\"ColumnDataSource\"}},\"id\":\"c4510ffd-8513-4608-99c1-461cbb79b102\",\"type\":\"CDSView\"},{\"attributes\":{\"callback\":null,\"data\":{\"x0\":{\"__ndarray__\":\"AAAAgKf0Kj8AAACgNcihPwAAAAAAAAAAAAAAoKJdjD8AAACgW+2kPwAAACBGeKM/AAAAYNREJD8AAACA2J2WPw==\",\"dtype\":\"float64\",\"shape\":[8]},\"x1\":{\"__ndarray__\":\"AAAAgKf0Kj8AAACQvP2zPwAAAMDjuK0/AAAAUD7lxT8AAABALSbQPwAAAMDdotY/AAAAYB3oxj8AAADAHwLSPw==\",\"dtype\":\"float64\",\"shape\":[8]},\"y0\":[\"XGradientBoostingClassifier\",\"BaggingClassifier\",\"SGDClassifier\",\"RandomForestClassifier\",\"ExtraTreesClassifier\",\"GaussianNB\",\"LogisticRegression\",\"KNeighborsClassifier\"],\"y1\":[\"XGradientBoostingClassifier\",\"BaggingClassifier\",\"SGDClassifier\",\"RandomForestClassifier\",\"ExtraTreesClassifier\",\"GaussianNB\",\"LogisticRegression\",\"KNeighborsClassifier\"]},\"selected\":{\"id\":\"53408be7-1519-4db4-9e21-2dcc23cdf50e\",\"type\":\"Selection\"},\"selection_policy\":{\"id\":\"d5388cf8-b732-4ead-ad73-39dba3349579\",\"type\":\"UnionRenderers\"}},\"id\":\"7a6e0289-f574-43db-bca2-592922bb5810\",\"type\":\"ColumnDataSource\"},{\"attributes\":{},\"id\":\"f0ef0d62-4839-4daf-a5bc-e23c88741f02\",\"type\":\"UnionRenderers\"},{\"attributes\":{\"callback\":null,\"data\":{\"x\":[0,1],\"ym\":[0.5,0.5]},\"selected\":{\"id\":\"8426567d-6a04-45bc-93e7-e876dd773343\",\"type\":\"Selection\"},\"selection_policy\":{\"id\":\"31abc355-b741-4b6a-975b-007d0542b102\",\"type\":\"UnionRenderers\"}},\"id\":\"844e0585-3400-4b59-8da1-6ea35783261b\",\"type\":\"ColumnDataSource\"},{\"attributes\":{\"fill_alpha\":{\"value\":0.5},\"fill_color\":{\"field\":\"color\"},\"line_color\":{\"field\":\"color\"},\"x\":{\"field\":\"y\"},\"y\":{\"field\":\"x\"}},\"id\":\"ac26888b-9728-42a6-8791-358921543b9c\",\"type\":\"Circle\"},{\"attributes\":{},\"id\":\"d81b4989-1f39-4b7b-abe3-afc5df4177bf\",\"type\":\"Selection\"},{\"attributes\":{\"fill_alpha\":{\"value\":0.1},\"fill_color\":{\"value\":\"#1f77b4\"},\"line_alpha\":{\"value\":0.1},\"line_color\":{\"value\":\"#1f77b4\"},\"x\":{\"field\":\"y\"},\"y\":{\"field\":\"x\"}},\"id\":\"899caefa-05c0-4a66-ba42-4048e18e14fd\",\"type\":\"Circle\"},{\"attributes\":{},\"id\":\"9adc1d15-f55d-441c-be6d-57e15800ed34\",\"type\":\"UnionRenderers\"},{\"attributes\":{\"data_source\":{\"id\":\"4368700c-72ee-49bf-9ebe-27c323aa2a9b\",\"type\":\"ColumnDataSource\"},\"glyph\":{\"id\":\"ac26888b-9728-42a6-8791-358921543b9c\",\"type\":\"Circle\"},\"hover_glyph\":null,\"muted_glyph\":null,\"name\":\"pipe\",\"nonselection_glyph\":{\"id\":\"899caefa-05c0-4a66-ba42-4048e18e14fd\",\"type\":\"Circle\"},\"selection_glyph\":null,\"view\":{\"id\":\"1d5cc6c6-0ce5-42b0-9532-5731b32bc78c\",\"type\":\"CDSView\"}},\"id\":\"2ed134d0-645b-4dd5-b84a-f8dafc38bb8b\",\"type\":\"GlyphRenderer\"},{\"attributes\":{},\"id\":\"53408be7-1519-4db4-9e21-2dcc23cdf50e\",\"type\":\"Selection\"},{\"attributes\":{\"source\":{\"id\":\"4368700c-72ee-49bf-9ebe-27c323aa2a9b\",\"type\":\"ColumnDataSource\"}},\"id\":\"1d5cc6c6-0ce5-42b0-9532-5731b32bc78c\",\"type\":\"CDSView\"},{\"attributes\":{\"args\":{\"s2\":{\"id\":\"844e0585-3400-4b59-8da1-6ea35783261b\",\"type\":\"ColumnDataSource\"}},\"code\":\"\\n        var inds = cb_obj.selected.indices;\\n        var d = cb_obj.data;\\n        var ym = 0\\n\\n        if (inds.length == 0)\\n            return;\\n\\n        for (var i = 0; i < d['color'].length; i++) {\\n            d['color'][i] = \\\"navy\\\"\\n        }\\n        for (var i = 0; i < inds.length; i++) {\\n            d['color'][inds[i]] = \\\"firebrick\\\"\\n            ym += d['y'][inds[i]]\\n        }\\n\\n        ym /= inds.length\\n        s2.data['ym'] = [ym, ym]\\n\\n        cb_obj.change.emit();\\n        s2.change.emit();\\n    \"},\"id\":\"cb33253f-3da1-4a03-a00d-1b8b098b5b78\",\"type\":\"CustomJS\"},{\"attributes\":{\"callback\":null,\"names\":[\"pipe\"],\"renderers\":\"auto\",\"tooltips\":[[\"score\",\"@desc\"]]},\"id\":\"5b487382-b5b9-4291-af0f-190822e2b9ae\",\"type\":\"HoverTool\"},{\"attributes\":{\"callback\":null,\"factors\":[\"XGradientBoostingClassifier\",\"BaggingClassifier\",\"SGDClassifier\",\"RandomForestClassifier\",\"ExtraTreesClassifier\",\"GaussianNB\",\"LogisticRegression\",\"KNeighborsClassifier\"]},\"id\":\"96c0e9df-4f35-4964-b298-2f9e06712c02\",\"type\":\"FactorRange\"},{\"attributes\":{\"grid_line_color\":{\"value\":\"white\"},\"grid_line_width\":{\"value\":2},\"plot\":{\"id\":\"2454ab2b-b89f-454e-a2e0-66f22079dbb4\",\"subtype\":\"Figure\",\"type\":\"Plot\"},\"ticker\":{\"id\":\"4518c178-9100-4a54-a4f9-a0b8a393df0d\",\"type\":\"BasicTicker\"}},\"id\":\"0d0b74a7-6e57-4b19-abde-0c9372cb66d0\",\"type\":\"Grid\"},{\"attributes\":{\"bottom_units\":\"screen\",\"fill_alpha\":{\"value\":0.5},\"fill_color\":{\"value\":\"lightgrey\"},\"left_units\":\"screen\",\"level\":\"overlay\",\"line_alpha\":{\"value\":1.0},\"line_color\":{\"value\":\"black\"},\"line_dash\":[4,4],\"line_width\":{\"value\":2},\"plot\":null,\"render_mode\":\"css\",\"right_units\":\"screen\",\"top_units\":\"screen\"},\"id\":\"217fefc4-7c2b-4813-9edb-4d12f66c9657\",\"type\":\"BoxAnnotation\"},{\"attributes\":{\"overlay\":{\"id\":\"217fefc4-7c2b-4813-9edb-4d12f66c9657\",\"type\":\"BoxAnnotation\"}},\"id\":\"a3cdf93a-f7dd-4c5b-b60b-eb09654af31f\",\"type\":\"BoxZoomTool\"},{\"attributes\":{\"data_source\":{\"id\":\"7a6e0289-f574-43db-bca2-592922bb5810\",\"type\":\"ColumnDataSource\"},\"glyph\":{\"id\":\"eb6f447f-ed36-42f4-aaf7-bdbe9fad1b07\",\"type\":\"Segment\"},\"hover_glyph\":null,\"muted_glyph\":null,\"nonselection_glyph\":{\"id\":\"dc77d5d4-1a6a-4066-adef-c55bd72f4b82\",\"type\":\"Segment\"},\"selection_glyph\":null,\"view\":{\"id\":\"cd1a1d63-cb58-4551-9124-c4b0df7f8696\",\"type\":\"CDSView\"}},\"id\":\"afca8b2a-d5f1-4173-9d5e-a5f6117dae17\",\"type\":\"GlyphRenderer\"},{\"attributes\":{\"callback\":null,\"data\":{\"left\":{\"__ndarray__\":\"AAAAgKf0Kj8AAACQCBzKPwAAAJD6x+E/AAAAGAPG0T8AAACQLz3oPwAAAIDbNeU/AAAAaH295j8AAABg0e7nPw==\",\"dtype\":\"float64\",\"shape\":[8]},\"right\":{\"__ndarray__\":\"AAAAgKf0Kj8AAABAwIO+PwAAAIB+YsQ/AAAAsPa0zj8AAADg5FjVPwAAAGDXzOQ/AAAA8JQL5j8AAACgAXzmPw==\",\"dtype\":\"float64\",\"shape\":[8]},\"y\":[\"XGradientBoostingClassifier\",\"BaggingClassifier\",\"SGDClassifier\",\"RandomForestClassifier\",\"ExtraTreesClassifier\",\"GaussianNB\",\"LogisticRegression\",\"KNeighborsClassifier\"]},\"selected\":{\"id\":\"d81b4989-1f39-4b7b-abe3-afc5df4177bf\",\"type\":\"Selection\"},\"selection_policy\":{\"id\":\"9adc1d15-f55d-441c-be6d-57e15800ed34\",\"type\":\"UnionRenderers\"}},\"id\":\"fabc92c4-162c-432d-8f20-76a4c06225e6\",\"type\":\"ColumnDataSource\"},{\"attributes\":{\"callback\":null},\"id\":\"0de380d0-fc12-4ea5-a4dd-546abd623543\",\"type\":\"DataRange1d\"},{\"attributes\":{},\"id\":\"4518c178-9100-4a54-a4f9-a0b8a393df0d\",\"type\":\"BasicTicker\"},{\"attributes\":{},\"id\":\"f74572e9-87be-4d5b-8123-e62a95c42c1b\",\"type\":\"CategoricalScale\"},{\"attributes\":{\"callback\":null,\"data\":{\"left\":{\"__ndarray__\":\"AAAAgKf0Kj8AAABAwIO+PwAAAIB+YsQ/AAAAsPa0zj8AAADg5FjVPwAAAGDXzOQ/AAAA8JQL5j8AAACgAXzmPw==\",\"dtype\":\"float64\",\"shape\":[8]},\"right\":{\"__ndarray__\":\"AAAAgKf0Kj8AAACQvP2zPwAAAMDjuK0/AAAAUD7lxT8AAABALSbQPwAAAMDdotY/AAAAYB3oxj8AAADAHwLSPw==\",\"dtype\":\"float64\",\"shape\":[8]},\"y\":[\"XGradientBoostingClassifier\",\"BaggingClassifier\",\"SGDClassifier\",\"RandomForestClassifier\",\"ExtraTreesClassifier\",\"GaussianNB\",\"LogisticRegression\",\"KNeighborsClassifier\"]},\"selected\":{\"id\":\"d6c2a538-2de9-492d-9b72-b9385591507d\",\"type\":\"Selection\"},\"selection_policy\":{\"id\":\"f0ef0d62-4839-4daf-a5bc-e23c88741f02\",\"type\":\"UnionRenderers\"}},\"id\":\"fc8a9f4f-67df-4cef-9af2-f7ef8d21785b\",\"type\":\"ColumnDataSource\"},{\"attributes\":{\"line_alpha\":{\"value\":0.1},\"line_color\":{\"value\":\"#1f77b4\"},\"x0\":{\"field\":\"x0\"},\"x1\":{\"field\":\"x1\"},\"y0\":{\"field\":\"y0\"},\"y1\":{\"field\":\"y1\"}},\"id\":\"dc77d5d4-1a6a-4066-adef-c55bd72f4b82\",\"type\":\"Segment\"},{\"attributes\":{\"dimension\":1,\"grid_line_color\":{\"value\":null},\"grid_line_width\":{\"value\":2},\"plot\":{\"id\":\"2454ab2b-b89f-454e-a2e0-66f22079dbb4\",\"subtype\":\"Figure\",\"type\":\"Plot\"},\"ticker\":{\"id\":\"16ba0a2c-e63d-42d3-bb87-90fe8a329c22\",\"type\":\"CategoricalTicker\"}},\"id\":\"fcda26f2-9e47-437c-a5f9-9cb61f52c102\",\"type\":\"Grid\"},{\"attributes\":{\"formatter\":{\"id\":\"783aab8d-527d-46a2-8523-b30b86f7ded6\",\"type\":\"BasicTickFormatter\"},\"plot\":{\"id\":\"2454ab2b-b89f-454e-a2e0-66f22079dbb4\",\"subtype\":\"Figure\",\"type\":\"Plot\"},\"ticker\":{\"id\":\"4518c178-9100-4a54-a4f9-a0b8a393df0d\",\"type\":\"BasicTicker\"}},\"id\":\"aaea8e8e-0ca0-465c-ba4b-5880a85b23eb\",\"type\":\"LinearAxis\"},{\"attributes\":{\"fill_alpha\":{\"value\":0.1},\"fill_color\":{\"value\":\"#1f77b4\"},\"height\":{\"value\":0.7},\"left\":{\"field\":\"left\"},\"line_alpha\":{\"value\":0.1},\"line_color\":{\"value\":\"#1f77b4\"},\"right\":{\"field\":\"right\"},\"y\":{\"field\":\"y\"}},\"id\":\"a9a3fdf7-55f2-4b93-9842-89a739df16d8\",\"type\":\"HBar\"},{\"attributes\":{\"source\":{\"id\":\"7a6e0289-f574-43db-bca2-592922bb5810\",\"type\":\"ColumnDataSource\"}},\"id\":\"cd1a1d63-cb58-4551-9124-c4b0df7f8696\",\"type\":\"CDSView\"},{\"attributes\":{\"background_fill_color\":{\"value\":\"#EFE8E2\"},\"below\":[{\"id\":\"aaea8e8e-0ca0-465c-ba4b-5880a85b23eb\",\"type\":\"LinearAxis\"}],\"left\":[{\"id\":\"93d6982e-ccdc-4f4d-a445-63da9f34730e\",\"type\":\"CategoricalAxis\"}],\"plot_width\":1200,\"renderers\":[{\"id\":\"aaea8e8e-0ca0-465c-ba4b-5880a85b23eb\",\"type\":\"LinearAxis\"},{\"id\":\"0d0b74a7-6e57-4b19-abde-0c9372cb66d0\",\"type\":\"Grid\"},{\"id\":\"93d6982e-ccdc-4f4d-a445-63da9f34730e\",\"type\":\"CategoricalAxis\"},{\"id\":\"fcda26f2-9e47-437c-a5f9-9cb61f52c102\",\"type\":\"Grid\"},{\"id\":\"addba502-7207-48a4-9cdf-9033ce39ac1a\",\"type\":\"PolyAnnotation\"},{\"id\":\"32ce38e9-df57-4036-9d05-7d31bf21efa0\",\"type\":\"GlyphRenderer\"},{\"id\":\"afca8b2a-d5f1-4173-9d5e-a5f6117dae17\",\"type\":\"GlyphRenderer\"},{\"id\":\"87e5f4b8-ba21-4fae-a0a1-14f24e433a0e\",\"type\":\"GlyphRenderer\"},{\"id\":\"c50f4610-2177-463d-9c5d-cc0984f428c7\",\"type\":\"GlyphRenderer\"},{\"id\":\"0b915239-9928-4fc7-b1a9-494c4f1144dc\",\"type\":\"GlyphRenderer\"},{\"id\":\"80e49f43-9cfc-43b3-8796-4262376cf69a\",\"type\":\"GlyphRenderer\"},{\"id\":\"2ed134d0-645b-4dd5-b84a-f8dafc38bb8b\",\"type\":\"GlyphRenderer\"},{\"id\":\"217fefc4-7c2b-4813-9edb-4d12f66c9657\",\"type\":\"BoxAnnotation\"}],\"title\":{\"id\":\"52fd3abf-674a-4efa-9a0d-b21912b4fb6d\",\"type\":\"Title\"},\"toolbar\":{\"id\":\"44e26ef4-e7cc-4128-8b82-40f348db6a23\",\"type\":\"Toolbar\"},\"x_range\":{\"id\":\"0de380d0-fc12-4ea5-a4dd-546abd623543\",\"type\":\"DataRange1d\"},\"x_scale\":{\"id\":\"01752658-a4c5-469c-a00a-4379358b2b6d\",\"type\":\"LinearScale\"},\"y_range\":{\"id\":\"96c0e9df-4f35-4964-b298-2f9e06712c02\",\"type\":\"FactorRange\"},\"y_scale\":{\"id\":\"f74572e9-87be-4d5b-8123-e62a95c42c1b\",\"type\":\"CategoricalScale\"}},\"id\":\"2454ab2b-b89f-454e-a2e0-66f22079dbb4\",\"subtype\":\"Figure\",\"type\":\"Plot\"},{\"attributes\":{},\"id\":\"01752658-a4c5-469c-a00a-4379358b2b6d\",\"type\":\"LinearScale\"},{\"attributes\":{},\"id\":\"16ba0a2c-e63d-42d3-bb87-90fe8a329c22\",\"type\":\"CategoricalTicker\"},{\"attributes\":{\"formatter\":{\"id\":\"00e96bc0-6c6a-4b27-b56a-26bbe5f2de1b\",\"type\":\"CategoricalTickFormatter\"},\"major_label_text_font_size\":{\"value\":\"12pt\"},\"plot\":{\"id\":\"2454ab2b-b89f-454e-a2e0-66f22079dbb4\",\"subtype\":\"Figure\",\"type\":\"Plot\"},\"ticker\":{\"id\":\"16ba0a2c-e63d-42d3-bb87-90fe8a329c22\",\"type\":\"CategoricalTicker\"}},\"id\":\"93d6982e-ccdc-4f4d-a445-63da9f34730e\",\"type\":\"CategoricalAxis\"},{\"attributes\":{\"source\":{\"id\":\"fabc92c4-162c-432d-8f20-76a4c06225e6\",\"type\":\"ColumnDataSource\"}},\"id\":\"25b99cc2-f07e-42de-8e2e-21cdf8aed75f\",\"type\":\"CDSView\"},{\"attributes\":{\"data_source\":{\"id\":\"fabc92c4-162c-432d-8f20-76a4c06225e6\",\"type\":\"ColumnDataSource\"},\"glyph\":{\"id\":\"e7991384-8ecb-476c-8a5d-1f0270442bb7\",\"type\":\"HBar\"},\"hover_glyph\":null,\"muted_glyph\":null,\"nonselection_glyph\":{\"id\":\"a9a3fdf7-55f2-4b93-9842-89a739df16d8\",\"type\":\"HBar\"},\"selection_glyph\":null,\"view\":{\"id\":\"25b99cc2-f07e-42de-8e2e-21cdf8aed75f\",\"type\":\"CDSView\"}},\"id\":\"87e5f4b8-ba21-4fae-a0a1-14f24e433a0e\",\"type\":\"GlyphRenderer\"},{\"attributes\":{},\"id\":\"5f53b923-fd3b-448f-a434-2b3b96487c1b\",\"type\":\"PanTool\"},{\"attributes\":{},\"id\":\"26ca6ea5-05bd-4042-a627-409d03696701\",\"type\":\"WheelZoomTool\"},{\"attributes\":{\"fill_alpha\":{\"value\":0.75},\"fill_color\":{\"value\":\"#E08E79\"},\"height\":{\"value\":0.7},\"left\":{\"field\":\"left\"},\"right\":{\"field\":\"right\"},\"y\":{\"field\":\"y\"}},\"id\":\"e7991384-8ecb-476c-8a5d-1f0270442bb7\",\"type\":\"HBar\"},{\"attributes\":{},\"id\":\"95cc7e8c-9da9-4b74-ac94-2a9745e9da60\",\"type\":\"ResetTool\"},{\"attributes\":{\"callback\":null,\"data\":{\"x\":{\"__ndarray__\":\"AAAAgKf0Kj8AAAAgPAnQPwAAAEBCR+g/AAAAABkD3D8AAACAUJjqPwAAAIDe2Og/AAAAAFgP6D8AAABgdxvqPw==\",\"dtype\":\"float64\",\"shape\":[8]},\"y\":[\"XGradientBoostingClassifier\",\"BaggingClassifier\",\"SGDClassifier\",\"RandomForestClassifier\",\"ExtraTreesClassifier\",\"GaussianNB\",\"LogisticRegression\",\"KNeighborsClassifier\"]},\"selected\":{\"id\":\"a929773f-c713-47c5-b736-ea556141fb81\",\"type\":\"Selection\"},\"selection_policy\":{\"id\":\"53586bc9-68f1-4391-89d3-a61b207553d2\",\"type\":\"UnionRenderers\"}},\"id\":\"f91aea68-79af-4c71-a20c-09f89be36910\",\"type\":\"ColumnDataSource\"},{\"attributes\":{\"callback\":null,\"overlay\":{\"id\":\"addba502-7207-48a4-9cdf-9033ce39ac1a\",\"type\":\"PolyAnnotation\"}},\"id\":\"139bf3b7-4358-4b59-ba66-3864fb613389\",\"type\":\"LassoSelectTool\"},{\"attributes\":{\"fill_alpha\":{\"value\":0.5},\"fill_color\":{\"value\":\"lightgrey\"},\"level\":\"overlay\",\"line_alpha\":{\"value\":1.0},\"line_color\":{\"value\":\"black\"},\"line_dash\":[4,4],\"line_width\":{\"value\":2},\"plot\":null,\"xs_units\":\"screen\",\"ys_units\":\"screen\"},\"id\":\"addba502-7207-48a4-9cdf-9033ce39ac1a\",\"type\":\"PolyAnnotation\"},{\"attributes\":{\"fill_alpha\":{\"value\":0.75},\"fill_color\":{\"value\":\"#3B8686\"},\"height\":{\"value\":0.7},\"left\":{\"field\":\"left\"},\"right\":{\"field\":\"right\"},\"y\":{\"field\":\"y\"}},\"id\":\"939410b3-5c3f-4d1c-acf1-8cea3901d4ae\",\"type\":\"HBar\"},{\"attributes\":{\"callback\":null,\"data\":{\"x\":{\"__ndarray__\":\"AAAAgKf0Kj8AAACgNcihPwAAAAAAAAAAAAAAoKJdjD8AAACgW+2kPwAAACBGeKM/AAAAYNREJD8AAACA2J2WPw==\",\"dtype\":\"float64\",\"shape\":[8]},\"y\":[\"XGradientBoostingClassifier\",\"BaggingClassifier\",\"SGDClassifier\",\"RandomForestClassifier\",\"ExtraTreesClassifier\",\"GaussianNB\",\"LogisticRegression\",\"KNeighborsClassifier\"]},\"selected\":{\"id\":\"83ef87a0-7622-4678-a814-4b9370b378ad\",\"type\":\"Selection\"},\"selection_policy\":{\"id\":\"cf77e6cc-50ad-4347-afe3-ddc8c82fe4e7\",\"type\":\"UnionRenderers\"}},\"id\":\"bd0c83e0-787a-4fe0-8720-dd0e061abfe4\",\"type\":\"ColumnDataSource\"},{\"attributes\":{\"fill_alpha\":{\"value\":0.1},\"fill_color\":{\"value\":\"#1f77b4\"},\"height\":{\"value\":0.7},\"left\":{\"field\":\"left\"},\"line_alpha\":{\"value\":0.1},\"line_color\":{\"value\":\"#1f77b4\"},\"right\":{\"field\":\"right\"},\"y\":{\"field\":\"y\"}},\"id\":\"0e3c4270-8f58-4b70-b069-067c46b02bbe\",\"type\":\"HBar\"},{\"attributes\":{\"data_source\":{\"id\":\"fc8a9f4f-67df-4cef-9af2-f7ef8d21785b\",\"type\":\"ColumnDataSource\"},\"glyph\":{\"id\":\"939410b3-5c3f-4d1c-acf1-8cea3901d4ae\",\"type\":\"HBar\"},\"hover_glyph\":null,\"muted_glyph\":null,\"nonselection_glyph\":{\"id\":\"0e3c4270-8f58-4b70-b069-067c46b02bbe\",\"type\":\"HBar\"},\"selection_glyph\":null,\"view\":{\"id\":\"442eb0a8-cbac-4242-8046-c53ed70d4fc3\",\"type\":\"CDSView\"}},\"id\":\"c50f4610-2177-463d-9c5d-cc0984f428c7\",\"type\":\"GlyphRenderer\"},{\"attributes\":{\"source\":{\"id\":\"fc8a9f4f-67df-4cef-9af2-f7ef8d21785b\",\"type\":\"ColumnDataSource\"}},\"id\":\"442eb0a8-cbac-4242-8046-c53ed70d4fc3\",\"type\":\"CDSView\"},{\"attributes\":{},\"id\":\"53586bc9-68f1-4391-89d3-a61b207553d2\",\"type\":\"UnionRenderers\"},{\"attributes\":{\"x0\":{\"field\":\"x0\"},\"x1\":{\"field\":\"x1\"},\"y0\":{\"field\":\"y0\"},\"y1\":{\"field\":\"y1\"}},\"id\":\"522f2ec3-db3f-41af-a84d-439e3f2e8809\",\"type\":\"Segment\"},{\"attributes\":{},\"id\":\"fc8250d3-29b1-4363-8be2-f2976c9093ac\",\"type\":\"Selection\"},{\"attributes\":{\"plot\":null,\"text\":\"\"},\"id\":\"52fd3abf-674a-4efa-9a0d-b21912b4fb6d\",\"type\":\"Title\"},{\"attributes\":{},\"id\":\"00e96bc0-6c6a-4b27-b56a-26bbe5f2de1b\",\"type\":\"CategoricalTickFormatter\"},{\"attributes\":{},\"id\":\"783aab8d-527d-46a2-8523-b30b86f7ded6\",\"type\":\"BasicTickFormatter\"},{\"attributes\":{\"source\":{\"id\":\"8cc5a6fe-457b-456e-b876-aacb38347511\",\"type\":\"ColumnDataSource\"}},\"id\":\"61b0664f-3288-4e34-913f-e96be19d7c18\",\"type\":\"CDSView\"},{\"attributes\":{},\"id\":\"53012c37-fc3d-4f70-9421-c9ed95dff87a\",\"type\":\"UnionRenderers\"},{\"attributes\":{\"data_source\":{\"id\":\"8cc5a6fe-457b-456e-b876-aacb38347511\",\"type\":\"ColumnDataSource\"},\"glyph\":{\"id\":\"522f2ec3-db3f-41af-a84d-439e3f2e8809\",\"type\":\"Segment\"},\"hover_glyph\":null,\"muted_glyph\":null,\"nonselection_glyph\":{\"id\":\"1561fc9e-a1f7-45b3-b1a5-2729cfb26205\",\"type\":\"Segment\"},\"selection_glyph\":null,\"view\":{\"id\":\"61b0664f-3288-4e34-913f-e96be19d7c18\",\"type\":\"CDSView\"}},\"id\":\"32ce38e9-df57-4036-9d05-7d31bf21efa0\",\"type\":\"GlyphRenderer\"},{\"attributes\":{},\"id\":\"a929773f-c713-47c5-b736-ea556141fb81\",\"type\":\"Selection\"},{\"attributes\":{\"active_drag\":\"auto\",\"active_inspect\":\"auto\",\"active_multi\":null,\"active_scroll\":\"auto\",\"active_tap\":\"auto\",\"tools\":[{\"id\":\"5f53b923-fd3b-448f-a434-2b3b96487c1b\",\"type\":\"PanTool\"},{\"id\":\"26ca6ea5-05bd-4042-a627-409d03696701\",\"type\":\"WheelZoomTool\"},{\"id\":\"95cc7e8c-9da9-4b74-ac94-2a9745e9da60\",\"type\":\"ResetTool\"},{\"id\":\"139bf3b7-4358-4b59-ba66-3864fb613389\",\"type\":\"LassoSelectTool\"},{\"id\":\"a3cdf93a-f7dd-4c5b-b60b-eb09654af31f\",\"type\":\"BoxZoomTool\"},{\"id\":\"5b487382-b5b9-4291-af0f-190822e2b9ae\",\"type\":\"HoverTool\"}]},\"id\":\"44e26ef4-e7cc-4128-8b82-40f348db6a23\",\"type\":\"Toolbar\"},{\"attributes\":{},\"id\":\"9045a453-3040-43de-a706-4a9229b9aaff\",\"type\":\"UnionRenderers\"},{\"attributes\":{\"line_alpha\":{\"value\":0.1},\"line_color\":{\"value\":\"#1f77b4\"},\"x0\":{\"field\":\"x0\"},\"x1\":{\"field\":\"x1\"},\"y0\":{\"field\":\"y0\"},\"y1\":{\"field\":\"y1\"}},\"id\":\"1561fc9e-a1f7-45b3-b1a5-2729cfb26205\",\"type\":\"Segment\"},{\"attributes\":{},\"id\":\"31abc355-b741-4b6a-975b-007d0542b102\",\"type\":\"UnionRenderers\"},{\"attributes\":{\"callback\":null,\"data\":{\"x0\":{\"__ndarray__\":\"AAAAgKf0Kj8AAAAgPAnQPwAAAEBCR+g/AAAAABkD3D8AAACAUJjqPwAAAIDe2Og/AAAAAFgP6D8AAABgdxvqPw==\",\"dtype\":\"float64\",\"shape\":[8]},\"x1\":{\"__ndarray__\":\"AAAAgKf0Kj8AAACQCBzKPwAAAJD6x+E/AAAAGAPG0T8AAACQLz3oPwAAAIDbNeU/AAAAaH295j8AAABg0e7nPw==\",\"dtype\":\"float64\",\"shape\":[8]},\"y0\":[\"XGradientBoostingClassifier\",\"BaggingClassifier\",\"SGDClassifier\",\"RandomForestClassifier\",\"ExtraTreesClassifier\",\"GaussianNB\",\"LogisticRegression\",\"KNeighborsClassifier\"],\"y1\":[\"XGradientBoostingClassifier\",\"BaggingClassifier\",\"SGDClassifier\",\"RandomForestClassifier\",\"ExtraTreesClassifier\",\"GaussianNB\",\"LogisticRegression\",\"KNeighborsClassifier\"]},\"selected\":{\"id\":\"a6b456ca-23d2-4e37-b3d5-69277a197b4e\",\"type\":\"Selection\"},\"selection_policy\":{\"id\":\"53012c37-fc3d-4f70-9421-c9ed95dff87a\",\"type\":\"UnionRenderers\"}},\"id\":\"8cc5a6fe-457b-456e-b876-aacb38347511\",\"type\":\"ColumnDataSource\"},{\"attributes\":{},\"id\":\"a6b456ca-23d2-4e37-b3d5-69277a197b4e\",\"type\":\"Selection\"},{\"attributes\":{},\"id\":\"8426567d-6a04-45bc-93e7-e876dd773343\",\"type\":\"Selection\"},{\"attributes\":{\"callback\":{\"id\":\"cb33253f-3da1-4a03-a00d-1b8b098b5b78\",\"type\":\"CustomJS\"},\"data\":{\"color\":[\"Blue\",\"Blue\",\"Blue\",\"Blue\",\"Blue\",\"Blue\",\"Blue\",\"Blue\",\"Blue\",\"Blue\",\"Blue\",\"Blue\",\"Blue\",\"Blue\",\"Blue\",\"Blue\",\"Blue\",\"Blue\",\"Blue\",\"Blue\",\"Blue\",\"Blue\",\"Blue\",\"Blue\",\"Blue\",\"Blue\",\"Blue\",\"Blue\",\"Blue\",\"Blue\",\"Blue\",\"Blue\",\"Blue\",\"Blue\",\"Blue\",\"Blue\",\"Blue\",\"Blue\",\"Blue\",\"Blue\",\"Blue\",\"Blue\",\"Blue\",\"Blue\",\"Blue\",\"Blue\",\"Blue\",\"Blue\",\"Blue\",\"Blue\",\"Blue\",\"Blue\",\"Blue\",\"Blue\",\"Blue\",\"Blue\",\"Blue\",\"Blue\",\"Blue\",\"Blue\",\"Blue\",\"Blue\",\"Blue\",\"Blue\",\"Blue\",\"Blue\",\"Blue\",\"Blue\",\"Blue\",\"Blue\",\"Blue\",\"Blue\",\"Blue\",\"Blue\",\"Blue\",\"Blue\",\"Blue\",\"Blue\",\"Blue\",\"Blue\",\"Blue\",\"Blue\",\"Blue\",\"Blue\",\"Blue\",\"Blue\",\"Blue\",\"Blue\",\"Blue\",\"Blue\",\"Blue\",\"Blue\",\"Blue\",\"Blue\",\"Blue\",\"Blue\",\"Blue\",\"Blue\",\"Blue\",\"Blue\",\"Blue\",\"Blue\",\"Blue\",\"Blue\",\"Blue\",\"Blue\",\"Blue\",\"Blue\",\"Blue\",\"Blue\",\"Blue\",\"Blue\",\"Blue\",\"Blue\",\"Blue\",\"Blue\",\"Blue\",\"Blue\",\"Blue\",\"Blue\",\"Blue\",\"Blue\",\"Blue\",\"Blue\",\"Blue\",\"Blue\",\"Blue\",\"Blue\",\"Blue\",\"Blue\",\"Blue\",\"Blue\",\"Blue\",\"Blue\",\"Blue\",\"Blue\",\"Blue\",\"Blue\",\"Blue\",\"Blue\",\"Blue\",\"Blue\",\"Blue\",\"Blue\",\"Blue\",\"Blue\",\"Blue\",\"Blue\",\"Blue\",\"Blue\",\"Blue\",\"Blue\",\"Blue\",\"Blue\",\"Blue\",\"Blue\",\"Blue\",\"Blue\",\"Blue\",\"Blue\",\"Blue\",\"Blue\",\"Blue\",\"Blue\",\"Blue\",\"Blue\",\"Blue\",\"Blue\",\"Blue\",\"Blue\",\"Blue\",\"Blue\",\"Blue\",\"Blue\",\"Blue\",\"Blue\",\"Blue\",\"Blue\",\"Blue\",\"Blue\",\"Blue\",\"Blue\",\"Blue\",\"Blue\",\"Blue\",\"Blue\",\"Blue\",\"Blue\",\"Blue\",\"Blue\",\"Blue\",\"Blue\",\"Blue\",\"Blue\",\"Blue\",\"Blue\",\"Blue\",\"Blue\",\"Blue\",\"Blue\",\"Blue\",\"Blue\",\"Blue\",\"Blue\",\"Blue\",\"Blue\",\"Blue\",\"Blue\",\"Blue\",\"Blue\",\"Blue\",\"Blue\",\"Blue\",\"Blue\",\"Blue\",\"Blue\",\"Blue\",\"Blue\",\"Blue\",\"Blue\",\"Blue\",\"Blue\",\"Blue\",\"Blue\",\"Blue\",\"Blue\",\"Blue\",\"Blue\",\"Blue\",\"Blue\",\"Blue\",\"Blue\",\"Blue\",\"Blue\",\"Blue\",\"Blue\",\"Blue\",\"Blue\",\"Blue\",\"Blue\",\"Blue\",\"Blue\",\"Blue\",\"Blue\",\"Blue\",\"Blue\",\"Blue\",\"Blue\",\"Blue\",\"Blue\",\"Blue\",\"Blue\",\"Blue\",\"Blue\",\"Blue\",\"Blue\",\"Blue\",\"Blue\",\"Blue\",\"Blue\",\"Blue\",\"Blue\",\"Blue\",\"Blue\",\"Blue\",\"Blue\",\"Blue\",\"Blue\",\"Blue\",\"Blue\",\"Blue\",\"Blue\",\"Blue\",\"Blue\",\"Blue\",\"Blue\",\"Blue\",\"Blue\",\"Blue\",\"Blue\",\"Blue\",\"Blue\",\"Blue\",\"Blue\",\"Blue\",\"Blue\",\"Blue\",\"Blue\",\"Blue\",\"Blue\",\"Blue\",\"Blue\",\"Blue\",\"Blue\",\"Blue\",\"Blue\",\"Blue\",\"Blue\",\"Blue\",\"Blue\",\"Blue\",\"Blue\",\"Blue\",\"Blue\",\"Blue\",\"Blue\",\"Blue\",\"Blue\",\"Blue\",\"Blue\",\"Blue\",\"Blue\",\"Blue\",\"Blue\",\"Blue\",\"Blue\",\"Blue\",\"Blue\",\"Blue\",\"Blue\",\"Blue\",\"Blue\",\"Blue\",\"Blue\",\"Blue\",\"Blue\",\"Blue\",\"Blue\",\"Blue\",\"Blue\",\"Blue\",\"Blue\",\"Blue\",\"Blue\",\"Blue\",\"Blue\",\"Blue\",\"Blue\",\"Blue\",\"Blue\",\"Blue\",\"Blue\",\"Blue\",\"Blue\",\"Blue\",\"Blue\",\"Blue\",\"Blue\",\"Blue\",\"Blue\",\"Blue\",\"Blue\",\"Blue\",\"Blue\",\"Blue\",\"Blue\",\"Blue\",\"Blue\",\"Blue\",\"Blue\",\"Blue\",\"Blue\",\"Blue\",\"Blue\",\"Blue\",\"Blue\",\"Blue\",\"Blue\",\"Blue\",\"Blue\",\"Blue\",\"Blue\",\"Blue\",\"Blue\",\"Blue\",\"Blue\",\"Blue\",\"Blue\",\"Blue\",\"Blue\",\"Blue\",\"Blue\",\"Blue\",\"Blue\",\"Blue\",\"Blue\",\"Blue\",\"Blue\",\"Blue\",\"Blue\",\"Blue\",\"Blue\",\"Blue\",\"Blue\",\"Blue\",\"Blue\",\"Blue\",\"Blue\",\"Blue\",\"Blue\",\"Blue\",\"Blue\",\"Blue\",\"Blue\",\"Blue\",\"Blue\",\"Blue\",\"Blue\",\"Blue\",\"Blue\",\"Blue\",\"Blue\",\"Blue\",\"Blue\",\"Blue\",\"Blue\",\"Blue\",\"Blue\",\"Blue\",\"Blue\",\"Blue\",\"Blue\",\"Blue\",\"Blue\",\"Blue\",\"Blue\",\"Blue\",\"Blue\",\"Blue\",\"Blue\",\"Blue\",\"Blue\",\"Blue\",\"Blue\",\"Blue\",\"Blue\",\"Blue\",\"Blue\",\"Blue\",\"Blue\",\"Blue\",\"Blue\",\"Blue\",\"Blue\",\"Blue\",\"Blue\",\"Blue\",\"Blue\",\"Blue\",\"Blue\",\"Blue\",\"Blue\",\"Blue\",\"Blue\",\"Blue\",\"Blue\",\"Blue\",\"Blue\",\"Blue\",\"Blue\",\"Blue\",\"Blue\",\"Blue\",\"Blue\",\"Blue\",\"Blue\",\"Blue\",\"Blue\",\"Blue\",\"Blue\",\"Blue\",\"Blue\",\"Blue\",\"Blue\",\"Blue\",\"Blue\",\"Blue\",\"Blue\",\"Blue\",\"Blue\",\"Blue\",\"Blue\",\"Blue\",\"Blue\",\"Blue\",\"Blue\",\"Blue\",\"Blue\",\"Blue\",\"Blue\",\"Blue\",\"Blue\",\"Blue\",\"Blue\",\"Blue\",\"Blue\",\"Blue\",\"Blue\",\"Blue\",\"Blue\",\"Blue\",\"Blue\",\"Blue\",\"Blue\",\"Blue\",\"Blue\",\"Blue\",\"Blue\",\"Blue\",\"Blue\",\"Blue\",\"Blue\",\"Blue\",\"Blue\",\"Blue\",\"Blue\",\"Blue\",\"Blue\",\"Blue\",\"Blue\",\"Blue\",\"Blue\",\"Blue\",\"Blue\",\"Blue\",\"Blue\",\"Blue\",\"Blue\",\"Blue\",\"Blue\",\"Blue\",\"Blue\",\"Blue\",\"Blue\",\"Blue\",\"Blue\",\"Blue\",\"Blue\",\"Blue\",\"Blue\",\"Blue\",\"Blue\",\"Blue\",\"Blue\",\"Blue\",\"Blue\",\"Blue\",\"Blue\",\"Blue\",\"Blue\",\"Blue\",\"Blue\",\"Blue\",\"Blue\",\"Blue\",\"Blue\",\"Blue\",\"Blue\",\"Blue\",\"Blue\",\"Blue\",\"Blue\",\"Blue\",\"Blue\",\"Blue\",\"Blue\",\"Blue\",\"Blue\",\"Blue\",\"Blue\",\"Blue\",\"Blue\",\"Blue\",\"Blue\",\"Blue\",\"Blue\",\"Blue\",\"Blue\",\"Blue\",\"Blue\",\"Blue\",\"Blue\",\"Blue\",\"Blue\",\"Blue\",\"Blue\",\"Blue\",\"Blue\",\"Blue\",\"Blue\",\"Blue\",\"Blue\",\"Blue\",\"Blue\",\"Blue\",\"Blue\",\"Blue\",\"Blue\",\"Blue\",\"Blue\",\"Blue\",\"Blue\",\"Blue\",\"Blue\",\"Blue\",\"Blue\",\"Blue\",\"Blue\",\"Blue\",\"Blue\",\"Blue\",\"Blue\",\"Blue\",\"Blue\",\"Blue\",\"Blue\",\"Blue\",\"Blue\",\"Blue\",\"Blue\",\"Blue\",\"Blue\",\"Blue\",\"Blue\",\"Blue\",\"Blue\",\"Blue\",\"Blue\",\"Blue\",\"Blue\",\"Blue\",\"Blue\",\"Blue\",\"Blue\",\"Blue\",\"Blue\",\"Blue\",\"Blue\",\"Blue\",\"Blue\",\"Blue\",\"Blue\",\"Blue\",\"Blue\",\"Blue\",\"Blue\",\"Blue\",\"Blue\",\"Blue\",\"Blue\",\"Blue\",\"Blue\",\"Blue\",\"Blue\",\"Blue\",\"Blue\",\"Blue\",\"Blue\",\"Blue\",\"Blue\",\"Blue\",\"Blue\",\"Blue\",\"Blue\",\"Blue\",\"Blue\",\"Blue\",\"Blue\",\"Blue\",\"Blue\",\"Blue\",\"Blue\",\"Blue\",\"Blue\",\"Blue\",\"Blue\",\"Blue\",\"Blue\",\"Blue\",\"Blue\",\"Blue\",\"Blue\",\"Blue\",\"Blue\",\"Blue\",\"Blue\",\"Blue\",\"Blue\",\"Blue\",\"Blue\",\"Blue\",\"Blue\",\"Blue\",\"Blue\",\"Blue\",\"Blue\",\"Blue\",\"Blue\",\"Blue\",\"Blue\",\"Blue\",\"Blue\",\"Blue\",\"Blue\",\"Blue\",\"Blue\",\"Blue\",\"Blue\",\"Blue\",\"Blue\",\"Blue\",\"Blue\",\"Blue\",\"Blue\",\"Blue\",\"Blue\",\"Blue\",\"Blue\",\"Blue\",\"Blue\",\"Blue\",\"Blue\",\"Blue\",\"Blue\",\"Blue\",\"Blue\",\"Blue\",\"Blue\",\"Blue\",\"Blue\",\"Blue\",\"Blue\",\"Blue\",\"Blue\",\"Blue\",\"Blue\",\"Blue\",\"Blue\",\"Blue\",\"Blue\",\"Blue\",\"Blue\",\"Blue\",\"Blue\",\"Blue\",\"Blue\",\"Blue\",\"Blue\",\"Blue\",\"Blue\",\"Blue\",\"Blue\",\"Blue\",\"Blue\",\"Blue\",\"Blue\",\"Blue\",\"Blue\",\"Blue\",\"Blue\",\"Blue\",\"Blue\",\"Blue\",\"Blue\",\"Blue\",\"Blue\",\"Blue\",\"Blue\",\"Blue\",\"Blue\",\"Blue\",\"Blue\",\"Blue\",\"Blue\",\"Blue\",\"Blue\",\"Blue\",\"Blue\",\"Blue\",\"Blue\",\"Blue\",\"Blue\",\"Blue\",\"Blue\",\"Blue\",\"Blue\",\"Blue\",\"Blue\",\"Blue\",\"Blue\",\"Blue\",\"Blue\",\"Blue\",\"Blue\",\"Blue\",\"Blue\",\"Blue\",\"Blue\",\"Blue\",\"Blue\",\"Blue\",\"Blue\",\"Blue\",\"Blue\",\"Blue\",\"Blue\",\"Blue\",\"Blue\",\"Blue\",\"Blue\",\"Blue\",\"Blue\",\"Blue\",\"Blue\",\"Blue\",\"Blue\",\"Blue\",\"Blue\",\"Blue\",\"Blue\",\"Blue\",\"Blue\",\"Blue\",\"Blue\",\"Blue\",\"Blue\",\"Blue\",\"Blue\",\"Blue\",\"Blue\",\"Blue\",\"Blue\",\"Blue\",\"Blue\",\"Blue\",\"Blue\",\"Blue\",\"Blue\",\"Blue\",\"Blue\",\"Blue\",\"Blue\",\"Blue\",\"Blue\",\"Blue\",\"Blue\",\"Blue\",\"Blue\",\"Blue\",\"Blue\",\"Blue\",\"Blue\",\"Blue\",\"Blue\",\"Blue\",\"Blue\",\"Blue\",\"Blue\",\"Blue\",\"Blue\",\"Blue\",\"Blue\",\"Blue\",\"Blue\",\"Blue\",\"Blue\",\"Blue\",\"Blue\",\"Blue\",\"Blue\",\"Blue\",\"Blue\",\"Blue\",\"Blue\",\"Blue\",\"Blue\",\"Blue\",\"Blue\",\"Blue\",\"Blue\",\"Blue\",\"Blue\",\"Blue\",\"Blue\",\"Blue\",\"Blue\",\"Blue\",\"Blue\",\"Blue\",\"Blue\",\"Blue\",\"Blue\",\"Blue\",\"Blue\",\"Blue\",\"Blue\",\"Blue\",\"Blue\",\"Blue\",\"Blue\",\"Blue\",\"Blue\",\"Blue\",\"Blue\",\"Blue\",\"Blue\",\"Blue\",\"Blue\",\"Blue\",\"Blue\",\"Blue\",\"Blue\",\"Blue\",\"Blue\",\"Blue\",\"Blue\",\"Blue\",\"Blue\",\"Blue\",\"Blue\",\"Blue\",\"Blue\",\"Blue\",\"Blue\",\"Blue\",\"Blue\",\"Blue\",\"Blue\",\"Blue\",\"Blue\",\"Blue\",\"Blue\",\"Blue\",\"Blue\",\"Blue\",\"Blue\",\"Blue\",\"Blue\",\"Blue\",\"Blue\",\"Blue\",\"Blue\",\"Blue\",\"Blue\",\"Blue\",\"Blue\",\"Blue\",\"Blue\",\"Blue\",\"Blue\",\"Blue\",\"Blue\",\"Blue\",\"Blue\",\"Blue\",\"Blue\",\"Blue\",\"Blue\",\"Blue\",\"Blue\",\"Blue\",\"Blue\",\"Blue\",\"Blue\",\"Blue\",\"Blue\",\"Blue\",\"Blue\",\"Blue\",\"Blue\",\"Blue\",\"Blue\",\"Blue\",\"Blue\",\"Blue\",\"Blue\",\"Blue\",\"Blue\",\"Blue\",\"Blue\",\"Blue\",\"Blue\",\"Blue\",\"Blue\",\"Blue\",\"Blue\",\"Blue\",\"Blue\",\"Blue\",\"Blue\",\"Blue\",\"Blue\",\"Blue\",\"Blue\",\"Blue\",\"Blue\",\"Blue\",\"Blue\",\"Blue\",\"Blue\",\"Blue\",\"Blue\",\"Blue\",\"Blue\",\"Blue\",\"Blue\",\"Blue\",\"Blue\",\"Blue\",\"Blue\",\"Blue\",\"Blue\",\"Blue\",\"Blue\",\"Blue\",\"Blue\",\"Blue\",\"Blue\",\"Blue\",\"Blue\",\"Blue\",\"Blue\",\"Blue\",\"Blue\",\"Blue\",\"Blue\",\"Blue\",\"Blue\",\"Blue\",\"Blue\",\"Blue\",\"Blue\",\"Blue\",\"Blue\",\"Blue\",\"Blue\",\"Blue\",\"Blue\",\"Blue\",\"Blue\",\"Blue\",\"Blue\",\"Blue\",\"Blue\",\"Blue\",\"Blue\",\"Blue\",\"Blue\",\"Blue\",\"Blue\",\"Blue\",\"Blue\",\"Blue\",\"Blue\",\"Blue\",\"Blue\",\"Blue\",\"Blue\",\"Blue\",\"Blue\",\"Blue\",\"Blue\",\"Blue\",\"Blue\",\"Blue\",\"Blue\",\"Blue\",\"Blue\",\"Blue\",\"Blue\",\"Blue\",\"Blue\",\"Blue\",\"Blue\",\"Blue\",\"Blue\",\"Blue\",\"Blue\",\"Blue\",\"Blue\",\"Blue\",\"Blue\",\"Blue\",\"Blue\",\"Blue\",\"Blue\",\"Blue\",\"Blue\",\"Blue\",\"Blue\",\"Blue\",\"Blue\",\"Blue\",\"Blue\",\"Blue\",\"Blue\",\"Blue\",\"Blue\",\"Blue\",\"Blue\",\"Blue\",\"Blue\",\"Blue\",\"Blue\",\"Blue\",\"Blue\",\"Blue\",\"Blue\",\"Blue\",\"Blue\",\"Blue\",\"Blue\",\"Blue\",\"Blue\",\"Blue\",\"Blue\",\"Blue\",\"Blue\",\"Blue\",\"Blue\",\"Blue\",\"Blue\",\"Blue\",\"Blue\",\"Blue\",\"Blue\",\"Blue\",\"Blue\",\"Blue\",\"Blue\",\"Blue\",\"Blue\",\"Blue\",\"Blue\",\"Blue\",\"Blue\",\"Blue\",\"Blue\",\"Blue\",\"Blue\",\"Blue\",\"Blue\",\"Blue\",\"Blue\",\"Blue\",\"Blue\",\"Blue\",\"Blue\",\"Blue\",\"Blue\",\"Blue\",\"Blue\",\"Blue\",\"Blue\",\"Blue\",\"Blue\",\"Blue\",\"Blue\",\"Blue\",\"Blue\",\"Blue\",\"Blue\",\"Blue\",\"Blue\",\"Blue\",\"Blue\",\"Blue\",\"Blue\",\"Blue\",\"Blue\",\"Blue\",\"Blue\",\"Blue\",\"Blue\",\"Blue\",\"Blue\",\"Blue\",\"Blue\",\"Blue\",\"Blue\",\"Blue\",\"Blue\",\"Blue\",\"Blue\",\"Blue\",\"Blue\",\"Blue\",\"Blue\",\"Blue\",\"Blue\",\"Blue\",\"Blue\",\"Blue\",\"Blue\",\"Blue\",\"Blue\",\"Blue\",\"Blue\",\"Blue\",\"Blue\",\"Blue\",\"Blue\",\"Blue\",\"Blue\",\"Blue\",\"Blue\",\"Blue\",\"Blue\",\"Blue\",\"Blue\",\"Blue\",\"Blue\",\"Blue\",\"Blue\",\"Blue\",\"Blue\",\"Blue\",\"Blue\",\"Blue\",\"Blue\",\"Blue\",\"Blue\",\"Blue\",\"Blue\",\"Blue\",\"Blue\",\"Blue\",\"Blue\",\"Blue\",\"Blue\",\"Blue\",\"Blue\",\"Blue\",\"Blue\",\"Blue\",\"Blue\",\"Blue\",\"Blue\",\"Blue\",\"Blue\",\"Blue\",\"Blue\",\"Blue\",\"Blue\",\"Blue\",\"Blue\",\"Blue\",\"Blue\",\"Blue\",\"Blue\",\"Blue\",\"Blue\",\"Blue\",\"Blue\",\"Blue\",\"Blue\",\"Blue\",\"Blue\",\"Blue\",\"Blue\",\"Blue\",\"Blue\",\"Blue\",\"Blue\",\"Blue\",\"Blue\",\"Blue\",\"Blue\",\"Blue\",\"Blue\",\"Blue\",\"Blue\",\"Blue\",\"Blue\",\"Blue\",\"Blue\",\"Blue\",\"Blue\",\"Blue\",\"Blue\",\"Blue\",\"Blue\",\"Blue\",\"Blue\",\"Blue\",\"Blue\",\"Blue\",\"Blue\",\"Blue\",\"Blue\",\"Blue\",\"Blue\",\"Blue\",\"Blue\",\"Blue\",\"Blue\",\"Blue\",\"Blue\",\"Blue\",\"Blue\",\"Blue\",\"Blue\",\"Blue\",\"Blue\",\"Blue\",\"Blue\",\"Blue\",\"Blue\",\"Blue\",\"Blue\",\"Blue\",\"Blue\",\"Blue\",\"Blue\",\"Blue\",\"Blue\",\"Blue\",\"Blue\",\"Blue\",\"Blue\",\"Blue\",\"Blue\",\"Blue\",\"Blue\",\"Blue\",\"Blue\",\"Blue\",\"Blue\",\"Blue\",\"Blue\",\"Blue\",\"Blue\",\"Blue\",\"Blue\",\"Blue\",\"Blue\",\"Blue\",\"Blue\",\"Blue\",\"Blue\",\"Blue\",\"Blue\",\"Blue\",\"Blue\",\"Blue\",\"Blue\",\"Blue\",\"Blue\",\"Blue\",\"Blue\",\"Blue\",\"Blue\",\"Blue\",\"Blue\",\"Blue\",\"Blue\",\"Blue\",\"Blue\",\"Blue\",\"Blue\",\"Blue\",\"Blue\",\"Blue\",\"Blue\",\"Blue\",\"Blue\",\"Blue\",\"Blue\",\"Blue\",\"Blue\",\"Blue\",\"Blue\",\"Blue\",\"Blue\",\"Blue\",\"Blue\",\"Blue\",\"Blue\",\"Blue\",\"Blue\",\"Blue\",\"Blue\",\"Blue\",\"Blue\",\"Blue\",\"Blue\",\"Blue\",\"Blue\",\"Blue\",\"Blue\",\"Blue\",\"Blue\",\"Blue\",\"Blue\",\"Blue\",\"Blue\",\"Blue\",\"Blue\",\"Blue\",\"Blue\",\"Blue\",\"Blue\",\"Blue\",\"Blue\",\"Blue\",\"Blue\",\"Blue\",\"Blue\",\"Blue\",\"Blue\",\"Blue\",\"Blue\",\"Blue\",\"Blue\",\"Blue\",\"Blue\",\"Blue\",\"Blue\",\"Blue\",\"Blue\",\"Blue\",\"Blue\",\"Blue\",\"Blue\",\"Blue\",\"Blue\",\"Blue\",\"Blue\",\"Blue\",\"Blue\",\"Blue\",\"Blue\",\"Blue\",\"Blue\",\"Blue\",\"Blue\",\"Blue\",\"Blue\",\"Blue\",\"Blue\",\"Blue\",\"Blue\",\"Blue\",\"Blue\",\"Blue\",\"Blue\",\"Blue\",\"Blue\",\"Blue\",\"Blue\",\"Blue\",\"Blue\",\"Blue\",\"Blue\",\"Blue\",\"Blue\",\"Blue\",\"Blue\",\"Blue\",\"Blue\",\"Blue\",\"Blue\",\"Blue\",\"Blue\",\"Blue\",\"Blue\",\"Blue\",\"Blue\",\"Blue\",\"Blue\",\"Blue\",\"Blue\",\"Blue\",\"Blue\",\"Blue\",\"Blue\",\"Blue\",\"Blue\",\"Blue\",\"Blue\",\"Blue\",\"Blue\",\"Blue\",\"Blue\",\"Blue\",\"Blue\",\"Blue\",\"Blue\",\"Blue\",\"Blue\",\"Blue\",\"Blue\",\"Blue\",\"Blue\",\"Blue\",\"Blue\",\"Blue\",\"Blue\",\"Blue\",\"Blue\",\"Blue\",\"Blue\",\"Blue\",\"Blue\",\"Blue\",\"Blue\",\"Blue\",\"Blue\",\"Blue\",\"Blue\",\"Blue\",\"Blue\",\"Blue\",\"Blue\",\"Blue\",\"Blue\",\"Blue\",\"Blue\",\"Blue\",\"Blue\",\"Blue\",\"Blue\",\"Blue\",\"Blue\",\"Blue\",\"Blue\",\"Blue\",\"Blue\",\"Blue\",\"Blue\",\"Blue\",\"Blue\",\"Blue\",\"Blue\",\"Blue\",\"Blue\",\"Blue\",\"Blue\",\"Blue\",\"Blue\",\"Blue\",\"Blue\",\"Blue\",\"Blue\",\"Blue\",\"Blue\",\"Blue\",\"Blue\",\"Blue\",\"Blue\",\"Blue\",\"Blue\",\"Blue\",\"Blue\",\"Blue\",\"Blue\",\"Blue\",\"Blue\",\"Blue\",\"Blue\",\"Blue\",\"Blue\",\"Blue\",\"Blue\",\"Blue\",\"Blue\",\"Blue\",\"Blue\",\"Blue\",\"Blue\",\"Blue\",\"Blue\",\"Blue\",\"Blue\",\"Blue\",\"Blue\",\"Blue\",\"Blue\",\"Blue\",\"Blue\",\"Blue\",\"Blue\",\"Blue\",\"Blue\",\"Blue\",\"Blue\",\"Blue\",\"Blue\",\"Blue\",\"Blue\",\"Blue\",\"Blue\",\"Blue\",\"Blue\",\"Blue\",\"Blue\",\"Blue\",\"Blue\",\"Blue\",\"Blue\",\"Blue\",\"Blue\",\"Blue\",\"Blue\",\"Blue\",\"Blue\",\"Blue\",\"Blue\",\"Blue\",\"Blue\",\"Blue\",\"Blue\",\"Blue\",\"Blue\",\"Blue\",\"Blue\",\"Blue\",\"Blue\",\"Blue\",\"Blue\",\"Blue\",\"Blue\",\"Blue\",\"Blue\"],\"desc\":[0.18997183442115784,0.00015463917225133628,0.18997183442115784,0.00020565552404150367,0.00020565552404150367,0.18997183442115784,0.00020565552404150367,0.18997183442115784,0.00020565552404150367,0.18997183442115784,0.719490647315979,0.1782020777463913,0.719490647315979,0.1782020777463913,0.1823423206806183,0.719490647315979,0.18224875628948212,0.719490647315979,0.1718955934047699,0.719490647315979,0.1782020777463913,0.1782020777463913,0.1801651269197464,0.719490647315979,0.1782020777463913,0.7123376727104187,0.1785563975572586,0.719490647315979,0.7170858383178711,0.17846988141536713,0.7002525329589844,0.7077900171279907,0.7002525329589844,0.7077900171279907,0.7077900171279907,0.7002525329589844,0.7091977000236511,0.7002525329589844,0.7077900171279907,0.7002525329589844,0.7002525329589844,0.7002525329589844,0.7002525329589844,0.7077900171279907,0.7077900171279907,0.7002525329589844,0.7002525329589844,0.7002525329589844,0.7002525329589844,0.7002525329589844,0.7165773510932922,0.6900526881217957,0.7165773510932922,0.6900526881217957,0.6874877214431763,0.7174662351608276,0.6830037832260132,0.7165773510932922,0.6885743141174316,0.7165773510932922,0.18997183442115784,0.18997183442115784,0.00020565552404150367,0.18997183442115784,0.00020565552404150367,0.00020565552404150367,0.18997183442115784,0.00020565552404150367,0.18997183442115784,0.00020565552404150367,0.18997183442115784,0.719490647315979,0.1782020777463913,0.7090663909912109,0.1726454645395279,0.7116060853004456,0.17033155262470245,0.16829940676689148,0.7136681079864502,0.17684680223464966,0.7079458832740784,0.17486454546451569,0.7116060853004456,0.7002525329589844,0.7077900171279907,0.7077900171279907,0.7077900171279907,0.7077900171279907,0.7077900171279907,0.7002525329589844,0.7077900171279907,0.7106451988220215,0.7014646530151367,0.7108039259910583,0.7294228076934814,0.7237994074821472,0.6894227862358093,0.6933580040931702,0.6992265582084656,0.7038456201553345,0.7108039259910583,0.7165773510932922,0.11908617615699768,0.09396111965179443,0.6900526881217957,0.6611385345458984,0.0585605725646019,0.0578530877828598,0.0845116376876831,0.10226677358150482,0.08559395372867584,0.6211278438568115,0.0845116376876831,0.17456494271755219,0.0645742118358612,0.05875640735030174,0.17427358031272888,0.11911144107580185,0.3185434937477112,0.11745823174715042,0.4582141041755676,0.17427358031272888,0.719794511795044,0.6900526881217957,0.5041384696960449,0.7165773510932922,0.3921639323234558,0.2438136339187622,0.10163185000419617,0.20708300173282623,0.10163185000419617,0.7225232124328613,0.6884480714797974,0.7225232124328613,0.69720059633255,0.7004591226577759,0.7174662351608276,0.7040117383003235,0.7293037176132202,0.6932503581047058,0.7225232124328613,0.726803719997406,0.6899011731147766,0.6907181143760681,0.7378333210945129,0.7378333210945129,0.7174662351608276,0.7225232124328613,0.7278688549995422,0.726803719997406,0.69720059633255,0.7293037176132202,0.6884480714797974,0.7225232124328613,0.6991089582443237,0.6892532706260681,0.6974155902862549,0.726803719997406,0.7278688549995422,0.7359436750411987,0.686578631401062,0.7278688549995422,0.6953917741775513,0.7142271995544434,0.7278688549995422,0.7293037176132202,0.7225232124328613,0.7378333210945129,0.7398679852485657,0.6884480714797974,0.6953917741775513,0.00015463917225133628,0.18928010761737823,0.00020565552404150367,0.00020565552404150367,0.18997183442115784,0.00020565552404150367,0.1894116848707199,0.00020565552404150367,0.18961384892463684,0.18997183442115784,0.1606130748987198,0.00020565552404150367,0.18997183442115784,0.18997183442115784,0.18966472148895264,0.00020565552404150367,0.18997183442115784,0.12589210271835327,0.00020565552404150367,0.17226721346378326,0.00015463917225133628,0.17168119549751282,0.00020565552404150367,0.16084909439086914,0.18997183442115784,0.02562584914267063,0.00015463917225133628,0.15285342931747437,0.00020565552404150367,0.18528011441230774,0.00020565552404150367,0.1824813336133957,0.18997183442115784,0.02454465441405773,0.18928010761737823,0.00020565552404150367,0.24742940068244934,0.7118744850158691,0.0026421211659908295,0.2343609780073166,0.7200223803520203,0.24054177105426788,0.713411271572113,0.2524145543575287,0.7105887532234192,0.24905644357204437,0.7141175866127014,0.7164192199707031,0.48565760254859924,0.25153300166130066,0.1774992048740387,0.5152212977409363,0.7169696688652039,0.23682290315628052,0.6803665161132812,0.7099668383598328,0.49748319387435913,0.25153300166130066,0.24097199738025665,0.7276031970977783,0.7220461964607239,0.22953438758850098,0.23403620719909668,0.704673171043396,0.24742940068244934,0.7183383703231812,0.6980295777320862,0.011939325369894505,0.549620509147644,0.6957714557647705,0.7377965450286865,0.6867654919624329,0.7281031608581543,0.6875641942024231,0.6909235119819641,0.7327633500099182,0.7009811997413635,0.7431111335754395,0.479098379611969,0.5244136452674866,0.6984480619430542,0.7518730163574219,0.7104198336601257,0.7487778067588806,0.7069588899612427,0.7099241018295288,0.025517484173178673,0.4587857127189636,0.7166199088096619,0.7300959825515747,0.7094494700431824,0.7084299921989441,0.7229653596878052,0.7165773510932922,0.01900404691696167,0.7096306085586548,0.46568921208381653,0.6951860785484314,0.708088219165802,0.4657331705093384,0.6957041621208191,0.08901242911815643,0.4834159314632416,0.019977815449237823,0.031657639890909195,0.010869565419852734,0.00020565552404150367,0.019208546727895737,0.04462467506527901,0.002710526343435049,0.040708545595407486,0.007278745528310537,0.013655172660946846,0.0010884354123845696,0.04209604859352112,0.034904371947050095,0.00021052631200291216,0.00020565552404150367,0.0783742219209671,0.03748190030455589,0.018586497753858566,0.12898972630500793,0.006093070842325687,0.20716509222984314,0.18884995579719543,0.23330058157444,0.019569523632526398,0.1845424324274063,0.17628389596939087,0.1692611277103424,0.17341406643390656,0.16324643790721893,0.17960773408412933,0.09900861233472824,0.09780912846326828,0.1799885332584381,0.20010720193386078,0.18408213555812836,0.1821455955505371,0.1658228486776352,0.1931309849023819,0.183107390999794,0.19344007968902588,0.15890507400035858,0.1720285415649414,0.17876408994197845,0.1490277349948883,0.2169564813375473,0.12521407008171082,0.16716833412647247,0.1826132982969284,0.17862237989902496,0.2036985605955124,0.20463186502456665,0.13147810101509094,0.22577206790447235,0.11440546810626984,0.1323980838060379,0.11171939969062805,0.15402276813983917,0.15067966282367706,0.12828123569488525,0.13403230905532837,0.1054157093167305,0.13831660151481628,0.1557599902153015,0.09566833078861237,0.14002104103565216,0.14379118382930756,0.13450148701667786,0.15124839544296265,0.13145242631435394,0.12995639443397522,0.06040611490607262,0.06040611490607262,0.06977316737174988,0.09961539506912231,0.07378822565078735,0.2323334813117981,0.09663248807191849,0.22780320048332214,0.2413777858018875,0.1096561998128891,0.05267901346087456,0.6881649494171143,0.28078627586364746,0.13186824321746826,0.5100804567337036,0.7280223369598389,0.5407678484916687,0.4179190397262573,0.6938621401786804,0.5809410214424133,0.6000391244888306,0.6168208122253418,0.7160679697990417,0.3938378691673279,0.17392486333847046,0.5556142926216125,0.16135065257549286,0.5727819204330444,0.7225692868232727,0.21272948384284973,0.00015706806152593344,0.695275604724884,0.004999999888241291,0.758698582649231,0.5953922867774963,0.7212647795677185,0.6340314745903015,0.5424187183380127,0.6992900967597961,0.7111536860466003,0.5592970848083496,0.7044913172721863,0.6742169260978699,0.7216581702232361,0.42993390560150146,0.7270007133483887,0.5005627274513245,0.663597583770752,0.015457912348210812,0.7243809700012207,0.7281233668327332,0.01815873011946678,0.7406565546989441,0.7084251046180725,0.004999999888241291,0.08046474307775497,0.7092888355255127,0.6253544688224792,0.6793649792671204,0.054023414850234985,0.1431197226047516,0.7095621228218079,0.5886353850364685,0.6706017255783081,0.0070682247169315815,0.6809805631637573,0.5509621500968933,0.713136613368988,0.0,0.7026933431625366,0.1654045581817627,0.6264036297798157,0.0543212853372097,0.1388031542301178,0.045926015824079514,0.04698560759425163,0.05261601507663727,0.024333324283361435,0.6067422032356262,0.08338366448879242,0.15186282992362976,0.09935154020786285,0.016316624358296394,0.06847943365573883,0.06576318293809891,0.13200950622558594,0.04665577784180641,0.015531296841800213,0.0532507449388504,0.10548285394906998,0.003075722139328718,0.6401363611221313,0.01796286180615425,0.524742841720581,0.05993189662694931,0.6956331729888916,0.03525163605809212,0.6216787695884705,0.19682857394218445,0.621181845664978,0.01663289964199066,0.6721103191375732,0.6650599837303162,0.15925580263137817,0.555708646774292,0.64860999584198,0.5721561312675476,0.561118483543396,0.650238037109375,0.5382136702537537,0.5176438093185425,0.5800924897193909,0.6571627855300903,0.4677983522415161,0.6294653415679932,0.6642701029777527,0.7000465393066406,0.6152037978172302,0.18286557495594025,0.618589460849762,0.5800856947898865,0.00015267175331246108,0.00020565552404150367,0.01545812375843525,0.039719924330711365,0.00020725389185827225,0.056170545518398285,0.008856330998241901,0.0033922134898602962,0.0,0.027177779003977776,0.1675458401441574,0.18500179052352905,0.17404209077358246,0.179957315325737,0.19817528128623962,0.009492997080087662,0.0,0.14776906371116638,0.16341926157474518,0.13777703046798706,0.1318611204624176,0.15447959303855896,0.1467014104127884,0.019233711063861847,0.006725274957716465,0.15461423993110657,0.15709076821804047,0.1574167162179947,0.15448980033397675,0.1383296549320221,0.13524475693702698,0.0276383925229311,0.22565850615501404,0.30363577604293823,0.18306005001068115,0.2617913782596588,0.13887202739715576,0.24124380946159363,0.1499255746603012,0.23328983783721924,0.27834680676460266,0.3192387819290161,0.35390666127204895,0.2032575160264969,0.24335737526416779,0.24660106003284454,0.29129669070243835,0.23360711336135864,0.22293025255203247,0.22037236392498016,0.2571370601654053,0.33211711049079895,0.2316177636384964,0.30363577604293823,0.18531890213489532,0.2617913782596588,0.1430409550666809,0.24137714505195618,0.1499255746603012,0.23328983783721924,0.27834680676460266,0.32154375314712524,0.3504309356212616,0.20844443142414093,0.23126986622810364,0.18666014075279236,0.34527304768562317,0.2743557095527649,0.323640376329422,0.10366185009479523,0.28940877318382263,0.642349362373352,0.22983574867248535,0.30014216899871826,0.18439093232154846,0.2617913782596588,0.13895268738269806,0.2414039820432663,0.14991909265518188,0.23348304629325867,0.2773944139480591,0.3209376931190491,0.27702590823173523,0.18694600462913513,0.19432342052459717,0.2199718952178955,0.2777341902256012,0.2781430780887604,0.22043916583061218,0.1164591982960701,0.7134863138198853,0.021326415240764618,0.24365021288394928,0.31857743859291077,0.1946602314710617,0.2541881799697876,0.12338424474000931,0.22405090928077698,0.1481161117553711,0.22733984887599945,0.29170891642570496,0.3113687336444855,0.22565850615501404,0.24048608541488647,0.18790335953235626,0.16485179960727692,0.2569859027862549,0.21225537359714508,0.2600715458393097,0.29800453782081604,0.2811661958694458,0.01796465925872326,0.06508956849575043,0.2407579869031906,0.18845607340335846,0.16485179960727692,0.25621533393859863,0.21225537359714508,0.2604561746120453,0.2977737784385681,0.28603246808052063,0.01796465925872326,0.06508956849575043,0.2554998993873596,0.26699453592300415,0.09161405265331268,0.2702854871749878,0.20280013978481293,0.08864498138427734,0.280916690826416,0.06430671364068985,0.07966169714927673,0.2718202471733093,0.22983574867248535,0.17708401381969452,0.27468737959861755,0.07985609769821167,0.24385946989059448,0.18845607340335846,0.16520100831985474,0.2554517686367035,0.21250568330287933,0.26243188977241516,0.30053380131721497,0.2878255248069763,0.01796465925872326,0.06508956849575043,0.24365021288394928,0.15965548157691956,0.03645025193691254,0.05762434005737305,0.07943125814199448,0.07491375505924225,0.29390403628349304,0.169049933552742,0.02354239672422409,0.0718495324254036,0.23930905759334564,0.19839057326316833,0.1611729860305786,0.27222707867622375,0.22222428023815155,0.2709501385688782,0.29109224677085876,0.2667848467826843,0.013850470073521137,0.0644957646727562,0.1546022891998291,0.25524088740348816,0.26896217465400696,0.20201168954372406,0.24224211275577545,0.18923671543598175,0.1315295547246933,0.3572327494621277,0.3163362741470337,0.07694070041179657,0.3288132846355438,0.2809586822986603,0.31829866766929626,0.3672045171260834,0.2590302526950836,0.26205453276634216,0.2189287543296814,0.11731548607349396,0.2769474983215332,0.19280827045440674,0.2586216926574707,0.2776402235031128,0.2294793725013733,0.27946314215660095,0.18202006816864014,0.13597151637077332,0.3110943138599396,0.35775861144065857,0.05800963193178177,0.2929322123527527,0.2888305187225342,0.2878584563732147,0.3083617389202118,0.26610320806503296,0.25543010234832764,0.2590305209159851,0.12265017628669739,0.2851542532444,0.1411607414484024,0.2219690978527069,0.2712230086326599,0.16538725793361664,0.23081570863723755,0.18338294327259064,0.10517894476652145,0.2954205870628357,0.26893508434295654,0.6474466323852539,0.6474466323852539,0.6474466323852539,0.6474466323852539,0.6474466323852539,0.6474466323852539,0.6474466323852539,0.6474466323852539,0.6474466323852539,0.6474466323852539,0.650005042552948,0.650005042552948,0.650005042552948,0.650005042552948,0.650005042552948,0.650005042552948,0.650005042552948,0.650005042552948,0.650005042552948,0.650005042552948,0.650005042552948,0.650005042552948,0.650005042552948,0.650005042552948,0.650005042552948,0.650005042552948,0.650005042552948,0.650005042552948,0.650005042552948,0.650005042552948,0.6474913358688354,0.6474913358688354,0.6474913358688354,0.6474913358688354,0.6474913358688354,0.6474913358688354,0.6474913358688354,0.6474913358688354,0.6474913358688354,0.6474913358688354,0.3510523736476898,0.3510523736476898,0.3510523736476898,0.3510523736476898,0.3510523736476898,0.3510523736476898,0.3510523736476898,0.3510523736476898,0.3510523736476898,0.3510523736476898,0.3510523736476898,0.3510523736476898,0.3510523736476898,0.3510523736476898,0.3510523736476898,0.3510523736476898,0.3510523736476898,0.3510523736476898,0.3510523736476898,0.3510523736476898,0.6474466323852539,0.6668987274169922,0.6602616310119629,0.6658943891525269,0.6617400050163269,0.6617400050163269,0.6892183423042297,0.6772710084915161,0.6772710084915161,0.6892183423042297,0.66428542137146,0.66428542137146,0.6617400050163269,0.66428542137146,0.6772710084915161,0.66428542137146,0.6668987274169922,0.6602616310119629,0.6892183423042297,0.6772710084915161,0.6658943891525269,0.650005042552948,0.6461756825447083,0.6530014276504517,0.6650603413581848,0.6584232449531555,0.6691007614135742,0.6612334847450256,0.6612334847450256,0.6795992851257324,0.6767818331718445,0.6767818331718445,0.6795992851257324,0.6588280200958252,0.6474913358688354,0.6474913358688354,0.6474913358688354,0.6474913358688354,0.6474913358688354,0.6474913358688354,0.6634910702705383,0.6595920920372009,0.6597457528114319,0.6628243923187256,0.6628243923187256,0.6820328831672668,0.679559588432312,0.679559588432312,0.6820328831672668,0.6555184721946716,0.6555184721946716,0.6628243923187256,0.6555184721946716,0.679559588432312,0.6555184721946716,0.6634910702705383,0.6595920920372009,0.6820328831672668,0.679559588432312,0.6597457528114319,0.6555184721946716,0.6595920920372009,0.6595920920372009,0.6555184721946716,0.6628243923187256,0.6628243923187256,0.6555184721946716,0.6634910702705383,0.6628243923187256,0.6634910702705383,0.3510523736476898,0.0980534553527832,0.06592988222837448,0.15682891011238098,0.15682891011238098,0.3552350103855133,0.27539920806884766,0.3368464708328247,0.3552350103855133,0.10854977369308472,0.09411055594682693,0.06592988222837448,0.06592988222837448,0.12245090305805206,0.17589443922042847,0.34706830978393555,0.12245090305805206,0.09411055594682693,0.12245090305805206,0.10854977369308472,0.3535988926887512,0.3527083694934845,0.35458603501319885,0.35369056463241577,0.35369056463241577,0.3593708872795105,0.36255335807800293,0.36255335807800293,0.3593708872795105,0.3576188087463379,0.3576188087463379,0.35369056463241577,0.3576188087463379,0.36255335807800293,0.3576188087463379,0.3535988926887512,0.3527083694934845,0.3593708872795105,0.36255335807800293,0.35458603501319885,0.6423391103744507,0.7416812777519226,0.7251659631729126,0.7711772322654724,0.7525028586387634,0.044609490782022476,0.7394344806671143,0.6777559518814087,0.22304947674274445,0.7394344806671143,0.1842675358057022,0.7764732837677002,0.5303388833999634,0.17550542950630188,0.6579985022544861,0.6922404170036316,0.3495590388774872,0.6430190801620483,0.26219576597213745,0.6726536750793457,0.7484595775604248,0.7179653644561768,0.73505699634552,0.7119660973548889,0.03802699223160744,0.7234278321266174,0.7061740159988403,0.36309942603111267,0.546252965927124,0.6940836906433105,0.6867113709449768,0.6526620388031006,0.6659496426582336,0.04146384075284004,0.6535855531692505,0.6181811094284058,0.24669091403484344,0.0478796660900116,0.24240370094776154,0.19263498485088348,0.2362414300441742,0.16810671985149384,0.21906261146068573,0.12867291271686554,0.22277100384235382,0.17152580618858337,0.18874813616275787,0.16266989707946777,0.20874975621700287,0.14901459217071533,0.22412066161632538,0.15166467428207397,0.2163369357585907,0.21433746814727783,0.20230968296527863,0.20959922671318054,0.2138688564300537,0.22698506712913513,0.21719159185886383,0.20188599824905396,0.1755446344614029,0.08073365688323975,0.13564752042293549,0.2209729701280594,0.13753832876682281,0.23686957359313965,0.22833994030952454,0.05754758045077324,0.17576155066490173,0.08871595561504364,0.1767592877149582,0.072728730738163,0.22027422487735748,0.10152880102396011,0.1174195408821106,0.062180742621421814,0.18229526281356812,0.049550097435712814,0.2365100383758545,0.1923583298921585,0.23328448832035065,0.1664513200521469,0.2190760374069214,0.1328117996454239,0.2181837111711502,0.16772837936878204,0.1876290887594223,0.19839271903038025,0.21382839977741241,0.09766904264688492,0.2134840488433838,0.20928554236888885,0.20584404468536377,0.20718885958194733,0.08354967087507248,0.17249983549118042,0.1109001561999321,0.04795213043689728,0.05434618890285492,0.24989698827266693,0.19224442541599274,0.1974753588438034,0.13862334191799164,0.2030140906572342,0.2201019823551178,0.21569645404815674,0.06919409334659576,0.09490188211202621,0.049550097435712814,0.05434618890285492,0.2505636513233185,0.1948734074831009,0.1967322677373886,0.12908530235290527,0.20494693517684937,0.2197967916727066,0.2138405293226242,0.07145599275827408,0.09388456493616104,0.047198470681905746,0.23054324090480804,0.16325002908706665,0.18884477019309998,0.10367728769779205,0.21462638676166534,0.21870484948158264,0.19914820790290833,0.058463629335165024,0.08477094769477844,0.08618370443582535,0.11098340898752213,0.0750136524438858,0.05583244189620018,0.07125724107027054,0.07281024754047394,0.09746739268302917,0.04820779338479042,0.10225824266672134,0.0698196217417717,0.06942013651132584,0.04020202159881592,0.11015917360782623,0.11919786036014557,0.08390836417675018,0.11700033396482468,0.07818309217691422,0.08588234335184097,0.09174386411905289,0.06100469082593918,0.10082440078258514,0.06072990968823433,0.07159919291734695,0.05826956406235695,0.05609865114092827,0.10846464335918427,0.060809385031461716,0.09496098011732101,0.09080417454242706,0.08133693784475327,0.05793695151805878,0.04393578693270683,0.0692715048789978,0.08648388087749481,0.08718470484018326,0.04892057925462723,0.10836136341094971,0.08978990465402603,0.0779978334903717,0.03473060205578804,0.07906962186098099,0.1270398497581482,0.0864185243844986,0.09471933543682098,0.10469752550125122,0.06919463723897934,0.07257287204265594,0.8250822424888611,0.8250822424888611,0.7607373595237732,0.2812357246875763,0.21165797114372253,0.25233012437820435,0.3211803734302521,0.24892474710941315,0.33355066180229187,0.3626573979854584,0.7728383541107178,0.7878860235214233,0.360847532749176,0.1315540224313736,0.8256261944770813,0.2692788541316986,0.29296109080314636,0.7913196086883545,0.23305757343769073,0.7703838348388672,0.8250822424888611,0.8250822424888611,0.7607373595237732,0.2812357246875763,0.21165797114372253,0.25233012437820435,0.7226276993751526,0.24892474710941315,0.33355066180229187,0.7317719459533691,0.7866911888122559,0.23789116740226746,0.25845667719841003,0.7698174715042114,0.3498881459236145,0.8040627837181091,0.7491984367370605,0.7480093836784363,0.23164282739162445,0.7812272906303406,0.8250822424888611,0.8250822424888611,0.7607373595237732,0.2812357246875763,0.21165797114372253,0.25233012437820435,0.3211803734302521,0.24892474710941315,0.33355066180229187,0.3626573979854584,0.7728383541107178,0.7878860235214233,0.360847532749176,0.1315540224313736,0.8256261944770813,0.2692788541316986,0.29296109080314636,0.7913196086883545,0.23305757343769073,0.7703838348388672,0.8107330203056335,0.8107330203056335,0.7466334700584412,0.2774771451950073,0.20866210758686066,0.22650444507598877,0.31083428859710693,0.2349759340286255,0.31722864508628845,0.34727737307548523,0.7611675262451172,0.7671161890029907,0.36459970474243164,0.11936741322278976,0.7962107062339783,0.2720879018306732,0.28471213579177856,0.7939296364784241,0.21802030503749847,0.7457417249679565,0.24041245877742767,0.041567135602235794,0.0422319620847702,0.7908520698547363,0.25150391459465027,0.7330635190010071,0.7656363844871521,0.7710642218589783,0.23795108497142792,0.750906229019165,0.8250822424888611,0.8310930728912354,0.19964957237243652,0.2772170901298523,0.27216097712516785,0.27207109332084656,0.26151585578918457,0.3600432872772217,0.7433528304100037,0.05238260328769684,0.759656548500061,0.7444213628768921,0.7276983857154846,0.30440449714660645,0.19936195015907288,0.7299891710281372,0.7708549499511719,0.8085259795188904,0.7326306104660034,0.25125476717948914,0.3510783612728119,0.8250822424888611,0.8310930728912354,0.19964957237243652,0.2772170901298523,0.27216097712516785,0.27207109332084656,0.26151585578918457,0.3600432872772217,0.7433528304100037,0.05238260328769684,0.759656548500061,0.2753904461860657,0.7734768986701965,0.22366687655448914,0.7874682545661926,0.22884789109230042,0.7262547016143799,0.3359498083591461,0.24351952970027924,0.3428213894367218,0.26589179039001465,0.8250822424888611,0.2342948466539383,0.808055579662323,0.18247736990451813,0.28989458084106445,0.26403242349624634,0.261697381734848,0.2551359236240387,0.3372379243373871,0.739548921585083,0.05324355140328407,0.7491724491119385,0.24879279732704163,0.7839487195014954,0.21083661913871765,0.30417400598526,0.32029521465301514,0.7962783575057983,0.2718660533428192,0.19276843965053558,0.7915425896644592,0.7904725074768066,0.7388782501220703,0.23853297531604767,0.3201041519641876,0.356873482465744,0.3612070083618164,0.35446032881736755,0.35549256205558777,0.7631821632385254,0.3313639163970947,0.7611384987831116,0.7078326344490051,0.6725844144821167,0.30448824167251587,0.24621635675430298,0.2963985502719879,0.2275489866733551,0.2889418303966522,0.32048895955085754,0.7065511345863342,0.4256635308265686,0.27849555015563965,0.26702991127967834,0.24504272639751434,0.22888492047786713,0.24709831178188324,0.3130982518196106,0.6577352285385132,0.6728338003158569,0.29958248138427734,0.2576605975627899,0.2514727711677551,0.1559893637895584,0.25710076093673706,0.28645747900009155,0.262156218290329,0.3405085504055023,0.661853551864624,0.6754847168922424,0.7377645373344421,0.04087339714169502,0.04245693236589432,0.23835910856723785,0.7347373962402344,0.3999341130256653,0.7202857136726379,0.786216139793396,0.2606859505176544,0.03265305608510971,0.786216139793396,0.786216139793396,0.786216139793396,0.7202857136726379,0.786216139793396,0.786216139793396,0.7202857136726379,0.0714682787656784,0.06036004051566124,0.6731466054916382,0.32659438252449036,0.2606859505176544,0.6712194681167603,0.7979567050933838,0.7366565465927124,0.22365467250347137,0.7979567050933838,0.7202857136726379,0.6982299089431763,0.38998016715049744,0.786216139793396,0.786216139793396,0.6987316012382507,0.7366565465927124,0.7202857136726379,0.7595526576042175,0.7291998267173767,0.7846810817718506,0.2813796401023865,0.04920129477977753,0.7846810817718506,0.7846810817718506,0.7846810817718506,0.7291998267173767,0.7846810817718506,0.7846810817718506,0.7291998267173767,0.08845033496618271,0.07738024741411209,0.7036170363426208,0.32057589292526245,0.2813796401023865,0.6618070602416992,0.8158528208732605,0.7233178019523621,0.20843002200126648,0.7291998267173767,0.7707861661911011,0.04167565330862999,0.03937336057424545,0.15412093698978424,0.7291998267173767,0.8158528208732605,0.7846810817718506,0.797097384929657,0.7299939393997192,0.7291998267173767,0.7504631876945496,0.7864134311676025,0.7291998267173767,0.022086508572101593,0.7707861661911011,0.7544083595275879,0.7184504866600037,0.7501962184906006,0.7029069066047668,0.25246623158454895,0.7501962184906006,0.7291998267173767,0.7544083595275879,0.7291998267173767,0.25246623158454895,0.2613986134529114,0.7846810817718506,0.7291998267173767,0.7846810817718506,0.6987423300743103,0.15412093698978424,0.6987423300743103,0.7846810817718506,0.6987423300743103,0.7846810817718506,0.6987423300743103,0.7420211434364319,0.20843002200126648,0.7846810817718506,0.19625522196292877,0.6617863178253174,0.18994560837745667,0.7846810817718506,0.19625522196292877,0.03361493721604347,0.6623056530952454,0.17265687882900238,0.18994560837745667,0.7846810817718506,0.7351284027099609,0.77458655834198,0.2854362428188324,0.05807904154062271,0.77458655834198,0.77458655834198,0.77458655834198,0.7351284027099609,0.77458655834198,0.77458655834198,0.7086343169212341,0.7598780393600464,0.2549130320549011,0.05408428609371185,0.7598780393600464,0.7598780393600464,0.7598780393600464,0.7086343169212341,0.7598780393600464,0.7598780393600464,0.7086343169212341,0.08315003663301468,0.07150997966527939,0.6461812853813171,0.31371739506721497,0.2549130320549011,0.6357988119125366,0.7662287354469299,0.5603698492050171,0.1922328770160675,0.622866690158844,0.35781005024909973,0.7086343169212341,0.7577467560768127,0.0774562880396843,0.7542800903320312,0.7304567098617554,0.7086343169212341,0.7329941987991333,0.6996695399284363,0.48086369037628174,0.7581759095191956,0.7598780393600464,0.7086343169212341,0.7885459065437317,0.1622544676065445,0.7086343169212341,0.17547552287578583,0.3186151087284088,0.7879587411880493,0.7086343169212341,0.6947885751724243,0.6947885751724243,0.03466834872961044,0.7598780393600464,0.7598780393600464,0.5023190975189209,0.7562021613121033,0.7086343169212341,0.6021262407302856,0.7202857136726379,0.7291998267173767,0.02686394564807415,0.7351284027099609,0.5882506370544434,0.7951445579528809,0.029272370040416718,0.7588931918144226,0.7339097857475281,0.7857972383499146,0.6854700446128845,0.7823705673217773,0.5687703490257263,0.7813311815261841,0.7748578786849976,0.706038236618042,0.7813311815261841,0.7760492563247681,0.7086343169212341,0.05574658513069153,0.08328769356012344,0.15550780296325684,0.13027651607990265,0.0781976506114006,0.21884669363498688,0.31828534603118896,0.14296597242355347,0.13931912183761597,0.3321489989757538,0.07834966480731964,0.21778780221939087,0.07530945539474487,0.11619317531585693,0.07622773200273514,0.21864435076713562,0.718109130859375,0.7595964074134827,0.6803897619247437,0.7482568621635437,0.5130845308303833,0.7479025721549988,0.7598391175270081,0.7101263999938965,0.7479025721549988,0.7304778695106506,0.08266951143741608,0.6741288900375366,0.7181140184402466,0.10387380421161652,0.06180311366915703,0.7246829867362976,0.4951283633708954,0.7808297276496887,0.7522537112236023,0.02406369522213936,0.3669966459274292,0.26603424549102783,0.06631213426589966,0.6783203482627869,0.6853759288787842,0.6814819574356079,0.7168852686882019,0.6802864074707031,0.6861205101013184,0.219404399394989,0.24562467634677887,0.7302301526069641,0.6665621995925903,0.7031926512718201,0.22278030216693878,0.5945754647254944,0.6919798254966736,0.6789085268974304,0.3029440641403198,0.4293754994869232,0.2679646611213684,0.10758907347917557,0.6813780665397644,0.7049329280853271,0.7039870023727417,0.7479292750358582,0.6876551508903503,0.7154033184051514,0.22662897408008575,0.21702246367931366,0.7176132798194885,0.6355322003364563,0.7187455296516418,0.23059087991714478,0.6522856950759888,0.7181528806686401,0.6769277453422546,0.3466528058052063,0.6203926801681519,0.6576748490333557,0.7230613231658936,0.4564563035964966,0.42921972274780273,0.7432857155799866,0.04813941568136215,0.7479062080383301,0.6203926801681519,0.18465791642665863,0.6204401850700378,0.6391952633857727,0.48232999444007874,0.7252193093299866,0.6783443093299866,0.7045649290084839,0.7475497126579285,0.7334393858909607,0.7189812660217285,0.49487659335136414,0.26586824655532837,0.10212617367506027,0.7112301588058472,0.7143347859382629,0.7075303196907043,0.7394891381263733,0.7158715128898621,0.7339169979095459,0.22469830513000488,0.3277774155139923,0.7117727398872375,0.48867106437683105,0.759507954120636,0.22713983058929443,0.6401825547218323,0.7204878926277161,0.6656750440597534,0.3705289661884308,0.35110288858413696,0.208513081073761,0.0934036523103714,0.7023680806159973,0.7287958264350891,0.7206532955169678,0.7330889105796814,0.69797682762146,0.676429271697998,0.6806740760803223,0.5981312990188599,0.07513581216335297,0.00020565552404150367,0.00020565552404150367,0.00020565552404150367,0.00020565552404150367,0.00020565552404150367,0.00020565552404150367,0.00020565552404150367,0.64613276720047,0.4633100628852844,0.08567116409540176,0.00020565552404150367,0.00020565552404150367,0.00020565552404150367,0.00020565552404150367,0.00020565552404150367,0.00020565552404150367,0.00020565552404150367,0.6806740760803223,0.6089271306991577,0.08444438129663467,0.00020565552404150367,0.00020565552404150367,0.00020565552404150367,0.00020565552404150367,0.00020565552404150367,0.00020565552404150367,0.00020565552404150367,0.00020565552404150367,0.00020565552404150367,0.00020565552404150367,0.00020565552404150367,0.00020565552404150367,0.00020565552404150367,0.1238214373588562,0.00020565552404150367,0.00020565552404150367,0.00020565552404150367,0.6806740760803223,0.6813008785247803,0.00020565552404150367,0.0018015984678640962,0.00020565552404150367,0.00020565552404150367,0.00020565552404150367,0.00020565552404150367,0.00020565552404150367,0.00020565552404150367,0.00020565552404150367,0.6806740760803223,0.00020565552404150367,0.6813008785247803,0.00020565552404150367,0.0018015984678640962,0.00020565552404150367,0.00020565552404150367,0.00020565552404150367,0.00020565552404150367,0.00020565552404150367,0.00020565552404150367,0.00020565552404150367,0.668195903301239,0.00020565552404150367,0.0019162936368957162,0.00020565552404150367,0.00020565552404150367,0.00020565552404150367,0.00020565552404150367,0.00020565552404150367,0.00020565552404150367,0.00020565552404150367,0.00020565552404150367,0.01412359531968832,0.00020565552404150367,0.00020565552404150367,0.00020565552404150367,0.12284170836210251,0.10719193518161774,0.00020565552404150367,0.00020565552404150367,0.00020565552404150367,0.6060107946395874,0.00020565552404150367,0.00020565552404150367,0.00020565552404150367,0.00020565552404150367,0.00020565552404150367,0.00020565552404150367,0.005537849850952625,0.00020565552404150367,0.604608952999115,0.00020565552404150367,0.00020565552404150367,0.00020565552404150367,0.00020565552404150367,0.00020565552404150367,0.00020565552404150367,0.004613119643181562,0.00020565552404150367],\"x\":[\"LogisticRegression\",\"LogisticRegression\",\"LogisticRegression\",\"LogisticRegression\",\"LogisticRegression\",\"LogisticRegression\",\"LogisticRegression\",\"LogisticRegression\",\"LogisticRegression\",\"LogisticRegression\",\"LogisticRegression\",\"LogisticRegression\",\"LogisticRegression\",\"LogisticRegression\",\"LogisticRegression\",\"LogisticRegression\",\"LogisticRegression\",\"LogisticRegression\",\"LogisticRegression\",\"LogisticRegression\",\"LogisticRegression\",\"LogisticRegression\",\"LogisticRegression\",\"LogisticRegression\",\"LogisticRegression\",\"LogisticRegression\",\"LogisticRegression\",\"LogisticRegression\",\"LogisticRegression\",\"LogisticRegression\",\"LogisticRegression\",\"LogisticRegression\",\"LogisticRegression\",\"LogisticRegression\",\"LogisticRegression\",\"LogisticRegression\",\"LogisticRegression\",\"LogisticRegression\",\"LogisticRegression\",\"LogisticRegression\",\"LogisticRegression\",\"LogisticRegression\",\"LogisticRegression\",\"LogisticRegression\",\"LogisticRegression\",\"LogisticRegression\",\"LogisticRegression\",\"LogisticRegression\",\"LogisticRegression\",\"LogisticRegression\",\"LogisticRegression\",\"LogisticRegression\",\"LogisticRegression\",\"LogisticRegression\",\"LogisticRegression\",\"LogisticRegression\",\"LogisticRegression\",\"LogisticRegression\",\"LogisticRegression\",\"LogisticRegression\",\"LogisticRegression\",\"LogisticRegression\",\"LogisticRegression\",\"LogisticRegression\",\"LogisticRegression\",\"LogisticRegression\",\"LogisticRegression\",\"LogisticRegression\",\"LogisticRegression\",\"LogisticRegression\",\"LogisticRegression\",\"LogisticRegression\",\"LogisticRegression\",\"LogisticRegression\",\"LogisticRegression\",\"LogisticRegression\",\"LogisticRegression\",\"LogisticRegression\",\"LogisticRegression\",\"LogisticRegression\",\"LogisticRegression\",\"LogisticRegression\",\"LogisticRegression\",\"LogisticRegression\",\"LogisticRegression\",\"LogisticRegression\",\"LogisticRegression\",\"LogisticRegression\",\"LogisticRegression\",\"LogisticRegression\",\"LogisticRegression\",\"LogisticRegression\",\"LogisticRegression\",\"LogisticRegression\",\"LogisticRegression\",\"LogisticRegression\",\"LogisticRegression\",\"LogisticRegression\",\"LogisticRegression\",\"LogisticRegression\",\"LogisticRegression\",\"LogisticRegression\",\"LogisticRegression\",\"LogisticRegression\",\"LogisticRegression\",\"LogisticRegression\",\"LogisticRegression\",\"LogisticRegression\",\"LogisticRegression\",\"LogisticRegression\",\"LogisticRegression\",\"LogisticRegression\",\"LogisticRegression\",\"LogisticRegression\",\"LogisticRegression\",\"LogisticRegression\",\"LogisticRegression\",\"LogisticRegression\",\"LogisticRegression\",\"LogisticRegression\",\"LogisticRegression\",\"LogisticRegression\",\"LogisticRegression\",\"LogisticRegression\",\"LogisticRegression\",\"LogisticRegression\",\"LogisticRegression\",\"LogisticRegression\",\"LogisticRegression\",\"LogisticRegression\",\"LogisticRegression\",\"LogisticRegression\",\"LogisticRegression\",\"LogisticRegression\",\"LogisticRegression\",\"LogisticRegression\",\"LogisticRegression\",\"LogisticRegression\",\"LogisticRegression\",\"LogisticRegression\",\"LogisticRegression\",\"LogisticRegression\",\"LogisticRegression\",\"LogisticRegression\",\"LogisticRegression\",\"LogisticRegression\",\"LogisticRegression\",\"LogisticRegression\",\"LogisticRegression\",\"LogisticRegression\",\"LogisticRegression\",\"LogisticRegression\",\"LogisticRegression\",\"LogisticRegression\",\"LogisticRegression\",\"LogisticRegression\",\"LogisticRegression\",\"LogisticRegression\",\"LogisticRegression\",\"LogisticRegression\",\"LogisticRegression\",\"LogisticRegression\",\"LogisticRegression\",\"LogisticRegression\",\"LogisticRegression\",\"LogisticRegression\",\"LogisticRegression\",\"LogisticRegression\",\"LogisticRegression\",\"LogisticRegression\",\"LogisticRegression\",\"LogisticRegression\",\"LogisticRegression\",\"LogisticRegression\",\"LogisticRegression\",\"LogisticRegression\",\"LogisticRegression\",\"LogisticRegression\",\"LogisticRegression\",\"LogisticRegression\",\"LogisticRegression\",\"LogisticRegression\",\"LogisticRegression\",\"LogisticRegression\",\"LogisticRegression\",\"LogisticRegression\",\"LogisticRegression\",\"LogisticRegression\",\"LogisticRegression\",\"LogisticRegression\",\"LogisticRegression\",\"LogisticRegression\",\"LogisticRegression\",\"LogisticRegression\",\"LogisticRegression\",\"LogisticRegression\",\"LogisticRegression\",\"LogisticRegression\",\"LogisticRegression\",\"LogisticRegression\",\"LogisticRegression\",\"LogisticRegression\",\"LogisticRegression\",\"LogisticRegression\",\"LogisticRegression\",\"LogisticRegression\",\"LogisticRegression\",\"LogisticRegression\",\"LogisticRegression\",\"LogisticRegression\",\"LogisticRegression\",\"LogisticRegression\",\"LogisticRegression\",\"LogisticRegression\",\"LogisticRegression\",\"LogisticRegression\",\"LogisticRegression\",\"LogisticRegression\",\"LogisticRegression\",\"LogisticRegression\",\"LogisticRegression\",\"LogisticRegression\",\"LogisticRegression\",\"LogisticRegression\",\"LogisticRegression\",\"LogisticRegression\",\"LogisticRegression\",\"LogisticRegression\",\"LogisticRegression\",\"LogisticRegression\",\"LogisticRegression\",\"LogisticRegression\",\"LogisticRegression\",\"LogisticRegression\",\"LogisticRegression\",\"LogisticRegression\",\"LogisticRegression\",\"LogisticRegression\",\"LogisticRegression\",\"LogisticRegression\",\"LogisticRegression\",\"LogisticRegression\",\"LogisticRegression\",\"LogisticRegression\",\"LogisticRegression\",\"LogisticRegression\",\"LogisticRegression\",\"LogisticRegression\",\"LogisticRegression\",\"LogisticRegression\",\"LogisticRegression\",\"LogisticRegression\",\"LogisticRegression\",\"LogisticRegression\",\"LogisticRegression\",\"LogisticRegression\",\"LogisticRegression\",\"LogisticRegression\",\"LogisticRegression\",\"LogisticRegression\",\"LogisticRegression\",\"LogisticRegression\",\"LogisticRegression\",\"LogisticRegression\",\"LogisticRegression\",\"LogisticRegression\",\"LogisticRegression\",\"LogisticRegression\",\"LogisticRegression\",\"LogisticRegression\",\"LogisticRegression\",\"LogisticRegression\",\"LogisticRegression\",\"LogisticRegression\",\"SGDClassifier\",\"SGDClassifier\",\"SGDClassifier\",\"SGDClassifier\",\"SGDClassifier\",\"SGDClassifier\",\"SGDClassifier\",\"SGDClassifier\",\"SGDClassifier\",\"SGDClassifier\",\"SGDClassifier\",\"SGDClassifier\",\"SGDClassifier\",\"SGDClassifier\",\"SGDClassifier\",\"SGDClassifier\",\"SGDClassifier\",\"SGDClassifier\",\"SGDClassifier\",\"SGDClassifier\",\"SGDClassifier\",\"SGDClassifier\",\"SGDClassifier\",\"SGDClassifier\",\"SGDClassifier\",\"SGDClassifier\",\"SGDClassifier\",\"SGDClassifier\",\"SGDClassifier\",\"SGDClassifier\",\"SGDClassifier\",\"SGDClassifier\",\"SGDClassifier\",\"SGDClassifier\",\"SGDClassifier\",\"SGDClassifier\",\"SGDClassifier\",\"SGDClassifier\",\"SGDClassifier\",\"SGDClassifier\",\"SGDClassifier\",\"SGDClassifier\",\"SGDClassifier\",\"SGDClassifier\",\"SGDClassifier\",\"SGDClassifier\",\"SGDClassifier\",\"SGDClassifier\",\"SGDClassifier\",\"SGDClassifier\",\"SGDClassifier\",\"SGDClassifier\",\"SGDClassifier\",\"SGDClassifier\",\"SGDClassifier\",\"SGDClassifier\",\"SGDClassifier\",\"SGDClassifier\",\"SGDClassifier\",\"SGDClassifier\",\"SGDClassifier\",\"SGDClassifier\",\"SGDClassifier\",\"SGDClassifier\",\"SGDClassifier\",\"SGDClassifier\",\"SGDClassifier\",\"SGDClassifier\",\"SGDClassifier\",\"SGDClassifier\",\"SGDClassifier\",\"SGDClassifier\",\"SGDClassifier\",\"SGDClassifier\",\"SGDClassifier\",\"SGDClassifier\",\"SGDClassifier\",\"SGDClassifier\",\"SGDClassifier\",\"SGDClassifier\",\"SGDClassifier\",\"SGDClassifier\",\"SGDClassifier\",\"SGDClassifier\",\"SGDClassifier\",\"SGDClassifier\",\"SGDClassifier\",\"SGDClassifier\",\"SGDClassifier\",\"SGDClassifier\",\"SGDClassifier\",\"SGDClassifier\",\"SGDClassifier\",\"SGDClassifier\",\"SGDClassifier\",\"SGDClassifier\",\"SGDClassifier\",\"SGDClassifier\",\"SGDClassifier\",\"SGDClassifier\",\"SGDClassifier\",\"SGDClassifier\",\"SGDClassifier\",\"SGDClassifier\",\"SGDClassifier\",\"SGDClassifier\",\"SGDClassifier\",\"SGDClassifier\",\"SGDClassifier\",\"SGDClassifier\",\"SGDClassifier\",\"SGDClassifier\",\"SGDClassifier\",\"SGDClassifier\",\"SGDClassifier\",\"SGDClassifier\",\"SGDClassifier\",\"SGDClassifier\",\"SGDClassifier\",\"SGDClassifier\",\"SGDClassifier\",\"SGDClassifier\",\"SGDClassifier\",\"SGDClassifier\",\"SGDClassifier\",\"SGDClassifier\",\"SGDClassifier\",\"SGDClassifier\",\"SGDClassifier\",\"SGDClassifier\",\"SGDClassifier\",\"SGDClassifier\",\"SGDClassifier\",\"SGDClassifier\",\"SGDClassifier\",\"SGDClassifier\",\"SGDClassifier\",\"SGDClassifier\",\"SGDClassifier\",\"SGDClassifier\",\"SGDClassifier\",\"SGDClassifier\",\"SGDClassifier\",\"SGDClassifier\",\"SGDClassifier\",\"SGDClassifier\",\"SGDClassifier\",\"SGDClassifier\",\"SGDClassifier\",\"SGDClassifier\",\"SGDClassifier\",\"SGDClassifier\",\"SGDClassifier\",\"SGDClassifier\",\"SGDClassifier\",\"SGDClassifier\",\"SGDClassifier\",\"SGDClassifier\",\"SGDClassifier\",\"SGDClassifier\",\"SGDClassifier\",\"SGDClassifier\",\"SGDClassifier\",\"SGDClassifier\",\"SGDClassifier\",\"SGDClassifier\",\"SGDClassifier\",\"SGDClassifier\",\"SGDClassifier\",\"SGDClassifier\",\"SGDClassifier\",\"SGDClassifier\",\"SGDClassifier\",\"SGDClassifier\",\"SGDClassifier\",\"SGDClassifier\",\"SGDClassifier\",\"SGDClassifier\",\"SGDClassifier\",\"SGDClassifier\",\"SGDClassifier\",\"SGDClassifier\",\"SGDClassifier\",\"SGDClassifier\",\"SGDClassifier\",\"SGDClassifier\",\"SGDClassifier\",\"SGDClassifier\",\"SGDClassifier\",\"SGDClassifier\",\"SGDClassifier\",\"SGDClassifier\",\"SGDClassifier\",\"SGDClassifier\",\"SGDClassifier\",\"SGDClassifier\",\"SGDClassifier\",\"SGDClassifier\",\"SGDClassifier\",\"SGDClassifier\",\"SGDClassifier\",\"SGDClassifier\",\"SGDClassifier\",\"SGDClassifier\",\"SGDClassifier\",\"SGDClassifier\",\"SGDClassifier\",\"SGDClassifier\",\"SGDClassifier\",\"SGDClassifier\",\"SGDClassifier\",\"SGDClassifier\",\"SGDClassifier\",\"SGDClassifier\",\"SGDClassifier\",\"SGDClassifier\",\"SGDClassifier\",\"SGDClassifier\",\"SGDClassifier\",\"SGDClassifier\",\"SGDClassifier\",\"SGDClassifier\",\"SGDClassifier\",\"RandomForestClassifier\",\"RandomForestClassifier\",\"RandomForestClassifier\",\"RandomForestClassifier\",\"RandomForestClassifier\",\"RandomForestClassifier\",\"RandomForestClassifier\",\"RandomForestClassifier\",\"RandomForestClassifier\",\"RandomForestClassifier\",\"RandomForestClassifier\",\"RandomForestClassifier\",\"RandomForestClassifier\",\"RandomForestClassifier\",\"RandomForestClassifier\",\"RandomForestClassifier\",\"RandomForestClassifier\",\"RandomForestClassifier\",\"RandomForestClassifier\",\"RandomForestClassifier\",\"RandomForestClassifier\",\"RandomForestClassifier\",\"RandomForestClassifier\",\"RandomForestClassifier\",\"RandomForestClassifier\",\"RandomForestClassifier\",\"RandomForestClassifier\",\"RandomForestClassifier\",\"RandomForestClassifier\",\"RandomForestClassifier\",\"RandomForestClassifier\",\"RandomForestClassifier\",\"RandomForestClassifier\",\"RandomForestClassifier\",\"RandomForestClassifier\",\"RandomForestClassifier\",\"RandomForestClassifier\",\"RandomForestClassifier\",\"RandomForestClassifier\",\"RandomForestClassifier\",\"RandomForestClassifier\",\"RandomForestClassifier\",\"RandomForestClassifier\",\"RandomForestClassifier\",\"RandomForestClassifier\",\"RandomForestClassifier\",\"RandomForestClassifier\",\"RandomForestClassifier\",\"RandomForestClassifier\",\"RandomForestClassifier\",\"RandomForestClassifier\",\"RandomForestClassifier\",\"RandomForestClassifier\",\"RandomForestClassifier\",\"RandomForestClassifier\",\"RandomForestClassifier\",\"RandomForestClassifier\",\"RandomForestClassifier\",\"RandomForestClassifier\",\"RandomForestClassifier\",\"RandomForestClassifier\",\"RandomForestClassifier\",\"RandomForestClassifier\",\"RandomForestClassifier\",\"RandomForestClassifier\",\"RandomForestClassifier\",\"RandomForestClassifier\",\"RandomForestClassifier\",\"RandomForestClassifier\",\"RandomForestClassifier\",\"RandomForestClassifier\",\"RandomForestClassifier\",\"RandomForestClassifier\",\"RandomForestClassifier\",\"RandomForestClassifier\",\"RandomForestClassifier\",\"RandomForestClassifier\",\"RandomForestClassifier\",\"RandomForestClassifier\",\"RandomForestClassifier\",\"RandomForestClassifier\",\"RandomForestClassifier\",\"RandomForestClassifier\",\"RandomForestClassifier\",\"RandomForestClassifier\",\"RandomForestClassifier\",\"RandomForestClassifier\",\"RandomForestClassifier\",\"RandomForestClassifier\",\"RandomForestClassifier\",\"RandomForestClassifier\",\"RandomForestClassifier\",\"RandomForestClassifier\",\"RandomForestClassifier\",\"RandomForestClassifier\",\"RandomForestClassifier\",\"RandomForestClassifier\",\"RandomForestClassifier\",\"RandomForestClassifier\",\"RandomForestClassifier\",\"RandomForestClassifier\",\"RandomForestClassifier\",\"RandomForestClassifier\",\"RandomForestClassifier\",\"RandomForestClassifier\",\"RandomForestClassifier\",\"RandomForestClassifier\",\"RandomForestClassifier\",\"RandomForestClassifier\",\"RandomForestClassifier\",\"RandomForestClassifier\",\"RandomForestClassifier\",\"RandomForestClassifier\",\"RandomForestClassifier\",\"RandomForestClassifier\",\"RandomForestClassifier\",\"RandomForestClassifier\",\"RandomForestClassifier\",\"RandomForestClassifier\",\"RandomForestClassifier\",\"RandomForestClassifier\",\"RandomForestClassifier\",\"RandomForestClassifier\",\"RandomForestClassifier\",\"RandomForestClassifier\",\"RandomForestClassifier\",\"RandomForestClassifier\",\"RandomForestClassifier\",\"RandomForestClassifier\",\"RandomForestClassifier\",\"RandomForestClassifier\",\"RandomForestClassifier\",\"RandomForestClassifier\",\"RandomForestClassifier\",\"RandomForestClassifier\",\"RandomForestClassifier\",\"RandomForestClassifier\",\"RandomForestClassifier\",\"RandomForestClassifier\",\"RandomForestClassifier\",\"RandomForestClassifier\",\"RandomForestClassifier\",\"RandomForestClassifier\",\"RandomForestClassifier\",\"RandomForestClassifier\",\"RandomForestClassifier\",\"RandomForestClassifier\",\"RandomForestClassifier\",\"RandomForestClassifier\",\"RandomForestClassifier\",\"RandomForestClassifier\",\"RandomForestClassifier\",\"RandomForestClassifier\",\"RandomForestClassifier\",\"RandomForestClassifier\",\"RandomForestClassifier\",\"RandomForestClassifier\",\"RandomForestClassifier\",\"RandomForestClassifier\",\"RandomForestClassifier\",\"RandomForestClassifier\",\"RandomForestClassifier\",\"RandomForestClassifier\",\"RandomForestClassifier\",\"RandomForestClassifier\",\"RandomForestClassifier\",\"RandomForestClassifier\",\"RandomForestClassifier\",\"RandomForestClassifier\",\"RandomForestClassifier\",\"RandomForestClassifier\",\"RandomForestClassifier\",\"RandomForestClassifier\",\"RandomForestClassifier\",\"RandomForestClassifier\",\"RandomForestClassifier\",\"RandomForestClassifier\",\"RandomForestClassifier\",\"RandomForestClassifier\",\"RandomForestClassifier\",\"RandomForestClassifier\",\"RandomForestClassifier\",\"GaussianNB\",\"GaussianNB\",\"GaussianNB\",\"GaussianNB\",\"GaussianNB\",\"GaussianNB\",\"GaussianNB\",\"GaussianNB\",\"GaussianNB\",\"GaussianNB\",\"GaussianNB\",\"GaussianNB\",\"GaussianNB\",\"GaussianNB\",\"GaussianNB\",\"GaussianNB\",\"GaussianNB\",\"GaussianNB\",\"GaussianNB\",\"GaussianNB\",\"GaussianNB\",\"GaussianNB\",\"GaussianNB\",\"GaussianNB\",\"GaussianNB\",\"GaussianNB\",\"GaussianNB\",\"GaussianNB\",\"GaussianNB\",\"GaussianNB\",\"GaussianNB\",\"GaussianNB\",\"GaussianNB\",\"GaussianNB\",\"GaussianNB\",\"GaussianNB\",\"GaussianNB\",\"GaussianNB\",\"GaussianNB\",\"GaussianNB\",\"GaussianNB\",\"GaussianNB\",\"GaussianNB\",\"GaussianNB\",\"GaussianNB\",\"GaussianNB\",\"GaussianNB\",\"GaussianNB\",\"GaussianNB\",\"GaussianNB\",\"GaussianNB\",\"GaussianNB\",\"GaussianNB\",\"GaussianNB\",\"GaussianNB\",\"GaussianNB\",\"GaussianNB\",\"GaussianNB\",\"GaussianNB\",\"GaussianNB\",\"GaussianNB\",\"GaussianNB\",\"GaussianNB\",\"GaussianNB\",\"GaussianNB\",\"GaussianNB\",\"GaussianNB\",\"GaussianNB\",\"GaussianNB\",\"GaussianNB\",\"GaussianNB\",\"GaussianNB\",\"GaussianNB\",\"GaussianNB\",\"GaussianNB\",\"GaussianNB\",\"GaussianNB\",\"GaussianNB\",\"GaussianNB\",\"GaussianNB\",\"GaussianNB\",\"GaussianNB\",\"GaussianNB\",\"GaussianNB\",\"GaussianNB\",\"GaussianNB\",\"GaussianNB\",\"GaussianNB\",\"GaussianNB\",\"GaussianNB\",\"GaussianNB\",\"GaussianNB\",\"GaussianNB\",\"GaussianNB\",\"GaussianNB\",\"GaussianNB\",\"GaussianNB\",\"GaussianNB\",\"GaussianNB\",\"GaussianNB\",\"GaussianNB\",\"GaussianNB\",\"GaussianNB\",\"GaussianNB\",\"GaussianNB\",\"GaussianNB\",\"GaussianNB\",\"GaussianNB\",\"GaussianNB\",\"GaussianNB\",\"GaussianNB\",\"GaussianNB\",\"GaussianNB\",\"GaussianNB\",\"GaussianNB\",\"GaussianNB\",\"GaussianNB\",\"GaussianNB\",\"GaussianNB\",\"GaussianNB\",\"GaussianNB\",\"GaussianNB\",\"GaussianNB\",\"GaussianNB\",\"GaussianNB\",\"GaussianNB\",\"GaussianNB\",\"GaussianNB\",\"GaussianNB\",\"GaussianNB\",\"GaussianNB\",\"GaussianNB\",\"GaussianNB\",\"GaussianNB\",\"GaussianNB\",\"GaussianNB\",\"GaussianNB\",\"GaussianNB\",\"GaussianNB\",\"GaussianNB\",\"GaussianNB\",\"GaussianNB\",\"GaussianNB\",\"GaussianNB\",\"GaussianNB\",\"GaussianNB\",\"GaussianNB\",\"GaussianNB\",\"GaussianNB\",\"GaussianNB\",\"GaussianNB\",\"GaussianNB\",\"GaussianNB\",\"GaussianNB\",\"GaussianNB\",\"GaussianNB\",\"GaussianNB\",\"GaussianNB\",\"GaussianNB\",\"GaussianNB\",\"GaussianNB\",\"GaussianNB\",\"GaussianNB\",\"GaussianNB\",\"GaussianNB\",\"GaussianNB\",\"GaussianNB\",\"GaussianNB\",\"GaussianNB\",\"GaussianNB\",\"GaussianNB\",\"GaussianNB\",\"GaussianNB\",\"GaussianNB\",\"GaussianNB\",\"GaussianNB\",\"GaussianNB\",\"GaussianNB\",\"GaussianNB\",\"GaussianNB\",\"GaussianNB\",\"GaussianNB\",\"GaussianNB\",\"GaussianNB\",\"GaussianNB\",\"GaussianNB\",\"GaussianNB\",\"GaussianNB\",\"GaussianNB\",\"GaussianNB\",\"GaussianNB\",\"GaussianNB\",\"GaussianNB\",\"GaussianNB\",\"GaussianNB\",\"GaussianNB\",\"GaussianNB\",\"GaussianNB\",\"GaussianNB\",\"GaussianNB\",\"GaussianNB\",\"GaussianNB\",\"GaussianNB\",\"GaussianNB\",\"GaussianNB\",\"GaussianNB\",\"GaussianNB\",\"BaggingClassifier\",\"BaggingClassifier\",\"BaggingClassifier\",\"BaggingClassifier\",\"BaggingClassifier\",\"BaggingClassifier\",\"BaggingClassifier\",\"BaggingClassifier\",\"BaggingClassifier\",\"BaggingClassifier\",\"BaggingClassifier\",\"BaggingClassifier\",\"BaggingClassifier\",\"BaggingClassifier\",\"BaggingClassifier\",\"BaggingClassifier\",\"BaggingClassifier\",\"BaggingClassifier\",\"BaggingClassifier\",\"BaggingClassifier\",\"BaggingClassifier\",\"BaggingClassifier\",\"BaggingClassifier\",\"BaggingClassifier\",\"BaggingClassifier\",\"BaggingClassifier\",\"BaggingClassifier\",\"BaggingClassifier\",\"BaggingClassifier\",\"BaggingClassifier\",\"BaggingClassifier\",\"BaggingClassifier\",\"BaggingClassifier\",\"BaggingClassifier\",\"BaggingClassifier\",\"BaggingClassifier\",\"BaggingClassifier\",\"BaggingClassifier\",\"BaggingClassifier\",\"BaggingClassifier\",\"BaggingClassifier\",\"BaggingClassifier\",\"BaggingClassifier\",\"BaggingClassifier\",\"BaggingClassifier\",\"BaggingClassifier\",\"BaggingClassifier\",\"BaggingClassifier\",\"BaggingClassifier\",\"BaggingClassifier\",\"BaggingClassifier\",\"BaggingClassifier\",\"BaggingClassifier\",\"BaggingClassifier\",\"BaggingClassifier\",\"BaggingClassifier\",\"BaggingClassifier\",\"BaggingClassifier\",\"BaggingClassifier\",\"BaggingClassifier\",\"BaggingClassifier\",\"BaggingClassifier\",\"BaggingClassifier\",\"BaggingClassifier\",\"BaggingClassifier\",\"BaggingClassifier\",\"BaggingClassifier\",\"BaggingClassifier\",\"BaggingClassifier\",\"BaggingClassifier\",\"BaggingClassifier\",\"BaggingClassifier\",\"BaggingClassifier\",\"BaggingClassifier\",\"BaggingClassifier\",\"BaggingClassifier\",\"BaggingClassifier\",\"BaggingClassifier\",\"BaggingClassifier\",\"BaggingClassifier\",\"BaggingClassifier\",\"BaggingClassifier\",\"BaggingClassifier\",\"BaggingClassifier\",\"BaggingClassifier\",\"BaggingClassifier\",\"BaggingClassifier\",\"BaggingClassifier\",\"BaggingClassifier\",\"BaggingClassifier\",\"BaggingClassifier\",\"BaggingClassifier\",\"BaggingClassifier\",\"BaggingClassifier\",\"BaggingClassifier\",\"BaggingClassifier\",\"BaggingClassifier\",\"BaggingClassifier\",\"BaggingClassifier\",\"BaggingClassifier\",\"BaggingClassifier\",\"BaggingClassifier\",\"BaggingClassifier\",\"BaggingClassifier\",\"BaggingClassifier\",\"BaggingClassifier\",\"BaggingClassifier\",\"BaggingClassifier\",\"BaggingClassifier\",\"BaggingClassifier\",\"BaggingClassifier\",\"BaggingClassifier\",\"BaggingClassifier\",\"BaggingClassifier\",\"BaggingClassifier\",\"BaggingClassifier\",\"BaggingClassifier\",\"BaggingClassifier\",\"BaggingClassifier\",\"BaggingClassifier\",\"BaggingClassifier\",\"BaggingClassifier\",\"BaggingClassifier\",\"BaggingClassifier\",\"BaggingClassifier\",\"BaggingClassifier\",\"BaggingClassifier\",\"BaggingClassifier\",\"BaggingClassifier\",\"BaggingClassifier\",\"BaggingClassifier\",\"BaggingClassifier\",\"BaggingClassifier\",\"BaggingClassifier\",\"BaggingClassifier\",\"BaggingClassifier\",\"BaggingClassifier\",\"BaggingClassifier\",\"BaggingClassifier\",\"ExtraTreesClassifier\",\"ExtraTreesClassifier\",\"ExtraTreesClassifier\",\"ExtraTreesClassifier\",\"ExtraTreesClassifier\",\"ExtraTreesClassifier\",\"ExtraTreesClassifier\",\"ExtraTreesClassifier\",\"ExtraTreesClassifier\",\"ExtraTreesClassifier\",\"ExtraTreesClassifier\",\"ExtraTreesClassifier\",\"ExtraTreesClassifier\",\"ExtraTreesClassifier\",\"ExtraTreesClassifier\",\"ExtraTreesClassifier\",\"ExtraTreesClassifier\",\"ExtraTreesClassifier\",\"ExtraTreesClassifier\",\"ExtraTreesClassifier\",\"ExtraTreesClassifier\",\"ExtraTreesClassifier\",\"ExtraTreesClassifier\",\"ExtraTreesClassifier\",\"ExtraTreesClassifier\",\"ExtraTreesClassifier\",\"ExtraTreesClassifier\",\"ExtraTreesClassifier\",\"ExtraTreesClassifier\",\"ExtraTreesClassifier\",\"ExtraTreesClassifier\",\"ExtraTreesClassifier\",\"ExtraTreesClassifier\",\"ExtraTreesClassifier\",\"ExtraTreesClassifier\",\"ExtraTreesClassifier\",\"ExtraTreesClassifier\",\"ExtraTreesClassifier\",\"ExtraTreesClassifier\",\"ExtraTreesClassifier\",\"ExtraTreesClassifier\",\"ExtraTreesClassifier\",\"ExtraTreesClassifier\",\"ExtraTreesClassifier\",\"ExtraTreesClassifier\",\"ExtraTreesClassifier\",\"ExtraTreesClassifier\",\"ExtraTreesClassifier\",\"ExtraTreesClassifier\",\"ExtraTreesClassifier\",\"ExtraTreesClassifier\",\"ExtraTreesClassifier\",\"ExtraTreesClassifier\",\"ExtraTreesClassifier\",\"ExtraTreesClassifier\",\"ExtraTreesClassifier\",\"ExtraTreesClassifier\",\"ExtraTreesClassifier\",\"ExtraTreesClassifier\",\"ExtraTreesClassifier\",\"ExtraTreesClassifier\",\"ExtraTreesClassifier\",\"ExtraTreesClassifier\",\"ExtraTreesClassifier\",\"ExtraTreesClassifier\",\"ExtraTreesClassifier\",\"ExtraTreesClassifier\",\"ExtraTreesClassifier\",\"ExtraTreesClassifier\",\"ExtraTreesClassifier\",\"ExtraTreesClassifier\",\"ExtraTreesClassifier\",\"ExtraTreesClassifier\",\"ExtraTreesClassifier\",\"ExtraTreesClassifier\",\"ExtraTreesClassifier\",\"ExtraTreesClassifier\",\"ExtraTreesClassifier\",\"ExtraTreesClassifier\",\"ExtraTreesClassifier\",\"ExtraTreesClassifier\",\"ExtraTreesClassifier\",\"ExtraTreesClassifier\",\"ExtraTreesClassifier\",\"ExtraTreesClassifier\",\"ExtraTreesClassifier\",\"ExtraTreesClassifier\",\"ExtraTreesClassifier\",\"ExtraTreesClassifier\",\"ExtraTreesClassifier\",\"ExtraTreesClassifier\",\"ExtraTreesClassifier\",\"ExtraTreesClassifier\",\"ExtraTreesClassifier\",\"ExtraTreesClassifier\",\"ExtraTreesClassifier\",\"ExtraTreesClassifier\",\"ExtraTreesClassifier\",\"ExtraTreesClassifier\",\"ExtraTreesClassifier\",\"ExtraTreesClassifier\",\"ExtraTreesClassifier\",\"ExtraTreesClassifier\",\"ExtraTreesClassifier\",\"ExtraTreesClassifier\",\"ExtraTreesClassifier\",\"ExtraTreesClassifier\",\"ExtraTreesClassifier\",\"ExtraTreesClassifier\",\"ExtraTreesClassifier\",\"ExtraTreesClassifier\",\"ExtraTreesClassifier\",\"ExtraTreesClassifier\",\"ExtraTreesClassifier\",\"ExtraTreesClassifier\",\"ExtraTreesClassifier\",\"ExtraTreesClassifier\",\"ExtraTreesClassifier\",\"ExtraTreesClassifier\",\"ExtraTreesClassifier\",\"ExtraTreesClassifier\",\"ExtraTreesClassifier\",\"ExtraTreesClassifier\",\"ExtraTreesClassifier\",\"ExtraTreesClassifier\",\"ExtraTreesClassifier\",\"ExtraTreesClassifier\",\"ExtraTreesClassifier\",\"ExtraTreesClassifier\",\"ExtraTreesClassifier\",\"ExtraTreesClassifier\",\"ExtraTreesClassifier\",\"ExtraTreesClassifier\",\"ExtraTreesClassifier\",\"ExtraTreesClassifier\",\"ExtraTreesClassifier\",\"ExtraTreesClassifier\",\"ExtraTreesClassifier\",\"ExtraTreesClassifier\",\"ExtraTreesClassifier\",\"ExtraTreesClassifier\",\"ExtraTreesClassifier\",\"ExtraTreesClassifier\",\"ExtraTreesClassifier\",\"ExtraTreesClassifier\",\"ExtraTreesClassifier\",\"ExtraTreesClassifier\",\"ExtraTreesClassifier\",\"ExtraTreesClassifier\",\"ExtraTreesClassifier\",\"ExtraTreesClassifier\",\"ExtraTreesClassifier\",\"ExtraTreesClassifier\",\"ExtraTreesClassifier\",\"ExtraTreesClassifier\",\"ExtraTreesClassifier\",\"ExtraTreesClassifier\",\"ExtraTreesClassifier\",\"ExtraTreesClassifier\",\"ExtraTreesClassifier\",\"ExtraTreesClassifier\",\"ExtraTreesClassifier\",\"ExtraTreesClassifier\",\"ExtraTreesClassifier\",\"ExtraTreesClassifier\",\"ExtraTreesClassifier\",\"ExtraTreesClassifier\",\"ExtraTreesClassifier\",\"ExtraTreesClassifier\",\"ExtraTreesClassifier\",\"ExtraTreesClassifier\",\"ExtraTreesClassifier\",\"ExtraTreesClassifier\",\"ExtraTreesClassifier\",\"ExtraTreesClassifier\",\"ExtraTreesClassifier\",\"ExtraTreesClassifier\",\"ExtraTreesClassifier\",\"ExtraTreesClassifier\",\"ExtraTreesClassifier\",\"ExtraTreesClassifier\",\"ExtraTreesClassifier\",\"ExtraTreesClassifier\",\"ExtraTreesClassifier\",\"ExtraTreesClassifier\",\"ExtraTreesClassifier\",\"ExtraTreesClassifier\",\"ExtraTreesClassifier\",\"ExtraTreesClassifier\",\"ExtraTreesClassifier\",\"ExtraTreesClassifier\",\"ExtraTreesClassifier\",\"ExtraTreesClassifier\",\"ExtraTreesClassifier\",\"ExtraTreesClassifier\",\"ExtraTreesClassifier\",\"ExtraTreesClassifier\",\"ExtraTreesClassifier\",\"KNeighborsClassifier\",\"KNeighborsClassifier\",\"KNeighborsClassifier\",\"KNeighborsClassifier\",\"KNeighborsClassifier\",\"KNeighborsClassifier\",\"KNeighborsClassifier\",\"KNeighborsClassifier\",\"KNeighborsClassifier\",\"KNeighborsClassifier\",\"KNeighborsClassifier\",\"KNeighborsClassifier\",\"KNeighborsClassifier\",\"KNeighborsClassifier\",\"KNeighborsClassifier\",\"KNeighborsClassifier\",\"KNeighborsClassifier\",\"KNeighborsClassifier\",\"KNeighborsClassifier\",\"KNeighborsClassifier\",\"KNeighborsClassifier\",\"KNeighborsClassifier\",\"KNeighborsClassifier\",\"KNeighborsClassifier\",\"KNeighborsClassifier\",\"KNeighborsClassifier\",\"KNeighborsClassifier\",\"KNeighborsClassifier\",\"KNeighborsClassifier\",\"KNeighborsClassifier\",\"KNeighborsClassifier\",\"KNeighborsClassifier\",\"KNeighborsClassifier\",\"KNeighborsClassifier\",\"KNeighborsClassifier\",\"KNeighborsClassifier\",\"KNeighborsClassifier\",\"KNeighborsClassifier\",\"KNeighborsClassifier\",\"KNeighborsClassifier\",\"KNeighborsClassifier\",\"KNeighborsClassifier\",\"KNeighborsClassifier\",\"KNeighborsClassifier\",\"KNeighborsClassifier\",\"KNeighborsClassifier\",\"KNeighborsClassifier\",\"KNeighborsClassifier\",\"KNeighborsClassifier\",\"KNeighborsClassifier\",\"KNeighborsClassifier\",\"KNeighborsClassifier\",\"KNeighborsClassifier\",\"KNeighborsClassifier\",\"KNeighborsClassifier\",\"KNeighborsClassifier\",\"KNeighborsClassifier\",\"KNeighborsClassifier\",\"KNeighborsClassifier\",\"KNeighborsClassifier\",\"KNeighborsClassifier\",\"KNeighborsClassifier\",\"KNeighborsClassifier\",\"KNeighborsClassifier\",\"KNeighborsClassifier\",\"KNeighborsClassifier\",\"KNeighborsClassifier\",\"KNeighborsClassifier\",\"KNeighborsClassifier\",\"KNeighborsClassifier\",\"KNeighborsClassifier\",\"KNeighborsClassifier\",\"KNeighborsClassifier\",\"KNeighborsClassifier\",\"KNeighborsClassifier\",\"KNeighborsClassifier\",\"KNeighborsClassifier\",\"KNeighborsClassifier\",\"KNeighborsClassifier\",\"KNeighborsClassifier\",\"KNeighborsClassifier\",\"KNeighborsClassifier\",\"KNeighborsClassifier\",\"KNeighborsClassifier\",\"KNeighborsClassifier\",\"KNeighborsClassifier\",\"KNeighborsClassifier\",\"KNeighborsClassifier\",\"KNeighborsClassifier\",\"KNeighborsClassifier\",\"KNeighborsClassifier\",\"KNeighborsClassifier\",\"KNeighborsClassifier\",\"KNeighborsClassifier\",\"KNeighborsClassifier\",\"KNeighborsClassifier\",\"KNeighborsClassifier\",\"KNeighborsClassifier\",\"KNeighborsClassifier\",\"KNeighborsClassifier\",\"KNeighborsClassifier\",\"KNeighborsClassifier\",\"KNeighborsClassifier\",\"KNeighborsClassifier\",\"KNeighborsClassifier\",\"KNeighborsClassifier\",\"KNeighborsClassifier\",\"KNeighborsClassifier\",\"KNeighborsClassifier\",\"KNeighborsClassifier\",\"KNeighborsClassifier\",\"KNeighborsClassifier\",\"KNeighborsClassifier\",\"KNeighborsClassifier\",\"KNeighborsClassifier\",\"KNeighborsClassifier\",\"KNeighborsClassifier\",\"KNeighborsClassifier\",\"KNeighborsClassifier\",\"KNeighborsClassifier\",\"KNeighborsClassifier\",\"KNeighborsClassifier\",\"KNeighborsClassifier\",\"KNeighborsClassifier\",\"KNeighborsClassifier\",\"KNeighborsClassifier\",\"KNeighborsClassifier\",\"KNeighborsClassifier\",\"KNeighborsClassifier\",\"KNeighborsClassifier\",\"KNeighborsClassifier\",\"KNeighborsClassifier\",\"KNeighborsClassifier\",\"KNeighborsClassifier\",\"KNeighborsClassifier\",\"KNeighborsClassifier\",\"KNeighborsClassifier\",\"KNeighborsClassifier\",\"KNeighborsClassifier\",\"KNeighborsClassifier\",\"KNeighborsClassifier\",\"KNeighborsClassifier\",\"KNeighborsClassifier\",\"KNeighborsClassifier\",\"KNeighborsClassifier\",\"KNeighborsClassifier\",\"KNeighborsClassifier\",\"KNeighborsClassifier\",\"KNeighborsClassifier\",\"KNeighborsClassifier\",\"KNeighborsClassifier\",\"KNeighborsClassifier\",\"KNeighborsClassifier\",\"KNeighborsClassifier\",\"KNeighborsClassifier\",\"KNeighborsClassifier\",\"KNeighborsClassifier\",\"KNeighborsClassifier\",\"KNeighborsClassifier\",\"KNeighborsClassifier\",\"KNeighborsClassifier\",\"KNeighborsClassifier\",\"KNeighborsClassifier\",\"KNeighborsClassifier\",\"KNeighborsClassifier\",\"KNeighborsClassifier\",\"KNeighborsClassifier\",\"KNeighborsClassifier\",\"KNeighborsClassifier\",\"KNeighborsClassifier\",\"KNeighborsClassifier\",\"KNeighborsClassifier\",\"KNeighborsClassifier\",\"KNeighborsClassifier\",\"KNeighborsClassifier\",\"KNeighborsClassifier\",\"KNeighborsClassifier\",\"KNeighborsClassifier\",\"KNeighborsClassifier\",\"KNeighborsClassifier\",\"KNeighborsClassifier\",\"KNeighborsClassifier\",\"KNeighborsClassifier\",\"KNeighborsClassifier\",\"KNeighborsClassifier\",\"KNeighborsClassifier\",\"KNeighborsClassifier\",\"KNeighborsClassifier\",\"KNeighborsClassifier\",\"KNeighborsClassifier\",\"KNeighborsClassifier\",\"KNeighborsClassifier\",\"KNeighborsClassifier\",\"KNeighborsClassifier\",\"KNeighborsClassifier\",\"KNeighborsClassifier\",\"KNeighborsClassifier\",\"KNeighborsClassifier\",\"KNeighborsClassifier\",\"KNeighborsClassifier\",\"KNeighborsClassifier\",\"KNeighborsClassifier\",\"KNeighborsClassifier\",\"KNeighborsClassifier\",\"KNeighborsClassifier\",\"KNeighborsClassifier\",\"KNeighborsClassifier\",\"KNeighborsClassifier\",\"KNeighborsClassifier\",\"KNeighborsClassifier\",\"KNeighborsClassifier\",\"KNeighborsClassifier\",\"KNeighborsClassifier\",\"KNeighborsClassifier\",\"KNeighborsClassifier\",\"KNeighborsClassifier\",\"KNeighborsClassifier\",\"KNeighborsClassifier\",\"KNeighborsClassifier\",\"KNeighborsClassifier\",\"KNeighborsClassifier\",\"KNeighborsClassifier\",\"KNeighborsClassifier\",\"KNeighborsClassifier\",\"KNeighborsClassifier\",\"KNeighborsClassifier\",\"KNeighborsClassifier\",\"KNeighborsClassifier\",\"KNeighborsClassifier\",\"KNeighborsClassifier\",\"KNeighborsClassifier\",\"KNeighborsClassifier\",\"KNeighborsClassifier\",\"KNeighborsClassifier\",\"KNeighborsClassifier\",\"KNeighborsClassifier\",\"KNeighborsClassifier\",\"KNeighborsClassifier\",\"KNeighborsClassifier\",\"KNeighborsClassifier\",\"KNeighborsClassifier\",\"KNeighborsClassifier\",\"KNeighborsClassifier\",\"KNeighborsClassifier\",\"KNeighborsClassifier\",\"KNeighborsClassifier\",\"KNeighborsClassifier\",\"KNeighborsClassifier\",\"KNeighborsClassifier\",\"KNeighborsClassifier\",\"KNeighborsClassifier\",\"KNeighborsClassifier\",\"KNeighborsClassifier\",\"KNeighborsClassifier\",\"KNeighborsClassifier\",\"KNeighborsClassifier\",\"KNeighborsClassifier\",\"KNeighborsClassifier\",\"KNeighborsClassifier\",\"KNeighborsClassifier\",\"KNeighborsClassifier\",\"KNeighborsClassifier\",\"KNeighborsClassifier\",\"KNeighborsClassifier\",\"KNeighborsClassifier\",\"KNeighborsClassifier\",\"KNeighborsClassifier\",\"KNeighborsClassifier\",\"KNeighborsClassifier\",\"KNeighborsClassifier\",\"KNeighborsClassifier\",\"KNeighborsClassifier\",\"KNeighborsClassifier\",\"KNeighborsClassifier\",\"KNeighborsClassifier\",\"KNeighborsClassifier\",\"KNeighborsClassifier\",\"KNeighborsClassifier\",\"KNeighborsClassifier\",\"KNeighborsClassifier\",\"KNeighborsClassifier\",\"KNeighborsClassifier\",\"KNeighborsClassifier\",\"KNeighborsClassifier\",\"KNeighborsClassifier\",\"KNeighborsClassifier\",\"KNeighborsClassifier\",\"KNeighborsClassifier\",\"KNeighborsClassifier\",\"KNeighborsClassifier\",\"KNeighborsClassifier\",\"KNeighborsClassifier\",\"KNeighborsClassifier\",\"KNeighborsClassifier\",\"KNeighborsClassifier\",\"KNeighborsClassifier\",\"KNeighborsClassifier\",\"KNeighborsClassifier\",\"KNeighborsClassifier\",\"KNeighborsClassifier\",\"XGradientBoostingClassifier\",\"XGradientBoostingClassifier\",\"XGradientBoostingClassifier\",\"XGradientBoostingClassifier\",\"XGradientBoostingClassifier\",\"XGradientBoostingClassifier\",\"XGradientBoostingClassifier\",\"XGradientBoostingClassifier\",\"XGradientBoostingClassifier\",\"XGradientBoostingClassifier\",\"XGradientBoostingClassifier\",\"XGradientBoostingClassifier\",\"XGradientBoostingClassifier\",\"XGradientBoostingClassifier\",\"XGradientBoostingClassifier\",\"XGradientBoostingClassifier\",\"XGradientBoostingClassifier\",\"XGradientBoostingClassifier\",\"XGradientBoostingClassifier\",\"XGradientBoostingClassifier\",\"XGradientBoostingClassifier\",\"XGradientBoostingClassifier\",\"XGradientBoostingClassifier\",\"XGradientBoostingClassifier\",\"XGradientBoostingClassifier\",\"XGradientBoostingClassifier\",\"XGradientBoostingClassifier\",\"XGradientBoostingClassifier\",\"XGradientBoostingClassifier\",\"XGradientBoostingClassifier\",\"XGradientBoostingClassifier\",\"XGradientBoostingClassifier\",\"XGradientBoostingClassifier\",\"XGradientBoostingClassifier\",\"XGradientBoostingClassifier\",\"XGradientBoostingClassifier\",\"XGradientBoostingClassifier\",\"XGradientBoostingClassifier\",\"XGradientBoostingClassifier\",\"XGradientBoostingClassifier\",\"XGradientBoostingClassifier\",\"XGradientBoostingClassifier\",\"XGradientBoostingClassifier\",\"XGradientBoostingClassifier\",\"XGradientBoostingClassifier\",\"XGradientBoostingClassifier\",\"XGradientBoostingClassifier\",\"XGradientBoostingClassifier\",\"XGradientBoostingClassifier\",\"XGradientBoostingClassifier\",\"XGradientBoostingClassifier\",\"XGradientBoostingClassifier\",\"XGradientBoostingClassifier\",\"XGradientBoostingClassifier\",\"XGradientBoostingClassifier\",\"XGradientBoostingClassifier\",\"XGradientBoostingClassifier\",\"XGradientBoostingClassifier\",\"XGradientBoostingClassifier\",\"XGradientBoostingClassifier\",\"XGradientBoostingClassifier\",\"XGradientBoostingClassifier\",\"XGradientBoostingClassifier\",\"XGradientBoostingClassifier\",\"XGradientBoostingClassifier\",\"XGradientBoostingClassifier\",\"XGradientBoostingClassifier\",\"XGradientBoostingClassifier\",\"XGradientBoostingClassifier\",\"XGradientBoostingClassifier\",\"XGradientBoostingClassifier\",\"XGradientBoostingClassifier\",\"XGradientBoostingClassifier\",\"XGradientBoostingClassifier\",\"XGradientBoostingClassifier\",\"XGradientBoostingClassifier\",\"XGradientBoostingClassifier\",\"XGradientBoostingClassifier\",\"XGradientBoostingClassifier\",\"XGradientBoostingClassifier\",\"XGradientBoostingClassifier\",\"XGradientBoostingClassifier\",\"XGradientBoostingClassifier\",\"XGradientBoostingClassifier\",\"XGradientBoostingClassifier\",\"XGradientBoostingClassifier\",\"XGradientBoostingClassifier\",\"XGradientBoostingClassifier\",\"XGradientBoostingClassifier\",\"XGradientBoostingClassifier\",\"XGradientBoostingClassifier\",\"XGradientBoostingClassifier\",\"XGradientBoostingClassifier\",\"XGradientBoostingClassifier\",\"XGradientBoostingClassifier\",\"XGradientBoostingClassifier\",\"XGradientBoostingClassifier\",\"XGradientBoostingClassifier\",\"XGradientBoostingClassifier\",\"XGradientBoostingClassifier\",\"XGradientBoostingClassifier\"],\"y\":[0.18997183442115784,0.00015463917225133628,0.18997183442115784,0.00020565552404150367,0.00020565552404150367,0.18997183442115784,0.00020565552404150367,0.18997183442115784,0.00020565552404150367,0.18997183442115784,0.719490647315979,0.1782020777463913,0.719490647315979,0.1782020777463913,0.1823423206806183,0.719490647315979,0.18224875628948212,0.719490647315979,0.1718955934047699,0.719490647315979,0.1782020777463913,0.1782020777463913,0.1801651269197464,0.719490647315979,0.1782020777463913,0.7123376727104187,0.1785563975572586,0.719490647315979,0.7170858383178711,0.17846988141536713,0.7002525329589844,0.7077900171279907,0.7002525329589844,0.7077900171279907,0.7077900171279907,0.7002525329589844,0.7091977000236511,0.7002525329589844,0.7077900171279907,0.7002525329589844,0.7002525329589844,0.7002525329589844,0.7002525329589844,0.7077900171279907,0.7077900171279907,0.7002525329589844,0.7002525329589844,0.7002525329589844,0.7002525329589844,0.7002525329589844,0.7165773510932922,0.6900526881217957,0.7165773510932922,0.6900526881217957,0.6874877214431763,0.7174662351608276,0.6830037832260132,0.7165773510932922,0.6885743141174316,0.7165773510932922,0.18997183442115784,0.18997183442115784,0.00020565552404150367,0.18997183442115784,0.00020565552404150367,0.00020565552404150367,0.18997183442115784,0.00020565552404150367,0.18997183442115784,0.00020565552404150367,0.18997183442115784,0.719490647315979,0.1782020777463913,0.7090663909912109,0.1726454645395279,0.7116060853004456,0.17033155262470245,0.16829940676689148,0.7136681079864502,0.17684680223464966,0.7079458832740784,0.17486454546451569,0.7116060853004456,0.7002525329589844,0.7077900171279907,0.7077900171279907,0.7077900171279907,0.7077900171279907,0.7077900171279907,0.7002525329589844,0.7077900171279907,0.7106451988220215,0.7014646530151367,0.7108039259910583,0.7294228076934814,0.7237994074821472,0.6894227862358093,0.6933580040931702,0.6992265582084656,0.7038456201553345,0.7108039259910583,0.7165773510932922,0.11908617615699768,0.09396111965179443,0.6900526881217957,0.6611385345458984,0.0585605725646019,0.0578530877828598,0.0845116376876831,0.10226677358150482,0.08559395372867584,0.6211278438568115,0.0845116376876831,0.17456494271755219,0.0645742118358612,0.05875640735030174,0.17427358031272888,0.11911144107580185,0.3185434937477112,0.11745823174715042,0.4582141041755676,0.17427358031272888,0.719794511795044,0.6900526881217957,0.5041384696960449,0.7165773510932922,0.3921639323234558,0.2438136339187622,0.10163185000419617,0.20708300173282623,0.10163185000419617,0.7225232124328613,0.6884480714797974,0.7225232124328613,0.69720059633255,0.7004591226577759,0.7174662351608276,0.7040117383003235,0.7293037176132202,0.6932503581047058,0.7225232124328613,0.726803719997406,0.6899011731147766,0.6907181143760681,0.7378333210945129,0.7378333210945129,0.7174662351608276,0.7225232124328613,0.7278688549995422,0.726803719997406,0.69720059633255,0.7293037176132202,0.6884480714797974,0.7225232124328613,0.6991089582443237,0.6892532706260681,0.6974155902862549,0.726803719997406,0.7278688549995422,0.7359436750411987,0.686578631401062,0.7278688549995422,0.6953917741775513,0.7142271995544434,0.7278688549995422,0.7293037176132202,0.7225232124328613,0.7378333210945129,0.7398679852485657,0.6884480714797974,0.6953917741775513,0.00015463917225133628,0.18928010761737823,0.00020565552404150367,0.00020565552404150367,0.18997183442115784,0.00020565552404150367,0.1894116848707199,0.00020565552404150367,0.18961384892463684,0.18997183442115784,0.1606130748987198,0.00020565552404150367,0.18997183442115784,0.18997183442115784,0.18966472148895264,0.00020565552404150367,0.18997183442115784,0.12589210271835327,0.00020565552404150367,0.17226721346378326,0.00015463917225133628,0.17168119549751282,0.00020565552404150367,0.16084909439086914,0.18997183442115784,0.02562584914267063,0.00015463917225133628,0.15285342931747437,0.00020565552404150367,0.18528011441230774,0.00020565552404150367,0.1824813336133957,0.18997183442115784,0.02454465441405773,0.18928010761737823,0.00020565552404150367,0.24742940068244934,0.7118744850158691,0.0026421211659908295,0.2343609780073166,0.7200223803520203,0.24054177105426788,0.713411271572113,0.2524145543575287,0.7105887532234192,0.24905644357204437,0.7141175866127014,0.7164192199707031,0.48565760254859924,0.25153300166130066,0.1774992048740387,0.5152212977409363,0.7169696688652039,0.23682290315628052,0.6803665161132812,0.7099668383598328,0.49748319387435913,0.25153300166130066,0.24097199738025665,0.7276031970977783,0.7220461964607239,0.22953438758850098,0.23403620719909668,0.704673171043396,0.24742940068244934,0.7183383703231812,0.6980295777320862,0.011939325369894505,0.549620509147644,0.6957714557647705,0.7377965450286865,0.6867654919624329,0.7281031608581543,0.6875641942024231,0.6909235119819641,0.7327633500099182,0.7009811997413635,0.7431111335754395,0.479098379611969,0.5244136452674866,0.6984480619430542,0.7518730163574219,0.7104198336601257,0.7487778067588806,0.7069588899612427,0.7099241018295288,0.025517484173178673,0.4587857127189636,0.7166199088096619,0.7300959825515747,0.7094494700431824,0.7084299921989441,0.7229653596878052,0.7165773510932922,0.01900404691696167,0.7096306085586548,0.46568921208381653,0.6951860785484314,0.708088219165802,0.4657331705093384,0.6957041621208191,0.08901242911815643,0.4834159314632416,0.019977815449237823,0.031657639890909195,0.010869565419852734,0.00020565552404150367,0.019208546727895737,0.04462467506527901,0.002710526343435049,0.040708545595407486,0.007278745528310537,0.013655172660946846,0.0010884354123845696,0.04209604859352112,0.034904371947050095,0.00021052631200291216,0.00020565552404150367,0.0783742219209671,0.03748190030455589,0.018586497753858566,0.12898972630500793,0.006093070842325687,0.20716509222984314,0.18884995579719543,0.23330058157444,0.019569523632526398,0.1845424324274063,0.17628389596939087,0.1692611277103424,0.17341406643390656,0.16324643790721893,0.17960773408412933,0.09900861233472824,0.09780912846326828,0.1799885332584381,0.20010720193386078,0.18408213555812836,0.1821455955505371,0.1658228486776352,0.1931309849023819,0.183107390999794,0.19344007968902588,0.15890507400035858,0.1720285415649414,0.17876408994197845,0.1490277349948883,0.2169564813375473,0.12521407008171082,0.16716833412647247,0.1826132982969284,0.17862237989902496,0.2036985605955124,0.20463186502456665,0.13147810101509094,0.22577206790447235,0.11440546810626984,0.1323980838060379,0.11171939969062805,0.15402276813983917,0.15067966282367706,0.12828123569488525,0.13403230905532837,0.1054157093167305,0.13831660151481628,0.1557599902153015,0.09566833078861237,0.14002104103565216,0.14379118382930756,0.13450148701667786,0.15124839544296265,0.13145242631435394,0.12995639443397522,0.06040611490607262,0.06040611490607262,0.06977316737174988,0.09961539506912231,0.07378822565078735,0.2323334813117981,0.09663248807191849,0.22780320048332214,0.2413777858018875,0.1096561998128891,0.05267901346087456,0.6881649494171143,0.28078627586364746,0.13186824321746826,0.5100804567337036,0.7280223369598389,0.5407678484916687,0.4179190397262573,0.6938621401786804,0.5809410214424133,0.6000391244888306,0.6168208122253418,0.7160679697990417,0.3938378691673279,0.17392486333847046,0.5556142926216125,0.16135065257549286,0.5727819204330444,0.7225692868232727,0.21272948384284973,0.00015706806152593344,0.695275604724884,0.004999999888241291,0.758698582649231,0.5953922867774963,0.7212647795677185,0.6340314745903015,0.5424187183380127,0.6992900967597961,0.7111536860466003,0.5592970848083496,0.7044913172721863,0.6742169260978699,0.7216581702232361,0.42993390560150146,0.7270007133483887,0.5005627274513245,0.663597583770752,0.015457912348210812,0.7243809700012207,0.7281233668327332,0.01815873011946678,0.7406565546989441,0.7084251046180725,0.004999999888241291,0.08046474307775497,0.7092888355255127,0.6253544688224792,0.6793649792671204,0.054023414850234985,0.1431197226047516,0.7095621228218079,0.5886353850364685,0.6706017255783081,0.0070682247169315815,0.6809805631637573,0.5509621500968933,0.713136613368988,0.0,0.7026933431625366,0.1654045581817627,0.6264036297798157,0.0543212853372097,0.1388031542301178,0.045926015824079514,0.04698560759425163,0.05261601507663727,0.024333324283361435,0.6067422032356262,0.08338366448879242,0.15186282992362976,0.09935154020786285,0.016316624358296394,0.06847943365573883,0.06576318293809891,0.13200950622558594,0.04665577784180641,0.015531296841800213,0.0532507449388504,0.10548285394906998,0.003075722139328718,0.6401363611221313,0.01796286180615425,0.524742841720581,0.05993189662694931,0.6956331729888916,0.03525163605809212,0.6216787695884705,0.19682857394218445,0.621181845664978,0.01663289964199066,0.6721103191375732,0.6650599837303162,0.15925580263137817,0.555708646774292,0.64860999584198,0.5721561312675476,0.561118483543396,0.650238037109375,0.5382136702537537,0.5176438093185425,0.5800924897193909,0.6571627855300903,0.4677983522415161,0.6294653415679932,0.6642701029777527,0.7000465393066406,0.6152037978172302,0.18286557495594025,0.618589460849762,0.5800856947898865,0.00015267175331246108,0.00020565552404150367,0.01545812375843525,0.039719924330711365,0.00020725389185827225,0.056170545518398285,0.008856330998241901,0.0033922134898602962,0.0,0.027177779003977776,0.1675458401441574,0.18500179052352905,0.17404209077358246,0.179957315325737,0.19817528128623962,0.009492997080087662,0.0,0.14776906371116638,0.16341926157474518,0.13777703046798706,0.1318611204624176,0.15447959303855896,0.1467014104127884,0.019233711063861847,0.006725274957716465,0.15461423993110657,0.15709076821804047,0.1574167162179947,0.15448980033397675,0.1383296549320221,0.13524475693702698,0.0276383925229311,0.22565850615501404,0.30363577604293823,0.18306005001068115,0.2617913782596588,0.13887202739715576,0.24124380946159363,0.1499255746603012,0.23328983783721924,0.27834680676460266,0.3192387819290161,0.35390666127204895,0.2032575160264969,0.24335737526416779,0.24660106003284454,0.29129669070243835,0.23360711336135864,0.22293025255203247,0.22037236392498016,0.2571370601654053,0.33211711049079895,0.2316177636384964,0.30363577604293823,0.18531890213489532,0.2617913782596588,0.1430409550666809,0.24137714505195618,0.1499255746603012,0.23328983783721924,0.27834680676460266,0.32154375314712524,0.3504309356212616,0.20844443142414093,0.23126986622810364,0.18666014075279236,0.34527304768562317,0.2743557095527649,0.323640376329422,0.10366185009479523,0.28940877318382263,0.642349362373352,0.22983574867248535,0.30014216899871826,0.18439093232154846,0.2617913782596588,0.13895268738269806,0.2414039820432663,0.14991909265518188,0.23348304629325867,0.2773944139480591,0.3209376931190491,0.27702590823173523,0.18694600462913513,0.19432342052459717,0.2199718952178955,0.2777341902256012,0.2781430780887604,0.22043916583061218,0.1164591982960701,0.7134863138198853,0.021326415240764618,0.24365021288394928,0.31857743859291077,0.1946602314710617,0.2541881799697876,0.12338424474000931,0.22405090928077698,0.1481161117553711,0.22733984887599945,0.29170891642570496,0.3113687336444855,0.22565850615501404,0.24048608541488647,0.18790335953235626,0.16485179960727692,0.2569859027862549,0.21225537359714508,0.2600715458393097,0.29800453782081604,0.2811661958694458,0.01796465925872326,0.06508956849575043,0.2407579869031906,0.18845607340335846,0.16485179960727692,0.25621533393859863,0.21225537359714508,0.2604561746120453,0.2977737784385681,0.28603246808052063,0.01796465925872326,0.06508956849575043,0.2554998993873596,0.26699453592300415,0.09161405265331268,0.2702854871749878,0.20280013978481293,0.08864498138427734,0.280916690826416,0.06430671364068985,0.07966169714927673,0.2718202471733093,0.22983574867248535,0.17708401381969452,0.27468737959861755,0.07985609769821167,0.24385946989059448,0.18845607340335846,0.16520100831985474,0.2554517686367035,0.21250568330287933,0.26243188977241516,0.30053380131721497,0.2878255248069763,0.01796465925872326,0.06508956849575043,0.24365021288394928,0.15965548157691956,0.03645025193691254,0.05762434005737305,0.07943125814199448,0.07491375505924225,0.29390403628349304,0.169049933552742,0.02354239672422409,0.0718495324254036,0.23930905759334564,0.19839057326316833,0.1611729860305786,0.27222707867622375,0.22222428023815155,0.2709501385688782,0.29109224677085876,0.2667848467826843,0.013850470073521137,0.0644957646727562,0.1546022891998291,0.25524088740348816,0.26896217465400696,0.20201168954372406,0.24224211275577545,0.18923671543598175,0.1315295547246933,0.3572327494621277,0.3163362741470337,0.07694070041179657,0.3288132846355438,0.2809586822986603,0.31829866766929626,0.3672045171260834,0.2590302526950836,0.26205453276634216,0.2189287543296814,0.11731548607349396,0.2769474983215332,0.19280827045440674,0.2586216926574707,0.2776402235031128,0.2294793725013733,0.27946314215660095,0.18202006816864014,0.13597151637077332,0.3110943138599396,0.35775861144065857,0.05800963193178177,0.2929322123527527,0.2888305187225342,0.2878584563732147,0.3083617389202118,0.26610320806503296,0.25543010234832764,0.2590305209159851,0.12265017628669739,0.2851542532444,0.1411607414484024,0.2219690978527069,0.2712230086326599,0.16538725793361664,0.23081570863723755,0.18338294327259064,0.10517894476652145,0.2954205870628357,0.26893508434295654,0.6474466323852539,0.6474466323852539,0.6474466323852539,0.6474466323852539,0.6474466323852539,0.6474466323852539,0.6474466323852539,0.6474466323852539,0.6474466323852539,0.6474466323852539,0.650005042552948,0.650005042552948,0.650005042552948,0.650005042552948,0.650005042552948,0.650005042552948,0.650005042552948,0.650005042552948,0.650005042552948,0.650005042552948,0.650005042552948,0.650005042552948,0.650005042552948,0.650005042552948,0.650005042552948,0.650005042552948,0.650005042552948,0.650005042552948,0.650005042552948,0.650005042552948,0.6474913358688354,0.6474913358688354,0.6474913358688354,0.6474913358688354,0.6474913358688354,0.6474913358688354,0.6474913358688354,0.6474913358688354,0.6474913358688354,0.6474913358688354,0.3510523736476898,0.3510523736476898,0.3510523736476898,0.3510523736476898,0.3510523736476898,0.3510523736476898,0.3510523736476898,0.3510523736476898,0.3510523736476898,0.3510523736476898,0.3510523736476898,0.3510523736476898,0.3510523736476898,0.3510523736476898,0.3510523736476898,0.3510523736476898,0.3510523736476898,0.3510523736476898,0.3510523736476898,0.3510523736476898,0.6474466323852539,0.6668987274169922,0.6602616310119629,0.6658943891525269,0.6617400050163269,0.6617400050163269,0.6892183423042297,0.6772710084915161,0.6772710084915161,0.6892183423042297,0.66428542137146,0.66428542137146,0.6617400050163269,0.66428542137146,0.6772710084915161,0.66428542137146,0.6668987274169922,0.6602616310119629,0.6892183423042297,0.6772710084915161,0.6658943891525269,0.650005042552948,0.6461756825447083,0.6530014276504517,0.6650603413581848,0.6584232449531555,0.6691007614135742,0.6612334847450256,0.6612334847450256,0.6795992851257324,0.6767818331718445,0.6767818331718445,0.6795992851257324,0.6588280200958252,0.6474913358688354,0.6474913358688354,0.6474913358688354,0.6474913358688354,0.6474913358688354,0.6474913358688354,0.6634910702705383,0.6595920920372009,0.6597457528114319,0.6628243923187256,0.6628243923187256,0.6820328831672668,0.679559588432312,0.679559588432312,0.6820328831672668,0.6555184721946716,0.6555184721946716,0.6628243923187256,0.6555184721946716,0.679559588432312,0.6555184721946716,0.6634910702705383,0.6595920920372009,0.6820328831672668,0.679559588432312,0.6597457528114319,0.6555184721946716,0.6595920920372009,0.6595920920372009,0.6555184721946716,0.6628243923187256,0.6628243923187256,0.6555184721946716,0.6634910702705383,0.6628243923187256,0.6634910702705383,0.3510523736476898,0.0980534553527832,0.06592988222837448,0.15682891011238098,0.15682891011238098,0.3552350103855133,0.27539920806884766,0.3368464708328247,0.3552350103855133,0.10854977369308472,0.09411055594682693,0.06592988222837448,0.06592988222837448,0.12245090305805206,0.17589443922042847,0.34706830978393555,0.12245090305805206,0.09411055594682693,0.12245090305805206,0.10854977369308472,0.3535988926887512,0.3527083694934845,0.35458603501319885,0.35369056463241577,0.35369056463241577,0.3593708872795105,0.36255335807800293,0.36255335807800293,0.3593708872795105,0.3576188087463379,0.3576188087463379,0.35369056463241577,0.3576188087463379,0.36255335807800293,0.3576188087463379,0.3535988926887512,0.3527083694934845,0.3593708872795105,0.36255335807800293,0.35458603501319885,0.6423391103744507,0.7416812777519226,0.7251659631729126,0.7711772322654724,0.7525028586387634,0.044609490782022476,0.7394344806671143,0.6777559518814087,0.22304947674274445,0.7394344806671143,0.1842675358057022,0.7764732837677002,0.5303388833999634,0.17550542950630188,0.6579985022544861,0.6922404170036316,0.3495590388774872,0.6430190801620483,0.26219576597213745,0.6726536750793457,0.7484595775604248,0.7179653644561768,0.73505699634552,0.7119660973548889,0.03802699223160744,0.7234278321266174,0.7061740159988403,0.36309942603111267,0.546252965927124,0.6940836906433105,0.6867113709449768,0.6526620388031006,0.6659496426582336,0.04146384075284004,0.6535855531692505,0.6181811094284058,0.24669091403484344,0.0478796660900116,0.24240370094776154,0.19263498485088348,0.2362414300441742,0.16810671985149384,0.21906261146068573,0.12867291271686554,0.22277100384235382,0.17152580618858337,0.18874813616275787,0.16266989707946777,0.20874975621700287,0.14901459217071533,0.22412066161632538,0.15166467428207397,0.2163369357585907,0.21433746814727783,0.20230968296527863,0.20959922671318054,0.2138688564300537,0.22698506712913513,0.21719159185886383,0.20188599824905396,0.1755446344614029,0.08073365688323975,0.13564752042293549,0.2209729701280594,0.13753832876682281,0.23686957359313965,0.22833994030952454,0.05754758045077324,0.17576155066490173,0.08871595561504364,0.1767592877149582,0.072728730738163,0.22027422487735748,0.10152880102396011,0.1174195408821106,0.062180742621421814,0.18229526281356812,0.049550097435712814,0.2365100383758545,0.1923583298921585,0.23328448832035065,0.1664513200521469,0.2190760374069214,0.1328117996454239,0.2181837111711502,0.16772837936878204,0.1876290887594223,0.19839271903038025,0.21382839977741241,0.09766904264688492,0.2134840488433838,0.20928554236888885,0.20584404468536377,0.20718885958194733,0.08354967087507248,0.17249983549118042,0.1109001561999321,0.04795213043689728,0.05434618890285492,0.24989698827266693,0.19224442541599274,0.1974753588438034,0.13862334191799164,0.2030140906572342,0.2201019823551178,0.21569645404815674,0.06919409334659576,0.09490188211202621,0.049550097435712814,0.05434618890285492,0.2505636513233185,0.1948734074831009,0.1967322677373886,0.12908530235290527,0.20494693517684937,0.2197967916727066,0.2138405293226242,0.07145599275827408,0.09388456493616104,0.047198470681905746,0.23054324090480804,0.16325002908706665,0.18884477019309998,0.10367728769779205,0.21462638676166534,0.21870484948158264,0.19914820790290833,0.058463629335165024,0.08477094769477844,0.08618370443582535,0.11098340898752213,0.0750136524438858,0.05583244189620018,0.07125724107027054,0.07281024754047394,0.09746739268302917,0.04820779338479042,0.10225824266672134,0.0698196217417717,0.06942013651132584,0.04020202159881592,0.11015917360782623,0.11919786036014557,0.08390836417675018,0.11700033396482468,0.07818309217691422,0.08588234335184097,0.09174386411905289,0.06100469082593918,0.10082440078258514,0.06072990968823433,0.07159919291734695,0.05826956406235695,0.05609865114092827,0.10846464335918427,0.060809385031461716,0.09496098011732101,0.09080417454242706,0.08133693784475327,0.05793695151805878,0.04393578693270683,0.0692715048789978,0.08648388087749481,0.08718470484018326,0.04892057925462723,0.10836136341094971,0.08978990465402603,0.0779978334903717,0.03473060205578804,0.07906962186098099,0.1270398497581482,0.0864185243844986,0.09471933543682098,0.10469752550125122,0.06919463723897934,0.07257287204265594,0.8250822424888611,0.8250822424888611,0.7607373595237732,0.2812357246875763,0.21165797114372253,0.25233012437820435,0.3211803734302521,0.24892474710941315,0.33355066180229187,0.3626573979854584,0.7728383541107178,0.7878860235214233,0.360847532749176,0.1315540224313736,0.8256261944770813,0.2692788541316986,0.29296109080314636,0.7913196086883545,0.23305757343769073,0.7703838348388672,0.8250822424888611,0.8250822424888611,0.7607373595237732,0.2812357246875763,0.21165797114372253,0.25233012437820435,0.7226276993751526,0.24892474710941315,0.33355066180229187,0.7317719459533691,0.7866911888122559,0.23789116740226746,0.25845667719841003,0.7698174715042114,0.3498881459236145,0.8040627837181091,0.7491984367370605,0.7480093836784363,0.23164282739162445,0.7812272906303406,0.8250822424888611,0.8250822424888611,0.7607373595237732,0.2812357246875763,0.21165797114372253,0.25233012437820435,0.3211803734302521,0.24892474710941315,0.33355066180229187,0.3626573979854584,0.7728383541107178,0.7878860235214233,0.360847532749176,0.1315540224313736,0.8256261944770813,0.2692788541316986,0.29296109080314636,0.7913196086883545,0.23305757343769073,0.7703838348388672,0.8107330203056335,0.8107330203056335,0.7466334700584412,0.2774771451950073,0.20866210758686066,0.22650444507598877,0.31083428859710693,0.2349759340286255,0.31722864508628845,0.34727737307548523,0.7611675262451172,0.7671161890029907,0.36459970474243164,0.11936741322278976,0.7962107062339783,0.2720879018306732,0.28471213579177856,0.7939296364784241,0.21802030503749847,0.7457417249679565,0.24041245877742767,0.041567135602235794,0.0422319620847702,0.7908520698547363,0.25150391459465027,0.7330635190010071,0.7656363844871521,0.7710642218589783,0.23795108497142792,0.750906229019165,0.8250822424888611,0.8310930728912354,0.19964957237243652,0.2772170901298523,0.27216097712516785,0.27207109332084656,0.26151585578918457,0.3600432872772217,0.7433528304100037,0.05238260328769684,0.759656548500061,0.7444213628768921,0.7276983857154846,0.30440449714660645,0.19936195015907288,0.7299891710281372,0.7708549499511719,0.8085259795188904,0.7326306104660034,0.25125476717948914,0.3510783612728119,0.8250822424888611,0.8310930728912354,0.19964957237243652,0.2772170901298523,0.27216097712516785,0.27207109332084656,0.26151585578918457,0.3600432872772217,0.7433528304100037,0.05238260328769684,0.759656548500061,0.2753904461860657,0.7734768986701965,0.22366687655448914,0.7874682545661926,0.22884789109230042,0.7262547016143799,0.3359498083591461,0.24351952970027924,0.3428213894367218,0.26589179039001465,0.8250822424888611,0.2342948466539383,0.808055579662323,0.18247736990451813,0.28989458084106445,0.26403242349624634,0.261697381734848,0.2551359236240387,0.3372379243373871,0.739548921585083,0.05324355140328407,0.7491724491119385,0.24879279732704163,0.7839487195014954,0.21083661913871765,0.30417400598526,0.32029521465301514,0.7962783575057983,0.2718660533428192,0.19276843965053558,0.7915425896644592,0.7904725074768066,0.7388782501220703,0.23853297531604767,0.3201041519641876,0.356873482465744,0.3612070083618164,0.35446032881736755,0.35549256205558777,0.7631821632385254,0.3313639163970947,0.7611384987831116,0.7078326344490051,0.6725844144821167,0.30448824167251587,0.24621635675430298,0.2963985502719879,0.2275489866733551,0.2889418303966522,0.32048895955085754,0.7065511345863342,0.4256635308265686,0.27849555015563965,0.26702991127967834,0.24504272639751434,0.22888492047786713,0.24709831178188324,0.3130982518196106,0.6577352285385132,0.6728338003158569,0.29958248138427734,0.2576605975627899,0.2514727711677551,0.1559893637895584,0.25710076093673706,0.28645747900009155,0.262156218290329,0.3405085504055023,0.661853551864624,0.6754847168922424,0.7377645373344421,0.04087339714169502,0.04245693236589432,0.23835910856723785,0.7347373962402344,0.3999341130256653,0.7202857136726379,0.786216139793396,0.2606859505176544,0.03265305608510971,0.786216139793396,0.786216139793396,0.786216139793396,0.7202857136726379,0.786216139793396,0.786216139793396,0.7202857136726379,0.0714682787656784,0.06036004051566124,0.6731466054916382,0.32659438252449036,0.2606859505176544,0.6712194681167603,0.7979567050933838,0.7366565465927124,0.22365467250347137,0.7979567050933838,0.7202857136726379,0.6982299089431763,0.38998016715049744,0.786216139793396,0.786216139793396,0.6987316012382507,0.7366565465927124,0.7202857136726379,0.7595526576042175,0.7291998267173767,0.7846810817718506,0.2813796401023865,0.04920129477977753,0.7846810817718506,0.7846810817718506,0.7846810817718506,0.7291998267173767,0.7846810817718506,0.7846810817718506,0.7291998267173767,0.08845033496618271,0.07738024741411209,0.7036170363426208,0.32057589292526245,0.2813796401023865,0.6618070602416992,0.8158528208732605,0.7233178019523621,0.20843002200126648,0.7291998267173767,0.7707861661911011,0.04167565330862999,0.03937336057424545,0.15412093698978424,0.7291998267173767,0.8158528208732605,0.7846810817718506,0.797097384929657,0.7299939393997192,0.7291998267173767,0.7504631876945496,0.7864134311676025,0.7291998267173767,0.022086508572101593,0.7707861661911011,0.7544083595275879,0.7184504866600037,0.7501962184906006,0.7029069066047668,0.25246623158454895,0.7501962184906006,0.7291998267173767,0.7544083595275879,0.7291998267173767,0.25246623158454895,0.2613986134529114,0.7846810817718506,0.7291998267173767,0.7846810817718506,0.6987423300743103,0.15412093698978424,0.6987423300743103,0.7846810817718506,0.6987423300743103,0.7846810817718506,0.6987423300743103,0.7420211434364319,0.20843002200126648,0.7846810817718506,0.19625522196292877,0.6617863178253174,0.18994560837745667,0.7846810817718506,0.19625522196292877,0.03361493721604347,0.6623056530952454,0.17265687882900238,0.18994560837745667,0.7846810817718506,0.7351284027099609,0.77458655834198,0.2854362428188324,0.05807904154062271,0.77458655834198,0.77458655834198,0.77458655834198,0.7351284027099609,0.77458655834198,0.77458655834198,0.7086343169212341,0.7598780393600464,0.2549130320549011,0.05408428609371185,0.7598780393600464,0.7598780393600464,0.7598780393600464,0.7086343169212341,0.7598780393600464,0.7598780393600464,0.7086343169212341,0.08315003663301468,0.07150997966527939,0.6461812853813171,0.31371739506721497,0.2549130320549011,0.6357988119125366,0.7662287354469299,0.5603698492050171,0.1922328770160675,0.622866690158844,0.35781005024909973,0.7086343169212341,0.7577467560768127,0.0774562880396843,0.7542800903320312,0.7304567098617554,0.7086343169212341,0.7329941987991333,0.6996695399284363,0.48086369037628174,0.7581759095191956,0.7598780393600464,0.7086343169212341,0.7885459065437317,0.1622544676065445,0.7086343169212341,0.17547552287578583,0.3186151087284088,0.7879587411880493,0.7086343169212341,0.6947885751724243,0.6947885751724243,0.03466834872961044,0.7598780393600464,0.7598780393600464,0.5023190975189209,0.7562021613121033,0.7086343169212341,0.6021262407302856,0.7202857136726379,0.7291998267173767,0.02686394564807415,0.7351284027099609,0.5882506370544434,0.7951445579528809,0.029272370040416718,0.7588931918144226,0.7339097857475281,0.7857972383499146,0.6854700446128845,0.7823705673217773,0.5687703490257263,0.7813311815261841,0.7748578786849976,0.706038236618042,0.7813311815261841,0.7760492563247681,0.7086343169212341,0.05574658513069153,0.08328769356012344,0.15550780296325684,0.13027651607990265,0.0781976506114006,0.21884669363498688,0.31828534603118896,0.14296597242355347,0.13931912183761597,0.3321489989757538,0.07834966480731964,0.21778780221939087,0.07530945539474487,0.11619317531585693,0.07622773200273514,0.21864435076713562,0.718109130859375,0.7595964074134827,0.6803897619247437,0.7482568621635437,0.5130845308303833,0.7479025721549988,0.7598391175270081,0.7101263999938965,0.7479025721549988,0.7304778695106506,0.08266951143741608,0.6741288900375366,0.7181140184402466,0.10387380421161652,0.06180311366915703,0.7246829867362976,0.4951283633708954,0.7808297276496887,0.7522537112236023,0.02406369522213936,0.3669966459274292,0.26603424549102783,0.06631213426589966,0.6783203482627869,0.6853759288787842,0.6814819574356079,0.7168852686882019,0.6802864074707031,0.6861205101013184,0.219404399394989,0.24562467634677887,0.7302301526069641,0.6665621995925903,0.7031926512718201,0.22278030216693878,0.5945754647254944,0.6919798254966736,0.6789085268974304,0.3029440641403198,0.4293754994869232,0.2679646611213684,0.10758907347917557,0.6813780665397644,0.7049329280853271,0.7039870023727417,0.7479292750358582,0.6876551508903503,0.7154033184051514,0.22662897408008575,0.21702246367931366,0.7176132798194885,0.6355322003364563,0.7187455296516418,0.23059087991714478,0.6522856950759888,0.7181528806686401,0.6769277453422546,0.3466528058052063,0.6203926801681519,0.6576748490333557,0.7230613231658936,0.4564563035964966,0.42921972274780273,0.7432857155799866,0.04813941568136215,0.7479062080383301,0.6203926801681519,0.18465791642665863,0.6204401850700378,0.6391952633857727,0.48232999444007874,0.7252193093299866,0.6783443093299866,0.7045649290084839,0.7475497126579285,0.7334393858909607,0.7189812660217285,0.49487659335136414,0.26586824655532837,0.10212617367506027,0.7112301588058472,0.7143347859382629,0.7075303196907043,0.7394891381263733,0.7158715128898621,0.7339169979095459,0.22469830513000488,0.3277774155139923,0.7117727398872375,0.48867106437683105,0.759507954120636,0.22713983058929443,0.6401825547218323,0.7204878926277161,0.6656750440597534,0.3705289661884308,0.35110288858413696,0.208513081073761,0.0934036523103714,0.7023680806159973,0.7287958264350891,0.7206532955169678,0.7330889105796814,0.69797682762146,0.676429271697998,0.6806740760803223,0.5981312990188599,0.07513581216335297,0.00020565552404150367,0.00020565552404150367,0.00020565552404150367,0.00020565552404150367,0.00020565552404150367,0.00020565552404150367,0.00020565552404150367,0.64613276720047,0.4633100628852844,0.08567116409540176,0.00020565552404150367,0.00020565552404150367,0.00020565552404150367,0.00020565552404150367,0.00020565552404150367,0.00020565552404150367,0.00020565552404150367,0.6806740760803223,0.6089271306991577,0.08444438129663467,0.00020565552404150367,0.00020565552404150367,0.00020565552404150367,0.00020565552404150367,0.00020565552404150367,0.00020565552404150367,0.00020565552404150367,0.00020565552404150367,0.00020565552404150367,0.00020565552404150367,0.00020565552404150367,0.00020565552404150367,0.00020565552404150367,0.1238214373588562,0.00020565552404150367,0.00020565552404150367,0.00020565552404150367,0.6806740760803223,0.6813008785247803,0.00020565552404150367,0.0018015984678640962,0.00020565552404150367,0.00020565552404150367,0.00020565552404150367,0.00020565552404150367,0.00020565552404150367,0.00020565552404150367,0.00020565552404150367,0.6806740760803223,0.00020565552404150367,0.6813008785247803,0.00020565552404150367,0.0018015984678640962,0.00020565552404150367,0.00020565552404150367,0.00020565552404150367,0.00020565552404150367,0.00020565552404150367,0.00020565552404150367,0.00020565552404150367,0.668195903301239,0.00020565552404150367,0.0019162936368957162,0.00020565552404150367,0.00020565552404150367,0.00020565552404150367,0.00020565552404150367,0.00020565552404150367,0.00020565552404150367,0.00020565552404150367,0.00020565552404150367,0.01412359531968832,0.00020565552404150367,0.00020565552404150367,0.00020565552404150367,0.12284170836210251,0.10719193518161774,0.00020565552404150367,0.00020565552404150367,0.00020565552404150367,0.6060107946395874,0.00020565552404150367,0.00020565552404150367,0.00020565552404150367,0.00020565552404150367,0.00020565552404150367,0.00020565552404150367,0.005537849850952625,0.00020565552404150367,0.604608952999115,0.00020565552404150367,0.00020565552404150367,0.00020565552404150367,0.00020565552404150367,0.00020565552404150367,0.00020565552404150367,0.004613119643181562,0.00020565552404150367]},\"selected\":{\"id\":\"fc8250d3-29b1-4363-8be2-f2976c9093ac\",\"type\":\"Selection\"},\"selection_policy\":{\"id\":\"9045a453-3040-43de-a706-4a9229b9aaff\",\"type\":\"UnionRenderers\"}},\"id\":\"4368700c-72ee-49bf-9ebe-27c323aa2a9b\",\"type\":\"ColumnDataSource\"}],\"root_ids\":[\"2454ab2b-b89f-454e-a2e0-66f22079dbb4\"]},\"title\":\"Bokeh Application\",\"version\":\"0.13.0\"}};\n",
       "  var render_items = [{\"docid\":\"5b27e6f8-2e56-4f9b-87dc-b38000c16629\",\"roots\":{\"2454ab2b-b89f-454e-a2e0-66f22079dbb4\":\"68f15cb2-ccdd-4d8c-8350-718977fe20ad\"}}];\n",
       "  root.Bokeh.embed.embed_items_notebook(docs_json, render_items);\n",
       "\n",
       "  }\n",
       "  if (root.Bokeh !== undefined) {\n",
       "    embed_document(root);\n",
       "  } else {\n",
       "    var attempts = 0;\n",
       "    var timer = setInterval(function(root) {\n",
       "      if (root.Bokeh !== undefined) {\n",
       "        embed_document(root);\n",
       "        clearInterval(timer);\n",
       "      }\n",
       "      attempts++;\n",
       "      if (attempts > 100) {\n",
       "        console.log(\"Bokeh: ERROR: Unable to run BokehJS code because BokehJS library is missing\")\n",
       "        clearInterval(timer);\n",
       "      }\n",
       "    }, 10, root)\n",
       "  }\n",
       "})(window);"
      ],
      "application/vnd.bokehjs_exec.v0+json": ""
     },
     "metadata": {
      "application/vnd.bokehjs_exec.v0+json": {
       "id": "2454ab2b-b89f-454e-a2e0-66f22079dbb4"
      }
     },
     "output_type": "display_data"
    },
    {
     "name": "stdout",
     "output_type": "stream",
     "text": [
      "time: 700 ms\n"
     ]
    }
   ],
   "source": [
    "show(p)"
   ]
  },
  {
   "cell_type": "code",
   "execution_count": null,
   "metadata": {},
   "outputs": [],
   "source": []
  },
  {
   "cell_type": "code",
   "execution_count": null,
   "metadata": {},
   "outputs": [],
   "source": []
  },
  {
   "cell_type": "code",
   "execution_count": null,
   "metadata": {},
   "outputs": [],
   "source": []
  },
  {
   "cell_type": "code",
   "execution_count": null,
   "metadata": {},
   "outputs": [],
   "source": []
  },
  {
   "cell_type": "code",
   "execution_count": null,
   "metadata": {},
   "outputs": [],
   "source": []
  },
  {
   "cell_type": "code",
   "execution_count": null,
   "metadata": {},
   "outputs": [],
   "source": []
  },
  {
   "cell_type": "code",
   "execution_count": null,
   "metadata": {},
   "outputs": [],
   "source": []
  },
  {
   "cell_type": "code",
   "execution_count": null,
   "metadata": {},
   "outputs": [],
   "source": []
  },
  {
   "cell_type": "code",
   "execution_count": null,
   "metadata": {},
   "outputs": [],
   "source": []
  },
  {
   "cell_type": "code",
   "execution_count": 26,
   "metadata": {},
   "outputs": [],
   "source": [
    "pipelines = {}\n",
    "params = {}\n",
    "for pipeline in data:\n",
    "    accuracy = pipeline['metrics']['score']\n",
    "    if accuracy is not None:\n",
    "        name = pipeline['pipeline']['steps'][-1]['primitive']['name']\n",
    "        if 'humanReadableParameters' in pipeline['pipeline']['steps'][-1]['primitive']:\n",
    "            pipe_params = pipeline['pipeline']['steps'][-1]['primitive']['humanReadableParameters']\n",
    "            for param,value in pipe_params.items():\n",
    "                if param in params:\n",
    "                    params[param].append(value)\n",
    "                else:\n",
    "                    params[param] = [value]\n",
    "        if name in pipelines:\n",
    "            pipelines[name].append(accuracy)\n",
    "        else:\n",
    "            pipelines[name] = [accuracy]\n",
    "\n",
    "pipes = []\n",
    "scores = []\n",
    "for pipeline,accuracies in pipelines.items():\n",
    "    pipes.extend(np.repeat(pipeline,len(accuracies)))\n",
    "    scores.extend(accuracies)\n",
    "\n",
    "pipeline_accuracies = pd.DataFrame(data=list(map(list, zip(*[pipes,scores]))),columns=[\"Name\", \"Accuracy\"])\n",
    "\n",
    "mean_pipeline_accuracies = pd.DataFrame(columns=[\"Name\", \"Accuracy\", \"Count\", \"SD\"])\n",
    "names = []\n",
    "accuracies = []\n",
    "counts = []\n",
    "sds = []\n",
    "for pipe,accuracy in pipelines.items():\n",
    "    names.append(pipe)\n",
    "    accuracies.append(np.median(accuracy))\n",
    "    counts.append(len(accuracy))\n",
    "    sds.append(np.std(accuracy))\n",
    "mean_pipeline_accuracies = pd.DataFrame(data=list(map(list, zip(*[names,accuracies,counts,sds]))),\n",
    "                                        columns=[\"Name\", \"Accuracy\", \"Count\", \"SD\"])\n",
    "mean_pipeline_accuracies = mean_pipeline_accuracies.sort_values(by=['Accuracy'], ascending=False)\n",
    "\n",
    "# Data manipulation for plotting\n",
    "counts = list(mean_pipeline_accuracies['Count'])\n",
    "names = list(mean_pipeline_accuracies['Name'])\n",
    "names_counts = []\n",
    "for idx in range(len(counts)):\n",
    "    names_counts.append(names[idx] + \" : \" + str(counts[idx]))\n",
    "# Boxplots for adjusted accuracy of sklearn flows\n",
    "sns.set(style=\"ticks\")\n",
    "f, ax = plt.subplots(figsize=(25, 25))\n",
    "plot = sns.boxplot(y=\"Name\", x=\"Accuracy\", data = pipeline_accuracies, order=list(mean_pipeline_accuracies['Name']))\n",
    "plot.set_xlabel(\"Accuracy\",fontsize=30)\n",
    "plot.set_ylabel(\"Classifier\",fontsize=30)\n",
    "plot.set_title(\"Classifiers vs Accuracy\", fontsize=50)\n",
    "plot.tick_params(labelsize=20)\n",
    "plot.set_yticklabels(names_counts)\n",
    "#plot.plot([0,0], [-5,35], 'r--', linewidth = 5)"
   ]
  },
  {
   "cell_type": "code",
   "execution_count": 8,
   "metadata": {},
   "outputs": [
    {
     "name": "stdout",
     "output_type": "stream",
     "text": [
      "time: 2.41 ms\n"
     ]
    }
   ],
   "source": [
    "output_file(\"boxplot.html\", title=\"boxplot.py example\")"
   ]
  },
  {
   "cell_type": "code",
   "execution_count": 16,
   "metadata": {},
   "outputs": [
    {
     "data": {
      "text/html": [
       "\n",
       "\n",
       "\n",
       "\n",
       "\n",
       "\n",
       "  <div class=\"bk-root\" id=\"f62a5a7c-5ef7-45cb-a872-8336cc5e1c7a\"></div>\n"
      ]
     },
     "metadata": {},
     "output_type": "display_data"
    },
    {
     "data": {
      "application/javascript": [
       "(function(root) {\n",
       "  function embed_document(root) {\n",
       "    \n",
       "  var docs_json = {\"de7a2e84-6ecd-4147-b4cd-43e6ba42421b\":{\"roots\":{\"references\":[{\"attributes\":{},\"id\":\"bd4938f1-85f9-4c41-b5b7-83b2281fd0cc\",\"type\":\"Selection\"},{\"attributes\":{},\"id\":\"505e43b8-60d3-4d1e-b728-ff013f954c67\",\"type\":\"UnionRenderers\"},{\"attributes\":{},\"id\":\"1a45b517-615c-4042-a8dc-47bbef5c69b8\",\"type\":\"Selection\"},{\"attributes\":{},\"id\":\"6c934c66-089d-4971-b334-54a1bd4110cc\",\"type\":\"UnionRenderers\"},{\"attributes\":{},\"id\":\"975140d1-9f28-434b-b213-9ba29b0cc6f2\",\"type\":\"StringEditor\"},{\"attributes\":{},\"id\":\"8378cdfe-f80b-4fce-8935-c93c8d87d6eb\",\"type\":\"StringFormatter\"},{\"attributes\":{},\"id\":\"08d52d9c-c278-48f2-8858-5655fcd1eca7\",\"type\":\"StringEditor\"},{\"attributes\":{},\"id\":\"70c49287-7d63-4391-8ec2-71e8ac1f38a4\",\"type\":\"StringFormatter\"},{\"attributes\":{},\"id\":\"fa0b6f8a-4ade-4b8e-a7a6-d135713ba024\",\"type\":\"StringEditor\"},{\"attributes\":{},\"id\":\"00a712dd-a532-4475-b320-227d743cbd11\",\"type\":\"StringFormatter\"},{\"attributes\":{\"callback\":null},\"id\":\"183bceac-6434-4c71-9b0f-32ab03edb407\",\"type\":\"DataRange1d\"},{\"attributes\":{\"callback\":null,\"overlay\":{\"id\":\"0557169d-e78e-4a01-9e9d-df6e0be5745e\",\"type\":\"BoxAnnotation\"}},\"id\":\"1cc216e5-e021-4ec8-b805-ae34626b4266\",\"type\":\"BoxSelectTool\"},{\"attributes\":{},\"id\":\"7a2f357f-8628-4899-a479-c88db3c554da\",\"type\":\"LinearScale\"},{\"attributes\":{\"args\":{\"s2\":{\"id\":\"3b6d8018-bfdb-4894-b4db-809184b8c9bb\",\"type\":\"ColumnDataSource\"}},\"code\":\"\\n        var inds = cb_obj.selected.indices;\\n        var d1 = cb_obj.data;\\n        var d2 = s2.data;\\n        d2['x'] = []\\n        d2['y'] = []\\n        d2['name'] = []\\n        for (var i = 0; i < inds.length; i++) {\\n            d2['x'].push(d1['x'][inds[i]])\\n            d2['y'].push(d1['y'][inds[i]])\\n            d2['name'].push(d1['name'][inds[i]])\\n        }\\n        s2.change.emit();\\n    \"},\"id\":\"57f94ed4-d447-453a-98ea-c9b2c9816dc5\",\"type\":\"CustomJS\"},{\"attributes\":{\"plot\":null,\"text\":\"Select Here\"},\"id\":\"93dfb092-a0d4-48f0-b7d0-9dc5a2f5f5ff\",\"type\":\"Title\"},{\"attributes\":{\"formatter\":{\"id\":\"8992fc51-c93f-4a85-99dc-030cb00f19e1\",\"type\":\"BasicTickFormatter\"},\"plot\":{\"id\":\"6bf837ed-a500-4a03-b2a8-11eb615c612a\",\"subtype\":\"Figure\",\"type\":\"Plot\"},\"ticker\":{\"id\":\"4de5cc52-4d9f-4397-b8e1-ca2101fce53b\",\"type\":\"BasicTicker\"}},\"id\":\"e08bc6ea-1a31-463c-9235-ddba7749b7c3\",\"type\":\"LinearAxis\"},{\"attributes\":{\"plot\":{\"id\":\"6bf837ed-a500-4a03-b2a8-11eb615c612a\",\"subtype\":\"Figure\",\"type\":\"Plot\"},\"ticker\":{\"id\":\"4de5cc52-4d9f-4397-b8e1-ca2101fce53b\",\"type\":\"BasicTicker\"}},\"id\":\"d748668a-4eca-43c9-85d7-4deed3b94343\",\"type\":\"Grid\"},{\"attributes\":{},\"id\":\"4de5cc52-4d9f-4397-b8e1-ca2101fce53b\",\"type\":\"BasicTicker\"},{\"attributes\":{\"formatter\":{\"id\":\"c23f95fc-a10d-4568-b15c-dfea1152eb6e\",\"type\":\"BasicTickFormatter\"},\"plot\":{\"id\":\"6bf837ed-a500-4a03-b2a8-11eb615c612a\",\"subtype\":\"Figure\",\"type\":\"Plot\"},\"ticker\":{\"id\":\"b6df60d8-0ef7-4a15-893f-ed3e4361b0a3\",\"type\":\"BasicTicker\"}},\"id\":\"59327c66-9ed8-4f68-9e54-324e88072fcc\",\"type\":\"LinearAxis\"},{\"attributes\":{},\"id\":\"b6df60d8-0ef7-4a15-893f-ed3e4361b0a3\",\"type\":\"BasicTicker\"},{\"attributes\":{\"dimension\":1,\"plot\":{\"id\":\"6bf837ed-a500-4a03-b2a8-11eb615c612a\",\"subtype\":\"Figure\",\"type\":\"Plot\"},\"ticker\":{\"id\":\"b6df60d8-0ef7-4a15-893f-ed3e4361b0a3\",\"type\":\"BasicTicker\"}},\"id\":\"67b5b4db-a788-4f03-a756-e79bfd5c1ca0\",\"type\":\"Grid\"},{\"attributes\":{\"bottom_units\":\"screen\",\"fill_alpha\":{\"value\":0.5},\"fill_color\":{\"value\":\"lightgrey\"},\"left_units\":\"screen\",\"level\":\"overlay\",\"line_alpha\":{\"value\":1.0},\"line_color\":{\"value\":\"black\"},\"line_dash\":[4,4],\"line_width\":{\"value\":2},\"plot\":null,\"render_mode\":\"css\",\"right_units\":\"screen\",\"top_units\":\"screen\"},\"id\":\"0557169d-e78e-4a01-9e9d-df6e0be5745e\",\"type\":\"BoxAnnotation\"},{\"attributes\":{\"callback\":null},\"id\":\"6b989749-821f-4e7e-a69c-95bc851bfdc7\",\"type\":\"DataRange1d\"},{\"attributes\":{\"data_source\":{\"id\":\"90afe812-03d6-41d9-8675-af68def6324b\",\"type\":\"ColumnDataSource\"},\"glyph\":{\"id\":\"6d2e0c16-c52b-4e17-b9e5-04fddb50bef0\",\"type\":\"Circle\"},\"hover_glyph\":null,\"muted_glyph\":null,\"nonselection_glyph\":{\"id\":\"6ef7ec8f-b960-45da-89e0-be436cee75a2\",\"type\":\"Circle\"},\"selection_glyph\":null,\"view\":{\"id\":\"dd872772-b512-47fb-9944-073dd9a3823b\",\"type\":\"CDSView\"}},\"id\":\"8eadba80-d03c-4a43-a93b-1166c364f46d\",\"type\":\"GlyphRenderer\"},{\"attributes\":{\"active_drag\":\"auto\",\"active_inspect\":\"auto\",\"active_multi\":null,\"active_scroll\":\"auto\",\"active_tap\":\"auto\",\"tools\":[{\"id\":\"1cc216e5-e021-4ec8-b805-ae34626b4266\",\"type\":\"BoxSelectTool\"}]},\"id\":\"d8f8c39a-fd55-4112-b9b1-f98280424f3a\",\"type\":\"Toolbar\"},{\"attributes\":{\"callback\":null,\"data\":{\"name\":[],\"x\":[],\"y\":[]},\"selected\":{\"id\":\"1a45b517-615c-4042-a8dc-47bbef5c69b8\",\"type\":\"Selection\"},\"selection_policy\":{\"id\":\"6c934c66-089d-4971-b334-54a1bd4110cc\",\"type\":\"UnionRenderers\"}},\"id\":\"3b6d8018-bfdb-4894-b4db-809184b8c9bb\",\"type\":\"ColumnDataSource\"},{\"attributes\":{\"fill_alpha\":{\"value\":0.1},\"fill_color\":{\"value\":\"#1f77b4\"},\"line_alpha\":{\"value\":0.1},\"line_color\":{\"value\":\"#1f77b4\"},\"x\":{\"field\":\"x\"},\"y\":{\"field\":\"y\"}},\"id\":\"6ef7ec8f-b960-45da-89e0-be436cee75a2\",\"type\":\"Circle\"},{\"attributes\":{\"callback\":{\"id\":\"57f94ed4-d447-453a-98ea-c9b2c9816dc5\",\"type\":\"CustomJS\"},\"data\":{\"name\":[\"name_0\",\"name_1\",\"name_2\",\"name_3\",\"name_4\",\"name_5\",\"name_6\",\"name_7\",\"name_8\",\"name_9\",\"name_10\",\"name_11\",\"name_12\",\"name_13\",\"name_14\",\"name_15\",\"name_16\",\"name_17\",\"name_18\",\"name_19\",\"name_20\",\"name_21\",\"name_22\",\"name_23\",\"name_24\",\"name_25\",\"name_26\",\"name_27\",\"name_28\",\"name_29\",\"name_30\",\"name_31\",\"name_32\",\"name_33\",\"name_34\",\"name_35\",\"name_36\",\"name_37\",\"name_38\",\"name_39\",\"name_40\",\"name_41\",\"name_42\",\"name_43\",\"name_44\",\"name_45\",\"name_46\",\"name_47\",\"name_48\",\"name_49\",\"name_50\",\"name_51\",\"name_52\",\"name_53\",\"name_54\",\"name_55\",\"name_56\",\"name_57\",\"name_58\",\"name_59\",\"name_60\",\"name_61\",\"name_62\",\"name_63\",\"name_64\",\"name_65\",\"name_66\",\"name_67\",\"name_68\",\"name_69\",\"name_70\",\"name_71\",\"name_72\",\"name_73\",\"name_74\",\"name_75\",\"name_76\",\"name_77\",\"name_78\",\"name_79\",\"name_80\",\"name_81\",\"name_82\",\"name_83\",\"name_84\",\"name_85\",\"name_86\",\"name_87\",\"name_88\",\"name_89\",\"name_90\",\"name_91\",\"name_92\",\"name_93\",\"name_94\",\"name_95\",\"name_96\",\"name_97\",\"name_98\",\"name_99\",\"name_100\",\"name_101\",\"name_102\",\"name_103\",\"name_104\",\"name_105\",\"name_106\",\"name_107\",\"name_108\",\"name_109\",\"name_110\",\"name_111\",\"name_112\",\"name_113\",\"name_114\",\"name_115\",\"name_116\",\"name_117\",\"name_118\",\"name_119\",\"name_120\",\"name_121\",\"name_122\",\"name_123\",\"name_124\",\"name_125\",\"name_126\",\"name_127\",\"name_128\",\"name_129\",\"name_130\",\"name_131\",\"name_132\",\"name_133\",\"name_134\",\"name_135\",\"name_136\",\"name_137\",\"name_138\",\"name_139\",\"name_140\",\"name_141\",\"name_142\",\"name_143\",\"name_144\",\"name_145\",\"name_146\",\"name_147\",\"name_148\",\"name_149\",\"name_150\",\"name_151\",\"name_152\",\"name_153\",\"name_154\",\"name_155\",\"name_156\",\"name_157\",\"name_158\",\"name_159\",\"name_160\",\"name_161\",\"name_162\",\"name_163\",\"name_164\",\"name_165\",\"name_166\",\"name_167\",\"name_168\",\"name_169\",\"name_170\",\"name_171\",\"name_172\",\"name_173\",\"name_174\",\"name_175\",\"name_176\",\"name_177\",\"name_178\",\"name_179\",\"name_180\",\"name_181\",\"name_182\",\"name_183\",\"name_184\",\"name_185\",\"name_186\",\"name_187\",\"name_188\",\"name_189\",\"name_190\",\"name_191\",\"name_192\",\"name_193\",\"name_194\",\"name_195\",\"name_196\",\"name_197\",\"name_198\",\"name_199\",\"name_200\",\"name_201\",\"name_202\",\"name_203\",\"name_204\",\"name_205\",\"name_206\",\"name_207\",\"name_208\",\"name_209\",\"name_210\",\"name_211\",\"name_212\",\"name_213\",\"name_214\",\"name_215\",\"name_216\",\"name_217\",\"name_218\",\"name_219\",\"name_220\",\"name_221\",\"name_222\",\"name_223\",\"name_224\",\"name_225\",\"name_226\",\"name_227\",\"name_228\",\"name_229\",\"name_230\",\"name_231\",\"name_232\",\"name_233\",\"name_234\",\"name_235\",\"name_236\",\"name_237\",\"name_238\",\"name_239\",\"name_240\",\"name_241\",\"name_242\",\"name_243\",\"name_244\",\"name_245\",\"name_246\",\"name_247\",\"name_248\",\"name_249\",\"name_250\",\"name_251\",\"name_252\",\"name_253\",\"name_254\",\"name_255\",\"name_256\",\"name_257\",\"name_258\",\"name_259\",\"name_260\",\"name_261\",\"name_262\",\"name_263\",\"name_264\",\"name_265\",\"name_266\",\"name_267\",\"name_268\",\"name_269\",\"name_270\",\"name_271\",\"name_272\",\"name_273\",\"name_274\",\"name_275\",\"name_276\",\"name_277\",\"name_278\",\"name_279\",\"name_280\",\"name_281\",\"name_282\",\"name_283\",\"name_284\",\"name_285\",\"name_286\",\"name_287\",\"name_288\",\"name_289\",\"name_290\",\"name_291\",\"name_292\",\"name_293\",\"name_294\",\"name_295\",\"name_296\",\"name_297\",\"name_298\",\"name_299\",\"name_300\",\"name_301\",\"name_302\",\"name_303\",\"name_304\",\"name_305\",\"name_306\",\"name_307\",\"name_308\",\"name_309\",\"name_310\",\"name_311\",\"name_312\",\"name_313\",\"name_314\",\"name_315\",\"name_316\",\"name_317\",\"name_318\",\"name_319\",\"name_320\",\"name_321\",\"name_322\",\"name_323\",\"name_324\",\"name_325\",\"name_326\",\"name_327\",\"name_328\",\"name_329\",\"name_330\",\"name_331\",\"name_332\",\"name_333\",\"name_334\",\"name_335\",\"name_336\",\"name_337\",\"name_338\",\"name_339\",\"name_340\",\"name_341\",\"name_342\",\"name_343\",\"name_344\",\"name_345\",\"name_346\",\"name_347\",\"name_348\",\"name_349\",\"name_350\",\"name_351\",\"name_352\",\"name_353\",\"name_354\",\"name_355\",\"name_356\",\"name_357\",\"name_358\",\"name_359\",\"name_360\",\"name_361\",\"name_362\",\"name_363\",\"name_364\",\"name_365\",\"name_366\",\"name_367\",\"name_368\",\"name_369\",\"name_370\",\"name_371\",\"name_372\",\"name_373\",\"name_374\",\"name_375\",\"name_376\",\"name_377\",\"name_378\",\"name_379\",\"name_380\",\"name_381\",\"name_382\",\"name_383\",\"name_384\",\"name_385\",\"name_386\",\"name_387\",\"name_388\",\"name_389\",\"name_390\",\"name_391\",\"name_392\",\"name_393\",\"name_394\",\"name_395\",\"name_396\",\"name_397\",\"name_398\",\"name_399\",\"name_400\",\"name_401\",\"name_402\",\"name_403\",\"name_404\",\"name_405\",\"name_406\",\"name_407\",\"name_408\",\"name_409\",\"name_410\",\"name_411\",\"name_412\",\"name_413\",\"name_414\",\"name_415\",\"name_416\",\"name_417\",\"name_418\",\"name_419\",\"name_420\",\"name_421\",\"name_422\",\"name_423\",\"name_424\",\"name_425\",\"name_426\",\"name_427\",\"name_428\",\"name_429\",\"name_430\",\"name_431\",\"name_432\",\"name_433\",\"name_434\",\"name_435\",\"name_436\",\"name_437\",\"name_438\",\"name_439\",\"name_440\",\"name_441\",\"name_442\",\"name_443\",\"name_444\",\"name_445\",\"name_446\",\"name_447\",\"name_448\",\"name_449\",\"name_450\",\"name_451\",\"name_452\",\"name_453\",\"name_454\",\"name_455\",\"name_456\",\"name_457\",\"name_458\",\"name_459\",\"name_460\",\"name_461\",\"name_462\",\"name_463\",\"name_464\",\"name_465\",\"name_466\",\"name_467\",\"name_468\",\"name_469\",\"name_470\",\"name_471\",\"name_472\",\"name_473\",\"name_474\",\"name_475\",\"name_476\",\"name_477\",\"name_478\",\"name_479\",\"name_480\",\"name_481\",\"name_482\",\"name_483\",\"name_484\",\"name_485\",\"name_486\",\"name_487\",\"name_488\",\"name_489\",\"name_490\",\"name_491\",\"name_492\",\"name_493\",\"name_494\",\"name_495\",\"name_496\",\"name_497\",\"name_498\",\"name_499\"],\"x\":[0.296390172045341,0.054333033602306346,0.809404336797181,0.1939484391555013,0.20539583841714448,0.4874862334658594,0.2968803697555654,0.7078180289360742,0.13644660005603526,0.5656658726841743,0.6678395705379025,0.6844151401364927,0.22283111092028118,0.17690164514570217,0.5057813577201608,0.3926322551769039,0.0122014219438491,0.9539596961888633,0.9366440137672453,0.6508792893402318,0.001852099150956299,0.6068483605854924,0.3719434868102389,0.32292932940255903,0.19502003423095138,0.5599752997890177,0.3393591227837406,0.4960416007269526,0.15494480008690092,0.7727620456261112,0.7103892441683669,0.22910661637722773,0.2621013072218482,0.8994431048840472,0.544910448249777,0.6186373586214002,0.028665969461922458,0.9889012504519046,0.640794869932963,0.3727011430004099,0.5217421199838006,0.5725241214057942,0.8943171066931495,0.866584416136733,0.44559762320945195,0.5229369112143346,0.3941223067911478,0.7610641327967492,0.564948527395705,0.8986535750486093,0.6834802369272124,0.8099044604363109,0.7943353540411038,0.0020140816373654946,0.15573990301567386,0.30645920988881803,0.8802342840017243,0.003283932920320698,0.4333177803271927,0.21628881203055417,0.9194906072683051,0.9859035268880328,0.821014410688861,0.586742701655122,0.43476851641290926,0.19989143225600736,0.41898629125568987,0.022246768412463203,0.26959569849842846,0.3765612314851714,0.14976132414008725,0.22667602084705651,0.7491289032774046,0.27964176315607603,0.4579833108929042,0.42667358628472807,0.4288938788513478,0.25851343817050876,0.9525405043114588,0.7822128153457121,0.06565946841676218,0.9216975246041572,0.9886023105097532,0.1614800470600094,0.6844037571592047,0.18060783000910052,0.3959303168851913,0.01349083108160265,0.002271272573823646,0.30279288815405137,0.9074901593717448,0.713918857815138,0.18898839034426407,0.4247500877150663,0.970996680308228,0.32884993801713114,0.23010735833918528,0.2839657293796565,0.35315127697851845,0.2269499520100282,0.3898809474996583,0.179675496150692,0.9957818284083376,0.49930235310990234,0.5865072617661873,0.37900341885389366,0.7131326919640314,0.8580180710017582,0.514694993379895,0.5713495096019489,0.32730030735220006,0.17969974431330304,0.2027324821083334,0.22391939400012917,0.5145133388477561,0.04249398314162889,0.9265445297554815,0.49728120813173005,0.9293794126438746,0.5861622808708615,0.8814652218227255,0.09053510628028749,0.1309562441871771,0.1652829353557933,0.8002075379276558,0.46419254082017425,0.8222518364663692,0.2768572316274498,0.47663925409385555,0.6148676855135946,0.17814827552855272,0.5789852385404184,0.09750978041250613,0.8582167619588381,0.04336329119712601,0.13441398532388793,0.6172481240305944,0.10979826604075227,0.23172444257581049,0.13860095740814005,0.4650582720202471,0.05685141495136592,0.03624036744923376,0.06700441006725188,0.6704129849888381,0.2042951944258523,0.2926180239009353,0.02073153879865053,0.03305202373542282,0.9997201272078107,0.9267505340156494,0.7473943154701311,0.9016911334928058,0.6166199617349305,0.5925246906395729,0.05152871351405619,0.5797862022867637,0.933958617938071,0.302341765923678,0.3310785463858935,0.9435050898905921,0.2818772078649302,0.8594096532000356,0.3580113071416774,0.7432611662861556,0.7538853307780975,0.4747848929155506,0.6732189474561503,0.017622497038072504,0.8888236778507618,0.15465517567806963,0.20392302319994926,0.8231838433403199,0.4490929794803289,0.1807920312127429,0.17496835053390514,0.17325105762086102,0.10646768880566293,0.15928122909797937,0.20646559108173024,0.5616212727810859,0.9402091658908398,0.9412112887584276,0.8818990093651264,0.9827518502403584,0.7616822338798384,0.20444166410454556,0.5825615506073544,0.615503333543417,0.9436366829474699,0.5919057908043319,0.904074780048024,0.37860511422835175,0.882582363711253,0.8048314063557417,0.2248200372281417,0.34812501221976655,0.6226749868253767,0.004040701076359343,0.38165068215904285,0.9865948673333521,0.07492909897867861,0.2349933929949578,0.08863886175367819,0.9603982665355388,0.05019270608857529,0.6778979988399373,0.4602251273730701,0.39120756587202155,0.11845510000617376,0.3604869068819767,0.26811833454676837,0.5116068644063527,0.7732478062001739,0.19265805353888,0.007197951410645942,0.24565418347531032,0.015508915082466435,0.3456376348281235,0.6959483710273104,0.26948926178375077,0.835380242933866,0.7062278992846602,0.49653581589381246,0.24776235294527404,0.9312171910731141,0.35453482044746387,0.07747255560441091,0.7561081019192267,0.5248284633496915,0.06706925046724743,0.05795159860319721,0.48518767535576446,0.9412932882855835,0.7441676627638949,0.19015906014504236,0.29492841834794115,0.17248942330430583,0.7519188169991554,0.1747332957191321,0.4534461597359898,0.7018602666851284,0.7838606706429434,0.469012528533271,0.09759139761532254,0.8584572377254943,0.754112116043336,0.9826223463721883,0.7200274329557698,0.816709597843913,0.23202822772175735,0.06603511592611666,0.950906907799973,0.7592853068100875,0.6131919253888304,0.9460441578048334,0.15076874279787023,0.011917227027187782,0.5746014528209198,0.8887599058252417,0.35158837992891034,0.32196359860753865,0.29101450116336414,0.4020772151832549,0.5465745279098998,0.4672256689566494,0.004615570043278727,0.15103641565518933,0.06851820698509825,0.8389888936707917,0.11812072287870234,0.5883672818044147,0.7227722008218551,0.08983419946791094,0.7626065618810013,0.3575328615964236,0.753661752152505,0.800923470622465,0.8086684037255775,0.6024555479270904,0.054662852761362735,0.747814038196796,0.6529993505757709,0.21189609718470748,0.19428504010403436,0.5544092045183611,0.09419699342654886,0.818548625044209,0.23771785560041958,0.21587623791458688,0.8162898770030051,0.5623578793519903,0.6488050396430892,0.32741750057945196,0.8482193010518236,0.004274604546544936,0.708040893403061,0.22837438502724938,0.9862112980905062,0.26714635277140064,0.7750722858074496,0.23667137717599995,0.9556702723365916,0.2805947802557994,0.4443014148218324,0.013603692285349522,0.8853603692742752,0.3059008245355427,0.15994708481725228,0.13511952998383037,0.9499779298404303,0.6742841761585397,0.35336333092510674,0.8474114499620174,0.40031780193260047,0.561619841326501,0.7826985158472142,0.6008113929743958,0.41434775630606924,0.43067540643863667,0.5094778934596954,0.25077567308189685,0.5431233382809697,0.9480486726801232,0.45663473500521656,0.3925345292278384,0.7814723222425122,0.7774659460690518,0.14822706477082193,0.3275802216432332,0.09017396455182825,0.57517273692091,0.5551457300886545,0.06602003713956972,0.7432178477145441,0.8064966646940687,0.2536746875154112,0.6831037202266863,0.8218348932526511,0.12521785769767957,0.8311441934339514,0.1344834999792235,0.9065686064647301,0.31468382545519014,0.13827071807216196,0.27447894849832,0.950988044774652,0.39015312673274605,0.010894865930803355,0.35954613407241554,0.7923963663372534,0.7921933140908128,0.18842742595846362,0.9886936486541426,0.7821386900246656,0.10917954037109212,0.9473693541596606,0.35015608518178565,0.23810940878343978,0.28503980149342867,0.047028853446838825,0.9091564271602786,0.9347377851583459,0.88219381197704,0.8327233447237862,0.6450567231119163,0.8238670140113787,0.8068469284383426,0.9151378629494615,0.8086548666179604,0.8101999553159691,0.9707715586080459,0.6940567467731427,0.509894182402443,0.9084010994388954,0.808548038085123,0.03327887380542227,0.8479712733381595,0.4903990842533945,0.9144008247747325,0.5857872390116502,0.6045145283492978,0.16092951657700916,0.8700200882847504,0.5455863288168367,0.6878846610479769,0.7891158428058141,0.9892415444175005,0.5234883478974581,0.2575446586601554,0.4600568267792964,0.9652761311709915,0.42768877594499566,0.13766004166446744,0.7510714109027666,0.04012877083452815,0.38596483189469755,0.5178876293565512,0.5336694617217415,0.8025008757208124,0.15261856300905707,0.6446048229965456,0.26613188899452134,0.2951627822324352,0.7464231604408883,0.03343435957119678,0.004885847938657428,0.312501127191803,0.9007490274434388,0.06312119616945,0.7733224452416474,0.856233385013519,0.014437765340583053,0.055646412471526574,0.4512507276089879,0.029263076970596602,0.6380302992986536,0.9313308569293717,0.14083755821456678,0.05983453825049534,0.9524518742300015,0.2950123392870322,0.4922152424483751,0.5545338999106403,0.3570461200169369,0.9972585340162797,0.8498965004900503,0.856893960259064,0.711480198099715,0.7468623798053187,0.13296511378864728,0.15426901807805915,0.23532026391890715,0.7176228606039422,0.23282474283765597,0.32438753659615804,0.6711042740648417,0.4674700518474497,0.7351413773592238,0.9314514570976742,0.0207027410063767,0.45974071951489925,0.5112746610704141,0.8980521822171091,0.5964808813122511,0.8436928256079044,0.5857405321810618,0.6550320353134893,0.5998666337989744,0.14345589571036577,0.18134661315107792,0.3651086448751545,0.256276767426596,0.4527742525428434,0.6115534847251977,0.42584677381631275,0.12182900211721792,0.24148493827118922,0.28519687973072405,0.05506511022848337,0.0074227925407912565,0.006775655523257651,0.42283889590888424,0.7246630434420566,0.901467831124383,0.6972095432942521,0.15930183788975505,0.4416017820973249,0.17266415488564069,0.8428734756961527,0.6525395850762099,0.31383469940788256,0.23111584740624458,0.11158014803630245,0.4199671258008226,0.8426366603319084,0.6780457045266911,0.9073394411167857,0.4223738813648751,0.6503815979030917,0.43350320632855266,0.5238414608813693,0.6647120840901241,0.47294397593291737,0.2362316318331934,0.13828722566052354,0.7280902625775634,0.16418728091066492,0.8192839527688195,0.489864963665009,0.8090100097318998,0.7632182811101835,0.6415477456592821,0.8043442899888854,0.2298538893778137,0.45448718623623174,0.5563625386865645,0.28618081319752575,0.9499234042401824,0.7850036684003535],\"y\":[0.04448017843892571,0.9631733717595958,0.563637591461997,0.5973632149777995,0.9930715157429436,0.7504468103534244,0.9377594371910212,0.6220094432229081,0.641204828651739,0.07680048263881778,0.43213140708736275,0.8301705319176036,0.0966460250880945,0.6577803192658361,0.3895134569433256,0.6913934526442868,0.5488783950007192,0.43033856995872455,0.41030018844876315,0.8113992371133681,0.5779631053286759,0.5309254023195996,0.33185212382249807,0.3920470709973525,0.23729651871645252,0.4766273813346914,0.6759434740120817,0.8553395785964475,0.015405473333204078,0.7869432458059777,0.31087255025197014,0.011462539735530575,0.4106875215673791,0.8098695689252687,0.26957662984192177,0.001401467589191685,0.5186979834126308,0.8339873537434279,0.4222637324980443,0.04057600318603305,0.9308814001083594,0.2595959138021269,0.7694761228782578,0.9259990014503701,0.8383167711748855,0.19401890800836707,0.09354739413601887,0.013382206550300757,0.08159174400084279,0.770637041332025,0.3925749087196496,0.6264605977325038,0.40799418435331025,0.3586460673751731,0.3295362364188946,0.685563194123877,0.5369299181682783,0.21876193298149305,0.5504490703757132,0.5485103735657445,0.554222487009424,0.9807479136398529,0.95190236073267,0.7859791446081683,0.5975544806265354,0.7466004757796291,0.37621992207887245,0.9646169008233924,0.37099891195380275,0.6247150035405025,0.9644531377342579,0.06169944250761683,0.23815607984518483,0.964625095242935,0.8131470727927174,0.2485002177370652,0.43905541290762407,0.021507056309785222,0.8963851158671193,0.15158611967271485,0.2053332706814499,0.12913935445912994,0.19652584607156065,0.10727754657719557,0.7419547350423183,0.4621284965705711,0.13764441553690998,0.6117952823205082,0.5553565043928909,0.2958896836068564,0.9080784611276311,0.42324838778099627,0.490310803935445,0.8023021217647258,0.13033406305846584,0.8810436989973762,0.47769154811752157,0.8522802288930208,0.5082159727090526,0.7084754469230348,0.8430010424706004,0.9434015787393478,0.08167618805595978,0.7439476146796314,0.579779050621099,0.8831285003927869,0.49340574225854816,0.5511203315085865,0.7469728620406102,0.9480744760784057,0.7469557585004271,0.9873145898639804,0.8427170872603915,0.5149085346828186,0.07770711095837568,0.24022639385961098,0.262472861682542,0.26133622381772603,0.44278149115200505,0.48757175719268264,0.059860323749259314,0.6403695645233277,0.5620495632250627,0.5309244570106628,0.3112304200392553,0.18772036008826853,0.5922596998253332,0.47001091937017414,0.8964225868655206,0.24217943206164005,0.26097384278893965,0.7355013153032548,0.7202875635266353,0.998644378078413,0.4055626832303688,0.9182924156235096,0.17730990404435598,0.3105835770751946,0.8018214062805157,0.4834067404222576,0.3421544241250102,0.8138339889759587,0.5260679370732956,0.5957089510866971,0.2912073796371064,0.9725481937132965,0.037571324605850775,0.014216501384881952,0.654619582324874,0.47998191416602876,0.06635964071032197,0.3907129326291362,0.03766347249542734,0.9032451276694782,0.9091799652390751,0.3404983701803952,0.30188388885029516,0.3898784782747211,0.2659025201634174,0.2899936316902978,0.9435394025318403,0.26600589436188293,0.07723619358986944,0.8884287319924724,0.9439898886383374,0.9583638868231382,0.6891566383486034,0.5067272136804952,0.5150291403016174,0.6108588647427999,0.5742211646324868,0.6098321511280069,0.529919850370834,0.20760426712320823,0.7146967537674047,0.9783499353286913,0.8274924427201792,0.07392298600827119,0.7783575357578635,0.7337371033692732,0.3829554167346948,0.5398200881472373,0.8484057966777854,0.9850452423243173,0.2733836334741023,0.04401978704870746,0.5595424147742254,0.3320014713025047,0.11459433304041455,0.3806273814794294,0.9737877295302341,0.21508263209016887,0.5351488224743209,0.3994519689120457,0.5056404218685217,0.7383684770287315,0.9870909883906778,0.994290413399895,0.5836764326345132,0.42624852492051424,0.17949183695991922,0.42705989463553884,0.6636243095001891,0.8573482671761209,0.5039251140209277,0.28412191297630496,0.17124523004169379,0.7219122407975932,0.8544346451199402,0.36024903720963797,0.5496197589834653,0.02846994612721454,0.6494879656738223,0.2923658926010907,0.9435390151897142,0.5685577331188476,0.4701971459274328,0.2112943500961041,0.95127432170448,0.7120806597626899,0.596224578470127,0.36564952499376135,0.06358521228240166,0.8094460972684006,0.3588314139025329,0.9436951233724346,0.8769497841310924,0.3437967646700254,0.08216438034662099,0.936668052665936,0.26782948626478154,0.8568409845327247,0.5416866795341141,0.365933431446831,0.9641745525482651,0.5677930844121314,0.973796235139014,0.7503320587082958,0.8755635684584165,0.1564227628030127,0.4494223135393781,0.31303165799236043,0.5766340931750352,0.3069656249012487,0.008108229668410294,0.6244784815514121,0.4269152437185575,0.9037848302133448,0.690882040781681,0.8293875241460928,0.841271472327213,0.19815362122765834,0.7031032814598678,0.11806987721300444,0.3263196707365491,0.9082169716635818,0.2804943703589613,0.7258878546240226,0.022911419601881255,0.03767689259118556,0.233880393947278,0.7597560084015551,0.932582357311229,0.9433119429542822,0.8135267365817026,0.6009908758423199,0.6225678177688693,0.28313531345817333,0.5624029837737665,0.9995948941235975,0.025369174715283327,0.42790338408025574,0.9116919902904788,0.9489207228424015,0.6404563723445912,0.8901223233143801,0.024462155901643468,0.3115950495570211,0.5014393878222102,0.9841551927287829,0.37930006717511777,0.919614739933604,0.48493295960990634,0.01064518268410497,0.24186111944276478,0.8678275228063629,0.0971709339795539,0.3469716979374613,0.08017105395638247,0.8939956505295382,0.2684288963460564,0.9615041058479167,0.7421695686856403,0.782464218006441,0.0166481673813087,0.36942303818726896,0.4876765075885352,0.8787252671493403,0.8691142411525347,0.826563657113307,0.37884637117206477,0.18325793613682995,0.5421703583285398,0.025632996243404427,0.14684753607122736,0.4081394108322407,0.3850760072621071,0.6446910745731809,0.600846274660697,0.49037214082761127,0.03540235931451785,0.9080363890342171,0.49133024665605707,0.24726428679650803,0.7070018544759207,0.46780648368956546,0.18467461415167763,0.9885527372011551,0.15115713569464173,0.46080697478752075,0.38323551740024897,0.09172013532589052,0.1537026068584657,0.08811137035200867,0.11919558932973118,0.9993896907367535,0.5607172313535007,0.6284072185313156,0.5171257333884678,0.9991515429191506,0.4486874880108168,0.7441777821504416,0.24766728013435457,0.4282704055059885,0.09346088653488327,0.4382261379641945,0.8372296012675916,0.3535319188974617,0.6798975489891641,0.08757240479192474,0.1926827359739478,0.5463034986048578,0.3391698985251764,0.01754294141229562,0.29419962352657336,0.3095152716577282,0.6208166271060069,0.7392842427791746,0.9366129761901811,0.9462740741581934,0.8428023623527731,0.3908708821020975,0.9725198075266277,0.09816587468783,0.9066375570806915,0.6994017479291275,0.13915384031980293,0.03577608471990601,0.1160956124393091,0.5805528977116846,0.6082904959666692,0.2887803937934318,0.4693422835597102,0.23472804416979043,0.45418804841983607,0.3034528968320477,0.13681119872244818,0.8448971225726496,0.9384738847510805,0.3286906468451829,0.4217696835235404,0.2361587527366551,0.543298272364896,0.7713154605877555,0.22749040482267102,0.8666807675149127,0.8444261608048831,0.03726511845857938,0.07844053032844678,0.9885526232586703,0.21769183239090817,0.06384629325010016,0.18970965748772406,0.11378738270406097,0.35287613588446554,0.19135732699184127,0.6114327672866567,0.08070333509814764,0.3173903562561484,0.8203837887658684,0.6894740553035914,0.4507392246254379,0.32166447541019705,0.25060112535189094,0.9002738983907334,0.4115966185058131,0.5136479909934253,0.3868160246116671,0.9620052720851479,0.23425759589659934,0.047204383501136316,0.9273018324398707,0.43636580437611194,0.6423722775188104,0.6487207221680596,0.2123524202133017,0.919168324817249,0.3421244533643666,0.8509490340354364,0.42407581873509426,0.5483496259430974,0.7774973783717333,0.11452640776256207,0.5991199850663314,0.27972024278476293,0.04394705838720314,0.588758086180419,0.3911114969452819,0.1621079791157729,0.5474930362908719,0.7563348092562782,0.7641865847537438,0.7678299830018686,0.8012041119450556,0.3911307725166112,0.04497554243021751,0.6950092689220886,0.3754249054085408,0.36761045641204426,0.8631171812669277,0.911607665226977,0.11092431096844002,0.47184953767555204,0.47808499469760946,0.43156364897799093,0.38842501353582126,0.9435969967901057,0.38816903464224506,0.9590562430586989,0.9178759494770062,0.44972018552704807,0.9220688081263648,0.8192301893233376,0.2948349539533903,0.9462274874816042,0.0039684442657403896,0.6458539032717712,0.058866244920327326,0.3037629130180616,0.7042323661466001,0.009817343059216332,0.9657413571420507,0.03663614815563354,0.29369380336657247,0.21226856784550674,0.5815931072672977,0.9021009999759638,0.06895128941839357,0.6103173610361193,0.8807117599672122,0.054571906346236765,0.1927947687236664,0.07380720868466562,0.5479556622525381,0.4435972109454426,0.6492313129115381,0.11969863983661866,0.3372527490500459,0.9014582773316796,0.876116248388051,0.32698882194329704,0.6847654414890785,0.3423155602911473,0.14497041888751738,0.517988957947685,0.7972796250233393,0.9158623096317937,0.7547380379686951,0.9543878743414675,0.6509466234617974,0.8210070187850879,0.7910598028944119,0.7339168685716937,0.4789183236014841,0.906388219653524,0.2603299854432919,0.4349424319483076,0.4450613576719694,0.5132693913775717,0.4679891639398369,0.6823290799345275,0.32788824242101666,0.9919521051278918,0.5028472427934814,0.6094512643058475,0.006762364681970778,0.9312477045537865,0.8379297508092544,0.2030223727214534,0.22029326807390237]},\"selected\":{\"id\":\"bd4938f1-85f9-4c41-b5b7-83b2281fd0cc\",\"type\":\"Selection\"},\"selection_policy\":{\"id\":\"505e43b8-60d3-4d1e-b728-ff013f954c67\",\"type\":\"UnionRenderers\"}},\"id\":\"90afe812-03d6-41d9-8675-af68def6324b\",\"type\":\"ColumnDataSource\"},{\"attributes\":{\"below\":[{\"id\":\"e08bc6ea-1a31-463c-9235-ddba7749b7c3\",\"type\":\"LinearAxis\"}],\"left\":[{\"id\":\"59327c66-9ed8-4f68-9e54-324e88072fcc\",\"type\":\"LinearAxis\"}],\"plot_height\":400,\"plot_width\":400,\"renderers\":[{\"id\":\"e08bc6ea-1a31-463c-9235-ddba7749b7c3\",\"type\":\"LinearAxis\"},{\"id\":\"d748668a-4eca-43c9-85d7-4deed3b94343\",\"type\":\"Grid\"},{\"id\":\"59327c66-9ed8-4f68-9e54-324e88072fcc\",\"type\":\"LinearAxis\"},{\"id\":\"67b5b4db-a788-4f03-a756-e79bfd5c1ca0\",\"type\":\"Grid\"},{\"id\":\"0557169d-e78e-4a01-9e9d-df6e0be5745e\",\"type\":\"BoxAnnotation\"},{\"id\":\"8eadba80-d03c-4a43-a93b-1166c364f46d\",\"type\":\"GlyphRenderer\"}],\"title\":{\"id\":\"93dfb092-a0d4-48f0-b7d0-9dc5a2f5f5ff\",\"type\":\"Title\"},\"toolbar\":{\"id\":\"d8f8c39a-fd55-4112-b9b1-f98280424f3a\",\"type\":\"Toolbar\"},\"x_range\":{\"id\":\"183bceac-6434-4c71-9b0f-32ab03edb407\",\"type\":\"DataRange1d\"},\"x_scale\":{\"id\":\"356823ed-9041-4919-b2c7-3884fd4e3b6d\",\"type\":\"LinearScale\"},\"y_range\":{\"id\":\"6b989749-821f-4e7e-a69c-95bc851bfdc7\",\"type\":\"DataRange1d\"},\"y_scale\":{\"id\":\"7a2f357f-8628-4899-a479-c88db3c554da\",\"type\":\"LinearScale\"}},\"id\":\"6bf837ed-a500-4a03-b2a8-11eb615c612a\",\"subtype\":\"Figure\",\"type\":\"Plot\"},{\"attributes\":{\"fill_alpha\":{\"value\":0.6},\"fill_color\":{\"value\":\"#1f77b4\"},\"line_alpha\":{\"value\":0.6},\"line_color\":{\"value\":\"#1f77b4\"},\"x\":{\"field\":\"x\"},\"y\":{\"field\":\"y\"}},\"id\":\"6d2e0c16-c52b-4e17-b9e5-04fddb50bef0\",\"type\":\"Circle\"},{\"attributes\":{},\"id\":\"356823ed-9041-4919-b2c7-3884fd4e3b6d\",\"type\":\"LinearScale\"},{\"attributes\":{\"source\":{\"id\":\"90afe812-03d6-41d9-8675-af68def6324b\",\"type\":\"ColumnDataSource\"}},\"id\":\"dd872772-b512-47fb-9944-073dd9a3823b\",\"type\":\"CDSView\"},{\"attributes\":{\"below\":[{\"id\":\"57ba9e61-2e21-474e-ac3e-aa3a9453c058\",\"type\":\"LinearAxis\"}],\"left\":[{\"id\":\"1b28b4e9-b8e6-4630-9749-db7481c7d676\",\"type\":\"LinearAxis\"}],\"plot_height\":400,\"plot_width\":400,\"renderers\":[{\"id\":\"57ba9e61-2e21-474e-ac3e-aa3a9453c058\",\"type\":\"LinearAxis\"},{\"id\":\"f4d31f9d-e842-49b1-9e7a-6ac79986f8ba\",\"type\":\"Grid\"},{\"id\":\"1b28b4e9-b8e6-4630-9749-db7481c7d676\",\"type\":\"LinearAxis\"},{\"id\":\"e8ca3805-89da-450b-a3f7-ff4a1e3e0fe8\",\"type\":\"Grid\"},{\"id\":\"546d811b-bb7e-4855-9676-a34cf0bc4645\",\"type\":\"GlyphRenderer\"}],\"title\":{\"id\":\"434c185e-dd82-489b-a8e4-3b763cddde16\",\"type\":\"Title\"},\"toolbar\":{\"id\":\"f50559cd-36ce-45c1-a0a3-a35ad7b9fd8a\",\"type\":\"Toolbar\"},\"x_range\":{\"id\":\"0b477de8-73f3-4616-b604-a1ab916f3c69\",\"type\":\"Range1d\"},\"x_scale\":{\"id\":\"cebe771b-5694-4de2-b73e-da153ebb83f7\",\"type\":\"LinearScale\"},\"y_range\":{\"id\":\"2a3ba490-a9f5-4d53-9d94-077c461ffe7f\",\"type\":\"Range1d\"},\"y_scale\":{\"id\":\"ce0fc186-aed6-4b31-8d54-bc371243a985\",\"type\":\"LinearScale\"}},\"id\":\"faf039f5-138c-4733-95d1-de0732be16a9\",\"subtype\":\"Figure\",\"type\":\"Plot\"},{\"attributes\":{\"plot\":null,\"text\":\"Watch Here\"},\"id\":\"434c185e-dd82-489b-a8e4-3b763cddde16\",\"type\":\"Title\"},{\"attributes\":{\"dimension\":1,\"plot\":{\"id\":\"faf039f5-138c-4733-95d1-de0732be16a9\",\"subtype\":\"Figure\",\"type\":\"Plot\"},\"ticker\":{\"id\":\"516ab0dd-7974-471d-8808-fe53ba13d910\",\"type\":\"BasicTicker\"}},\"id\":\"e8ca3805-89da-450b-a3f7-ff4a1e3e0fe8\",\"type\":\"Grid\"},{\"attributes\":{\"callback\":null},\"id\":\"0b477de8-73f3-4616-b604-a1ab916f3c69\",\"type\":\"Range1d\"},{\"attributes\":{\"active_drag\":\"auto\",\"active_inspect\":\"auto\",\"active_multi\":null,\"active_scroll\":\"auto\",\"active_tap\":\"auto\"},\"id\":\"f50559cd-36ce-45c1-a0a3-a35ad7b9fd8a\",\"type\":\"Toolbar\"},{\"attributes\":{\"editor\":{\"id\":\"975140d1-9f28-434b-b213-9ba29b0cc6f2\",\"type\":\"StringEditor\"},\"field\":\"x\",\"formatter\":{\"id\":\"8378cdfe-f80b-4fce-8935-c93c8d87d6eb\",\"type\":\"StringFormatter\"},\"title\":\"X\"},\"id\":\"6bb9f26a-02ae-4fda-86b7-3aafebe8a6bf\",\"type\":\"TableColumn\"},{\"attributes\":{},\"id\":\"cebe771b-5694-4de2-b73e-da153ebb83f7\",\"type\":\"LinearScale\"},{\"attributes\":{\"callback\":null},\"id\":\"2a3ba490-a9f5-4d53-9d94-077c461ffe7f\",\"type\":\"Range1d\"},{\"attributes\":{},\"id\":\"ce0fc186-aed6-4b31-8d54-bc371243a985\",\"type\":\"LinearScale\"},{\"attributes\":{\"plot\":{\"id\":\"faf039f5-138c-4733-95d1-de0732be16a9\",\"subtype\":\"Figure\",\"type\":\"Plot\"},\"ticker\":{\"id\":\"24fcbc4a-a4ff-450e-aaa2-e86ba94c3517\",\"type\":\"BasicTicker\"}},\"id\":\"f4d31f9d-e842-49b1-9e7a-6ac79986f8ba\",\"type\":\"Grid\"},{\"attributes\":{\"formatter\":{\"id\":\"4fcf595e-3207-4b80-9da0-fd2aa7f5b110\",\"type\":\"BasicTickFormatter\"},\"plot\":{\"id\":\"faf039f5-138c-4733-95d1-de0732be16a9\",\"subtype\":\"Figure\",\"type\":\"Plot\"},\"ticker\":{\"id\":\"24fcbc4a-a4ff-450e-aaa2-e86ba94c3517\",\"type\":\"BasicTicker\"}},\"id\":\"57ba9e61-2e21-474e-ac3e-aa3a9453c058\",\"type\":\"LinearAxis\"},{\"attributes\":{},\"id\":\"24fcbc4a-a4ff-450e-aaa2-e86ba94c3517\",\"type\":\"BasicTicker\"},{\"attributes\":{\"formatter\":{\"id\":\"a534e91b-57d5-4bb9-89de-c4f3bc50d13c\",\"type\":\"BasicTickFormatter\"},\"plot\":{\"id\":\"faf039f5-138c-4733-95d1-de0732be16a9\",\"subtype\":\"Figure\",\"type\":\"Plot\"},\"ticker\":{\"id\":\"516ab0dd-7974-471d-8808-fe53ba13d910\",\"type\":\"BasicTicker\"}},\"id\":\"1b28b4e9-b8e6-4630-9749-db7481c7d676\",\"type\":\"LinearAxis\"},{\"attributes\":{},\"id\":\"516ab0dd-7974-471d-8808-fe53ba13d910\",\"type\":\"BasicTicker\"},{\"attributes\":{\"columns\":[{\"id\":\"6bb9f26a-02ae-4fda-86b7-3aafebe8a6bf\",\"type\":\"TableColumn\"},{\"id\":\"d6e278c7-a5a5-40ba-a61b-22c618a99d20\",\"type\":\"TableColumn\"},{\"id\":\"76373a1d-7149-4bc2-b010-0c56d2aeff56\",\"type\":\"TableColumn\"}],\"source\":{\"id\":\"3b6d8018-bfdb-4894-b4db-809184b8c9bb\",\"type\":\"ColumnDataSource\"},\"view\":{\"id\":\"a51aa865-3db2-4dbc-a8b4-932a730d7811\",\"type\":\"CDSView\"}},\"id\":\"2b444b1d-fadb-4926-9c3f-43284af04d81\",\"type\":\"DataTable\"},{\"attributes\":{\"fill_alpha\":{\"value\":0.6},\"fill_color\":{\"value\":\"#1f77b4\"},\"line_alpha\":{\"value\":0.6},\"line_color\":{\"value\":\"#1f77b4\"},\"x\":{\"field\":\"x\"},\"y\":{\"field\":\"y\"}},\"id\":\"46ca5d35-8d43-42f1-bc0e-7501c9370048\",\"type\":\"Circle\"},{\"attributes\":{\"fill_alpha\":{\"value\":0.1},\"fill_color\":{\"value\":\"#1f77b4\"},\"line_alpha\":{\"value\":0.1},\"line_color\":{\"value\":\"#1f77b4\"},\"x\":{\"field\":\"x\"},\"y\":{\"field\":\"y\"}},\"id\":\"2f99fc2f-aad8-4ada-929d-a98a89205975\",\"type\":\"Circle\"},{\"attributes\":{\"data_source\":{\"id\":\"3b6d8018-bfdb-4894-b4db-809184b8c9bb\",\"type\":\"ColumnDataSource\"},\"glyph\":{\"id\":\"46ca5d35-8d43-42f1-bc0e-7501c9370048\",\"type\":\"Circle\"},\"hover_glyph\":null,\"muted_glyph\":null,\"nonselection_glyph\":{\"id\":\"2f99fc2f-aad8-4ada-929d-a98a89205975\",\"type\":\"Circle\"},\"selection_glyph\":null,\"view\":{\"id\":\"0bbb4c5d-ce63-4ecc-9cb5-6cdde8d79acf\",\"type\":\"CDSView\"}},\"id\":\"546d811b-bb7e-4855-9676-a34cf0bc4645\",\"type\":\"GlyphRenderer\"},{\"attributes\":{\"source\":{\"id\":\"3b6d8018-bfdb-4894-b4db-809184b8c9bb\",\"type\":\"ColumnDataSource\"}},\"id\":\"0bbb4c5d-ce63-4ecc-9cb5-6cdde8d79acf\",\"type\":\"CDSView\"},{\"attributes\":{\"editor\":{\"id\":\"08d52d9c-c278-48f2-8858-5655fcd1eca7\",\"type\":\"StringEditor\"},\"field\":\"y\",\"formatter\":{\"id\":\"70c49287-7d63-4391-8ec2-71e8ac1f38a4\",\"type\":\"StringFormatter\"},\"title\":\"Y\"},\"id\":\"d6e278c7-a5a5-40ba-a61b-22c618a99d20\",\"type\":\"TableColumn\"},{\"attributes\":{\"editor\":{\"id\":\"fa0b6f8a-4ade-4b8e-a7a6-d135713ba024\",\"type\":\"StringEditor\"},\"field\":\"name\",\"formatter\":{\"id\":\"00a712dd-a532-4475-b320-227d743cbd11\",\"type\":\"StringFormatter\"},\"title\":\"Name\"},\"id\":\"76373a1d-7149-4bc2-b010-0c56d2aeff56\",\"type\":\"TableColumn\"},{\"attributes\":{},\"id\":\"c23f95fc-a10d-4568-b15c-dfea1152eb6e\",\"type\":\"BasicTickFormatter\"},{\"attributes\":{\"source\":{\"id\":\"3b6d8018-bfdb-4894-b4db-809184b8c9bb\",\"type\":\"ColumnDataSource\"}},\"id\":\"a51aa865-3db2-4dbc-a8b4-932a730d7811\",\"type\":\"CDSView\"},{\"attributes\":{\"children\":[{\"id\":\"2b444b1d-fadb-4926-9c3f-43284af04d81\",\"type\":\"DataTable\"}]},\"id\":\"96c32c53-635a-4c8c-b1cf-1374f5d44c7c\",\"type\":\"WidgetBox\"},{\"attributes\":{\"children\":[{\"id\":\"6bf837ed-a500-4a03-b2a8-11eb615c612a\",\"subtype\":\"Figure\",\"type\":\"Plot\"},{\"id\":\"faf039f5-138c-4733-95d1-de0732be16a9\",\"subtype\":\"Figure\",\"type\":\"Plot\"},{\"id\":\"96c32c53-635a-4c8c-b1cf-1374f5d44c7c\",\"type\":\"WidgetBox\"}]},\"id\":\"581d8537-6b29-43c9-a913-ec8ddde6068a\",\"type\":\"Row\"},{\"attributes\":{},\"id\":\"8992fc51-c93f-4a85-99dc-030cb00f19e1\",\"type\":\"BasicTickFormatter\"},{\"attributes\":{},\"id\":\"a534e91b-57d5-4bb9-89de-c4f3bc50d13c\",\"type\":\"BasicTickFormatter\"},{\"attributes\":{},\"id\":\"4fcf595e-3207-4b80-9da0-fd2aa7f5b110\",\"type\":\"BasicTickFormatter\"}],\"root_ids\":[\"581d8537-6b29-43c9-a913-ec8ddde6068a\"]},\"title\":\"Bokeh Application\",\"version\":\"0.13.0\"}};\n",
       "  var render_items = [{\"docid\":\"de7a2e84-6ecd-4147-b4cd-43e6ba42421b\",\"roots\":{\"581d8537-6b29-43c9-a913-ec8ddde6068a\":\"f62a5a7c-5ef7-45cb-a872-8336cc5e1c7a\"}}];\n",
       "  root.Bokeh.embed.embed_items_notebook(docs_json, render_items);\n",
       "\n",
       "  }\n",
       "  if (root.Bokeh !== undefined) {\n",
       "    embed_document(root);\n",
       "  } else {\n",
       "    var attempts = 0;\n",
       "    var timer = setInterval(function(root) {\n",
       "      if (root.Bokeh !== undefined) {\n",
       "        embed_document(root);\n",
       "        clearInterval(timer);\n",
       "      }\n",
       "      attempts++;\n",
       "      if (attempts > 100) {\n",
       "        console.log(\"Bokeh: ERROR: Unable to run BokehJS code because BokehJS library is missing\")\n",
       "        clearInterval(timer);\n",
       "      }\n",
       "    }, 10, root)\n",
       "  }\n",
       "})(window);"
      ],
      "application/vnd.bokehjs_exec.v0+json": ""
     },
     "metadata": {
      "application/vnd.bokehjs_exec.v0+json": {
       "id": "581d8537-6b29-43c9-a913-ec8ddde6068a"
      }
     },
     "output_type": "display_data"
    },
    {
     "name": "stdout",
     "output_type": "stream",
     "text": [
      "time: 181 ms\n"
     ]
    }
   ],
   "source": [
    "from random import random\n",
    "\n",
    "from bokeh.layouts import row, widgetbox\n",
    "from bokeh.models import CustomJS, ColumnDataSource\n",
    "from bokeh.plotting import figure, output_file, show\n",
    "from bokeh.models.widgets import DataTable, TableColumn\n",
    "\n",
    "\n",
    "x = [random() for x in range(500)]\n",
    "y = [random() for y in range(500)]\n",
    "name = [\"name_\" + str(i) for i in range(500)]\n",
    "\n",
    "s1 = ColumnDataSource(data=dict(x=x, y=y, name=name))\n",
    "p1 = figure(plot_width=400, plot_height=400, tools=\"box_select\", title=\"Select Here\")\n",
    "p1.circle('x', 'y', source=s1, alpha=0.6)\n",
    "\n",
    "s2 = ColumnDataSource(data=dict(x=[], y=[], name=[]))\n",
    "p2 = figure(plot_width=400, plot_height=400, x_range=(0, 1), y_range=(0, 1),\n",
    "            tools=\"\", title=\"Watch Here\")\n",
    "p2.circle('x', 'y', source=s2, alpha=0.6)\n",
    "\n",
    "columns = [\n",
    "    TableColumn(field=\"x\", title=\"X\"),\n",
    "    TableColumn(field=\"y\",title=\"Y\"),\n",
    "    TableColumn(field=\"name\", title=\"Name\")]\n",
    "\n",
    "data_table = widgetbox(DataTable(source=s2, columns=columns))\n",
    "\n",
    "\n",
    "\n",
    "s1.callback = CustomJS(args=dict(s2=s2), code=\"\"\"\n",
    "        var inds = cb_obj.selected.indices;\n",
    "        var d1 = cb_obj.data;\n",
    "        var d2 = s2.data;\n",
    "        d2['x'] = []\n",
    "        d2['y'] = []\n",
    "        d2['name'] = []\n",
    "        for (var i = 0; i < inds.length; i++) {\n",
    "            d2['x'].push(d1['x'][inds[i]])\n",
    "            d2['y'].push(d1['y'][inds[i]])\n",
    "            d2['name'].push(d1['name'][inds[i]])\n",
    "        }\n",
    "        s2.change.emit();\n",
    "    \"\"\")\n",
    "\n",
    "layout = row(p1, p2, data_table)\n",
    "\n",
    "show(layout)"
   ]
  },
  {
   "cell_type": "code",
   "execution_count": 110,
   "metadata": {},
   "outputs": [
    {
     "data": {
      "text/plain": [
       "['max_features',\n",
       " 'learning_rate',\n",
       " 'C',\n",
       " 'power_t',\n",
       " 'dual',\n",
       " 'n_neighbors',\n",
       " 'max_samples',\n",
       " 'penalty',\n",
       " 'max_depth',\n",
       " 'tol',\n",
       " 'average',\n",
       " 'epsilon',\n",
       " 'p',\n",
       " 'weights',\n",
       " 'subsample',\n",
       " 'min_samples_leaf',\n",
       " 'bootstrap',\n",
       " 'min_samples_split',\n",
       " 'criterion',\n",
       " 'loss',\n",
       " 'alpha',\n",
       " 'n_estimators',\n",
       " 'max_iter',\n",
       " 'min_child_weight']"
      ]
     },
     "execution_count": 110,
     "metadata": {},
     "output_type": "execute_result"
    },
    {
     "name": "stdout",
     "output_type": "stream",
     "text": [
      "time: 4.63 ms\n"
     ]
    }
   ],
   "source": [
    "list(all_params)"
   ]
  },
  {
   "cell_type": "code",
   "execution_count": null,
   "metadata": {},
   "outputs": [],
   "source": []
  },
  {
   "cell_type": "code",
   "execution_count": null,
   "metadata": {},
   "outputs": [],
   "source": []
  },
  {
   "cell_type": "code",
   "execution_count": null,
   "metadata": {},
   "outputs": [],
   "source": []
  },
  {
   "cell_type": "code",
   "execution_count": null,
   "metadata": {},
   "outputs": [],
   "source": []
  },
  {
   "cell_type": "code",
   "execution_count": null,
   "metadata": {},
   "outputs": [],
   "source": []
  },
  {
   "cell_type": "code",
   "execution_count": null,
   "metadata": {},
   "outputs": [],
   "source": []
  }
 ],
 "metadata": {
  "kernelspec": {
   "display_name": "Python 3",
   "language": "python",
   "name": "python3"
  },
  "language_info": {
   "codemirror_mode": {
    "name": "ipython",
    "version": 3
   },
   "file_extension": ".py",
   "mimetype": "text/x-python",
   "name": "python",
   "nbconvert_exporter": "python",
   "pygments_lexer": "ipython3",
   "version": "3.6.8"
  }
 },
 "nbformat": 4,
 "nbformat_minor": 2
}
